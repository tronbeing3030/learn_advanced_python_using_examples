{
 "cells": [
  {
   "cell_type": "markdown",
   "metadata": {
    "colab_type": "text",
    "id": "eYTOufuWRbUF"
   },
   "source": [
    "<table align=\"left\" width=100%>\n",
    "    <tr>\n",
    "        <td width=\"12%\">\n",
    "            <img src=\"../images/RA_Logo.png\">\n",
    "        </td>\n",
    "        <td>\n",
    "            <div align=\"center\">\n",
    "                <font color=\"#21618C\" size=8px>\n",
    "                    <b>Advanced Python Programming <br> (Day 2) </b>\n",
    "                    </b>\n",
    "                </font>\n",
    "            </div>\n",
    "        </td>\n",
    "    </tr>\n",
    "</table>"
   ]
  },
  {
   "cell_type": "markdown",
   "metadata": {},
   "source": [
    "<table align=\"left\">\n",
    "  <td>\n",
    "    <a href=\"https://colab.research.google.com/github/vidyadharbendre/learn_advanced_python_using_examples/blob/main/notebooks/Advanced/advanced_python_programming_2.ipynb\" target=\"_parent\"><img src=\"https://colab.research.google.com/assets/colab-badge.svg\" alt=\"Open In Colab\"/></a>\n",
    "  </td>\n",
    "  <td>\n",
    "    <a target=\"_blank\" href=\"https://kaggle.com/kernels/welcome?src=https://github.com/vidyadharbendre/learn_advanced_python_using_examples/blob/main/notebooks/Advanced/advanced_python_programming_2.ipynb\"><img src=\"https://kaggle.com/static/images/open-in-kaggle.svg\" /></a>\n",
    "  </td>\n",
    " <td>\n",
    "    <a target=\"_blank\" href=\"https://github.com/vidyadharbendre/learn_advanced_python_using_examples/blob/main/notebooks/Advanced/advanced_python_programming_2.ipynb\">\n",
    "      <img src=\"https://img.shields.io/badge/Open%20in-GitHub-100000?style=flat&logo=github&logoColor=white\" alt=\"Open in GitHub\"/>\n",
    "    </a>\n",
    "  </td>\n",
    "\n",
    "</table>"
   ]
  },
  {
   "cell_type": "code",
   "execution_count": 1,
   "metadata": {},
   "outputs": [],
   "source": [
    "import os\n",
    "import numpy as np\n",
    "import pandas as pd"
   ]
  },
  {
   "cell_type": "code",
   "execution_count": 2,
   "metadata": {},
   "outputs": [
    {
     "data": {
      "text/plain": [
       "'/Users/vidyadharbendre/workspace/advanced_python/learn_advanced_python_using_examples/notebooks/Advanced'"
      ]
     },
     "execution_count": 2,
     "metadata": {},
     "output_type": "execute_result"
    }
   ],
   "source": [
    "# How to access the current working directory\n",
    "\n",
    "import os\n",
    "os.getcwd()"
   ]
  },
  {
   "cell_type": "code",
   "execution_count": 3,
   "metadata": {},
   "outputs": [
    {
     "name": "stdout",
     "output_type": "stream",
     "text": [
      "Name: pandas\r\n",
      "Version: 2.2.2\r\n",
      "Summary: Powerful data structures for data analysis, time series, and statistics\r\n",
      "Home-page: https://pandas.pydata.org\r\n",
      "Author: \r\n",
      "Author-email: The Pandas Development Team <pandas-dev@python.org>\r\n",
      "License: BSD 3-Clause License\r\n",
      "        \r\n",
      "        Copyright (c) 2008-2011, AQR Capital Management, LLC, Lambda Foundry, Inc. and PyData Development Team\r\n",
      "        All rights reserved.\r\n",
      "        \r\n",
      "        Copyright (c) 2011-2023, Open source contributors.\r\n",
      "        \r\n",
      "        Redistribution and use in source and binary forms, with or without\r\n",
      "        modification, are permitted provided that the following conditions are met:\r\n",
      "        \r\n",
      "        * Redistributions of source code must retain the above copyright notice, this\r\n",
      "          list of conditions and the following disclaimer.\r\n",
      "        \r\n",
      "        * Redistributions in binary form must reproduce the above copyright notice,\r\n",
      "          this list of conditions and the following disclaimer in the documentation\r\n",
      "          and/or other materials provided with the distribution.\r\n",
      "        \r\n",
      "        * Neither the name of the copyright holder nor the names of its\r\n",
      "          contributors may be used to endorse or promote products derived from\r\n",
      "          this software without specific prior written permission.\r\n",
      "        \r\n",
      "        THIS SOFTWARE IS PROVIDED BY THE COPYRIGHT HOLDERS AND CONTRIBUTORS \"AS IS\"\r\n",
      "        AND ANY EXPRESS OR IMPLIED WARRANTIES, INCLUDING, BUT NOT LIMITED TO, THE\r\n",
      "        IMPLIED WARRANTIES OF MERCHANTABILITY AND FITNESS FOR A PARTICULAR PURPOSE ARE\r\n",
      "        DISCLAIMED. IN NO EVENT SHALL THE COPYRIGHT HOLDER OR CONTRIBUTORS BE LIABLE\r\n",
      "        FOR ANY DIRECT, INDIRECT, INCIDENTAL, SPECIAL, EXEMPLARY, OR CONSEQUENTIAL\r\n",
      "        DAMAGES (INCLUDING, BUT NOT LIMITED TO, PROCUREMENT OF SUBSTITUTE GOODS OR\r\n",
      "        SERVICES; LOSS OF USE, DATA, OR PROFITS; OR BUSINESS INTERRUPTION) HOWEVER\r\n",
      "        CAUSED AND ON ANY THEORY OF LIABILITY, WHETHER IN CONTRACT, STRICT LIABILITY,\r\n",
      "        OR TORT (INCLUDING NEGLIGENCE OR OTHERWISE) ARISING IN ANY WAY OUT OF THE USE\r\n",
      "        OF THIS SOFTWARE, EVEN IF ADVISED OF THE POSSIBILITY OF SUCH DAMAGE.\r\n",
      "Location: /Users/vidyadharbendre/miniforge3/envs/nndl_env/lib/python3.9/site-packages\r\n",
      "Requires: numpy, python-dateutil, pytz, tzdata\r",
      "\r\n",
      "Required-by: camelot-py, object-detection, seaborn, statsmodels, streamlit\r\n"
     ]
    }
   ],
   "source": [
    "!pip show pandas"
   ]
  },
  {
   "cell_type": "code",
   "execution_count": 4,
   "metadata": {},
   "outputs": [],
   "source": [
    "#!conda install pandas\n",
    "# or\n",
    "#!pip install pandas"
   ]
  },
  {
   "cell_type": "code",
   "execution_count": 5,
   "metadata": {},
   "outputs": [],
   "source": [
    "import pandas as pd"
   ]
  },
  {
   "cell_type": "markdown",
   "metadata": {
    "colab_type": "text",
    "id": "Mgcw8bP2RbUG"
   },
   "source": [
    "## Table of Content.\n",
    "1. **[Series](#Series)**\n",
    "2. **[Data Structures with Examples](#Data_Structures)**\n",
    "3. **[Create and Manipulate the Data Frames](#create_manipulate)**\n",
    "4. **[Sorting](#sorting)**\n",
    "5. **[Ranking](#ranking)**"
   ]
  },
  {
   "cell_type": "markdown",
   "metadata": {
    "colab_type": "text",
    "id": "WM1yn7xRRbUH"
   },
   "source": [
    "### Let's begin with some hands-on practice exercises."
   ]
  },
  {
   "cell_type": "markdown",
   "metadata": {},
   "source": [
    "<a id='Series'></a>\n",
    "## 1. Series Data Structures with Examples"
   ]
  },
  {
   "cell_type": "markdown",
   "metadata": {},
   "source": [
    "<table align=\"left\">\n",
    "    <tr>\n",
    "        <td width=\"6%\">\n",
    "            <img src=\"../images/RA_Logo.png\">\n",
    "        </td>\n",
    "        <td>\n",
    "            <div align=\"left\", style=\"font-size:120%\">\n",
    "                <font color=\"#21618C\">\n",
    "                    <b>0. Series and Data Frames\n",
    "<b>\n",
    "                </font>\n",
    "            </div>\n",
    "        </td>\n",
    "    </tr>\n",
    "</table>"
   ]
  },
  {
   "cell_type": "code",
   "execution_count": 6,
   "metadata": {},
   "outputs": [
    {
     "data": {
      "text/plain": [
       "[80, 50, 98, 79]"
      ]
     },
     "execution_count": 6,
     "metadata": {},
     "output_type": "execute_result"
    }
   ],
   "source": [
    "#marks obtained in PCMB\n",
    "my_marks = [80, 50, 98, 79]\n",
    "my_marks"
   ]
  },
  {
   "cell_type": "code",
   "execution_count": 7,
   "metadata": {},
   "outputs": [
    {
     "data": {
      "text/plain": [
       "Series([], dtype: object)"
      ]
     },
     "execution_count": 7,
     "metadata": {},
     "output_type": "execute_result"
    }
   ],
   "source": [
    "pd.Series()"
   ]
  },
  {
   "cell_type": "code",
   "execution_count": 8,
   "metadata": {},
   "outputs": [
    {
     "data": {
      "text/plain": [
       "0    80\n",
       "1    50\n",
       "2    98\n",
       "3    79\n",
       "dtype: int64"
      ]
     },
     "execution_count": 8,
     "metadata": {},
     "output_type": "execute_result"
    }
   ],
   "source": [
    "pd.Series(my_marks)"
   ]
  },
  {
   "cell_type": "code",
   "execution_count": 9,
   "metadata": {},
   "outputs": [
    {
     "name": "stdout",
     "output_type": "stream",
     "text": [
      "<class 'pandas.core.series.Series'>\n",
      "\n",
      "0    80\n",
      "1    50\n",
      "2    98\n",
      "3    79\n",
      "dtype: int64\n"
     ]
    }
   ],
   "source": [
    "s1 = pd.Series(my_marks)\n",
    "print(type(s1))\n",
    "print()\n",
    "print(s1)"
   ]
  },
  {
   "cell_type": "code",
   "execution_count": 10,
   "metadata": {},
   "outputs": [],
   "source": [
    "#dir(s1) - This is to understand the everything about s1 (series data)"
   ]
  },
  {
   "cell_type": "code",
   "execution_count": 11,
   "metadata": {},
   "outputs": [
    {
     "data": {
      "text/plain": [
       "array([80, 50, 98, 79])"
      ]
     },
     "execution_count": 11,
     "metadata": {},
     "output_type": "execute_result"
    }
   ],
   "source": [
    "s1.values"
   ]
  },
  {
   "cell_type": "code",
   "execution_count": 12,
   "metadata": {},
   "outputs": [
    {
     "data": {
      "text/plain": [
       "numpy.ndarray"
      ]
     },
     "execution_count": 12,
     "metadata": {},
     "output_type": "execute_result"
    }
   ],
   "source": [
    "type(s1.values)"
   ]
  },
  {
   "cell_type": "code",
   "execution_count": 13,
   "metadata": {},
   "outputs": [
    {
     "name": "stdout",
     "output_type": "stream",
     "text": [
      "[80 50 98 79]\n",
      "\n",
      "<class 'numpy.ndarray'>\n"
     ]
    }
   ],
   "source": [
    "print(s1.values)\n",
    "print()\n",
    "print(type(s1.values))"
   ]
  },
  {
   "cell_type": "code",
   "execution_count": 14,
   "metadata": {},
   "outputs": [
    {
     "name": "stdout",
     "output_type": "stream",
     "text": [
      "<class 'pandas.core.series.Series'>\n",
      "\n",
      "0    80\n",
      "1    50\n",
      "2    98\n",
      "3    79\n",
      "dtype: int64\n",
      "\n",
      "<class 'numpy.ndarray'>\n",
      "\n",
      "1\n",
      "\n",
      "(4,)\n",
      "\n",
      "RangeIndex(start=0, stop=4, step=1)\n"
     ]
    }
   ],
   "source": [
    "my_marks = [80, 50, 98, 79]\n",
    "s1 = pd.Series(my_marks)\n",
    "print(type(s1))\n",
    "print()\n",
    "print(s1)\n",
    "print()\n",
    "print(type(s1.values))\n",
    "print()\n",
    "print(s1.ndim)\n",
    "print()\n",
    "print(s1.shape)\n",
    "print()\n",
    "print(s1.index)"
   ]
  },
  {
   "cell_type": "code",
   "execution_count": 15,
   "metadata": {},
   "outputs": [
    {
     "data": {
      "text/plain": [
       "[80, 50, 98, 79]"
      ]
     },
     "execution_count": 15,
     "metadata": {},
     "output_type": "execute_result"
    }
   ],
   "source": [
    "my_marks = [80, 50, 98, 79]\n",
    "my_marks"
   ]
  },
  {
   "cell_type": "code",
   "execution_count": 16,
   "metadata": {},
   "outputs": [
    {
     "data": {
      "text/plain": [
       "0    80\n",
       "1    50\n",
       "2    98\n",
       "3    79\n",
       "dtype: int64"
      ]
     },
     "execution_count": 16,
     "metadata": {},
     "output_type": "execute_result"
    }
   ],
   "source": [
    "pd.Series(my_marks)"
   ]
  },
  {
   "cell_type": "code",
   "execution_count": 17,
   "metadata": {},
   "outputs": [
    {
     "name": "stdout",
     "output_type": "stream",
     "text": [
      "<class 'pandas.core.series.Series'>\n",
      "\n",
      "Physics      80\n",
      "Chemistry    50\n",
      "Maths        98\n",
      "Biology      79\n",
      "dtype: int64\n",
      "\n",
      "<class 'numpy.ndarray'>\n",
      "\n",
      "1\n",
      "\n",
      "(4,)\n",
      "\n",
      "Index(['Physics', 'Chemistry', 'Maths', 'Biology'], dtype='object')\n"
     ]
    }
   ],
   "source": [
    "my_marks = [80, 50, 98, 79]\n",
    "s1 = pd.Series(my_marks, index=['Physics', 'Chemistry', 'Maths', 'Biology'])\n",
    "print(type(s1))\n",
    "print()\n",
    "print(s1)\n",
    "print()\n",
    "print(type(s1.values))\n",
    "print()\n",
    "print(s1.ndim)\n",
    "print()\n",
    "print(s1.shape)\n",
    "print()\n",
    "print(s1.index)"
   ]
  },
  {
   "cell_type": "code",
   "execution_count": 18,
   "metadata": {},
   "outputs": [
    {
     "data": {
      "text/plain": [
       "Index(['Physics', 'Chemistry', 'Maths', 'Biology'], dtype='object')"
      ]
     },
     "execution_count": 18,
     "metadata": {},
     "output_type": "execute_result"
    }
   ],
   "source": [
    "s1.index"
   ]
  },
  {
   "cell_type": "markdown",
   "metadata": {},
   "source": [
    "<table align=\"left\">\n",
    "    <tr>\n",
    "        <td width=\"6%\">\n",
    "            <img src=\"../images/RA_Logo.png\">\n",
    "        </td>\n",
    "        <td>\n",
    "            <div align=\"left\", style=\"font-size:120%\">\n",
    "                <font color=\"#21618C\">\n",
    "                    <b>0. Write a Python program to depict the share prices of Tata, Birla, Wipro, and Infosys for the given share_prices = [850, 720, 410, 1650]\n",
    "<b>\n",
    "                </font>\n",
    "            </div>\n",
    "        </td>\n",
    "    </tr>\n",
    "</table>"
   ]
  },
  {
   "cell_type": "code",
   "execution_count": 19,
   "metadata": {},
   "outputs": [
    {
     "name": "stdout",
     "output_type": "stream",
     "text": [
      "<class 'pandas.core.series.Series'>\n",
      "\n",
      "Tata        850\n",
      "Birla       720\n",
      "Wipro       410\n",
      "Infosys    1650\n",
      "dtype: int64\n",
      "\n",
      "<class 'numpy.ndarray'>\n",
      "\n",
      "1\n",
      "\n",
      "(4,)\n",
      "\n",
      "Index(['Tata', 'Birla', 'Wipro', 'Infosys'], dtype='object')\n"
     ]
    }
   ],
   "source": [
    "import pandas as pd\n",
    "\n",
    "# Define share prices\n",
    "share_prices = [850, 720, 410, 1650]  # Example share prices\n",
    "\n",
    "# Create a Pandas Series with company names as index\n",
    "s1 = pd.Series(share_prices, index=['Tata', 'Birla', 'Wipro', 'Infosys'])\n",
    "\n",
    "# Print the type of the Series\n",
    "print(type(s1))\n",
    "print()\n",
    "\n",
    "# Print the Series\n",
    "print(s1)\n",
    "print()\n",
    "\n",
    "# Print the type of values\n",
    "print(type(s1.values))\n",
    "print()\n",
    "\n",
    "# Print the number of dimensions\n",
    "print(s1.ndim)\n",
    "print()\n",
    "\n",
    "# Print the shape of the Series\n",
    "print(s1.shape)\n",
    "print()\n",
    "\n",
    "# Print the index labels\n",
    "print(s1.index)"
   ]
  },
  {
   "cell_type": "markdown",
   "metadata": {},
   "source": [
    "<table align=\"left\">\n",
    "    <tr>\n",
    "        <td width=\"6%\">\n",
    "            <img src=\"../images/RA_Logo.png\">\n",
    "        </td>\n",
    "        <td>\n",
    "            <div align=\"left\", style=\"font-size:120%\">\n",
    "                <font color=\"#21618C\">\n",
    "                    <b>1. Write a Python program to depict the share prices of Tata, Birla, Wipro, and Infosys using dictionary = [850, 720, 410, 1650]\n",
    "<b>\n",
    "                </font>\n",
    "            </div>\n",
    "        </td>\n",
    "    </tr>\n",
    "</table>"
   ]
  },
  {
   "cell_type": "code",
   "execution_count": 20,
   "metadata": {},
   "outputs": [],
   "source": [
    "#dictionary = {key:<value>}"
   ]
  },
  {
   "cell_type": "code",
   "execution_count": 21,
   "metadata": {},
   "outputs": [],
   "source": [
    "#by default - when you pass dictionary - key elements becomes index in series"
   ]
  },
  {
   "cell_type": "code",
   "execution_count": 22,
   "metadata": {},
   "outputs": [
    {
     "data": {
      "text/plain": [
       "Tata         850\n",
       "Birla        720\n",
       "Wipro        410\n",
       "Infyosys    1650\n",
       "dtype: int64"
      ]
     },
     "execution_count": 22,
     "metadata": {},
     "output_type": "execute_result"
    }
   ],
   "source": [
    "d1 = {'Tata': 850, 'Birla': 720, 'Wipro': 410, 'Infyosys': 1650}\n",
    "sd1 = pd.Series(d1)\n",
    "sd1"
   ]
  },
  {
   "cell_type": "code",
   "execution_count": 23,
   "metadata": {},
   "outputs": [
    {
     "name": "stdout",
     "output_type": "stream",
     "text": [
      "Index(['Tata', 'Birla', 'Wipro', 'Infyosys'], dtype='object')\n",
      "\n",
      "[ 850  720  410 1650]\n"
     ]
    }
   ],
   "source": [
    "print(sd1.index)\n",
    "print()\n",
    "print(sd1.values)"
   ]
  },
  {
   "cell_type": "code",
   "execution_count": 24,
   "metadata": {},
   "outputs": [
    {
     "data": {
      "text/plain": [
       "850"
      ]
     },
     "execution_count": 24,
     "metadata": {},
     "output_type": "execute_result"
    }
   ],
   "source": [
    "# by passing the key, returns the respective value for that key\n",
    "sd1['Tata']"
   ]
  },
  {
   "cell_type": "markdown",
   "metadata": {},
   "source": [
    "<table align=\"left\">\n",
    "    <tr>\n",
    "        <td width=\"6%\">\n",
    "            <img src=\"../images/RA_Logo.png\">\n",
    "        </td>\n",
    "        <td>\n",
    "            <div align=\"left\", style=\"font-size:120%\">\n",
    "                <font color=\"#21618C\">\n",
    "                    <b>2. Write a Python program to access share prices of Tata, Birla, Wipro, and Infosys using dictionary = [850, 720, 410, 1650]\n",
    "<b>\n",
    "                </font>\n",
    "            </div>\n",
    "        </td>\n",
    "    </tr>\n",
    "</table>"
   ]
  },
  {
   "cell_type": "code",
   "execution_count": 25,
   "metadata": {},
   "outputs": [
    {
     "name": "stderr",
     "output_type": "stream",
     "text": [
      "/var/folders/kd/yddgdhm92qxgkw2js4t89ksr0000gn/T/ipykernel_76463/3727203515.py:2: FutureWarning: Series.__getitem__ treating keys as positions is deprecated. In a future version, integer keys will always be treated as labels (consistent with DataFrame behavior). To access a value by position, use `ser.iloc[pos]`\n",
      "  sd1[0]\n"
     ]
    },
    {
     "data": {
      "text/plain": [
       "850"
      ]
     },
     "execution_count": 25,
     "metadata": {},
     "output_type": "execute_result"
    }
   ],
   "source": [
    "# access through numeric index\n",
    "sd1[0]"
   ]
  },
  {
   "cell_type": "code",
   "execution_count": 26,
   "metadata": {},
   "outputs": [
    {
     "data": {
      "text/plain": [
       "Tata         850\n",
       "Birla        720\n",
       "Wipro        410\n",
       "Infyosys    1650\n",
       "dtype: int64"
      ]
     },
     "execution_count": 26,
     "metadata": {},
     "output_type": "execute_result"
    }
   ],
   "source": [
    "sd1"
   ]
  },
  {
   "cell_type": "code",
   "execution_count": 27,
   "metadata": {},
   "outputs": [
    {
     "data": {
      "text/plain": [
       "1650"
      ]
     },
     "execution_count": 27,
     "metadata": {},
     "output_type": "execute_result"
    }
   ],
   "source": [
    "sd1.iloc[3]"
   ]
  },
  {
   "cell_type": "code",
   "execution_count": 28,
   "metadata": {},
   "outputs": [
    {
     "data": {
      "text/plain": [
       "850"
      ]
     },
     "execution_count": 28,
     "metadata": {},
     "output_type": "execute_result"
    }
   ],
   "source": [
    "# access through numeric index (to access row values)\n",
    "sd1.iloc[0]"
   ]
  },
  {
   "cell_type": "code",
   "execution_count": 29,
   "metadata": {},
   "outputs": [
    {
     "data": {
      "text/plain": [
       "Wipro        410\n",
       "Infyosys    1650\n",
       "dtype: int64"
      ]
     },
     "execution_count": 29,
     "metadata": {},
     "output_type": "execute_result"
    }
   ],
   "source": [
    "#access through string index\n",
    "sd1['Wipro':'Infyosys'] # if string slice, the endpoint is included"
   ]
  },
  {
   "cell_type": "code",
   "execution_count": 30,
   "metadata": {},
   "outputs": [
    {
     "data": {
      "text/plain": [
       "Wipro        410\n",
       "Infyosys    1650\n",
       "dtype: int64"
      ]
     },
     "execution_count": 30,
     "metadata": {},
     "output_type": "execute_result"
    }
   ],
   "source": [
    "sd1[2:4]"
   ]
  },
  {
   "cell_type": "code",
   "execution_count": 31,
   "metadata": {},
   "outputs": [
    {
     "data": {
      "text/plain": [
       "Wipro        410\n",
       "Infyosys    1650\n",
       "dtype: int64"
      ]
     },
     "execution_count": 31,
     "metadata": {},
     "output_type": "execute_result"
    }
   ],
   "source": [
    "#access through string index\n",
    "sd1['Wipro':]"
   ]
  },
  {
   "cell_type": "code",
   "execution_count": 32,
   "metadata": {},
   "outputs": [
    {
     "data": {
      "text/plain": [
       "Tata         850\n",
       "Birla        720\n",
       "Wipro        410\n",
       "Infyosys    1650\n",
       "dtype: int64"
      ]
     },
     "execution_count": 32,
     "metadata": {},
     "output_type": "execute_result"
    }
   ],
   "source": [
    "sd1"
   ]
  },
  {
   "cell_type": "code",
   "execution_count": 33,
   "metadata": {},
   "outputs": [
    {
     "data": {
      "text/plain": [
       "Birla    720\n",
       "Wipro    410\n",
       "dtype: int64"
      ]
     },
     "execution_count": 33,
     "metadata": {},
     "output_type": "execute_result"
    }
   ],
   "source": [
    "sd1[1:3] #if it is numerical slice, endpoint is excluded"
   ]
  },
  {
   "cell_type": "code",
   "execution_count": 34,
   "metadata": {},
   "outputs": [
    {
     "data": {
      "text/plain": [
       "Tata         850\n",
       "Birla        720\n",
       "Wipro        410\n",
       "Infyosys    1650\n",
       "dtype: int64"
      ]
     },
     "execution_count": 34,
     "metadata": {},
     "output_type": "execute_result"
    }
   ],
   "source": [
    "sd1"
   ]
  },
  {
   "cell_type": "code",
   "execution_count": 35,
   "metadata": {},
   "outputs": [
    {
     "data": {
      "text/plain": [
       "Tata     850\n",
       "Wipro    410\n",
       "dtype: int64"
      ]
     },
     "execution_count": 35,
     "metadata": {},
     "output_type": "execute_result"
    }
   ],
   "source": [
    "sd1[['Tata', 'Wipro']]"
   ]
  },
  {
   "cell_type": "code",
   "execution_count": 36,
   "metadata": {},
   "outputs": [
    {
     "data": {
      "text/plain": [
       "Tata     850\n",
       "Wipro    410\n",
       "dtype: int64"
      ]
     },
     "execution_count": 36,
     "metadata": {},
     "output_type": "execute_result"
    }
   ],
   "source": [
    "#access individual through vector of labels\n",
    "sd1[['Tata', 'Wipro']]"
   ]
  },
  {
   "cell_type": "code",
   "execution_count": 37,
   "metadata": {},
   "outputs": [
    {
     "data": {
      "text/plain": [
       "Tata         True\n",
       "Birla       False\n",
       "Wipro       False\n",
       "Infyosys     True\n",
       "dtype: bool"
      ]
     },
     "execution_count": 37,
     "metadata": {},
     "output_type": "execute_result"
    }
   ],
   "source": [
    "# conditional access\n",
    "sd1>750"
   ]
  },
  {
   "cell_type": "code",
   "execution_count": 38,
   "metadata": {},
   "outputs": [
    {
     "data": {
      "text/plain": [
       "Tata         850\n",
       "Infyosys    1650\n",
       "dtype: int64"
      ]
     },
     "execution_count": 38,
     "metadata": {},
     "output_type": "execute_result"
    }
   ],
   "source": [
    "sd1[sd1>750]"
   ]
  },
  {
   "cell_type": "code",
   "execution_count": 39,
   "metadata": {},
   "outputs": [
    {
     "name": "stdout",
     "output_type": "stream",
     "text": [
      "<class 'pandas.core.series.Series'>\n",
      "\n",
      "Physics      80\n",
      "Chemistry    50\n",
      "Maths        80\n",
      "Biology      79\n",
      "Statstics    80\n",
      "dtype: int64\n",
      "\n",
      "<class 'numpy.ndarray'>\n",
      "\n",
      "1\n",
      "\n",
      "(5,)\n",
      "\n",
      "Index(['Physics', 'Chemistry', 'Maths', 'Biology', 'Statstics'], dtype='object')\n",
      "\n",
      "80    3\n",
      "50    1\n",
      "79    1\n",
      "Name: count, dtype: int64\n"
     ]
    }
   ],
   "source": [
    "#value_count returns series\n",
    "my_marks_dictionary = {'Physics':80, 'Chemistry':50, 'Maths':80, 'Biology':79, 'Statstics': 80}\n",
    "s2 = pd.Series(my_marks_dictionary)\n",
    "print(type(s2))\n",
    "print()\n",
    "print(s2)\n",
    "print()\n",
    "print(type(s2.values))\n",
    "print()\n",
    "print(s2.ndim)\n",
    "print()\n",
    "print(s2.shape)\n",
    "print()\n",
    "print(s2.index)\n",
    "print()\n",
    "print(s2.value_counts())"
   ]
  },
  {
   "cell_type": "code",
   "execution_count": 40,
   "metadata": {},
   "outputs": [
    {
     "data": {
      "text/plain": [
       "80    3\n",
       "50    1\n",
       "79    1\n",
       "Name: count, dtype: int64"
      ]
     },
     "execution_count": 40,
     "metadata": {},
     "output_type": "execute_result"
    }
   ],
   "source": [
    "s2.value_counts()"
   ]
  },
  {
   "cell_type": "code",
   "execution_count": 41,
   "metadata": {},
   "outputs": [],
   "source": [
    "#Summarize: Pandas - (1) Series \n",
    "\n",
    "#1. list as a parameter\n",
    "#2. explicitely assign values to index\n",
    "#3. dictionary as a parameter\n",
    "#4. keys becomes indexes by default\n",
    "#5. internally it stores as ndarry (numpy)\n",
    "#6. value_counts (frequencies/occurances of each value)\n",
    "#7. string slicing (end point included) vs numeric slicing (end point excluded)\n",
    "#8. accessing as a vector [[]] - enclosed within two double quotes\n",
    "#9. dir(object) - get to see the entire details about the object"
   ]
  },
  {
   "cell_type": "markdown",
   "metadata": {
    "colab_type": "text",
    "id": "M505ZfgeRbUH"
   },
   "source": [
    "<a id='Data_Structures'></a>\n",
    "## 2. Data Structures with Examples"
   ]
  },
  {
   "cell_type": "code",
   "execution_count": 64,
   "metadata": {},
   "outputs": [],
   "source": [
    "import pandas as pd"
   ]
  },
  {
   "cell_type": "code",
   "execution_count": 66,
   "metadata": {},
   "outputs": [
    {
     "data": {
      "text/plain": [
       "{'Min': [40, 40, 40, 40],\n",
       " 'Max': [100, 100, 100, 100],\n",
       " 'Actual': [82, 95, 81, 93]}"
      ]
     },
     "execution_count": 66,
     "metadata": {},
     "output_type": "execute_result"
    }
   ],
   "source": [
    "md1 = {\n",
    "    \"Min\" : [40, 40, 40, 40],\n",
    "    \"Max\": [100, 100, 100, 100],\n",
    "    \"Actual\": [82, 95, 81, 93]\n",
    "}\n",
    "md1"
   ]
  },
  {
   "cell_type": "code",
   "execution_count": 59,
   "metadata": {},
   "outputs": [
    {
     "data": {
      "text/plain": [
       "['P', 'C', 'M', 'B']"
      ]
     },
     "execution_count": 59,
     "metadata": {},
     "output_type": "execute_result"
    }
   ],
   "source": [
    "row_labels = ['P', 'C', 'M', 'B']\n",
    "row_labels"
   ]
  },
  {
   "cell_type": "code",
   "execution_count": 60,
   "metadata": {},
   "outputs": [
    {
     "data": {
      "text/html": [
       "<div>\n",
       "<style scoped>\n",
       "    .dataframe tbody tr th:only-of-type {\n",
       "        vertical-align: middle;\n",
       "    }\n",
       "\n",
       "    .dataframe tbody tr th {\n",
       "        vertical-align: top;\n",
       "    }\n",
       "\n",
       "    .dataframe thead th {\n",
       "        text-align: right;\n",
       "    }\n",
       "</style>\n",
       "<table border=\"1\" class=\"dataframe\">\n",
       "  <thead>\n",
       "    <tr style=\"text-align: right;\">\n",
       "      <th></th>\n",
       "      <th>Min</th>\n",
       "      <th>Max</th>\n",
       "      <th>Actual</th>\n",
       "    </tr>\n",
       "  </thead>\n",
       "  <tbody>\n",
       "    <tr>\n",
       "      <th>P</th>\n",
       "      <td>40</td>\n",
       "      <td>100</td>\n",
       "      <td>82</td>\n",
       "    </tr>\n",
       "    <tr>\n",
       "      <th>C</th>\n",
       "      <td>40</td>\n",
       "      <td>100</td>\n",
       "      <td>95</td>\n",
       "    </tr>\n",
       "    <tr>\n",
       "      <th>M</th>\n",
       "      <td>40</td>\n",
       "      <td>100</td>\n",
       "      <td>81</td>\n",
       "    </tr>\n",
       "    <tr>\n",
       "      <th>B</th>\n",
       "      <td>40</td>\n",
       "      <td>100</td>\n",
       "      <td>93</td>\n",
       "    </tr>\n",
       "  </tbody>\n",
       "</table>\n",
       "</div>"
      ],
      "text/plain": [
       "   Min  Max  Actual\n",
       "P   40  100      82\n",
       "C   40  100      95\n",
       "M   40  100      81\n",
       "B   40  100      93"
      ]
     },
     "execution_count": 60,
     "metadata": {},
     "output_type": "execute_result"
    }
   ],
   "source": [
    "df = pd.DataFrame(data=md1, index=row_labels)\n",
    "df"
   ]
  },
  {
   "cell_type": "code",
   "execution_count": 61,
   "metadata": {},
   "outputs": [
    {
     "data": {
      "text/plain": [
       "pandas.core.series.Series"
      ]
     },
     "execution_count": 61,
     "metadata": {},
     "output_type": "execute_result"
    }
   ],
   "source": [
    "type(df['Actual'])"
   ]
  },
  {
   "cell_type": "code",
   "execution_count": 266,
   "metadata": {},
   "outputs": [
    {
     "data": {
      "text/plain": [
       "Actual\n",
       "80    2\n",
       "50    1\n",
       "79    1\n",
       "Name: count, dtype: int64"
      ]
     },
     "execution_count": 266,
     "metadata": {},
     "output_type": "execute_result"
    }
   ],
   "source": [
    "df.Actual.value_counts()"
   ]
  },
  {
   "cell_type": "code",
   "execution_count": 269,
   "metadata": {},
   "outputs": [
    {
     "data": {
      "text/plain": [
       "Index(['P', 'C', 'M', 'B'], dtype='object')"
      ]
     },
     "execution_count": 269,
     "metadata": {},
     "output_type": "execute_result"
    }
   ],
   "source": [
    "df.index"
   ]
  },
  {
   "cell_type": "code",
   "execution_count": 270,
   "metadata": {},
   "outputs": [
    {
     "data": {
      "text/plain": [
       "Index(['Min', 'Max', 'Actual'], dtype='object')"
      ]
     },
     "execution_count": 270,
     "metadata": {},
     "output_type": "execute_result"
    }
   ],
   "source": [
    "df.columns"
   ]
  },
  {
   "cell_type": "code",
   "execution_count": 271,
   "metadata": {},
   "outputs": [
    {
     "data": {
      "text/html": [
       "<div>\n",
       "<style scoped>\n",
       "    .dataframe tbody tr th:only-of-type {\n",
       "        vertical-align: middle;\n",
       "    }\n",
       "\n",
       "    .dataframe tbody tr th {\n",
       "        vertical-align: top;\n",
       "    }\n",
       "\n",
       "    .dataframe thead th {\n",
       "        text-align: right;\n",
       "    }\n",
       "</style>\n",
       "<table border=\"1\" class=\"dataframe\">\n",
       "  <thead>\n",
       "    <tr style=\"text-align: right;\">\n",
       "      <th></th>\n",
       "      <th>Min</th>\n",
       "      <th>Max</th>\n",
       "      <th>Actual</th>\n",
       "    </tr>\n",
       "  </thead>\n",
       "  <tbody>\n",
       "    <tr>\n",
       "      <th>P</th>\n",
       "      <td>40</td>\n",
       "      <td>100</td>\n",
       "      <td>80</td>\n",
       "    </tr>\n",
       "    <tr>\n",
       "      <th>C</th>\n",
       "      <td>40</td>\n",
       "      <td>100</td>\n",
       "      <td>50</td>\n",
       "    </tr>\n",
       "    <tr>\n",
       "      <th>M</th>\n",
       "      <td>40</td>\n",
       "      <td>100</td>\n",
       "      <td>80</td>\n",
       "    </tr>\n",
       "    <tr>\n",
       "      <th>B</th>\n",
       "      <td>40</td>\n",
       "      <td>100</td>\n",
       "      <td>79</td>\n",
       "    </tr>\n",
       "  </tbody>\n",
       "</table>\n",
       "</div>"
      ],
      "text/plain": [
       "   Min  Max  Actual\n",
       "P   40  100      80\n",
       "C   40  100      50\n",
       "M   40  100      80\n",
       "B   40  100      79"
      ]
     },
     "execution_count": 271,
     "metadata": {},
     "output_type": "execute_result"
    }
   ],
   "source": [
    "df"
   ]
  },
  {
   "cell_type": "code",
   "execution_count": 264,
   "metadata": {},
   "outputs": [
    {
     "data": {
      "text/plain": [
       "['Actual',\n",
       " 'Max',\n",
       " 'Min',\n",
       " 'T',\n",
       " '_AXIS_LEN',\n",
       " '_AXIS_ORDERS',\n",
       " '_AXIS_TO_AXIS_NUMBER',\n",
       " '_HANDLED_TYPES',\n",
       " '__abs__',\n",
       " '__add__',\n",
       " '__and__',\n",
       " '__annotations__',\n",
       " '__array__',\n",
       " '__array_priority__',\n",
       " '__array_ufunc__',\n",
       " '__arrow_c_stream__',\n",
       " '__bool__',\n",
       " '__class__',\n",
       " '__contains__',\n",
       " '__copy__',\n",
       " '__dataframe__',\n",
       " '__dataframe_consortium_standard__',\n",
       " '__deepcopy__',\n",
       " '__delattr__',\n",
       " '__delitem__',\n",
       " '__dict__',\n",
       " '__dir__',\n",
       " '__divmod__',\n",
       " '__doc__',\n",
       " '__eq__',\n",
       " '__finalize__',\n",
       " '__floordiv__',\n",
       " '__format__',\n",
       " '__ge__',\n",
       " '__getattr__',\n",
       " '__getattribute__',\n",
       " '__getitem__',\n",
       " '__getstate__',\n",
       " '__gt__',\n",
       " '__hash__',\n",
       " '__iadd__',\n",
       " '__iand__',\n",
       " '__ifloordiv__',\n",
       " '__imod__',\n",
       " '__imul__',\n",
       " '__init__',\n",
       " '__init_subclass__',\n",
       " '__invert__',\n",
       " '__ior__',\n",
       " '__ipow__',\n",
       " '__isub__',\n",
       " '__iter__',\n",
       " '__itruediv__',\n",
       " '__ixor__',\n",
       " '__le__',\n",
       " '__len__',\n",
       " '__lt__',\n",
       " '__matmul__',\n",
       " '__mod__',\n",
       " '__module__',\n",
       " '__mul__',\n",
       " '__ne__',\n",
       " '__neg__',\n",
       " '__new__',\n",
       " '__nonzero__',\n",
       " '__or__',\n",
       " '__pandas_priority__',\n",
       " '__pos__',\n",
       " '__pow__',\n",
       " '__radd__',\n",
       " '__rand__',\n",
       " '__rdivmod__',\n",
       " '__reduce__',\n",
       " '__reduce_ex__',\n",
       " '__repr__',\n",
       " '__rfloordiv__',\n",
       " '__rmatmul__',\n",
       " '__rmod__',\n",
       " '__rmul__',\n",
       " '__ror__',\n",
       " '__round__',\n",
       " '__rpow__',\n",
       " '__rsub__',\n",
       " '__rtruediv__',\n",
       " '__rxor__',\n",
       " '__setattr__',\n",
       " '__setitem__',\n",
       " '__setstate__',\n",
       " '__sizeof__',\n",
       " '__str__',\n",
       " '__sub__',\n",
       " '__subclasshook__',\n",
       " '__truediv__',\n",
       " '__weakref__',\n",
       " '__xor__',\n",
       " '_accessors',\n",
       " '_accum_func',\n",
       " '_agg_examples_doc',\n",
       " '_agg_see_also_doc',\n",
       " '_align_for_op',\n",
       " '_align_frame',\n",
       " '_align_series',\n",
       " '_append',\n",
       " '_arith_method',\n",
       " '_arith_method_with_reindex',\n",
       " '_as_manager',\n",
       " '_attrs',\n",
       " '_box_col_values',\n",
       " '_can_fast_transpose',\n",
       " '_check_inplace_and_allows_duplicate_labels',\n",
       " '_check_is_chained_assignment_possible',\n",
       " '_check_label_or_level_ambiguity',\n",
       " '_check_setitem_copy',\n",
       " '_clear_item_cache',\n",
       " '_clip_with_one_bound',\n",
       " '_clip_with_scalar',\n",
       " '_cmp_method',\n",
       " '_combine_frame',\n",
       " '_consolidate',\n",
       " '_consolidate_inplace',\n",
       " '_construct_axes_dict',\n",
       " '_construct_result',\n",
       " '_constructor',\n",
       " '_constructor_from_mgr',\n",
       " '_constructor_sliced',\n",
       " '_constructor_sliced_from_mgr',\n",
       " '_create_data_for_split_and_tight_to_dict',\n",
       " '_data',\n",
       " '_deprecate_downcast',\n",
       " '_dir_additions',\n",
       " '_dir_deletions',\n",
       " '_dispatch_frame_op',\n",
       " '_drop_axis',\n",
       " '_drop_labels_or_levels',\n",
       " '_ensure_valid_index',\n",
       " '_find_valid_index',\n",
       " '_flags',\n",
       " '_flex_arith_method',\n",
       " '_flex_cmp_method',\n",
       " '_from_arrays',\n",
       " '_from_mgr',\n",
       " '_get_agg_axis',\n",
       " '_get_axis',\n",
       " '_get_axis_name',\n",
       " '_get_axis_number',\n",
       " '_get_axis_resolvers',\n",
       " '_get_block_manager_axis',\n",
       " '_get_bool_data',\n",
       " '_get_cleaned_column_resolvers',\n",
       " '_get_column_array',\n",
       " '_get_index_resolvers',\n",
       " '_get_item_cache',\n",
       " '_get_label_or_level_values',\n",
       " '_get_numeric_data',\n",
       " '_get_value',\n",
       " '_get_values_for_csv',\n",
       " '_getitem_bool_array',\n",
       " '_getitem_multilevel',\n",
       " '_getitem_nocopy',\n",
       " '_getitem_slice',\n",
       " '_gotitem',\n",
       " '_hidden_attrs',\n",
       " '_indexed_same',\n",
       " '_info_axis',\n",
       " '_info_axis_name',\n",
       " '_info_axis_number',\n",
       " '_info_repr',\n",
       " '_init_mgr',\n",
       " '_inplace_method',\n",
       " '_internal_names',\n",
       " '_internal_names_set',\n",
       " '_is_copy',\n",
       " '_is_homogeneous_type',\n",
       " '_is_label_or_level_reference',\n",
       " '_is_label_reference',\n",
       " '_is_level_reference',\n",
       " '_is_mixed_type',\n",
       " '_is_view',\n",
       " '_is_view_after_cow_rules',\n",
       " '_iset_item',\n",
       " '_iset_item_mgr',\n",
       " '_iset_not_inplace',\n",
       " '_item_cache',\n",
       " '_iter_column_arrays',\n",
       " '_ixs',\n",
       " '_logical_func',\n",
       " '_logical_method',\n",
       " '_maybe_align_series_as_frame',\n",
       " '_maybe_cache_changed',\n",
       " '_maybe_update_cacher',\n",
       " '_metadata',\n",
       " '_mgr',\n",
       " '_min_count_stat_function',\n",
       " '_needs_reindex_multi',\n",
       " '_pad_or_backfill',\n",
       " '_protect_consolidate',\n",
       " '_reduce',\n",
       " '_reduce_axis1',\n",
       " '_reindex_axes',\n",
       " '_reindex_multi',\n",
       " '_reindex_with_indexers',\n",
       " '_rename',\n",
       " '_replace_columnwise',\n",
       " '_repr_data_resource_',\n",
       " '_repr_fits_horizontal_',\n",
       " '_repr_fits_vertical_',\n",
       " '_repr_html_',\n",
       " '_repr_latex_',\n",
       " '_reset_cache',\n",
       " '_reset_cacher',\n",
       " '_sanitize_column',\n",
       " '_series',\n",
       " '_set_axis',\n",
       " '_set_axis_name',\n",
       " '_set_axis_nocheck',\n",
       " '_set_is_copy',\n",
       " '_set_item',\n",
       " '_set_item_frame_value',\n",
       " '_set_item_mgr',\n",
       " '_set_value',\n",
       " '_setitem_array',\n",
       " '_setitem_frame',\n",
       " '_setitem_slice',\n",
       " '_shift_with_freq',\n",
       " '_should_reindex_frame_op',\n",
       " '_slice',\n",
       " '_stat_function',\n",
       " '_stat_function_ddof',\n",
       " '_take_with_is_copy',\n",
       " '_to_dict_of_blocks',\n",
       " '_to_latex_via_styler',\n",
       " '_typ',\n",
       " '_update_inplace',\n",
       " '_validate_dtype',\n",
       " '_values',\n",
       " '_where',\n",
       " 'abs',\n",
       " 'add',\n",
       " 'add_prefix',\n",
       " 'add_suffix',\n",
       " 'agg',\n",
       " 'aggregate',\n",
       " 'align',\n",
       " 'all',\n",
       " 'any',\n",
       " 'apply',\n",
       " 'applymap',\n",
       " 'asfreq',\n",
       " 'asof',\n",
       " 'assign',\n",
       " 'astype',\n",
       " 'at',\n",
       " 'at_time',\n",
       " 'attrs',\n",
       " 'axes',\n",
       " 'backfill',\n",
       " 'between_time',\n",
       " 'bfill',\n",
       " 'bool',\n",
       " 'boxplot',\n",
       " 'clip',\n",
       " 'columns',\n",
       " 'combine',\n",
       " 'combine_first',\n",
       " 'compare',\n",
       " 'convert_dtypes',\n",
       " 'copy',\n",
       " 'corr',\n",
       " 'corrwith',\n",
       " 'count',\n",
       " 'cov',\n",
       " 'cummax',\n",
       " 'cummin',\n",
       " 'cumprod',\n",
       " 'cumsum',\n",
       " 'describe',\n",
       " 'diff',\n",
       " 'div',\n",
       " 'divide',\n",
       " 'dot',\n",
       " 'drop',\n",
       " 'drop_duplicates',\n",
       " 'droplevel',\n",
       " 'dropna',\n",
       " 'dtypes',\n",
       " 'duplicated',\n",
       " 'empty',\n",
       " 'eq',\n",
       " 'equals',\n",
       " 'eval',\n",
       " 'ewm',\n",
       " 'expanding',\n",
       " 'explode',\n",
       " 'ffill',\n",
       " 'fillna',\n",
       " 'filter',\n",
       " 'first',\n",
       " 'first_valid_index',\n",
       " 'flags',\n",
       " 'floordiv',\n",
       " 'from_dict',\n",
       " 'from_records',\n",
       " 'ge',\n",
       " 'get',\n",
       " 'groupby',\n",
       " 'gt',\n",
       " 'head',\n",
       " 'hist',\n",
       " 'iat',\n",
       " 'idxmax',\n",
       " 'idxmin',\n",
       " 'iloc',\n",
       " 'index',\n",
       " 'infer_objects',\n",
       " 'info',\n",
       " 'insert',\n",
       " 'interpolate',\n",
       " 'isetitem',\n",
       " 'isin',\n",
       " 'isna',\n",
       " 'isnull',\n",
       " 'items',\n",
       " 'iterrows',\n",
       " 'itertuples',\n",
       " 'join',\n",
       " 'keys',\n",
       " 'kurt',\n",
       " 'kurtosis',\n",
       " 'last',\n",
       " 'last_valid_index',\n",
       " 'le',\n",
       " 'loc',\n",
       " 'lt',\n",
       " 'map',\n",
       " 'mask',\n",
       " 'max',\n",
       " 'mean',\n",
       " 'median',\n",
       " 'melt',\n",
       " 'memory_usage',\n",
       " 'merge',\n",
       " 'min',\n",
       " 'mod',\n",
       " 'mode',\n",
       " 'mul',\n",
       " 'multiply',\n",
       " 'ndim',\n",
       " 'ne',\n",
       " 'nlargest',\n",
       " 'notna',\n",
       " 'notnull',\n",
       " 'nsmallest',\n",
       " 'nunique',\n",
       " 'pad',\n",
       " 'pct_change',\n",
       " 'pipe',\n",
       " 'pivot',\n",
       " 'pivot_table',\n",
       " 'plot',\n",
       " 'pop',\n",
       " 'pow',\n",
       " 'prod',\n",
       " 'product',\n",
       " 'quantile',\n",
       " 'query',\n",
       " 'radd',\n",
       " 'rank',\n",
       " 'rdiv',\n",
       " 'reindex',\n",
       " 'reindex_like',\n",
       " 'rename',\n",
       " 'rename_axis',\n",
       " 'reorder_levels',\n",
       " 'replace',\n",
       " 'resample',\n",
       " 'reset_index',\n",
       " 'rfloordiv',\n",
       " 'rmod',\n",
       " 'rmul',\n",
       " 'rolling',\n",
       " 'round',\n",
       " 'rpow',\n",
       " 'rsub',\n",
       " 'rtruediv',\n",
       " 'sample',\n",
       " 'select_dtypes',\n",
       " 'sem',\n",
       " 'set_axis',\n",
       " 'set_flags',\n",
       " 'set_index',\n",
       " 'shape',\n",
       " 'shift',\n",
       " 'size',\n",
       " 'skew',\n",
       " 'sort_index',\n",
       " 'sort_values',\n",
       " 'squeeze',\n",
       " 'stack',\n",
       " 'std',\n",
       " 'style',\n",
       " 'sub',\n",
       " 'subtract',\n",
       " 'sum',\n",
       " 'swapaxes',\n",
       " 'swaplevel',\n",
       " 'tail',\n",
       " 'take',\n",
       " 'to_clipboard',\n",
       " 'to_csv',\n",
       " 'to_dict',\n",
       " 'to_excel',\n",
       " 'to_feather',\n",
       " 'to_gbq',\n",
       " 'to_hdf',\n",
       " 'to_html',\n",
       " 'to_json',\n",
       " 'to_latex',\n",
       " 'to_markdown',\n",
       " 'to_numpy',\n",
       " 'to_orc',\n",
       " 'to_parquet',\n",
       " 'to_period',\n",
       " 'to_pickle',\n",
       " 'to_records',\n",
       " 'to_sql',\n",
       " 'to_stata',\n",
       " 'to_string',\n",
       " 'to_timestamp',\n",
       " 'to_xarray',\n",
       " 'to_xml',\n",
       " 'transform',\n",
       " 'transpose',\n",
       " 'truediv',\n",
       " 'truncate',\n",
       " 'tz_convert',\n",
       " 'tz_localize',\n",
       " 'unstack',\n",
       " 'update',\n",
       " 'value_counts',\n",
       " 'values',\n",
       " 'var',\n",
       " 'where',\n",
       " 'xs']"
      ]
     },
     "execution_count": 264,
     "metadata": {},
     "output_type": "execute_result"
    }
   ],
   "source": [
    "#dir(df)"
   ]
  },
  {
   "cell_type": "code",
   "execution_count": 62,
   "metadata": {},
   "outputs": [
    {
     "data": {
      "text/plain": [
       "{'Min': [40, 40, 40, 40],\n",
       " 'Max': [100, 100, 100, 100],\n",
       " 'Actual': [80, 50, 80, 79]}"
      ]
     },
     "execution_count": 62,
     "metadata": {},
     "output_type": "execute_result"
    }
   ],
   "source": [
    "#Creation of dataframe using dictionary\n",
    "\n",
    "md1 = {'Min': [40, 40, 40, 40], 'Max': [100, 100, 100, 100], 'Actual': [80, 50, 80, 79] }\n",
    "md1"
   ]
  },
  {
   "cell_type": "code",
   "execution_count": 63,
   "metadata": {},
   "outputs": [
    {
     "name": "stdout",
     "output_type": "stream",
     "text": [
      "   Min  Max  Actual\n",
      "0   40  100      80\n",
      "1   40  100      50\n",
      "2   40  100      80\n",
      "3   40  100      79\n"
     ]
    }
   ],
   "source": [
    "mdf1 = pd.DataFrame(md1)\n",
    "print(mdf1)"
   ]
  },
  {
   "cell_type": "code",
   "execution_count": 73,
   "metadata": {},
   "outputs": [],
   "source": [
    "#keys becomes column headings"
   ]
  },
  {
   "cell_type": "code",
   "execution_count": 74,
   "metadata": {},
   "outputs": [
    {
     "name": "stdout",
     "output_type": "stream",
     "text": [
      "           Min  Max  Actual\n",
      "Physics     40  100      80\n",
      "Chemistry   40  100      50\n",
      "Maths       40  100      80\n",
      "Biology     40  100      79\n"
     ]
    }
   ],
   "source": [
    "#value_count returns series\n",
    "\n",
    "md1 = {'Min': [40, 40, 40, 40], 'Max': [100, 100, 100, 100], 'Actual': [80, 50, 80, 79] }\n",
    "row_label = ['Physics', 'Chemistry', 'Maths', 'Biology']\n",
    "mdf1 = pd.DataFrame(md1, index=row_label)\n",
    "print(mdf1)"
   ]
  },
  {
   "cell_type": "code",
   "execution_count": 75,
   "metadata": {},
   "outputs": [
    {
     "name": "stdout",
     "output_type": "stream",
     "text": [
      "(4, 3)\n",
      "\n",
      "Index(['Physics', 'Chemistry', 'Maths', 'Biology'], dtype='object')\n",
      "\n",
      "Index(['Min', 'Max', 'Actual'], dtype='object')\n"
     ]
    }
   ],
   "source": [
    "print(mdf1.shape)\n",
    "print()\n",
    "print(mdf1.index)\n",
    "print()\n",
    "print(mdf1.columns)\n"
   ]
  },
  {
   "cell_type": "code",
   "execution_count": 72,
   "metadata": {},
   "outputs": [
    {
     "data": {
      "text/plain": [
       "(4, 3)"
      ]
     },
     "execution_count": 72,
     "metadata": {},
     "output_type": "execute_result"
    }
   ],
   "source": [
    "mdf1.shape"
   ]
  },
  {
   "cell_type": "code",
   "execution_count": 83,
   "metadata": {},
   "outputs": [
    {
     "data": {
      "text/html": [
       "<div>\n",
       "<style scoped>\n",
       "    .dataframe tbody tr th:only-of-type {\n",
       "        vertical-align: middle;\n",
       "    }\n",
       "\n",
       "    .dataframe tbody tr th {\n",
       "        vertical-align: top;\n",
       "    }\n",
       "\n",
       "    .dataframe thead th {\n",
       "        text-align: right;\n",
       "    }\n",
       "</style>\n",
       "<table border=\"1\" class=\"dataframe\">\n",
       "  <thead>\n",
       "    <tr style=\"text-align: right;\">\n",
       "      <th></th>\n",
       "      <th>0</th>\n",
       "      <th>1</th>\n",
       "      <th>2</th>\n",
       "    </tr>\n",
       "  </thead>\n",
       "  <tbody>\n",
       "    <tr>\n",
       "      <th>0</th>\n",
       "      <td>40</td>\n",
       "      <td>100</td>\n",
       "      <td>80</td>\n",
       "    </tr>\n",
       "    <tr>\n",
       "      <th>1</th>\n",
       "      <td>40</td>\n",
       "      <td>100</td>\n",
       "      <td>50</td>\n",
       "    </tr>\n",
       "    <tr>\n",
       "      <th>2</th>\n",
       "      <td>40</td>\n",
       "      <td>100</td>\n",
       "      <td>80</td>\n",
       "    </tr>\n",
       "    <tr>\n",
       "      <th>3</th>\n",
       "      <td>40</td>\n",
       "      <td>100</td>\n",
       "      <td>79</td>\n",
       "    </tr>\n",
       "  </tbody>\n",
       "</table>\n",
       "</div>"
      ],
      "text/plain": [
       "    0    1   2\n",
       "0  40  100  80\n",
       "1  40  100  50\n",
       "2  40  100  80\n",
       "3  40  100  79"
      ]
     },
     "execution_count": 83,
     "metadata": {},
     "output_type": "execute_result"
    }
   ],
   "source": [
    "data_list = [ [40, 100, 80],\n",
    "              [40, 100, 50],  \n",
    "              [40, 100, 80],\n",
    "              [40, 100, 79]]\n",
    "data_list\n",
    "df = pd.DataFrame(data_list)\n",
    "df"
   ]
  },
  {
   "cell_type": "code",
   "execution_count": 84,
   "metadata": {},
   "outputs": [],
   "source": [
    "row_label = ['Physics', 'Chemistry', 'Maths', 'Biology']\n",
    "col_label = ['Min', 'Max', 'Actual']"
   ]
  },
  {
   "cell_type": "code",
   "execution_count": 85,
   "metadata": {},
   "outputs": [
    {
     "data": {
      "text/html": [
       "<div>\n",
       "<style scoped>\n",
       "    .dataframe tbody tr th:only-of-type {\n",
       "        vertical-align: middle;\n",
       "    }\n",
       "\n",
       "    .dataframe tbody tr th {\n",
       "        vertical-align: top;\n",
       "    }\n",
       "\n",
       "    .dataframe thead th {\n",
       "        text-align: right;\n",
       "    }\n",
       "</style>\n",
       "<table border=\"1\" class=\"dataframe\">\n",
       "  <thead>\n",
       "    <tr style=\"text-align: right;\">\n",
       "      <th></th>\n",
       "      <th>Min</th>\n",
       "      <th>Max</th>\n",
       "      <th>Actual</th>\n",
       "    </tr>\n",
       "  </thead>\n",
       "  <tbody>\n",
       "    <tr>\n",
       "      <th>Physics</th>\n",
       "      <td>40</td>\n",
       "      <td>100</td>\n",
       "      <td>80</td>\n",
       "    </tr>\n",
       "    <tr>\n",
       "      <th>Chemistry</th>\n",
       "      <td>40</td>\n",
       "      <td>100</td>\n",
       "      <td>50</td>\n",
       "    </tr>\n",
       "    <tr>\n",
       "      <th>Maths</th>\n",
       "      <td>40</td>\n",
       "      <td>100</td>\n",
       "      <td>80</td>\n",
       "    </tr>\n",
       "    <tr>\n",
       "      <th>Biology</th>\n",
       "      <td>40</td>\n",
       "      <td>100</td>\n",
       "      <td>79</td>\n",
       "    </tr>\n",
       "  </tbody>\n",
       "</table>\n",
       "</div>"
      ],
      "text/plain": [
       "           Min  Max  Actual\n",
       "Physics     40  100      80\n",
       "Chemistry   40  100      50\n",
       "Maths       40  100      80\n",
       "Biology     40  100      79"
      ]
     },
     "execution_count": 85,
     "metadata": {},
     "output_type": "execute_result"
    }
   ],
   "source": [
    "df2 = pd.DataFrame(data=data_list, index=row_label, columns=col_label)\n",
    "df2"
   ]
  },
  {
   "cell_type": "code",
   "execution_count": 86,
   "metadata": {},
   "outputs": [],
   "source": [
    "import numpy as np"
   ]
  },
  {
   "cell_type": "code",
   "execution_count": 67,
   "metadata": {},
   "outputs": [
    {
     "data": {
      "text/plain": [
       "array([[61, 24, 81],\n",
       "       [70, 30, 92],\n",
       "       [96, 84, 84],\n",
       "       [97, 33, 12]])"
      ]
     },
     "execution_count": 67,
     "metadata": {},
     "output_type": "execute_result"
    }
   ],
   "source": [
    "np.random.seed(42)\n",
    "np.random.randint(10, 100, size=(4, 3))"
   ]
  },
  {
   "cell_type": "markdown",
   "metadata": {},
   "source": [
    "<table align=\"left\">\n",
    "    <tr>\n",
    "        <td width=\"6%\">\n",
    "            <img src=\"../images/RA_Logo.png\">\n",
    "        </td>\n",
    "        <td>\n",
    "            <div align=\"left\" style=\"font-size:120%\">\n",
    "                <font color=\"#21618C\">\n",
    "                    <b>0. How can I use NumPy to generate a table with random marks for subjects where the minimum score is 40 and the maximum is 100, ensuring that the output follows this format?</b>\n",
    "                </font>\n",
    "            </div>\n",
    "        </td>\n",
    "    </tr>\n",
    "</table>\n",
    "\n",
    "<br>\n",
    "\n",
    "<table border=\"1\">\n",
    "    <tr>\n",
    "        <th>Subject</th>\n",
    "        <th>Min</th>\n",
    "        <th>Max</th>\n",
    "        <th>Actual</th>\n",
    "    </tr>\n",
    "    <tr>\n",
    "        <td>Physics</td>\n",
    "        <td>40</td>\n",
    "        <td>100</td>\n",
    "        <td>80</td>\n",
    "    </tr>\n",
    "    <tr>\n",
    "        <td>Chemistry</td>\n",
    "        <td>40</td>\n",
    "        <td>100</td>\n",
    "        <td>50</td>\n",
    "    </tr>\n",
    "    <tr>\n",
    "        <td>Maths</td>\n",
    "        <td>40</td>\n",
    "        <td>100</td>\n",
    "        <td>80</td>\n",
    "    </tr>\n",
    "    <tr>\n",
    "        <td>Biology</td>\n",
    "        <td>40</td>\n",
    "        <td>100</td>\n",
    "        <td>79</td>\n",
    "    </tr>\n",
    "</table>\n",
    "\n",
    "<p>The \"Actual\" column should contain randomly generated values between 40 and 100 for each subject.</p>\n"
   ]
  },
  {
   "cell_type": "code",
   "execution_count": 88,
   "metadata": {},
   "outputs": [
    {
     "name": "stdout",
     "output_type": "stream",
     "text": [
      "     Subject  Min  Max  Actual\n",
      "0    Physics   40  100      72\n",
      "1  Chemistry   40  100      70\n",
      "2      Maths   40  100      79\n",
      "3    Biology   40  100      69\n"
     ]
    }
   ],
   "source": [
    "import numpy as np\n",
    "import pandas as pd\n",
    "\n",
    "# Define subjects and their min/max values\n",
    "subjects = ['Physics', 'Chemistry', 'Maths', 'Biology']\n",
    "min_marks = 40\n",
    "max_marks = 100\n",
    "\n",
    "# Generate random marks between min and max\n",
    "actual_marks = np.random.randint(min_marks, max_marks + 1, size=len(subjects))\n",
    "\n",
    "# Create DataFrame\n",
    "df = pd.DataFrame({\n",
    "    'Subject': subjects,\n",
    "    'Min': min_marks,\n",
    "    'Max': max_marks,\n",
    "    'Actual': actual_marks\n",
    "})\n",
    "\n",
    "print(df)"
   ]
  },
  {
   "cell_type": "markdown",
   "metadata": {
    "colab_type": "text",
    "id": "8KPXWJqTRbUI"
   },
   "source": [
    "<table align=\"left\">\n",
    "    <tr>\n",
    "        <td width=\"6%\">\n",
    "            <img src=\"../images/RA_Logo.png\">\n",
    "        </td>\n",
    "        <td>\n",
    "            <div align=\"left\", style=\"font-size:120%\">\n",
    "                <font color=\"#21618C\">\n",
    "                    <b>1. Write a program to convert given array to an ordinary list with the same items\n",
    "<b>\n",
    "                </font>\n",
    "            </div>\n",
    "        </td>\n",
    "    </tr>\n",
    "</table>"
   ]
  },
  {
   "cell_type": "markdown",
   "metadata": {
    "colab_type": "text",
    "id": "DAFbnqpXRbUJ"
   },
   "source": [
    "**Use the below array:**<br>\n",
    "array1 = array('b', [21,23,63,74])"
   ]
  },
  {
   "cell_type": "code",
   "execution_count": 3,
   "metadata": {
    "colab": {},
    "colab_type": "code",
    "id": "3i99ZZo1RbUK"
   },
   "outputs": [
    {
     "name": "stdout",
     "output_type": "stream",
     "text": [
      "[21, 23, 63, 74]\n"
     ]
    }
   ],
   "source": [
    "# write your code here\n",
    "from array import array\n",
    "\n",
    "array1 = array('b', [21,23,63,74])\n",
    "\n",
    "ord_list = array1.tolist()\n",
    "print(ord_list)"
   ]
  },
  {
   "cell_type": "markdown",
   "metadata": {
    "colab_type": "text",
    "id": "hrusNzw8RbUN"
   },
   "source": [
    "<table align=\"left\">\n",
    "    <tr>\n",
    "        <td width=\"6%\">\n",
    "            <img src=\"../images/RA_Logo.png\">\n",
    "        </td>\n",
    "        <td>\n",
    "            <div align=\"left\", style=\"font-size:120%\">\n",
    "                <font color=\"#21618C\">\n",
    "                    <b>2. Extract second word from the given string\n",
    "<b>\n",
    "                </font>\n",
    "            </div>\n",
    "        </td>\n",
    "    </tr>\n",
    "</table>"
   ]
  },
  {
   "cell_type": "markdown",
   "metadata": {
    "colab_type": "text",
    "id": "4vsV4W-dRbUO"
   },
   "source": [
    "**Use the below string:**<br>\n",
    "string = 'Be confident and be yourself'"
   ]
  },
  {
   "cell_type": "code",
   "execution_count": 4,
   "metadata": {
    "colab": {},
    "colab_type": "code",
    "id": "OSPco7ZERbUO"
   },
   "outputs": [
    {
     "name": "stdout",
     "output_type": "stream",
     "text": [
      "The second word in the given sentence is.......: EFFORT\n"
     ]
    }
   ],
   "source": [
    "# write your code here\n",
    "\n",
    "string = 'Wholehearted EFFORT yields the best results'\n",
    "\n",
    "a = string.split()\n",
    "\n",
    "second_word = a[1]\n",
    "\n",
    "# Print the second word\n",
    "print(f'The second word in the given sentence is.......: {second_word}')"
   ]
  },
  {
   "cell_type": "markdown",
   "metadata": {
    "colab_type": "text",
    "id": "EutDEdywRbUR"
   },
   "source": [
    "<a id='create_manipulate'></a>\n",
    "## 2. Create and Manipulate the Data Frames"
   ]
  },
  {
   "cell_type": "markdown",
   "metadata": {
    "colab_type": "text",
    "id": "6SKHbtIfRbUR"
   },
   "source": [
    "<table align=\"left\">\n",
    "    <tr>\n",
    "        <td width=\"6%\">\n",
    "            <img src=\"../images/RA_Logo.png\">\n",
    "        </td>\n",
    "        <td>\n",
    "            <div align=\"left\", style=\"font-size:120%\">\n",
    "                <font color=\"#21618C\">\n",
    "                    <b>3. Split a 'Name' column into two seperate columns <b>\n",
    "                </font>\n",
    "            </div>\n",
    "        </td>\n",
    "    </tr>\n",
    "</table>"
   ]
  },
  {
   "cell_type": "code",
   "execution_count": 77,
   "metadata": {},
   "outputs": [
    {
     "data": {
      "text/html": [
       "<div>\n",
       "<style scoped>\n",
       "    .dataframe tbody tr th:only-of-type {\n",
       "        vertical-align: middle;\n",
       "    }\n",
       "\n",
       "    .dataframe tbody tr th {\n",
       "        vertical-align: top;\n",
       "    }\n",
       "\n",
       "    .dataframe thead th {\n",
       "        text-align: right;\n",
       "    }\n",
       "</style>\n",
       "<table border=\"1\" class=\"dataframe\">\n",
       "  <thead>\n",
       "    <tr style=\"text-align: right;\">\n",
       "      <th></th>\n",
       "      <th>Name</th>\n",
       "      <th>Salary</th>\n",
       "    </tr>\n",
       "  </thead>\n",
       "  <tbody>\n",
       "    <tr>\n",
       "      <th>0</th>\n",
       "      <td>Shreyas</td>\n",
       "      <td>8989</td>\n",
       "    </tr>\n",
       "    <tr>\n",
       "      <th>1</th>\n",
       "      <td>LokRanjan</td>\n",
       "      <td>9890</td>\n",
       "    </tr>\n",
       "    <tr>\n",
       "      <th>2</th>\n",
       "      <td>Harshvardhan</td>\n",
       "      <td>7689</td>\n",
       "    </tr>\n",
       "    <tr>\n",
       "      <th>3</th>\n",
       "      <td>Kharanshu</td>\n",
       "      <td>9898</td>\n",
       "    </tr>\n",
       "    <tr>\n",
       "      <th>4</th>\n",
       "      <td>Sakshi</td>\n",
       "      <td>8767</td>\n",
       "    </tr>\n",
       "    <tr>\n",
       "      <th>5</th>\n",
       "      <td>Surakha</td>\n",
       "      <td>8907</td>\n",
       "    </tr>\n",
       "    <tr>\n",
       "      <th>6</th>\n",
       "      <td>Surabhi</td>\n",
       "      <td>7869</td>\n",
       "    </tr>\n",
       "  </tbody>\n",
       "</table>\n",
       "</div>"
      ],
      "text/plain": [
       "           Name  Salary\n",
       "0       Shreyas    8989\n",
       "1     LokRanjan    9890\n",
       "2  Harshvardhan    7689\n",
       "3     Kharanshu    9898\n",
       "4        Sakshi    8767\n",
       "5       Surakha    8907\n",
       "6       Surabhi    7869"
      ]
     },
     "execution_count": 77,
     "metadata": {},
     "output_type": "execute_result"
    }
   ],
   "source": [
    "df = pd.DataFrame({\"Name\": ['Shreyas', 'LokRanjan', 'Harshvardhan', 'Kharanshu', 'Sakshi', 'Surakha', 'Surabhi'], \n",
    "\"Salary\": [8989, 9890, 7689, 9898, 8767, 8907, 7869]})\n",
    "df"
   ]
  },
  {
   "cell_type": "code",
   "execution_count": 82,
   "metadata": {},
   "outputs": [
    {
     "data": {
      "text/html": [
       "<div>\n",
       "<style scoped>\n",
       "    .dataframe tbody tr th:only-of-type {\n",
       "        vertical-align: middle;\n",
       "    }\n",
       "\n",
       "    .dataframe tbody tr th {\n",
       "        vertical-align: top;\n",
       "    }\n",
       "\n",
       "    .dataframe thead th {\n",
       "        text-align: right;\n",
       "    }\n",
       "</style>\n",
       "<table border=\"1\" class=\"dataframe\">\n",
       "  <thead>\n",
       "    <tr style=\"text-align: right;\">\n",
       "      <th></th>\n",
       "      <th>Name</th>\n",
       "      <th>Salary</th>\n",
       "    </tr>\n",
       "  </thead>\n",
       "  <tbody>\n",
       "    <tr>\n",
       "      <th>0</th>\n",
       "      <td>Shreyas</td>\n",
       "      <td>8989</td>\n",
       "    </tr>\n",
       "    <tr>\n",
       "      <th>1</th>\n",
       "      <td>LokRanjan</td>\n",
       "      <td>9890</td>\n",
       "    </tr>\n",
       "    <tr>\n",
       "      <th>2</th>\n",
       "      <td>Harshvardhan</td>\n",
       "      <td>7689</td>\n",
       "    </tr>\n",
       "    <tr>\n",
       "      <th>3</th>\n",
       "      <td>Kharanshu</td>\n",
       "      <td>9898</td>\n",
       "    </tr>\n",
       "    <tr>\n",
       "      <th>4</th>\n",
       "      <td>Sakshi</td>\n",
       "      <td>8767</td>\n",
       "    </tr>\n",
       "  </tbody>\n",
       "</table>\n",
       "</div>"
      ],
      "text/plain": [
       "           Name  Salary\n",
       "0       Shreyas    8989\n",
       "1     LokRanjan    9890\n",
       "2  Harshvardhan    7689\n",
       "3     Kharanshu    9898\n",
       "4        Sakshi    8767"
      ]
     },
     "execution_count": 82,
     "metadata": {},
     "output_type": "execute_result"
    }
   ],
   "source": [
    "# displays top 5 rows of a dataframe\n",
    "df.head()"
   ]
  },
  {
   "cell_type": "code",
   "execution_count": 81,
   "metadata": {},
   "outputs": [
    {
     "data": {
      "text/html": [
       "<div>\n",
       "<style scoped>\n",
       "    .dataframe tbody tr th:only-of-type {\n",
       "        vertical-align: middle;\n",
       "    }\n",
       "\n",
       "    .dataframe tbody tr th {\n",
       "        vertical-align: top;\n",
       "    }\n",
       "\n",
       "    .dataframe thead th {\n",
       "        text-align: right;\n",
       "    }\n",
       "</style>\n",
       "<table border=\"1\" class=\"dataframe\">\n",
       "  <thead>\n",
       "    <tr style=\"text-align: right;\">\n",
       "      <th></th>\n",
       "      <th>Name</th>\n",
       "      <th>Salary</th>\n",
       "    </tr>\n",
       "  </thead>\n",
       "  <tbody>\n",
       "    <tr>\n",
       "      <th>2</th>\n",
       "      <td>Harshvardhan</td>\n",
       "      <td>7689</td>\n",
       "    </tr>\n",
       "    <tr>\n",
       "      <th>3</th>\n",
       "      <td>Kharanshu</td>\n",
       "      <td>9898</td>\n",
       "    </tr>\n",
       "    <tr>\n",
       "      <th>4</th>\n",
       "      <td>Sakshi</td>\n",
       "      <td>8767</td>\n",
       "    </tr>\n",
       "    <tr>\n",
       "      <th>5</th>\n",
       "      <td>Surakha</td>\n",
       "      <td>8907</td>\n",
       "    </tr>\n",
       "    <tr>\n",
       "      <th>6</th>\n",
       "      <td>Surabhi</td>\n",
       "      <td>7869</td>\n",
       "    </tr>\n",
       "  </tbody>\n",
       "</table>\n",
       "</div>"
      ],
      "text/plain": [
       "           Name  Salary\n",
       "2  Harshvardhan    7689\n",
       "3     Kharanshu    9898\n",
       "4        Sakshi    8767\n",
       "5       Surakha    8907\n",
       "6       Surabhi    7869"
      ]
     },
     "execution_count": 81,
     "metadata": {},
     "output_type": "execute_result"
    }
   ],
   "source": [
    "# displays bottom 5 rows\n",
    "df.tail()"
   ]
  },
  {
   "cell_type": "markdown",
   "metadata": {
    "colab_type": "text",
    "id": "hgOaefigRbUS"
   },
   "source": [
    "**Use the below data frame:**<br>\n",
    "df = pd.DataFrame({'Name': ['Vidyadhar Bendre', 'Akshara Bendre', 'Atharva Bendre', 'Poornima Bendre'],<br> \n",
    "                   'Salary':[3200, 4500, 3600, 5596]})"
   ]
  },
  {
   "cell_type": "code",
   "execution_count": 5,
   "metadata": {},
   "outputs": [],
   "source": [
    "# write your code here\n",
    "import pandas as pd"
   ]
  },
  {
   "cell_type": "code",
   "execution_count": 6,
   "metadata": {},
   "outputs": [
    {
     "data": {
      "text/html": [
       "<div>\n",
       "<style scoped>\n",
       "    .dataframe tbody tr th:only-of-type {\n",
       "        vertical-align: middle;\n",
       "    }\n",
       "\n",
       "    .dataframe tbody tr th {\n",
       "        vertical-align: top;\n",
       "    }\n",
       "\n",
       "    .dataframe thead th {\n",
       "        text-align: right;\n",
       "    }\n",
       "</style>\n",
       "<table border=\"1\" class=\"dataframe\">\n",
       "  <thead>\n",
       "    <tr style=\"text-align: right;\">\n",
       "      <th></th>\n",
       "    </tr>\n",
       "  </thead>\n",
       "  <tbody>\n",
       "  </tbody>\n",
       "</table>\n",
       "</div>"
      ],
      "text/plain": [
       "Empty DataFrame\n",
       "Columns: []\n",
       "Index: []"
      ]
     },
     "execution_count": 6,
     "metadata": {},
     "output_type": "execute_result"
    }
   ],
   "source": [
    "pd.DataFrame()"
   ]
  },
  {
   "cell_type": "code",
   "execution_count": 7,
   "metadata": {},
   "outputs": [
    {
     "data": {
      "text/html": [
       "<div>\n",
       "<style scoped>\n",
       "    .dataframe tbody tr th:only-of-type {\n",
       "        vertical-align: middle;\n",
       "    }\n",
       "\n",
       "    .dataframe tbody tr th {\n",
       "        vertical-align: top;\n",
       "    }\n",
       "\n",
       "    .dataframe thead th {\n",
       "        text-align: right;\n",
       "    }\n",
       "</style>\n",
       "<table border=\"1\" class=\"dataframe\">\n",
       "  <thead>\n",
       "    <tr style=\"text-align: right;\">\n",
       "      <th></th>\n",
       "      <th>Name</th>\n",
       "      <th>Salary</th>\n",
       "    </tr>\n",
       "  </thead>\n",
       "  <tbody>\n",
       "    <tr>\n",
       "      <th>0</th>\n",
       "      <td>Vidyadhar Bendre</td>\n",
       "      <td>3200</td>\n",
       "    </tr>\n",
       "    <tr>\n",
       "      <th>1</th>\n",
       "      <td>Akshara Bendre</td>\n",
       "      <td>4500</td>\n",
       "    </tr>\n",
       "    <tr>\n",
       "      <th>2</th>\n",
       "      <td>Atharva Bendre</td>\n",
       "      <td>3600</td>\n",
       "    </tr>\n",
       "    <tr>\n",
       "      <th>3</th>\n",
       "      <td>Poornima Bendre</td>\n",
       "      <td>5596</td>\n",
       "    </tr>\n",
       "  </tbody>\n",
       "</table>\n",
       "</div>"
      ],
      "text/plain": [
       "               Name  Salary\n",
       "0  Vidyadhar Bendre    3200\n",
       "1    Akshara Bendre    4500\n",
       "2    Atharva Bendre    3600\n",
       "3   Poornima Bendre    5596"
      ]
     },
     "execution_count": 7,
     "metadata": {},
     "output_type": "execute_result"
    }
   ],
   "source": [
    "pd.DataFrame({'Name': ['Vidyadhar Bendre', 'Akshara Bendre', 'Atharva Bendre', 'Poornima Bendre'],\n",
    "'Salary':[3200, 4500, 3600, 5596]})"
   ]
  },
  {
   "cell_type": "code",
   "execution_count": 75,
   "metadata": {},
   "outputs": [],
   "source": [
    "df = pd.DataFrame({'Name': ['Vidyadhar Bendre', 'Akshara Bendre', 'Atharva Bendre', 'Poornima Bendre', 'Shashikanth Bendre', 'Meena Bendre', 'Vivek Bendre', 'Veena Bendre', 'Vijay Bendre'],\n",
    "'Salary':[3200, 4500, 3600, 5596, 6785, 6754, 7865, 1234, 8907]})"
   ]
  },
  {
   "cell_type": "code",
   "execution_count": 71,
   "metadata": {},
   "outputs": [
    {
     "data": {
      "text/html": [
       "<div>\n",
       "<style scoped>\n",
       "    .dataframe tbody tr th:only-of-type {\n",
       "        vertical-align: middle;\n",
       "    }\n",
       "\n",
       "    .dataframe tbody tr th {\n",
       "        vertical-align: top;\n",
       "    }\n",
       "\n",
       "    .dataframe thead th {\n",
       "        text-align: right;\n",
       "    }\n",
       "</style>\n",
       "<table border=\"1\" class=\"dataframe\">\n",
       "  <thead>\n",
       "    <tr style=\"text-align: right;\">\n",
       "      <th></th>\n",
       "      <th>Name</th>\n",
       "      <th>Salary</th>\n",
       "    </tr>\n",
       "  </thead>\n",
       "  <tbody>\n",
       "    <tr>\n",
       "      <th>0</th>\n",
       "      <td>Shreyas</td>\n",
       "      <td>8989</td>\n",
       "    </tr>\n",
       "    <tr>\n",
       "      <th>1</th>\n",
       "      <td>LokRanjan</td>\n",
       "      <td>9890</td>\n",
       "    </tr>\n",
       "    <tr>\n",
       "      <th>2</th>\n",
       "      <td>Harshvardhan</td>\n",
       "      <td>7689</td>\n",
       "    </tr>\n",
       "    <tr>\n",
       "      <th>3</th>\n",
       "      <td>Kharanshu</td>\n",
       "      <td>9898</td>\n",
       "    </tr>\n",
       "  </tbody>\n",
       "</table>\n",
       "</div>"
      ],
      "text/plain": [
       "           Name  Salary\n",
       "0       Shreyas    8989\n",
       "1     LokRanjan    9890\n",
       "2  Harshvardhan    7689\n",
       "3     Kharanshu    9898"
      ]
     },
     "execution_count": 71,
     "metadata": {},
     "output_type": "execute_result"
    }
   ],
   "source": [
    "df"
   ]
  },
  {
   "cell_type": "code",
   "execution_count": 74,
   "metadata": {},
   "outputs": [],
   "source": [
    "#dir(df)"
   ]
  },
  {
   "cell_type": "code",
   "execution_count": 72,
   "metadata": {},
   "outputs": [
    {
     "data": {
      "text/plain": [
       "Index(['Name', 'Salary'], dtype='object')"
      ]
     },
     "execution_count": 72,
     "metadata": {},
     "output_type": "execute_result"
    }
   ],
   "source": [
    "df.columns"
   ]
  },
  {
   "cell_type": "code",
   "execution_count": 9,
   "metadata": {},
   "outputs": [
    {
     "data": {
      "text/plain": [
       "Index(['Name', 'Salary'], dtype='object')"
      ]
     },
     "execution_count": 9,
     "metadata": {},
     "output_type": "execute_result"
    }
   ],
   "source": [
    "df.columns"
   ]
  },
  {
   "cell_type": "code",
   "execution_count": null,
   "metadata": {},
   "outputs": [],
   "source": []
  },
  {
   "cell_type": "code",
   "execution_count": 10,
   "metadata": {},
   "outputs": [
    {
     "data": {
      "text/html": [
       "<div>\n",
       "<style scoped>\n",
       "    .dataframe tbody tr th:only-of-type {\n",
       "        vertical-align: middle;\n",
       "    }\n",
       "\n",
       "    .dataframe tbody tr th {\n",
       "        vertical-align: top;\n",
       "    }\n",
       "\n",
       "    .dataframe thead th {\n",
       "        text-align: right;\n",
       "    }\n",
       "</style>\n",
       "<table border=\"1\" class=\"dataframe\">\n",
       "  <thead>\n",
       "    <tr style=\"text-align: right;\">\n",
       "      <th></th>\n",
       "      <th>Name</th>\n",
       "      <th>Salary</th>\n",
       "    </tr>\n",
       "  </thead>\n",
       "  <tbody>\n",
       "    <tr>\n",
       "      <th>0</th>\n",
       "      <td>Vidyadhar Bendre</td>\n",
       "      <td>3200</td>\n",
       "    </tr>\n",
       "    <tr>\n",
       "      <th>1</th>\n",
       "      <td>Akshara Bendre</td>\n",
       "      <td>4500</td>\n",
       "    </tr>\n",
       "    <tr>\n",
       "      <th>2</th>\n",
       "      <td>Atharva Bendre</td>\n",
       "      <td>3600</td>\n",
       "    </tr>\n",
       "    <tr>\n",
       "      <th>3</th>\n",
       "      <td>Poornima Bendre</td>\n",
       "      <td>5596</td>\n",
       "    </tr>\n",
       "    <tr>\n",
       "      <th>4</th>\n",
       "      <td>Shashikanth Bendre</td>\n",
       "      <td>6785</td>\n",
       "    </tr>\n",
       "  </tbody>\n",
       "</table>\n",
       "</div>"
      ],
      "text/plain": [
       "                 Name  Salary\n",
       "0    Vidyadhar Bendre    3200\n",
       "1      Akshara Bendre    4500\n",
       "2      Atharva Bendre    3600\n",
       "3     Poornima Bendre    5596\n",
       "4  Shashikanth Bendre    6785"
      ]
     },
     "execution_count": 10,
     "metadata": {},
     "output_type": "execute_result"
    }
   ],
   "source": [
    "df.head()"
   ]
  },
  {
   "cell_type": "code",
   "execution_count": 11,
   "metadata": {},
   "outputs": [
    {
     "data": {
      "text/html": [
       "<div>\n",
       "<style scoped>\n",
       "    .dataframe tbody tr th:only-of-type {\n",
       "        vertical-align: middle;\n",
       "    }\n",
       "\n",
       "    .dataframe tbody tr th {\n",
       "        vertical-align: top;\n",
       "    }\n",
       "\n",
       "    .dataframe thead th {\n",
       "        text-align: right;\n",
       "    }\n",
       "</style>\n",
       "<table border=\"1\" class=\"dataframe\">\n",
       "  <thead>\n",
       "    <tr style=\"text-align: right;\">\n",
       "      <th></th>\n",
       "      <th>Name</th>\n",
       "      <th>Salary</th>\n",
       "    </tr>\n",
       "  </thead>\n",
       "  <tbody>\n",
       "    <tr>\n",
       "      <th>4</th>\n",
       "      <td>Shashikanth Bendre</td>\n",
       "      <td>6785</td>\n",
       "    </tr>\n",
       "    <tr>\n",
       "      <th>5</th>\n",
       "      <td>Meena Bendre</td>\n",
       "      <td>6754</td>\n",
       "    </tr>\n",
       "    <tr>\n",
       "      <th>6</th>\n",
       "      <td>Vivek Bendre</td>\n",
       "      <td>7865</td>\n",
       "    </tr>\n",
       "    <tr>\n",
       "      <th>7</th>\n",
       "      <td>Veena Bendre</td>\n",
       "      <td>1234</td>\n",
       "    </tr>\n",
       "    <tr>\n",
       "      <th>8</th>\n",
       "      <td>Vijay Bendre</td>\n",
       "      <td>8907</td>\n",
       "    </tr>\n",
       "  </tbody>\n",
       "</table>\n",
       "</div>"
      ],
      "text/plain": [
       "                 Name  Salary\n",
       "4  Shashikanth Bendre    6785\n",
       "5        Meena Bendre    6754\n",
       "6        Vivek Bendre    7865\n",
       "7        Veena Bendre    1234\n",
       "8        Vijay Bendre    8907"
      ]
     },
     "execution_count": 11,
     "metadata": {},
     "output_type": "execute_result"
    }
   ],
   "source": [
    "df.tail()"
   ]
  },
  {
   "cell_type": "code",
   "execution_count": 89,
   "metadata": {},
   "outputs": [
    {
     "data": {
      "text/html": [
       "<div>\n",
       "<style scoped>\n",
       "    .dataframe tbody tr th:only-of-type {\n",
       "        vertical-align: middle;\n",
       "    }\n",
       "\n",
       "    .dataframe tbody tr th {\n",
       "        vertical-align: top;\n",
       "    }\n",
       "\n",
       "    .dataframe thead th {\n",
       "        text-align: right;\n",
       "    }\n",
       "</style>\n",
       "<table border=\"1\" class=\"dataframe\">\n",
       "  <thead>\n",
       "    <tr style=\"text-align: right;\">\n",
       "      <th></th>\n",
       "      <th>Name</th>\n",
       "      <th>Salary</th>\n",
       "    </tr>\n",
       "  </thead>\n",
       "  <tbody>\n",
       "    <tr>\n",
       "      <th>0</th>\n",
       "      <td>Shreyas M</td>\n",
       "      <td>8989</td>\n",
       "    </tr>\n",
       "    <tr>\n",
       "      <th>1</th>\n",
       "      <td>LokRanjan Sri</td>\n",
       "      <td>9890</td>\n",
       "    </tr>\n",
       "    <tr>\n",
       "      <th>2</th>\n",
       "      <td>Harshvardhan Kaiwar</td>\n",
       "      <td>7689</td>\n",
       "    </tr>\n",
       "    <tr>\n",
       "      <th>3</th>\n",
       "      <td>Kharanshu Sharma</td>\n",
       "      <td>9898</td>\n",
       "    </tr>\n",
       "    <tr>\n",
       "      <th>4</th>\n",
       "      <td>Sakshi Bendre</td>\n",
       "      <td>8767</td>\n",
       "    </tr>\n",
       "    <tr>\n",
       "      <th>5</th>\n",
       "      <td>Surakha Mandi</td>\n",
       "      <td>8907</td>\n",
       "    </tr>\n",
       "    <tr>\n",
       "      <th>6</th>\n",
       "      <td>Surabhi Kulkarni</td>\n",
       "      <td>7869</td>\n",
       "    </tr>\n",
       "  </tbody>\n",
       "</table>\n",
       "</div>"
      ],
      "text/plain": [
       "                  Name  Salary\n",
       "0            Shreyas M    8989\n",
       "1        LokRanjan Sri    9890\n",
       "2  Harshvardhan Kaiwar    7689\n",
       "3     Kharanshu Sharma    9898\n",
       "4        Sakshi Bendre    8767\n",
       "5        Surakha Mandi    8907\n",
       "6     Surabhi Kulkarni    7869"
      ]
     },
     "execution_count": 89,
     "metadata": {},
     "output_type": "execute_result"
    }
   ],
   "source": [
    "df = pd.DataFrame({\"Name\": ['Shreyas M', 'LokRanjan Sri', 'Harshvardhan Kaiwar', 'Kharanshu Sharma', 'Sakshi Bendre', 'Surakha Mandi', 'Surabhi Kulkarni'], \n",
    "\"Salary\": [8989, 9890, 7689, 9898, 8767, 8907, 7869]})\n",
    "df"
   ]
  },
  {
   "cell_type": "code",
   "execution_count": 90,
   "metadata": {},
   "outputs": [
    {
     "data": {
      "text/plain": [
       "Index(['Name', 'Salary'], dtype='object')"
      ]
     },
     "execution_count": 90,
     "metadata": {},
     "output_type": "execute_result"
    }
   ],
   "source": [
    "df.columns"
   ]
  },
  {
   "cell_type": "code",
   "execution_count": 92,
   "metadata": {},
   "outputs": [
    {
     "data": {
      "text/html": [
       "<div>\n",
       "<style scoped>\n",
       "    .dataframe tbody tr th:only-of-type {\n",
       "        vertical-align: middle;\n",
       "    }\n",
       "\n",
       "    .dataframe tbody tr th {\n",
       "        vertical-align: top;\n",
       "    }\n",
       "\n",
       "    .dataframe thead th {\n",
       "        text-align: right;\n",
       "    }\n",
       "</style>\n",
       "<table border=\"1\" class=\"dataframe\">\n",
       "  <thead>\n",
       "    <tr style=\"text-align: right;\">\n",
       "      <th></th>\n",
       "      <th>Name</th>\n",
       "      <th>Salary</th>\n",
       "    </tr>\n",
       "  </thead>\n",
       "  <tbody>\n",
       "    <tr>\n",
       "      <th>0</th>\n",
       "      <td>Shreyas M</td>\n",
       "      <td>8989</td>\n",
       "    </tr>\n",
       "    <tr>\n",
       "      <th>1</th>\n",
       "      <td>LokRanjan Sri</td>\n",
       "      <td>9890</td>\n",
       "    </tr>\n",
       "    <tr>\n",
       "      <th>2</th>\n",
       "      <td>Harshvardhan Kaiwar</td>\n",
       "      <td>7689</td>\n",
       "    </tr>\n",
       "    <tr>\n",
       "      <th>3</th>\n",
       "      <td>Kharanshu Sharma</td>\n",
       "      <td>9898</td>\n",
       "    </tr>\n",
       "    <tr>\n",
       "      <th>4</th>\n",
       "      <td>Sakshi Bendre</td>\n",
       "      <td>8767</td>\n",
       "    </tr>\n",
       "    <tr>\n",
       "      <th>5</th>\n",
       "      <td>Surakha Mandi</td>\n",
       "      <td>8907</td>\n",
       "    </tr>\n",
       "    <tr>\n",
       "      <th>6</th>\n",
       "      <td>Surabhi Kulkarni</td>\n",
       "      <td>7869</td>\n",
       "    </tr>\n",
       "  </tbody>\n",
       "</table>\n",
       "</div>"
      ],
      "text/plain": [
       "                  Name  Salary\n",
       "0            Shreyas M    8989\n",
       "1        LokRanjan Sri    9890\n",
       "2  Harshvardhan Kaiwar    7689\n",
       "3     Kharanshu Sharma    9898\n",
       "4        Sakshi Bendre    8767\n",
       "5        Surakha Mandi    8907\n",
       "6     Surabhi Kulkarni    7869"
      ]
     },
     "execution_count": 92,
     "metadata": {},
     "output_type": "execute_result"
    }
   ],
   "source": [
    "df"
   ]
  },
  {
   "cell_type": "code",
   "execution_count": 93,
   "metadata": {},
   "outputs": [
    {
     "data": {
      "text/plain": [
       "0              [Shreyas, M]\n",
       "1          [LokRanjan, Sri]\n",
       "2    [Harshvardhan, Kaiwar]\n",
       "3       [Kharanshu, Sharma]\n",
       "4          [Sakshi, Bendre]\n",
       "5          [Surakha, Mandi]\n",
       "6       [Surabhi, Kulkarni]\n",
       "Name: Name, dtype: object"
      ]
     },
     "execution_count": 93,
     "metadata": {},
     "output_type": "execute_result"
    }
   ],
   "source": [
    "df.Name.str.split()"
   ]
  },
  {
   "cell_type": "code",
   "execution_count": 95,
   "metadata": {},
   "outputs": [
    {
     "data": {
      "text/html": [
       "<div>\n",
       "<style scoped>\n",
       "    .dataframe tbody tr th:only-of-type {\n",
       "        vertical-align: middle;\n",
       "    }\n",
       "\n",
       "    .dataframe tbody tr th {\n",
       "        vertical-align: top;\n",
       "    }\n",
       "\n",
       "    .dataframe thead th {\n",
       "        text-align: right;\n",
       "    }\n",
       "</style>\n",
       "<table border=\"1\" class=\"dataframe\">\n",
       "  <thead>\n",
       "    <tr style=\"text-align: right;\">\n",
       "      <th></th>\n",
       "      <th>Name</th>\n",
       "      <th>Salary</th>\n",
       "      <th>First_Name</th>\n",
       "      <th>Last_Name</th>\n",
       "    </tr>\n",
       "  </thead>\n",
       "  <tbody>\n",
       "    <tr>\n",
       "      <th>0</th>\n",
       "      <td>Shreyas M</td>\n",
       "      <td>8989</td>\n",
       "      <td>Shreyas</td>\n",
       "      <td>M</td>\n",
       "    </tr>\n",
       "    <tr>\n",
       "      <th>1</th>\n",
       "      <td>LokRanjan Sri</td>\n",
       "      <td>9890</td>\n",
       "      <td>LokRanjan</td>\n",
       "      <td>Sri</td>\n",
       "    </tr>\n",
       "    <tr>\n",
       "      <th>2</th>\n",
       "      <td>Harshvardhan Kaiwar</td>\n",
       "      <td>7689</td>\n",
       "      <td>Harshvardhan</td>\n",
       "      <td>Kaiwar</td>\n",
       "    </tr>\n",
       "    <tr>\n",
       "      <th>3</th>\n",
       "      <td>Kharanshu Sharma</td>\n",
       "      <td>9898</td>\n",
       "      <td>Kharanshu</td>\n",
       "      <td>Sharma</td>\n",
       "    </tr>\n",
       "    <tr>\n",
       "      <th>4</th>\n",
       "      <td>Sakshi Bendre</td>\n",
       "      <td>8767</td>\n",
       "      <td>Sakshi</td>\n",
       "      <td>Bendre</td>\n",
       "    </tr>\n",
       "    <tr>\n",
       "      <th>5</th>\n",
       "      <td>Surakha Mandi</td>\n",
       "      <td>8907</td>\n",
       "      <td>Surakha</td>\n",
       "      <td>Mandi</td>\n",
       "    </tr>\n",
       "    <tr>\n",
       "      <th>6</th>\n",
       "      <td>Surabhi Kulkarni</td>\n",
       "      <td>7869</td>\n",
       "      <td>Surabhi</td>\n",
       "      <td>Kulkarni</td>\n",
       "    </tr>\n",
       "  </tbody>\n",
       "</table>\n",
       "</div>"
      ],
      "text/plain": [
       "                  Name  Salary    First_Name Last_Name\n",
       "0            Shreyas M    8989       Shreyas         M\n",
       "1        LokRanjan Sri    9890     LokRanjan       Sri\n",
       "2  Harshvardhan Kaiwar    7689  Harshvardhan    Kaiwar\n",
       "3     Kharanshu Sharma    9898     Kharanshu    Sharma\n",
       "4        Sakshi Bendre    8767        Sakshi    Bendre\n",
       "5        Surakha Mandi    8907       Surakha     Mandi\n",
       "6     Surabhi Kulkarni    7869       Surabhi  Kulkarni"
      ]
     },
     "execution_count": 95,
     "metadata": {},
     "output_type": "execute_result"
    }
   ],
   "source": [
    "df[['First_Name', 'Last_Name']] = df.Name.str.split(expand=True)\n",
    "df"
   ]
  },
  {
   "cell_type": "code",
   "execution_count": 86,
   "metadata": {},
   "outputs": [
    {
     "data": {
      "text/plain": [
       "0    8989\n",
       "1    9890\n",
       "2    7689\n",
       "3    9898\n",
       "4    8767\n",
       "5    8907\n",
       "6    7869\n",
       "Name: Salary, dtype: int64"
      ]
     },
     "execution_count": 86,
     "metadata": {},
     "output_type": "execute_result"
    }
   ],
   "source": [
    "df.Salary"
   ]
  },
  {
   "cell_type": "code",
   "execution_count": 12,
   "metadata": {
    "colab": {},
    "colab_type": "code",
    "id": "LWUTgKEFRbUT"
   },
   "outputs": [
    {
     "data": {
      "text/html": [
       "<div>\n",
       "<style scoped>\n",
       "    .dataframe tbody tr th:only-of-type {\n",
       "        vertical-align: middle;\n",
       "    }\n",
       "\n",
       "    .dataframe tbody tr th {\n",
       "        vertical-align: top;\n",
       "    }\n",
       "\n",
       "    .dataframe thead th {\n",
       "        text-align: right;\n",
       "    }\n",
       "</style>\n",
       "<table border=\"1\" class=\"dataframe\">\n",
       "  <thead>\n",
       "    <tr style=\"text-align: right;\">\n",
       "      <th></th>\n",
       "      <th>Name</th>\n",
       "      <th>Salary</th>\n",
       "      <th>First</th>\n",
       "      <th>Last</th>\n",
       "    </tr>\n",
       "  </thead>\n",
       "  <tbody>\n",
       "    <tr>\n",
       "      <th>0</th>\n",
       "      <td>Vidyadhar Bendre</td>\n",
       "      <td>3200</td>\n",
       "      <td>Vidyadhar</td>\n",
       "      <td>Bendre</td>\n",
       "    </tr>\n",
       "    <tr>\n",
       "      <th>1</th>\n",
       "      <td>Akshara Bendre</td>\n",
       "      <td>4500</td>\n",
       "      <td>Akshara</td>\n",
       "      <td>Bendre</td>\n",
       "    </tr>\n",
       "    <tr>\n",
       "      <th>2</th>\n",
       "      <td>Atharva Bendre</td>\n",
       "      <td>3600</td>\n",
       "      <td>Atharva</td>\n",
       "      <td>Bendre</td>\n",
       "    </tr>\n",
       "    <tr>\n",
       "      <th>3</th>\n",
       "      <td>Poornima Bendre</td>\n",
       "      <td>5596</td>\n",
       "      <td>Poornima</td>\n",
       "      <td>Bendre</td>\n",
       "    </tr>\n",
       "    <tr>\n",
       "      <th>4</th>\n",
       "      <td>Shashikanth Bendre</td>\n",
       "      <td>6785</td>\n",
       "      <td>Shashikanth</td>\n",
       "      <td>Bendre</td>\n",
       "    </tr>\n",
       "    <tr>\n",
       "      <th>5</th>\n",
       "      <td>Meena Bendre</td>\n",
       "      <td>6754</td>\n",
       "      <td>Meena</td>\n",
       "      <td>Bendre</td>\n",
       "    </tr>\n",
       "    <tr>\n",
       "      <th>6</th>\n",
       "      <td>Vivek Bendre</td>\n",
       "      <td>7865</td>\n",
       "      <td>Vivek</td>\n",
       "      <td>Bendre</td>\n",
       "    </tr>\n",
       "    <tr>\n",
       "      <th>7</th>\n",
       "      <td>Veena Bendre</td>\n",
       "      <td>1234</td>\n",
       "      <td>Veena</td>\n",
       "      <td>Bendre</td>\n",
       "    </tr>\n",
       "    <tr>\n",
       "      <th>8</th>\n",
       "      <td>Vijay Bendre</td>\n",
       "      <td>8907</td>\n",
       "      <td>Vijay</td>\n",
       "      <td>Bendre</td>\n",
       "    </tr>\n",
       "  </tbody>\n",
       "</table>\n",
       "</div>"
      ],
      "text/plain": [
       "                 Name  Salary        First    Last\n",
       "0    Vidyadhar Bendre    3200    Vidyadhar  Bendre\n",
       "1      Akshara Bendre    4500      Akshara  Bendre\n",
       "2      Atharva Bendre    3600      Atharva  Bendre\n",
       "3     Poornima Bendre    5596     Poornima  Bendre\n",
       "4  Shashikanth Bendre    6785  Shashikanth  Bendre\n",
       "5        Meena Bendre    6754        Meena  Bendre\n",
       "6        Vivek Bendre    7865        Vivek  Bendre\n",
       "7        Veena Bendre    1234        Veena  Bendre\n",
       "8        Vijay Bendre    8907        Vijay  Bendre"
      ]
     },
     "execution_count": 12,
     "metadata": {},
     "output_type": "execute_result"
    }
   ],
   "source": [
    "df[['First','Last']] = df.Name.str.split(expand=True)\n",
    "df\n",
    "\n",
    "\n",
    "\n",
    "\n",
    "#df['Name'] = df['Name'].str.split(' ')\n",
    "\n",
    "\n",
    "#split_name = df['Name'].str.split(' ')\n",
    "#data = split_name.to_list()\n",
    "#names = ['First Name', 'Last Name']\n",
    "#new_df = pd.DataFrame(data, columns=names)\n",
    "#new_df\n",
    "\n",
    "\n"
   ]
  },
  {
   "cell_type": "markdown",
   "metadata": {
    "colab_type": "text",
    "id": "HGyoDvVpRbUV"
   },
   "source": [
    "<table align=\"left\">\n",
    "    <tr>\n",
    "        <td width=\"6%\">\n",
    "            <img src=\"../images/RA_Logo.png\">\n",
    "        </td>\n",
    "        <td>\n",
    "            <div align=\"left\", style=\"font-size:120%\">\n",
    "                <font color=\"#21618C\">\n",
    "                    <b>4. Select the rows from below data frame, whose marks is less than 60 <b>\n",
    "                </font>\n",
    "            </div>\n",
    "        </td>\n",
    "    </tr>\n",
    "</table>"
   ]
  },
  {
   "cell_type": "markdown",
   "metadata": {
    "colab_type": "text",
    "id": "lQckGX2aRbUW"
   },
   "source": [
    "**Use the below data frame:**<br>\n",
    "df_student = pd.DataFrame({'Name': ['Vidyadhar', 'Poornima', 'Atharva', 'Akshara'],<br>\n",
    "                           'Marks': [90, 50, 89, 55]<br>\n",
    "})"
   ]
  },
  {
   "cell_type": "code",
   "execution_count": 13,
   "metadata": {},
   "outputs": [],
   "source": [
    "# write your code here\n",
    "import pandas as pd"
   ]
  },
  {
   "cell_type": "code",
   "execution_count": 14,
   "metadata": {},
   "outputs": [
    {
     "data": {
      "text/html": [
       "<div>\n",
       "<style scoped>\n",
       "    .dataframe tbody tr th:only-of-type {\n",
       "        vertical-align: middle;\n",
       "    }\n",
       "\n",
       "    .dataframe tbody tr th {\n",
       "        vertical-align: top;\n",
       "    }\n",
       "\n",
       "    .dataframe thead th {\n",
       "        text-align: right;\n",
       "    }\n",
       "</style>\n",
       "<table border=\"1\" class=\"dataframe\">\n",
       "  <thead>\n",
       "    <tr style=\"text-align: right;\">\n",
       "      <th></th>\n",
       "      <th>Name</th>\n",
       "      <th>Marks</th>\n",
       "    </tr>\n",
       "  </thead>\n",
       "  <tbody>\n",
       "    <tr>\n",
       "      <th>0</th>\n",
       "      <td>Vidyadhar</td>\n",
       "      <td>90</td>\n",
       "    </tr>\n",
       "    <tr>\n",
       "      <th>1</th>\n",
       "      <td>Poornima</td>\n",
       "      <td>50</td>\n",
       "    </tr>\n",
       "    <tr>\n",
       "      <th>2</th>\n",
       "      <td>Atharva</td>\n",
       "      <td>89</td>\n",
       "    </tr>\n",
       "    <tr>\n",
       "      <th>3</th>\n",
       "      <td>Akshara</td>\n",
       "      <td>55</td>\n",
       "    </tr>\n",
       "  </tbody>\n",
       "</table>\n",
       "</div>"
      ],
      "text/plain": [
       "        Name  Marks\n",
       "0  Vidyadhar     90\n",
       "1   Poornima     50\n",
       "2    Atharva     89\n",
       "3    Akshara     55"
      ]
     },
     "execution_count": 14,
     "metadata": {},
     "output_type": "execute_result"
    }
   ],
   "source": [
    "pd.DataFrame({'Name': ['Vidyadhar', 'Poornima', 'Atharva', 'Akshara'],\n",
    "'Marks': [90, 50, 89, 55]\n",
    "})"
   ]
  },
  {
   "cell_type": "code",
   "execution_count": 15,
   "metadata": {
    "colab": {},
    "colab_type": "code",
    "id": "soCBDp1aRbUW"
   },
   "outputs": [],
   "source": [
    "df_student = pd.DataFrame({'Name': ['Vidyadhar', 'Poornima', 'Atharva', 'Akshara'],\n",
    "'Marks': [90, 50, 89, 55]\n",
    "})"
   ]
  },
  {
   "cell_type": "code",
   "execution_count": 16,
   "metadata": {},
   "outputs": [
    {
     "data": {
      "text/html": [
       "<div>\n",
       "<style scoped>\n",
       "    .dataframe tbody tr th:only-of-type {\n",
       "        vertical-align: middle;\n",
       "    }\n",
       "\n",
       "    .dataframe tbody tr th {\n",
       "        vertical-align: top;\n",
       "    }\n",
       "\n",
       "    .dataframe thead th {\n",
       "        text-align: right;\n",
       "    }\n",
       "</style>\n",
       "<table border=\"1\" class=\"dataframe\">\n",
       "  <thead>\n",
       "    <tr style=\"text-align: right;\">\n",
       "      <th></th>\n",
       "      <th>Name</th>\n",
       "      <th>Marks</th>\n",
       "    </tr>\n",
       "  </thead>\n",
       "  <tbody>\n",
       "    <tr>\n",
       "      <th>0</th>\n",
       "      <td>Vidyadhar</td>\n",
       "      <td>90</td>\n",
       "    </tr>\n",
       "  </tbody>\n",
       "</table>\n",
       "</div>"
      ],
      "text/plain": [
       "        Name  Marks\n",
       "0  Vidyadhar     90"
      ]
     },
     "execution_count": 16,
     "metadata": {},
     "output_type": "execute_result"
    }
   ],
   "source": [
    "df_student[df_student.Marks >= 90]"
   ]
  },
  {
   "cell_type": "code",
   "execution_count": 17,
   "metadata": {},
   "outputs": [
    {
     "data": {
      "text/plain": [
       "71.0"
      ]
     },
     "execution_count": 17,
     "metadata": {},
     "output_type": "execute_result"
    }
   ],
   "source": [
    "df_student.Marks.mean()"
   ]
  },
  {
   "cell_type": "markdown",
   "metadata": {
    "colab_type": "text",
    "id": "MS4YsBkTRbUZ"
   },
   "source": [
    "<table align=\"left\">\n",
    "    <tr>\n",
    "        <td width=\"6%\">\n",
    "            <img src=\"../images/RA_Logo.png\">\n",
    "        </td>\n",
    "        <td>\n",
    "            <div align=\"left\", style=\"font-size:120%\">\n",
    "                <font color=\"#21618C\">\n",
    "                    <b>5. Write a program to select the rows, where the sales are greater than 60000 for Mumbai location <b>\n",
    "                </font>\n",
    "            </div>\n",
    "        </td>\n",
    "    </tr>\n",
    "</table>"
   ]
  },
  {
   "cell_type": "markdown",
   "metadata": {
    "colab_type": "text",
    "id": "P2PxI8JwRbUa"
   },
   "source": [
    "**Use the below dataframe:**<br>\n",
    "df_store = pd.DataFrame({'Store': ['A', 'B', 'A', 'C', 'D', 'A', 'D', 'A', 'C', 'B'],<br>\n",
    "                         'Location': ['Mumbai', 'Pune', 'Hyderabad', 'Mumbai', 'Pune', 'Delhi', 'Hyderabad', 'Pune',<br>\n",
    "                         'Mumbai', 'Pune'],<br>\n",
    "                         'Sales': [40000, 45600, 56000, 90000, 89000, 87000, 85000, 78000, 89000, 70000]<br>\n",
    "})"
   ]
  },
  {
   "cell_type": "code",
   "execution_count": 18,
   "metadata": {
    "colab": {},
    "colab_type": "code",
    "id": "-ykN_9y8RbUa"
   },
   "outputs": [
    {
     "data": {
      "text/html": [
       "<div>\n",
       "<style scoped>\n",
       "    .dataframe tbody tr th:only-of-type {\n",
       "        vertical-align: middle;\n",
       "    }\n",
       "\n",
       "    .dataframe tbody tr th {\n",
       "        vertical-align: top;\n",
       "    }\n",
       "\n",
       "    .dataframe thead th {\n",
       "        text-align: right;\n",
       "    }\n",
       "</style>\n",
       "<table border=\"1\" class=\"dataframe\">\n",
       "  <thead>\n",
       "    <tr style=\"text-align: right;\">\n",
       "      <th></th>\n",
       "      <th>Store</th>\n",
       "      <th>Location</th>\n",
       "      <th>Sales</th>\n",
       "    </tr>\n",
       "  </thead>\n",
       "  <tbody>\n",
       "    <tr>\n",
       "      <th>3</th>\n",
       "      <td>C</td>\n",
       "      <td>Mumbai</td>\n",
       "      <td>90000</td>\n",
       "    </tr>\n",
       "    <tr>\n",
       "      <th>8</th>\n",
       "      <td>C</td>\n",
       "      <td>Mumbai</td>\n",
       "      <td>89000</td>\n",
       "    </tr>\n",
       "  </tbody>\n",
       "</table>\n",
       "</div>"
      ],
      "text/plain": [
       "  Store Location  Sales\n",
       "3     C   Mumbai  90000\n",
       "8     C   Mumbai  89000"
      ]
     },
     "execution_count": 18,
     "metadata": {},
     "output_type": "execute_result"
    }
   ],
   "source": [
    "# write your code here\n",
    "\n",
    "df_store = pd.DataFrame({'Store': ['A', 'B', 'A', 'C', 'D', 'A', 'D', 'A', 'C', 'B'],\n",
    "'Location': ['Mumbai', 'Pune', 'Hyderabad', 'Mumbai', 'Pune', 'Delhi', 'Hyderabad', 'Pune',\n",
    "'Mumbai', 'Pune'],\n",
    "'Sales': [40000, 45600, 56000, 90000, 89000, 87000, 85000, 78000, 89000, 70000]\n",
    "})\n",
    "\n",
    "df_store[ (df_store.Sales > 60000) &  (df_store.Location == 'Mumbai')]\n",
    "\n"
   ]
  },
  {
   "cell_type": "code",
   "execution_count": 93,
   "metadata": {},
   "outputs": [
    {
     "name": "stdout",
     "output_type": "stream",
     "text": [
      "total 4560\r\n",
      "drwxr-xr-x  16 vidyadharbendre  staff     512 Mar 13 07:54 \u001b[34m.\u001b[m\u001b[m\r\n",
      "drwxr-xr-x   8 vidyadharbendre  staff     256 May 28  2024 \u001b[34m..\u001b[m\u001b[m\r\n",
      "-rw-r--r--@  1 vidyadharbendre  staff    8196 Mar  8 08:41 .DS_Store\r\n",
      "drwxr-xr-x  11 vidyadharbendre  staff     352 Jul 22  2024 \u001b[34m.ipynb_checkpoints\u001b[m\u001b[m\r\n",
      "-rw-r--r--@  1 vidyadharbendre  staff  237793 May 19  2024 1600px-Sunflower_from_Silesia2.jpg\r\n",
      "-rw-r--r--@  1 vidyadharbendre  staff   25225 Jul 20  2024 Additional_Examples.ipynb\r\n",
      "drwxr-xr-x   4 vidyadharbendre  staff     128 Jul  2  2024 \u001b[34mLeetCode_Examples\u001b[m\u001b[m\r\n",
      "-rw-rw-r--@  1 vidyadharbendre  staff     377 Jan  6  2020 Supermarket.csv\r\n",
      "-rw-------@  1 vidyadharbendre  staff  323787 Mar 10 07:00 advanced_python_programming_1.ipynb\r\n",
      "-rw-r--r--@  1 vidyadharbendre  staff  121123 Mar 13 07:54 advanced_python_programming_2.ipynb\r\n",
      "-rw-------@  1 vidyadharbendre  staff  143127 Mar 11 06:31 advanced_python_programming_3.ipynb\r\n",
      "-rw-------@  1 vidyadharbendre  staff  949497 Jul 20  2024 advanced_python_programming_4.ipynb\r\n",
      "-rw-r--r--   1 vidyadharbendre  staff     189 May  8  2024 df_store.csv\r\n",
      "-rw-r--r--@  1 vidyadharbendre  staff    1007 Jul 22  2024 generate_secrete_key.ipynb\r\n",
      "-rw-r--r--@  1 vidyadharbendre  staff  129251 Jul 20  2024 gradient_descent.ipynb\r\n",
      "-rw-r--r--@  1 vidyadharbendre  staff  362861 Jul 20  2024 numpy_edge_detection.ipynb\r\n"
     ]
    }
   ],
   "source": [
    "!ls -la"
   ]
  },
  {
   "cell_type": "code",
   "execution_count": 94,
   "metadata": {},
   "outputs": [],
   "source": [
    "#File Based DataFrames (csv - comma separated, excel, json files, html files)"
   ]
  },
  {
   "cell_type": "code",
   "execution_count": 23,
   "metadata": {},
   "outputs": [],
   "source": [
    "import pandas as pd"
   ]
  },
  {
   "cell_type": "code",
   "execution_count": 96,
   "metadata": {},
   "outputs": [
    {
     "name": "stdout",
     "output_type": "stream",
     "text": [
      "zsh:1: command not found: dir\r\n"
     ]
    }
   ],
   "source": [
    "# This is to show the all the files exists\n",
    "!dir"
   ]
  },
  {
   "cell_type": "code",
   "execution_count": 98,
   "metadata": {},
   "outputs": [
    {
     "data": {
      "text/plain": [
       "'/Users/vidyadharbendre/workspace/advanced_python/learn_advanced_python_using_examples/notebooks/Advanced'"
      ]
     },
     "execution_count": 98,
     "metadata": {},
     "output_type": "execute_result"
    }
   ],
   "source": [
    "import os\n",
    "os.getcwd()"
   ]
  },
  {
   "cell_type": "code",
   "execution_count": 98,
   "metadata": {},
   "outputs": [
    {
     "name": "stdout",
     "output_type": "stream",
     "text": [
      "1600px-Sunflower_from_Silesia2.jpg  advanced_python_programming_4.ipynb\r\n",
      "Additional_Examples.ipynb           df_store.csv\r\n",
      "\u001b[34mLeetCode_Examples\u001b[m\u001b[m                   generate_secrete_key.ipynb\r\n",
      "Supermarket.csv                     gradient_descent.ipynb\r\n",
      "advanced_python_programming_1.ipynb numpy_edge_detection.ipynb\r\n",
      "advanced_python_programming_2.ipynb stock.csv\r\n",
      "advanced_python_programming_3.ipynb\r\n"
     ]
    }
   ],
   "source": [
    "!ls"
   ]
  },
  {
   "cell_type": "markdown",
   "metadata": {},
   "source": [
    "stock.csv"
   ]
  },
  {
   "cell_type": "markdown",
   "metadata": {},
   "source": [
    "Vol,Rev,Exp,Sector,EmpCnt,HQ,MNC,StockID,GST,Start Date\n",
    "TCS_Solutions,980,950.3,700,Pub,500000,Mum,1,TCS,18,Apr 2004\n",
    "Infosys_Tech,970,930.8,690,Pvt,346000,Blr,1,INFY,12,Jul 1999\n",
    "Wipro_Services,960,890.5,680,Pub,250000,Blr,1,WIPR,5,Dec 2002\n",
    "HCL_Tech,950,870.4,670,Pvt,225000,NCR,1,HCLT,5,Aug 2007\n",
    "TechMahindra,940,850.2,665,Pub,146000,Pun,1,TMAH,12,Mar 2009\n",
    "LT_Infotech,920,820.6,655,Gov,92000,Mum,1,LTI,18,Dec 2016\n",
    "Mindtree_Ltd,910,810.8,650,Pvt,38000,Blr,1,MIND,18,Jan 2018\n",
    "Cognizant_India,995,940.7,710,Pub,355000,Chn,1,COGN,12,May 2019\n",
    "Mphasis_Ltd,925,830.5,675,Pvt,38000,Blr,1,MPHS,5,Sep 2020\n",
    "Persistent_Systems,945,845.2,685,Gov,25000,Pun,0,PRST,5,Apr 2021"
   ]
  },
  {
   "cell_type": "code",
   "execution_count": 101,
   "metadata": {},
   "outputs": [
    {
     "name": "stdout",
     "output_type": "stream",
     "text": [
      "zsh:1: command not found: dir\r\n"
     ]
    }
   ],
   "source": [
    "#For Windows OS\n",
    "!dir stock.csv"
   ]
  },
  {
   "cell_type": "code",
   "execution_count": 103,
   "metadata": {},
   "outputs": [
    {
     "name": "stdout",
     "output_type": "stream",
     "text": [
      "-rw-r--r--@ 1 vidyadharbendre  staff  662 Mar 14 09:03 stock.csv\r\n"
     ]
    }
   ],
   "source": [
    "#For unix or linux (iOS or Linux OS)\n",
    "!ls -la stock.csv"
   ]
  },
  {
   "cell_type": "code",
   "execution_count": 106,
   "metadata": {},
   "outputs": [
    {
     "data": {
      "text/html": [
       "<div>\n",
       "<style scoped>\n",
       "    .dataframe tbody tr th:only-of-type {\n",
       "        vertical-align: middle;\n",
       "    }\n",
       "\n",
       "    .dataframe tbody tr th {\n",
       "        vertical-align: top;\n",
       "    }\n",
       "\n",
       "    .dataframe thead th {\n",
       "        text-align: right;\n",
       "    }\n",
       "</style>\n",
       "<table border=\"1\" class=\"dataframe\">\n",
       "  <thead>\n",
       "    <tr style=\"text-align: right;\">\n",
       "      <th></th>\n",
       "      <th>Vol</th>\n",
       "      <th>Rev</th>\n",
       "      <th>Exp</th>\n",
       "      <th>Sector</th>\n",
       "      <th>EmpCnt</th>\n",
       "      <th>HQ</th>\n",
       "      <th>MNC</th>\n",
       "      <th>StockID</th>\n",
       "      <th>GST</th>\n",
       "      <th>Start Date</th>\n",
       "    </tr>\n",
       "  </thead>\n",
       "  <tbody>\n",
       "    <tr>\n",
       "      <th>TCS_Solutions</th>\n",
       "      <td>980</td>\n",
       "      <td>950.3</td>\n",
       "      <td>700</td>\n",
       "      <td>Pub</td>\n",
       "      <td>500000</td>\n",
       "      <td>Mum</td>\n",
       "      <td>1</td>\n",
       "      <td>TCS</td>\n",
       "      <td>18</td>\n",
       "      <td>Apr 2004</td>\n",
       "    </tr>\n",
       "    <tr>\n",
       "      <th>Infosys_Tech</th>\n",
       "      <td>970</td>\n",
       "      <td>930.8</td>\n",
       "      <td>690</td>\n",
       "      <td>Pvt</td>\n",
       "      <td>346000</td>\n",
       "      <td>Blr</td>\n",
       "      <td>1</td>\n",
       "      <td>INFY</td>\n",
       "      <td>12</td>\n",
       "      <td>Jul 1999</td>\n",
       "    </tr>\n",
       "    <tr>\n",
       "      <th>Wipro_Services</th>\n",
       "      <td>960</td>\n",
       "      <td>890.5</td>\n",
       "      <td>680</td>\n",
       "      <td>Pub</td>\n",
       "      <td>250000</td>\n",
       "      <td>Blr</td>\n",
       "      <td>1</td>\n",
       "      <td>WIPR</td>\n",
       "      <td>5</td>\n",
       "      <td>Dec 2002</td>\n",
       "    </tr>\n",
       "    <tr>\n",
       "      <th>HCL_Tech</th>\n",
       "      <td>950</td>\n",
       "      <td>870.4</td>\n",
       "      <td>670</td>\n",
       "      <td>Pvt</td>\n",
       "      <td>225000</td>\n",
       "      <td>NCR</td>\n",
       "      <td>1</td>\n",
       "      <td>HCLT</td>\n",
       "      <td>5</td>\n",
       "      <td>Aug 2007</td>\n",
       "    </tr>\n",
       "    <tr>\n",
       "      <th>TechMahindra</th>\n",
       "      <td>940</td>\n",
       "      <td>850.2</td>\n",
       "      <td>665</td>\n",
       "      <td>Pub</td>\n",
       "      <td>146000</td>\n",
       "      <td>Pun</td>\n",
       "      <td>1</td>\n",
       "      <td>TMAH</td>\n",
       "      <td>12</td>\n",
       "      <td>Mar 2009</td>\n",
       "    </tr>\n",
       "    <tr>\n",
       "      <th>LT_Infotech</th>\n",
       "      <td>920</td>\n",
       "      <td>820.6</td>\n",
       "      <td>655</td>\n",
       "      <td>Gov</td>\n",
       "      <td>92000</td>\n",
       "      <td>Mum</td>\n",
       "      <td>1</td>\n",
       "      <td>LTI</td>\n",
       "      <td>18</td>\n",
       "      <td>Dec 2016</td>\n",
       "    </tr>\n",
       "    <tr>\n",
       "      <th>Mindtree_Ltd</th>\n",
       "      <td>910</td>\n",
       "      <td>810.8</td>\n",
       "      <td>650</td>\n",
       "      <td>Pvt</td>\n",
       "      <td>38000</td>\n",
       "      <td>Blr</td>\n",
       "      <td>1</td>\n",
       "      <td>MIND</td>\n",
       "      <td>18</td>\n",
       "      <td>Jan 2018</td>\n",
       "    </tr>\n",
       "    <tr>\n",
       "      <th>Cognizant_India</th>\n",
       "      <td>995</td>\n",
       "      <td>940.7</td>\n",
       "      <td>710</td>\n",
       "      <td>Pub</td>\n",
       "      <td>355000</td>\n",
       "      <td>Chn</td>\n",
       "      <td>1</td>\n",
       "      <td>COGN</td>\n",
       "      <td>12</td>\n",
       "      <td>May 2019</td>\n",
       "    </tr>\n",
       "    <tr>\n",
       "      <th>Mphasis_Ltd</th>\n",
       "      <td>925</td>\n",
       "      <td>830.5</td>\n",
       "      <td>675</td>\n",
       "      <td>Pvt</td>\n",
       "      <td>38000</td>\n",
       "      <td>Blr</td>\n",
       "      <td>1</td>\n",
       "      <td>MPHS</td>\n",
       "      <td>5</td>\n",
       "      <td>Sep 2020</td>\n",
       "    </tr>\n",
       "    <tr>\n",
       "      <th>Persistent_Systems</th>\n",
       "      <td>945</td>\n",
       "      <td>845.2</td>\n",
       "      <td>685</td>\n",
       "      <td>Gov</td>\n",
       "      <td>25000</td>\n",
       "      <td>Pun</td>\n",
       "      <td>0</td>\n",
       "      <td>PRST</td>\n",
       "      <td>5</td>\n",
       "      <td>Apr 2021</td>\n",
       "    </tr>\n",
       "  </tbody>\n",
       "</table>\n",
       "</div>"
      ],
      "text/plain": [
       "                    Vol    Rev  Exp Sector  EmpCnt   HQ  MNC StockID  GST  \\\n",
       "TCS_Solutions       980  950.3  700    Pub  500000  Mum    1     TCS   18   \n",
       "Infosys_Tech        970  930.8  690    Pvt  346000  Blr    1    INFY   12   \n",
       "Wipro_Services      960  890.5  680    Pub  250000  Blr    1    WIPR    5   \n",
       "HCL_Tech            950  870.4  670    Pvt  225000  NCR    1    HCLT    5   \n",
       "TechMahindra        940  850.2  665    Pub  146000  Pun    1    TMAH   12   \n",
       "LT_Infotech         920  820.6  655    Gov   92000  Mum    1     LTI   18   \n",
       "Mindtree_Ltd        910  810.8  650    Pvt   38000  Blr    1    MIND   18   \n",
       "Cognizant_India     995  940.7  710    Pub  355000  Chn    1    COGN   12   \n",
       "Mphasis_Ltd         925  830.5  675    Pvt   38000  Blr    1    MPHS    5   \n",
       "Persistent_Systems  945  845.2  685    Gov   25000  Pun    0    PRST    5   \n",
       "\n",
       "                   Start Date  \n",
       "TCS_Solutions        Apr 2004  \n",
       "Infosys_Tech         Jul 1999  \n",
       "Wipro_Services       Dec 2002  \n",
       "HCL_Tech             Aug 2007  \n",
       "TechMahindra         Mar 2009  \n",
       "LT_Infotech          Dec 2016  \n",
       "Mindtree_Ltd         Jan 2018  \n",
       "Cognizant_India      May 2019  \n",
       "Mphasis_Ltd          Sep 2020  \n",
       "Persistent_Systems   Apr 2021  "
      ]
     },
     "execution_count": 106,
     "metadata": {},
     "output_type": "execute_result"
    }
   ],
   "source": [
    "df = pd.read_csv(\"stock.csv\")\n",
    "df"
   ]
  },
  {
   "cell_type": "code",
   "execution_count": 104,
   "metadata": {},
   "outputs": [
    {
     "data": {
      "text/html": [
       "<div>\n",
       "<style scoped>\n",
       "    .dataframe tbody tr th:only-of-type {\n",
       "        vertical-align: middle;\n",
       "    }\n",
       "\n",
       "    .dataframe tbody tr th {\n",
       "        vertical-align: top;\n",
       "    }\n",
       "\n",
       "    .dataframe thead th {\n",
       "        text-align: right;\n",
       "    }\n",
       "</style>\n",
       "<table border=\"1\" class=\"dataframe\">\n",
       "  <thead>\n",
       "    <tr style=\"text-align: right;\">\n",
       "      <th></th>\n",
       "      <th>Vol</th>\n",
       "      <th>Rev</th>\n",
       "      <th>Exp</th>\n",
       "      <th>Sector</th>\n",
       "      <th>EmpCnt</th>\n",
       "      <th>HQ</th>\n",
       "      <th>MNC</th>\n",
       "      <th>StockID</th>\n",
       "      <th>GST</th>\n",
       "      <th>Start Date</th>\n",
       "    </tr>\n",
       "  </thead>\n",
       "  <tbody>\n",
       "    <tr>\n",
       "      <th>TCS_Solutions</th>\n",
       "      <td>980</td>\n",
       "      <td>950.3</td>\n",
       "      <td>700</td>\n",
       "      <td>Pub</td>\n",
       "      <td>500000</td>\n",
       "      <td>Mum</td>\n",
       "      <td>1</td>\n",
       "      <td>TCS</td>\n",
       "      <td>18</td>\n",
       "      <td>Apr 2004</td>\n",
       "    </tr>\n",
       "    <tr>\n",
       "      <th>Infosys_Tech</th>\n",
       "      <td>970</td>\n",
       "      <td>930.8</td>\n",
       "      <td>690</td>\n",
       "      <td>Pvt</td>\n",
       "      <td>346000</td>\n",
       "      <td>Blr</td>\n",
       "      <td>1</td>\n",
       "      <td>INFY</td>\n",
       "      <td>12</td>\n",
       "      <td>Jul 1999</td>\n",
       "    </tr>\n",
       "    <tr>\n",
       "      <th>Wipro_Services</th>\n",
       "      <td>960</td>\n",
       "      <td>890.5</td>\n",
       "      <td>680</td>\n",
       "      <td>Pub</td>\n",
       "      <td>250000</td>\n",
       "      <td>Blr</td>\n",
       "      <td>1</td>\n",
       "      <td>WIPR</td>\n",
       "      <td>5</td>\n",
       "      <td>Dec 2002</td>\n",
       "    </tr>\n",
       "    <tr>\n",
       "      <th>HCL_Tech</th>\n",
       "      <td>950</td>\n",
       "      <td>870.4</td>\n",
       "      <td>670</td>\n",
       "      <td>Pvt</td>\n",
       "      <td>225000</td>\n",
       "      <td>NCR</td>\n",
       "      <td>1</td>\n",
       "      <td>HCLT</td>\n",
       "      <td>5</td>\n",
       "      <td>Aug 2007</td>\n",
       "    </tr>\n",
       "    <tr>\n",
       "      <th>TechMahindra</th>\n",
       "      <td>940</td>\n",
       "      <td>850.2</td>\n",
       "      <td>665</td>\n",
       "      <td>Pub</td>\n",
       "      <td>146000</td>\n",
       "      <td>Pun</td>\n",
       "      <td>1</td>\n",
       "      <td>TMAH</td>\n",
       "      <td>12</td>\n",
       "      <td>Mar 2009</td>\n",
       "    </tr>\n",
       "    <tr>\n",
       "      <th>LT_Infotech</th>\n",
       "      <td>920</td>\n",
       "      <td>820.6</td>\n",
       "      <td>655</td>\n",
       "      <td>Gov</td>\n",
       "      <td>92000</td>\n",
       "      <td>Mum</td>\n",
       "      <td>1</td>\n",
       "      <td>LTI</td>\n",
       "      <td>18</td>\n",
       "      <td>Dec 2016</td>\n",
       "    </tr>\n",
       "    <tr>\n",
       "      <th>Mindtree_Ltd</th>\n",
       "      <td>910</td>\n",
       "      <td>810.8</td>\n",
       "      <td>650</td>\n",
       "      <td>Pvt</td>\n",
       "      <td>38000</td>\n",
       "      <td>Blr</td>\n",
       "      <td>1</td>\n",
       "      <td>MIND</td>\n",
       "      <td>18</td>\n",
       "      <td>Jan 2018</td>\n",
       "    </tr>\n",
       "    <tr>\n",
       "      <th>Cognizant_India</th>\n",
       "      <td>995</td>\n",
       "      <td>940.7</td>\n",
       "      <td>710</td>\n",
       "      <td>Pub</td>\n",
       "      <td>355000</td>\n",
       "      <td>Chn</td>\n",
       "      <td>1</td>\n",
       "      <td>COGN</td>\n",
       "      <td>12</td>\n",
       "      <td>May 2019</td>\n",
       "    </tr>\n",
       "    <tr>\n",
       "      <th>Mphasis_Ltd</th>\n",
       "      <td>925</td>\n",
       "      <td>830.5</td>\n",
       "      <td>675</td>\n",
       "      <td>Pvt</td>\n",
       "      <td>38000</td>\n",
       "      <td>Blr</td>\n",
       "      <td>1</td>\n",
       "      <td>MPHS</td>\n",
       "      <td>5</td>\n",
       "      <td>Sep 2020</td>\n",
       "    </tr>\n",
       "    <tr>\n",
       "      <th>Persistent_Systems</th>\n",
       "      <td>945</td>\n",
       "      <td>845.2</td>\n",
       "      <td>685</td>\n",
       "      <td>Gov</td>\n",
       "      <td>25000</td>\n",
       "      <td>Pun</td>\n",
       "      <td>0</td>\n",
       "      <td>PRST</td>\n",
       "      <td>5</td>\n",
       "      <td>Apr 2021</td>\n",
       "    </tr>\n",
       "  </tbody>\n",
       "</table>\n",
       "</div>"
      ],
      "text/plain": [
       "                    Vol    Rev  Exp Sector  EmpCnt   HQ  MNC StockID  GST  \\\n",
       "TCS_Solutions       980  950.3  700    Pub  500000  Mum    1     TCS   18   \n",
       "Infosys_Tech        970  930.8  690    Pvt  346000  Blr    1    INFY   12   \n",
       "Wipro_Services      960  890.5  680    Pub  250000  Blr    1    WIPR    5   \n",
       "HCL_Tech            950  870.4  670    Pvt  225000  NCR    1    HCLT    5   \n",
       "TechMahindra        940  850.2  665    Pub  146000  Pun    1    TMAH   12   \n",
       "LT_Infotech         920  820.6  655    Gov   92000  Mum    1     LTI   18   \n",
       "Mindtree_Ltd        910  810.8  650    Pvt   38000  Blr    1    MIND   18   \n",
       "Cognizant_India     995  940.7  710    Pub  355000  Chn    1    COGN   12   \n",
       "Mphasis_Ltd         925  830.5  675    Pvt   38000  Blr    1    MPHS    5   \n",
       "Persistent_Systems  945  845.2  685    Gov   25000  Pun    0    PRST    5   \n",
       "\n",
       "                   Start Date  \n",
       "TCS_Solutions        Apr 2004  \n",
       "Infosys_Tech         Jul 1999  \n",
       "Wipro_Services       Dec 2002  \n",
       "HCL_Tech             Aug 2007  \n",
       "TechMahindra         Mar 2009  \n",
       "LT_Infotech          Dec 2016  \n",
       "Mindtree_Ltd         Jan 2018  \n",
       "Cognizant_India      May 2019  \n",
       "Mphasis_Ltd          Sep 2020  \n",
       "Persistent_Systems   Apr 2021  "
      ]
     },
     "execution_count": 104,
     "metadata": {},
     "output_type": "execute_result"
    }
   ],
   "source": [
    "pd.read_csv('stock.csv')"
   ]
  },
  {
   "cell_type": "code",
   "execution_count": 107,
   "metadata": {},
   "outputs": [
    {
     "data": {
      "text/html": [
       "<div>\n",
       "<style scoped>\n",
       "    .dataframe tbody tr th:only-of-type {\n",
       "        vertical-align: middle;\n",
       "    }\n",
       "\n",
       "    .dataframe tbody tr th {\n",
       "        vertical-align: top;\n",
       "    }\n",
       "\n",
       "    .dataframe thead th {\n",
       "        text-align: right;\n",
       "    }\n",
       "</style>\n",
       "<table border=\"1\" class=\"dataframe\">\n",
       "  <thead>\n",
       "    <tr style=\"text-align: right;\">\n",
       "      <th></th>\n",
       "      <th>Vol</th>\n",
       "      <th>Rev</th>\n",
       "      <th>Exp</th>\n",
       "      <th>Sector</th>\n",
       "      <th>EmpCnt</th>\n",
       "      <th>HQ</th>\n",
       "      <th>MNC</th>\n",
       "      <th>StockID</th>\n",
       "      <th>GST</th>\n",
       "      <th>Start Date</th>\n",
       "    </tr>\n",
       "  </thead>\n",
       "  <tbody>\n",
       "    <tr>\n",
       "      <th>TCS_Solutions</th>\n",
       "      <td>980</td>\n",
       "      <td>950.3</td>\n",
       "      <td>700</td>\n",
       "      <td>Pub</td>\n",
       "      <td>500000</td>\n",
       "      <td>Mum</td>\n",
       "      <td>1</td>\n",
       "      <td>TCS</td>\n",
       "      <td>18</td>\n",
       "      <td>Apr 2004</td>\n",
       "    </tr>\n",
       "    <tr>\n",
       "      <th>Infosys_Tech</th>\n",
       "      <td>970</td>\n",
       "      <td>930.8</td>\n",
       "      <td>690</td>\n",
       "      <td>Pvt</td>\n",
       "      <td>346000</td>\n",
       "      <td>Blr</td>\n",
       "      <td>1</td>\n",
       "      <td>INFY</td>\n",
       "      <td>12</td>\n",
       "      <td>Jul 1999</td>\n",
       "    </tr>\n",
       "    <tr>\n",
       "      <th>Wipro_Services</th>\n",
       "      <td>960</td>\n",
       "      <td>890.5</td>\n",
       "      <td>680</td>\n",
       "      <td>Pub</td>\n",
       "      <td>250000</td>\n",
       "      <td>Blr</td>\n",
       "      <td>1</td>\n",
       "      <td>WIPR</td>\n",
       "      <td>5</td>\n",
       "      <td>Dec 2002</td>\n",
       "    </tr>\n",
       "    <tr>\n",
       "      <th>HCL_Tech</th>\n",
       "      <td>950</td>\n",
       "      <td>870.4</td>\n",
       "      <td>670</td>\n",
       "      <td>Pvt</td>\n",
       "      <td>225000</td>\n",
       "      <td>NCR</td>\n",
       "      <td>1</td>\n",
       "      <td>HCLT</td>\n",
       "      <td>5</td>\n",
       "      <td>Aug 2007</td>\n",
       "    </tr>\n",
       "    <tr>\n",
       "      <th>TechMahindra</th>\n",
       "      <td>940</td>\n",
       "      <td>850.2</td>\n",
       "      <td>665</td>\n",
       "      <td>Pub</td>\n",
       "      <td>146000</td>\n",
       "      <td>Pun</td>\n",
       "      <td>1</td>\n",
       "      <td>TMAH</td>\n",
       "      <td>12</td>\n",
       "      <td>Mar 2009</td>\n",
       "    </tr>\n",
       "    <tr>\n",
       "      <th>LT_Infotech</th>\n",
       "      <td>920</td>\n",
       "      <td>820.6</td>\n",
       "      <td>655</td>\n",
       "      <td>Gov</td>\n",
       "      <td>92000</td>\n",
       "      <td>Mum</td>\n",
       "      <td>1</td>\n",
       "      <td>LTI</td>\n",
       "      <td>18</td>\n",
       "      <td>Dec 2016</td>\n",
       "    </tr>\n",
       "    <tr>\n",
       "      <th>Mindtree_Ltd</th>\n",
       "      <td>910</td>\n",
       "      <td>810.8</td>\n",
       "      <td>650</td>\n",
       "      <td>Pvt</td>\n",
       "      <td>38000</td>\n",
       "      <td>Blr</td>\n",
       "      <td>1</td>\n",
       "      <td>MIND</td>\n",
       "      <td>18</td>\n",
       "      <td>Jan 2018</td>\n",
       "    </tr>\n",
       "    <tr>\n",
       "      <th>Cognizant_India</th>\n",
       "      <td>995</td>\n",
       "      <td>940.7</td>\n",
       "      <td>710</td>\n",
       "      <td>Pub</td>\n",
       "      <td>355000</td>\n",
       "      <td>Chn</td>\n",
       "      <td>1</td>\n",
       "      <td>COGN</td>\n",
       "      <td>12</td>\n",
       "      <td>May 2019</td>\n",
       "    </tr>\n",
       "    <tr>\n",
       "      <th>Mphasis_Ltd</th>\n",
       "      <td>925</td>\n",
       "      <td>830.5</td>\n",
       "      <td>675</td>\n",
       "      <td>Pvt</td>\n",
       "      <td>38000</td>\n",
       "      <td>Blr</td>\n",
       "      <td>1</td>\n",
       "      <td>MPHS</td>\n",
       "      <td>5</td>\n",
       "      <td>Sep 2020</td>\n",
       "    </tr>\n",
       "    <tr>\n",
       "      <th>Persistent_Systems</th>\n",
       "      <td>945</td>\n",
       "      <td>845.2</td>\n",
       "      <td>685</td>\n",
       "      <td>Gov</td>\n",
       "      <td>25000</td>\n",
       "      <td>Pun</td>\n",
       "      <td>0</td>\n",
       "      <td>PRST</td>\n",
       "      <td>5</td>\n",
       "      <td>Apr 2021</td>\n",
       "    </tr>\n",
       "  </tbody>\n",
       "</table>\n",
       "</div>"
      ],
      "text/plain": [
       "                    Vol    Rev  Exp Sector  EmpCnt   HQ  MNC StockID  GST  \\\n",
       "TCS_Solutions       980  950.3  700    Pub  500000  Mum    1     TCS   18   \n",
       "Infosys_Tech        970  930.8  690    Pvt  346000  Blr    1    INFY   12   \n",
       "Wipro_Services      960  890.5  680    Pub  250000  Blr    1    WIPR    5   \n",
       "HCL_Tech            950  870.4  670    Pvt  225000  NCR    1    HCLT    5   \n",
       "TechMahindra        940  850.2  665    Pub  146000  Pun    1    TMAH   12   \n",
       "LT_Infotech         920  820.6  655    Gov   92000  Mum    1     LTI   18   \n",
       "Mindtree_Ltd        910  810.8  650    Pvt   38000  Blr    1    MIND   18   \n",
       "Cognizant_India     995  940.7  710    Pub  355000  Chn    1    COGN   12   \n",
       "Mphasis_Ltd         925  830.5  675    Pvt   38000  Blr    1    MPHS    5   \n",
       "Persistent_Systems  945  845.2  685    Gov   25000  Pun    0    PRST    5   \n",
       "\n",
       "                   Start Date  \n",
       "TCS_Solutions        Apr 2004  \n",
       "Infosys_Tech         Jul 1999  \n",
       "Wipro_Services       Dec 2002  \n",
       "HCL_Tech             Aug 2007  \n",
       "TechMahindra         Mar 2009  \n",
       "LT_Infotech          Dec 2016  \n",
       "Mindtree_Ltd         Jan 2018  \n",
       "Cognizant_India      May 2019  \n",
       "Mphasis_Ltd          Sep 2020  \n",
       "Persistent_Systems   Apr 2021  "
      ]
     },
     "execution_count": 107,
     "metadata": {},
     "output_type": "execute_result"
    }
   ],
   "source": [
    "df_stock = pd.read_csv('stock.csv')\n",
    "df_stock"
   ]
  },
  {
   "cell_type": "code",
   "execution_count": 111,
   "metadata": {},
   "outputs": [],
   "source": [
    "#df_stock.transpose()"
   ]
  },
  {
   "cell_type": "code",
   "execution_count": null,
   "metadata": {},
   "outputs": [],
   "source": [
    "# What is the profit - Rev - Exp\n",
    "# What is the profit for public, Pvt and Govt companies"
   ]
  },
  {
   "cell_type": "code",
   "execution_count": 107,
   "metadata": {},
   "outputs": [],
   "source": [
    "# Machine Learning Terminology\n",
    "\n",
    "# rows as observations\n",
    "# columns as features - numeric or categorical -\n",
    "# every column is homogenious - same datatype through out\n",
    "# overalll structure is hetrogenious"
   ]
  },
  {
   "cell_type": "code",
   "execution_count": 108,
   "metadata": {},
   "outputs": [
    {
     "data": {
      "text/html": [
       "<div>\n",
       "<style scoped>\n",
       "    .dataframe tbody tr th:only-of-type {\n",
       "        vertical-align: middle;\n",
       "    }\n",
       "\n",
       "    .dataframe tbody tr th {\n",
       "        vertical-align: top;\n",
       "    }\n",
       "\n",
       "    .dataframe thead th {\n",
       "        text-align: right;\n",
       "    }\n",
       "</style>\n",
       "<table border=\"1\" class=\"dataframe\">\n",
       "  <thead>\n",
       "    <tr style=\"text-align: right;\">\n",
       "      <th></th>\n",
       "      <th>Vol</th>\n",
       "      <th>Rev</th>\n",
       "      <th>Exp</th>\n",
       "      <th>Sector</th>\n",
       "      <th>EmpCnt</th>\n",
       "      <th>HQ</th>\n",
       "      <th>MNC</th>\n",
       "      <th>StockID</th>\n",
       "      <th>GST</th>\n",
       "      <th>Start Date</th>\n",
       "    </tr>\n",
       "  </thead>\n",
       "  <tbody>\n",
       "    <tr>\n",
       "      <th>TCS_Solutions</th>\n",
       "      <td>980</td>\n",
       "      <td>950.3</td>\n",
       "      <td>700</td>\n",
       "      <td>Pub</td>\n",
       "      <td>500000</td>\n",
       "      <td>Mum</td>\n",
       "      <td>1</td>\n",
       "      <td>TCS</td>\n",
       "      <td>18</td>\n",
       "      <td>Apr 2004</td>\n",
       "    </tr>\n",
       "    <tr>\n",
       "      <th>Infosys_Tech</th>\n",
       "      <td>970</td>\n",
       "      <td>930.8</td>\n",
       "      <td>690</td>\n",
       "      <td>Pvt</td>\n",
       "      <td>346000</td>\n",
       "      <td>Blr</td>\n",
       "      <td>1</td>\n",
       "      <td>INFY</td>\n",
       "      <td>12</td>\n",
       "      <td>Jul 1999</td>\n",
       "    </tr>\n",
       "    <tr>\n",
       "      <th>Wipro_Services</th>\n",
       "      <td>960</td>\n",
       "      <td>890.5</td>\n",
       "      <td>680</td>\n",
       "      <td>Pub</td>\n",
       "      <td>250000</td>\n",
       "      <td>Blr</td>\n",
       "      <td>1</td>\n",
       "      <td>WIPR</td>\n",
       "      <td>5</td>\n",
       "      <td>Dec 2002</td>\n",
       "    </tr>\n",
       "    <tr>\n",
       "      <th>HCL_Tech</th>\n",
       "      <td>950</td>\n",
       "      <td>870.4</td>\n",
       "      <td>670</td>\n",
       "      <td>Pvt</td>\n",
       "      <td>225000</td>\n",
       "      <td>NCR</td>\n",
       "      <td>1</td>\n",
       "      <td>HCLT</td>\n",
       "      <td>5</td>\n",
       "      <td>Aug 2007</td>\n",
       "    </tr>\n",
       "    <tr>\n",
       "      <th>TechMahindra</th>\n",
       "      <td>940</td>\n",
       "      <td>850.2</td>\n",
       "      <td>665</td>\n",
       "      <td>Pub</td>\n",
       "      <td>146000</td>\n",
       "      <td>Pun</td>\n",
       "      <td>1</td>\n",
       "      <td>TMAH</td>\n",
       "      <td>12</td>\n",
       "      <td>Mar 2009</td>\n",
       "    </tr>\n",
       "  </tbody>\n",
       "</table>\n",
       "</div>"
      ],
      "text/plain": [
       "                Vol    Rev  Exp Sector  EmpCnt   HQ  MNC StockID  GST  \\\n",
       "TCS_Solutions   980  950.3  700    Pub  500000  Mum    1     TCS   18   \n",
       "Infosys_Tech    970  930.8  690    Pvt  346000  Blr    1    INFY   12   \n",
       "Wipro_Services  960  890.5  680    Pub  250000  Blr    1    WIPR    5   \n",
       "HCL_Tech        950  870.4  670    Pvt  225000  NCR    1    HCLT    5   \n",
       "TechMahindra    940  850.2  665    Pub  146000  Pun    1    TMAH   12   \n",
       "\n",
       "               Start Date  \n",
       "TCS_Solutions    Apr 2004  \n",
       "Infosys_Tech     Jul 1999  \n",
       "Wipro_Services   Dec 2002  \n",
       "HCL_Tech         Aug 2007  \n",
       "TechMahindra     Mar 2009  "
      ]
     },
     "execution_count": 108,
     "metadata": {},
     "output_type": "execute_result"
    }
   ],
   "source": [
    "# top 5 rows\n",
    "df_stock.head()"
   ]
  },
  {
   "cell_type": "code",
   "execution_count": null,
   "metadata": {},
   "outputs": [],
   "source": [
    "df_stock.head(3)"
   ]
  },
  {
   "cell_type": "code",
   "execution_count": 109,
   "metadata": {},
   "outputs": [
    {
     "data": {
      "text/html": [
       "<div>\n",
       "<style scoped>\n",
       "    .dataframe tbody tr th:only-of-type {\n",
       "        vertical-align: middle;\n",
       "    }\n",
       "\n",
       "    .dataframe tbody tr th {\n",
       "        vertical-align: top;\n",
       "    }\n",
       "\n",
       "    .dataframe thead th {\n",
       "        text-align: right;\n",
       "    }\n",
       "</style>\n",
       "<table border=\"1\" class=\"dataframe\">\n",
       "  <thead>\n",
       "    <tr style=\"text-align: right;\">\n",
       "      <th></th>\n",
       "      <th>Vol</th>\n",
       "      <th>Rev</th>\n",
       "      <th>Exp</th>\n",
       "      <th>Sector</th>\n",
       "      <th>EmpCnt</th>\n",
       "      <th>HQ</th>\n",
       "      <th>MNC</th>\n",
       "      <th>StockID</th>\n",
       "      <th>GST</th>\n",
       "      <th>Start Date</th>\n",
       "    </tr>\n",
       "  </thead>\n",
       "  <tbody>\n",
       "    <tr>\n",
       "      <th>LT_Infotech</th>\n",
       "      <td>920</td>\n",
       "      <td>820.6</td>\n",
       "      <td>655</td>\n",
       "      <td>Gov</td>\n",
       "      <td>92000</td>\n",
       "      <td>Mum</td>\n",
       "      <td>1</td>\n",
       "      <td>LTI</td>\n",
       "      <td>18</td>\n",
       "      <td>Dec 2016</td>\n",
       "    </tr>\n",
       "    <tr>\n",
       "      <th>Mindtree_Ltd</th>\n",
       "      <td>910</td>\n",
       "      <td>810.8</td>\n",
       "      <td>650</td>\n",
       "      <td>Pvt</td>\n",
       "      <td>38000</td>\n",
       "      <td>Blr</td>\n",
       "      <td>1</td>\n",
       "      <td>MIND</td>\n",
       "      <td>18</td>\n",
       "      <td>Jan 2018</td>\n",
       "    </tr>\n",
       "    <tr>\n",
       "      <th>Cognizant_India</th>\n",
       "      <td>995</td>\n",
       "      <td>940.7</td>\n",
       "      <td>710</td>\n",
       "      <td>Pub</td>\n",
       "      <td>355000</td>\n",
       "      <td>Chn</td>\n",
       "      <td>1</td>\n",
       "      <td>COGN</td>\n",
       "      <td>12</td>\n",
       "      <td>May 2019</td>\n",
       "    </tr>\n",
       "    <tr>\n",
       "      <th>Mphasis_Ltd</th>\n",
       "      <td>925</td>\n",
       "      <td>830.5</td>\n",
       "      <td>675</td>\n",
       "      <td>Pvt</td>\n",
       "      <td>38000</td>\n",
       "      <td>Blr</td>\n",
       "      <td>1</td>\n",
       "      <td>MPHS</td>\n",
       "      <td>5</td>\n",
       "      <td>Sep 2020</td>\n",
       "    </tr>\n",
       "    <tr>\n",
       "      <th>Persistent_Systems</th>\n",
       "      <td>945</td>\n",
       "      <td>845.2</td>\n",
       "      <td>685</td>\n",
       "      <td>Gov</td>\n",
       "      <td>25000</td>\n",
       "      <td>Pun</td>\n",
       "      <td>0</td>\n",
       "      <td>PRST</td>\n",
       "      <td>5</td>\n",
       "      <td>Apr 2021</td>\n",
       "    </tr>\n",
       "  </tbody>\n",
       "</table>\n",
       "</div>"
      ],
      "text/plain": [
       "                    Vol    Rev  Exp Sector  EmpCnt   HQ  MNC StockID  GST  \\\n",
       "LT_Infotech         920  820.6  655    Gov   92000  Mum    1     LTI   18   \n",
       "Mindtree_Ltd        910  810.8  650    Pvt   38000  Blr    1    MIND   18   \n",
       "Cognizant_India     995  940.7  710    Pub  355000  Chn    1    COGN   12   \n",
       "Mphasis_Ltd         925  830.5  675    Pvt   38000  Blr    1    MPHS    5   \n",
       "Persistent_Systems  945  845.2  685    Gov   25000  Pun    0    PRST    5   \n",
       "\n",
       "                   Start Date  \n",
       "LT_Infotech          Dec 2016  \n",
       "Mindtree_Ltd         Jan 2018  \n",
       "Cognizant_India      May 2019  \n",
       "Mphasis_Ltd          Sep 2020  \n",
       "Persistent_Systems   Apr 2021  "
      ]
     },
     "execution_count": 109,
     "metadata": {},
     "output_type": "execute_result"
    }
   ],
   "source": [
    "df_stock.tail()"
   ]
  },
  {
   "cell_type": "code",
   "execution_count": 110,
   "metadata": {},
   "outputs": [
    {
     "data": {
      "text/html": [
       "<div>\n",
       "<style scoped>\n",
       "    .dataframe tbody tr th:only-of-type {\n",
       "        vertical-align: middle;\n",
       "    }\n",
       "\n",
       "    .dataframe tbody tr th {\n",
       "        vertical-align: top;\n",
       "    }\n",
       "\n",
       "    .dataframe thead th {\n",
       "        text-align: right;\n",
       "    }\n",
       "</style>\n",
       "<table border=\"1\" class=\"dataframe\">\n",
       "  <thead>\n",
       "    <tr style=\"text-align: right;\">\n",
       "      <th></th>\n",
       "      <th>Vol</th>\n",
       "      <th>Rev</th>\n",
       "      <th>Exp</th>\n",
       "      <th>Sector</th>\n",
       "      <th>EmpCnt</th>\n",
       "      <th>HQ</th>\n",
       "      <th>MNC</th>\n",
       "      <th>StockID</th>\n",
       "      <th>GST</th>\n",
       "      <th>Start Date</th>\n",
       "    </tr>\n",
       "  </thead>\n",
       "  <tbody>\n",
       "    <tr>\n",
       "      <th>Cognizant_India</th>\n",
       "      <td>995</td>\n",
       "      <td>940.7</td>\n",
       "      <td>710</td>\n",
       "      <td>Pub</td>\n",
       "      <td>355000</td>\n",
       "      <td>Chn</td>\n",
       "      <td>1</td>\n",
       "      <td>COGN</td>\n",
       "      <td>12</td>\n",
       "      <td>May 2019</td>\n",
       "    </tr>\n",
       "    <tr>\n",
       "      <th>Mphasis_Ltd</th>\n",
       "      <td>925</td>\n",
       "      <td>830.5</td>\n",
       "      <td>675</td>\n",
       "      <td>Pvt</td>\n",
       "      <td>38000</td>\n",
       "      <td>Blr</td>\n",
       "      <td>1</td>\n",
       "      <td>MPHS</td>\n",
       "      <td>5</td>\n",
       "      <td>Sep 2020</td>\n",
       "    </tr>\n",
       "    <tr>\n",
       "      <th>Persistent_Systems</th>\n",
       "      <td>945</td>\n",
       "      <td>845.2</td>\n",
       "      <td>685</td>\n",
       "      <td>Gov</td>\n",
       "      <td>25000</td>\n",
       "      <td>Pun</td>\n",
       "      <td>0</td>\n",
       "      <td>PRST</td>\n",
       "      <td>5</td>\n",
       "      <td>Apr 2021</td>\n",
       "    </tr>\n",
       "  </tbody>\n",
       "</table>\n",
       "</div>"
      ],
      "text/plain": [
       "                    Vol    Rev  Exp Sector  EmpCnt   HQ  MNC StockID  GST  \\\n",
       "Cognizant_India     995  940.7  710    Pub  355000  Chn    1    COGN   12   \n",
       "Mphasis_Ltd         925  830.5  675    Pvt   38000  Blr    1    MPHS    5   \n",
       "Persistent_Systems  945  845.2  685    Gov   25000  Pun    0    PRST    5   \n",
       "\n",
       "                   Start Date  \n",
       "Cognizant_India      May 2019  \n",
       "Mphasis_Ltd          Sep 2020  \n",
       "Persistent_Systems   Apr 2021  "
      ]
     },
     "execution_count": 110,
     "metadata": {},
     "output_type": "execute_result"
    }
   ],
   "source": [
    "df_stock.tail(3)"
   ]
  },
  {
   "cell_type": "code",
   "execution_count": 116,
   "metadata": {},
   "outputs": [
    {
     "data": {
      "text/plain": [
       "(10, 10)"
      ]
     },
     "execution_count": 116,
     "metadata": {},
     "output_type": "execute_result"
    }
   ],
   "source": [
    "#1 df.shape - displays rows and columns in a tuple\n",
    "df_stock.shape"
   ]
  },
  {
   "cell_type": "code",
   "execution_count": 114,
   "metadata": {},
   "outputs": [
    {
     "name": "stdout",
     "output_type": "stream",
     "text": [
      "<class 'pandas.core.frame.DataFrame'>\n",
      "Index: 10 entries, TCS_Solutions to Persistent_Systems\n",
      "Data columns (total 10 columns):\n",
      " #   Column      Non-Null Count  Dtype  \n",
      "---  ------      --------------  -----  \n",
      " 0   Vol         10 non-null     int64  \n",
      " 1   Rev         10 non-null     float64\n",
      " 2   Exp         10 non-null     int64  \n",
      " 3   Sector      10 non-null     object \n",
      " 4   EmpCnt      10 non-null     int64  \n",
      " 5   HQ          10 non-null     object \n",
      " 6   MNC         10 non-null     int64  \n",
      " 7   StockID     10 non-null     object \n",
      " 8   GST         10 non-null     int64  \n",
      " 9   Start Date  10 non-null     object \n",
      "dtypes: float64(1), int64(5), object(4)\n",
      "memory usage: 1.2+ KB\n"
     ]
    }
   ],
   "source": [
    "#2 - dataframe.info() - It display total entries, and data-type of each column\n",
    "df_stock.info()"
   ]
  },
  {
   "cell_type": "code",
   "execution_count": 112,
   "metadata": {},
   "outputs": [],
   "source": [
    "#default data type in pandas int64 - numberic data\n",
    "#default data type in pandas object - categorical data"
   ]
  },
  {
   "cell_type": "code",
   "execution_count": 121,
   "metadata": {},
   "outputs": [
    {
     "name": "stdout",
     "output_type": "stream",
     "text": [
      "<class 'pandas.core.frame.DataFrame'>\n",
      "Index: 10 entries, TCS_Solutions to Persistent_Systems\n",
      "Data columns (total 10 columns):\n",
      " #   Column      Non-Null Count  Dtype  \n",
      "---  ------      --------------  -----  \n",
      " 0   Vol         10 non-null     int64  \n",
      " 1   Rev         10 non-null     float64\n",
      " 2   Exp         10 non-null     int64  \n",
      " 3   Sector      10 non-null     object \n",
      " 4   EmpCnt      10 non-null     int64  \n",
      " 5   HQ          10 non-null     object \n",
      " 6   MNC         10 non-null     int64  \n",
      " 7   StockID     10 non-null     object \n",
      " 8   GST         10 non-null     int64  \n",
      " 9   Start Date  10 non-null     object \n",
      "dtypes: float64(1), int64(5), object(4)\n",
      "memory usage: 1.2+ KB\n"
     ]
    }
   ],
   "source": [
    "df_stock.info()"
   ]
  },
  {
   "cell_type": "code",
   "execution_count": 113,
   "metadata": {},
   "outputs": [
    {
     "data": {
      "text/html": [
       "<div>\n",
       "<style scoped>\n",
       "    .dataframe tbody tr th:only-of-type {\n",
       "        vertical-align: middle;\n",
       "    }\n",
       "\n",
       "    .dataframe tbody tr th {\n",
       "        vertical-align: top;\n",
       "    }\n",
       "\n",
       "    .dataframe thead th {\n",
       "        text-align: right;\n",
       "    }\n",
       "</style>\n",
       "<table border=\"1\" class=\"dataframe\">\n",
       "  <thead>\n",
       "    <tr style=\"text-align: right;\">\n",
       "      <th></th>\n",
       "      <th>Vol</th>\n",
       "      <th>Rev</th>\n",
       "      <th>Exp</th>\n",
       "      <th>EmpCnt</th>\n",
       "      <th>MNC</th>\n",
       "      <th>GST</th>\n",
       "    </tr>\n",
       "  </thead>\n",
       "  <tbody>\n",
       "    <tr>\n",
       "      <th>count</th>\n",
       "      <td>10.000000</td>\n",
       "      <td>10.000000</td>\n",
       "      <td>10.000000</td>\n",
       "      <td>10.000000</td>\n",
       "      <td>10.000000</td>\n",
       "      <td>10.000000</td>\n",
       "    </tr>\n",
       "    <tr>\n",
       "      <th>mean</th>\n",
       "      <td>949.500000</td>\n",
       "      <td>874.000000</td>\n",
       "      <td>678.000000</td>\n",
       "      <td>201500.000000</td>\n",
       "      <td>0.900000</td>\n",
       "      <td>11.000000</td>\n",
       "    </tr>\n",
       "    <tr>\n",
       "      <th>std</th>\n",
       "      <td>27.228457</td>\n",
       "      <td>51.549286</td>\n",
       "      <td>19.032137</td>\n",
       "      <td>161979.594051</td>\n",
       "      <td>0.316228</td>\n",
       "      <td>5.715476</td>\n",
       "    </tr>\n",
       "    <tr>\n",
       "      <th>min</th>\n",
       "      <td>910.000000</td>\n",
       "      <td>810.800000</td>\n",
       "      <td>650.000000</td>\n",
       "      <td>25000.000000</td>\n",
       "      <td>0.000000</td>\n",
       "      <td>5.000000</td>\n",
       "    </tr>\n",
       "    <tr>\n",
       "      <th>25%</th>\n",
       "      <td>928.750000</td>\n",
       "      <td>834.175000</td>\n",
       "      <td>666.250000</td>\n",
       "      <td>51500.000000</td>\n",
       "      <td>1.000000</td>\n",
       "      <td>5.000000</td>\n",
       "    </tr>\n",
       "    <tr>\n",
       "      <th>50%</th>\n",
       "      <td>947.500000</td>\n",
       "      <td>860.300000</td>\n",
       "      <td>677.500000</td>\n",
       "      <td>185500.000000</td>\n",
       "      <td>1.000000</td>\n",
       "      <td>12.000000</td>\n",
       "    </tr>\n",
       "    <tr>\n",
       "      <th>75%</th>\n",
       "      <td>967.500000</td>\n",
       "      <td>920.725000</td>\n",
       "      <td>688.750000</td>\n",
       "      <td>322000.000000</td>\n",
       "      <td>1.000000</td>\n",
       "      <td>16.500000</td>\n",
       "    </tr>\n",
       "    <tr>\n",
       "      <th>max</th>\n",
       "      <td>995.000000</td>\n",
       "      <td>950.300000</td>\n",
       "      <td>710.000000</td>\n",
       "      <td>500000.000000</td>\n",
       "      <td>1.000000</td>\n",
       "      <td>18.000000</td>\n",
       "    </tr>\n",
       "  </tbody>\n",
       "</table>\n",
       "</div>"
      ],
      "text/plain": [
       "              Vol         Rev         Exp         EmpCnt        MNC        GST\n",
       "count   10.000000   10.000000   10.000000      10.000000  10.000000  10.000000\n",
       "mean   949.500000  874.000000  678.000000  201500.000000   0.900000  11.000000\n",
       "std     27.228457   51.549286   19.032137  161979.594051   0.316228   5.715476\n",
       "min    910.000000  810.800000  650.000000   25000.000000   0.000000   5.000000\n",
       "25%    928.750000  834.175000  666.250000   51500.000000   1.000000   5.000000\n",
       "50%    947.500000  860.300000  677.500000  185500.000000   1.000000  12.000000\n",
       "75%    967.500000  920.725000  688.750000  322000.000000   1.000000  16.500000\n",
       "max    995.000000  950.300000  710.000000  500000.000000   1.000000  18.000000"
      ]
     },
     "execution_count": 113,
     "metadata": {},
     "output_type": "execute_result"
    }
   ],
   "source": [
    "# summary statistics - df.describe - displays summary statistics\n",
    "# Five Point Summary - describe\n",
    "df_stock.describe()"
   ]
  },
  {
   "cell_type": "code",
   "execution_count": 133,
   "metadata": {},
   "outputs": [
    {
     "data": {
      "text/html": [
       "<div>\n",
       "<style scoped>\n",
       "    .dataframe tbody tr th:only-of-type {\n",
       "        vertical-align: middle;\n",
       "    }\n",
       "\n",
       "    .dataframe tbody tr th {\n",
       "        vertical-align: top;\n",
       "    }\n",
       "\n",
       "    .dataframe thead th {\n",
       "        text-align: right;\n",
       "    }\n",
       "</style>\n",
       "<table border=\"1\" class=\"dataframe\">\n",
       "  <thead>\n",
       "    <tr style=\"text-align: right;\">\n",
       "      <th></th>\n",
       "      <th>Vol</th>\n",
       "      <th>Rev</th>\n",
       "      <th>Exp</th>\n",
       "      <th>Sector</th>\n",
       "      <th>EmpCnt</th>\n",
       "      <th>HQ</th>\n",
       "      <th>MNC</th>\n",
       "      <th>StockID</th>\n",
       "      <th>GST</th>\n",
       "      <th>Start Date</th>\n",
       "    </tr>\n",
       "  </thead>\n",
       "  <tbody>\n",
       "    <tr>\n",
       "      <th>TCS_Solutions</th>\n",
       "      <td>980</td>\n",
       "      <td>950.3</td>\n",
       "      <td>700</td>\n",
       "      <td>Pub</td>\n",
       "      <td>500000</td>\n",
       "      <td>Mum</td>\n",
       "      <td>1</td>\n",
       "      <td>TCS</td>\n",
       "      <td>18</td>\n",
       "      <td>Apr 2004</td>\n",
       "    </tr>\n",
       "    <tr>\n",
       "      <th>Infosys_Tech</th>\n",
       "      <td>970</td>\n",
       "      <td>930.8</td>\n",
       "      <td>690</td>\n",
       "      <td>Pvt</td>\n",
       "      <td>346000</td>\n",
       "      <td>Blr</td>\n",
       "      <td>1</td>\n",
       "      <td>INFY</td>\n",
       "      <td>12</td>\n",
       "      <td>Jul 1999</td>\n",
       "    </tr>\n",
       "    <tr>\n",
       "      <th>Wipro_Services</th>\n",
       "      <td>960</td>\n",
       "      <td>890.5</td>\n",
       "      <td>680</td>\n",
       "      <td>Pub</td>\n",
       "      <td>250000</td>\n",
       "      <td>Blr</td>\n",
       "      <td>1</td>\n",
       "      <td>WIPR</td>\n",
       "      <td>5</td>\n",
       "      <td>Dec 2002</td>\n",
       "    </tr>\n",
       "    <tr>\n",
       "      <th>HCL_Tech</th>\n",
       "      <td>950</td>\n",
       "      <td>870.4</td>\n",
       "      <td>670</td>\n",
       "      <td>Pvt</td>\n",
       "      <td>225000</td>\n",
       "      <td>NCR</td>\n",
       "      <td>1</td>\n",
       "      <td>HCLT</td>\n",
       "      <td>5</td>\n",
       "      <td>Aug 2007</td>\n",
       "    </tr>\n",
       "    <tr>\n",
       "      <th>TechMahindra</th>\n",
       "      <td>940</td>\n",
       "      <td>850.2</td>\n",
       "      <td>665</td>\n",
       "      <td>Pub</td>\n",
       "      <td>146000</td>\n",
       "      <td>Pun</td>\n",
       "      <td>1</td>\n",
       "      <td>TMAH</td>\n",
       "      <td>12</td>\n",
       "      <td>Mar 2009</td>\n",
       "    </tr>\n",
       "    <tr>\n",
       "      <th>LT_Infotech</th>\n",
       "      <td>920</td>\n",
       "      <td>820.6</td>\n",
       "      <td>655</td>\n",
       "      <td>Gov</td>\n",
       "      <td>92000</td>\n",
       "      <td>Mum</td>\n",
       "      <td>1</td>\n",
       "      <td>LTI</td>\n",
       "      <td>18</td>\n",
       "      <td>Dec 2016</td>\n",
       "    </tr>\n",
       "    <tr>\n",
       "      <th>Mindtree_Ltd</th>\n",
       "      <td>910</td>\n",
       "      <td>810.8</td>\n",
       "      <td>650</td>\n",
       "      <td>Pvt</td>\n",
       "      <td>38000</td>\n",
       "      <td>Blr</td>\n",
       "      <td>1</td>\n",
       "      <td>MIND</td>\n",
       "      <td>18</td>\n",
       "      <td>Jan 2018</td>\n",
       "    </tr>\n",
       "    <tr>\n",
       "      <th>Cognizant_India</th>\n",
       "      <td>995</td>\n",
       "      <td>940.7</td>\n",
       "      <td>710</td>\n",
       "      <td>Pub</td>\n",
       "      <td>355000</td>\n",
       "      <td>Chn</td>\n",
       "      <td>1</td>\n",
       "      <td>COGN</td>\n",
       "      <td>12</td>\n",
       "      <td>May 2019</td>\n",
       "    </tr>\n",
       "    <tr>\n",
       "      <th>Mphasis_Ltd</th>\n",
       "      <td>925</td>\n",
       "      <td>830.5</td>\n",
       "      <td>675</td>\n",
       "      <td>Pvt</td>\n",
       "      <td>38000</td>\n",
       "      <td>Blr</td>\n",
       "      <td>1</td>\n",
       "      <td>MPHS</td>\n",
       "      <td>5</td>\n",
       "      <td>Sep 2020</td>\n",
       "    </tr>\n",
       "    <tr>\n",
       "      <th>Persistent_Systems</th>\n",
       "      <td>945</td>\n",
       "      <td>845.2</td>\n",
       "      <td>685</td>\n",
       "      <td>Gov</td>\n",
       "      <td>25000</td>\n",
       "      <td>Pun</td>\n",
       "      <td>0</td>\n",
       "      <td>PRST</td>\n",
       "      <td>5</td>\n",
       "      <td>Apr 2021</td>\n",
       "    </tr>\n",
       "  </tbody>\n",
       "</table>\n",
       "</div>"
      ],
      "text/plain": [
       "                    Vol    Rev  Exp Sector  EmpCnt   HQ  MNC StockID  GST  \\\n",
       "TCS_Solutions       980  950.3  700    Pub  500000  Mum    1     TCS   18   \n",
       "Infosys_Tech        970  930.8  690    Pvt  346000  Blr    1    INFY   12   \n",
       "Wipro_Services      960  890.5  680    Pub  250000  Blr    1    WIPR    5   \n",
       "HCL_Tech            950  870.4  670    Pvt  225000  NCR    1    HCLT    5   \n",
       "TechMahindra        940  850.2  665    Pub  146000  Pun    1    TMAH   12   \n",
       "LT_Infotech         920  820.6  655    Gov   92000  Mum    1     LTI   18   \n",
       "Mindtree_Ltd        910  810.8  650    Pvt   38000  Blr    1    MIND   18   \n",
       "Cognizant_India     995  940.7  710    Pub  355000  Chn    1    COGN   12   \n",
       "Mphasis_Ltd         925  830.5  675    Pvt   38000  Blr    1    MPHS    5   \n",
       "Persistent_Systems  945  845.2  685    Gov   25000  Pun    0    PRST    5   \n",
       "\n",
       "                   Start Date  \n",
       "TCS_Solutions        Apr 2004  \n",
       "Infosys_Tech         Jul 1999  \n",
       "Wipro_Services       Dec 2002  \n",
       "HCL_Tech             Aug 2007  \n",
       "TechMahindra         Mar 2009  \n",
       "LT_Infotech          Dec 2016  \n",
       "Mindtree_Ltd         Jan 2018  \n",
       "Cognizant_India      May 2019  \n",
       "Mphasis_Ltd          Sep 2020  \n",
       "Persistent_Systems   Apr 2021  "
      ]
     },
     "execution_count": 133,
     "metadata": {},
     "output_type": "execute_result"
    }
   ],
   "source": [
    "df_stock"
   ]
  },
  {
   "cell_type": "code",
   "execution_count": 138,
   "metadata": {},
   "outputs": [
    {
     "data": {
      "text/plain": [
       "array(['Pub', 'Pvt', 'Gov'], dtype=object)"
      ]
     },
     "execution_count": 138,
     "metadata": {},
     "output_type": "execute_result"
    }
   ],
   "source": [
    "df_stock.Sector.unique()"
   ]
  },
  {
   "cell_type": "code",
   "execution_count": 137,
   "metadata": {},
   "outputs": [
    {
     "data": {
      "text/plain": [
       "Sector\n",
       "Pub    4\n",
       "Pvt    4\n",
       "Gov    2\n",
       "Name: count, dtype: int64"
      ]
     },
     "execution_count": 137,
     "metadata": {},
     "output_type": "execute_result"
    }
   ],
   "source": [
    "# df.column_name.value_counts()\n",
    "df_stock.Sector.value_counts()"
   ]
  },
  {
   "cell_type": "code",
   "execution_count": 132,
   "metadata": {},
   "outputs": [
    {
     "data": {
      "text/html": [
       "<div>\n",
       "<style scoped>\n",
       "    .dataframe tbody tr th:only-of-type {\n",
       "        vertical-align: middle;\n",
       "    }\n",
       "\n",
       "    .dataframe tbody tr th {\n",
       "        vertical-align: top;\n",
       "    }\n",
       "\n",
       "    .dataframe thead th {\n",
       "        text-align: right;\n",
       "    }\n",
       "</style>\n",
       "<table border=\"1\" class=\"dataframe\">\n",
       "  <thead>\n",
       "    <tr style=\"text-align: right;\">\n",
       "      <th></th>\n",
       "      <th>Sector</th>\n",
       "      <th>HQ</th>\n",
       "      <th>StockID</th>\n",
       "      <th>Start Date</th>\n",
       "    </tr>\n",
       "  </thead>\n",
       "  <tbody>\n",
       "    <tr>\n",
       "      <th>count</th>\n",
       "      <td>10</td>\n",
       "      <td>10</td>\n",
       "      <td>10</td>\n",
       "      <td>10</td>\n",
       "    </tr>\n",
       "    <tr>\n",
       "      <th>unique</th>\n",
       "      <td>3</td>\n",
       "      <td>5</td>\n",
       "      <td>10</td>\n",
       "      <td>10</td>\n",
       "    </tr>\n",
       "    <tr>\n",
       "      <th>top</th>\n",
       "      <td>Pub</td>\n",
       "      <td>Blr</td>\n",
       "      <td>TCS</td>\n",
       "      <td>Apr 2004</td>\n",
       "    </tr>\n",
       "    <tr>\n",
       "      <th>freq</th>\n",
       "      <td>4</td>\n",
       "      <td>4</td>\n",
       "      <td>1</td>\n",
       "      <td>1</td>\n",
       "    </tr>\n",
       "  </tbody>\n",
       "</table>\n",
       "</div>"
      ],
      "text/plain": [
       "       Sector   HQ StockID Start Date\n",
       "count      10   10      10         10\n",
       "unique      3    5      10         10\n",
       "top       Pub  Blr     TCS   Apr 2004\n",
       "freq        4    4       1          1"
      ]
     },
     "execution_count": 132,
     "metadata": {},
     "output_type": "execute_result"
    }
   ],
   "source": [
    "# For categorical data \n",
    "df_stock.describe(include=np.object_)"
   ]
  },
  {
   "cell_type": "code",
   "execution_count": 131,
   "metadata": {},
   "outputs": [
    {
     "data": {
      "text/plain": [
       "(910, 995)"
      ]
     },
     "execution_count": 131,
     "metadata": {},
     "output_type": "execute_result"
    }
   ],
   "source": [
    "df_stock.Vol.min(), df_stock.Vol.max()"
   ]
  },
  {
   "cell_type": "code",
   "execution_count": 123,
   "metadata": {},
   "outputs": [
    {
     "data": {
      "text/plain": [
       "949.5"
      ]
     },
     "execution_count": 123,
     "metadata": {},
     "output_type": "execute_result"
    }
   ],
   "source": [
    "df_stock.Vol.sum()/10"
   ]
  },
  {
   "cell_type": "code",
   "execution_count": 120,
   "metadata": {},
   "outputs": [
    {
     "data": {
      "text/plain": [
       "(949.5, 874.0)"
      ]
     },
     "execution_count": 120,
     "metadata": {},
     "output_type": "execute_result"
    }
   ],
   "source": [
    "df_stock.Vol.mean(), df_stock.Rev.mean()"
   ]
  },
  {
   "cell_type": "code",
   "execution_count": 117,
   "metadata": {},
   "outputs": [
    {
     "data": {
      "text/html": [
       "<div>\n",
       "<style scoped>\n",
       "    .dataframe tbody tr th:only-of-type {\n",
       "        vertical-align: middle;\n",
       "    }\n",
       "\n",
       "    .dataframe tbody tr th {\n",
       "        vertical-align: top;\n",
       "    }\n",
       "\n",
       "    .dataframe thead th {\n",
       "        text-align: right;\n",
       "    }\n",
       "</style>\n",
       "<table border=\"1\" class=\"dataframe\">\n",
       "  <thead>\n",
       "    <tr style=\"text-align: right;\">\n",
       "      <th></th>\n",
       "      <th>Sector</th>\n",
       "      <th>HQ</th>\n",
       "      <th>StockID</th>\n",
       "      <th>Start Date</th>\n",
       "    </tr>\n",
       "  </thead>\n",
       "  <tbody>\n",
       "    <tr>\n",
       "      <th>count</th>\n",
       "      <td>10</td>\n",
       "      <td>10</td>\n",
       "      <td>10</td>\n",
       "      <td>10</td>\n",
       "    </tr>\n",
       "    <tr>\n",
       "      <th>unique</th>\n",
       "      <td>3</td>\n",
       "      <td>5</td>\n",
       "      <td>10</td>\n",
       "      <td>10</td>\n",
       "    </tr>\n",
       "    <tr>\n",
       "      <th>top</th>\n",
       "      <td>Pub</td>\n",
       "      <td>Blr</td>\n",
       "      <td>TCS</td>\n",
       "      <td>Apr 2004</td>\n",
       "    </tr>\n",
       "    <tr>\n",
       "      <th>freq</th>\n",
       "      <td>4</td>\n",
       "      <td>4</td>\n",
       "      <td>1</td>\n",
       "      <td>1</td>\n",
       "    </tr>\n",
       "  </tbody>\n",
       "</table>\n",
       "</div>"
      ],
      "text/plain": [
       "       Sector   HQ StockID Start Date\n",
       "count      10   10      10         10\n",
       "unique      3    5      10         10\n",
       "top       Pub  Blr     TCS   Apr 2004\n",
       "freq        4    4       1          1"
      ]
     },
     "execution_count": 117,
     "metadata": {},
     "output_type": "execute_result"
    }
   ],
   "source": [
    "df_stock.describe(include=np.object_)"
   ]
  },
  {
   "cell_type": "code",
   "execution_count": 118,
   "metadata": {},
   "outputs": [
    {
     "data": {
      "text/plain": [
       "Vol  Rev    Exp  Sector  EmpCnt  HQ   MNC  StockID  GST  Start Date\n",
       "910  810.8  650  Pvt     38000   Blr  1    MIND     18   Jan 2018      1\n",
       "920  820.6  655  Gov     92000   Mum  1    LTI      18   Dec 2016      1\n",
       "925  830.5  675  Pvt     38000   Blr  1    MPHS     5    Sep 2020      1\n",
       "940  850.2  665  Pub     146000  Pun  1    TMAH     12   Mar 2009      1\n",
       "945  845.2  685  Gov     25000   Pun  0    PRST     5    Apr 2021      1\n",
       "950  870.4  670  Pvt     225000  NCR  1    HCLT     5    Aug 2007      1\n",
       "960  890.5  680  Pub     250000  Blr  1    WIPR     5    Dec 2002      1\n",
       "970  930.8  690  Pvt     346000  Blr  1    INFY     12   Jul 1999      1\n",
       "980  950.3  700  Pub     500000  Mum  1    TCS      18   Apr 2004      1\n",
       "995  940.7  710  Pub     355000  Chn  1    COGN     12   May 2019      1\n",
       "Name: count, dtype: int64"
      ]
     },
     "execution_count": 118,
     "metadata": {},
     "output_type": "execute_result"
    }
   ],
   "source": [
    "df_stock.value_counts()"
   ]
  },
  {
   "cell_type": "code",
   "execution_count": 119,
   "metadata": {},
   "outputs": [
    {
     "data": {
      "text/plain": [
       "Sector\n",
       "Pub    4\n",
       "Pvt    4\n",
       "Gov    2\n",
       "Name: count, dtype: int64"
      ]
     },
     "execution_count": 119,
     "metadata": {},
     "output_type": "execute_result"
    }
   ],
   "source": [
    "df_stock.Sector.value_counts()"
   ]
  },
  {
   "cell_type": "code",
   "execution_count": 139,
   "metadata": {},
   "outputs": [
    {
     "data": {
      "text/html": [
       "<div>\n",
       "<style scoped>\n",
       "    .dataframe tbody tr th:only-of-type {\n",
       "        vertical-align: middle;\n",
       "    }\n",
       "\n",
       "    .dataframe tbody tr th {\n",
       "        vertical-align: top;\n",
       "    }\n",
       "\n",
       "    .dataframe thead th {\n",
       "        text-align: right;\n",
       "    }\n",
       "</style>\n",
       "<table border=\"1\" class=\"dataframe\">\n",
       "  <thead>\n",
       "    <tr style=\"text-align: right;\">\n",
       "      <th></th>\n",
       "      <th>Vol</th>\n",
       "      <th>Rev</th>\n",
       "      <th>Exp</th>\n",
       "      <th>EmpCnt</th>\n",
       "      <th>MNC</th>\n",
       "      <th>GST</th>\n",
       "    </tr>\n",
       "  </thead>\n",
       "  <tbody>\n",
       "    <tr>\n",
       "      <th>count</th>\n",
       "      <td>10.000000</td>\n",
       "      <td>10.000000</td>\n",
       "      <td>10.000000</td>\n",
       "      <td>10.000000</td>\n",
       "      <td>10.000000</td>\n",
       "      <td>10.000000</td>\n",
       "    </tr>\n",
       "    <tr>\n",
       "      <th>mean</th>\n",
       "      <td>949.500000</td>\n",
       "      <td>874.000000</td>\n",
       "      <td>678.000000</td>\n",
       "      <td>201500.000000</td>\n",
       "      <td>0.900000</td>\n",
       "      <td>11.000000</td>\n",
       "    </tr>\n",
       "    <tr>\n",
       "      <th>std</th>\n",
       "      <td>27.228457</td>\n",
       "      <td>51.549286</td>\n",
       "      <td>19.032137</td>\n",
       "      <td>161979.594051</td>\n",
       "      <td>0.316228</td>\n",
       "      <td>5.715476</td>\n",
       "    </tr>\n",
       "    <tr>\n",
       "      <th>min</th>\n",
       "      <td>910.000000</td>\n",
       "      <td>810.800000</td>\n",
       "      <td>650.000000</td>\n",
       "      <td>25000.000000</td>\n",
       "      <td>0.000000</td>\n",
       "      <td>5.000000</td>\n",
       "    </tr>\n",
       "    <tr>\n",
       "      <th>25%</th>\n",
       "      <td>928.750000</td>\n",
       "      <td>834.175000</td>\n",
       "      <td>666.250000</td>\n",
       "      <td>51500.000000</td>\n",
       "      <td>1.000000</td>\n",
       "      <td>5.000000</td>\n",
       "    </tr>\n",
       "    <tr>\n",
       "      <th>50%</th>\n",
       "      <td>947.500000</td>\n",
       "      <td>860.300000</td>\n",
       "      <td>677.500000</td>\n",
       "      <td>185500.000000</td>\n",
       "      <td>1.000000</td>\n",
       "      <td>12.000000</td>\n",
       "    </tr>\n",
       "    <tr>\n",
       "      <th>75%</th>\n",
       "      <td>967.500000</td>\n",
       "      <td>920.725000</td>\n",
       "      <td>688.750000</td>\n",
       "      <td>322000.000000</td>\n",
       "      <td>1.000000</td>\n",
       "      <td>16.500000</td>\n",
       "    </tr>\n",
       "    <tr>\n",
       "      <th>max</th>\n",
       "      <td>995.000000</td>\n",
       "      <td>950.300000</td>\n",
       "      <td>710.000000</td>\n",
       "      <td>500000.000000</td>\n",
       "      <td>1.000000</td>\n",
       "      <td>18.000000</td>\n",
       "    </tr>\n",
       "  </tbody>\n",
       "</table>\n",
       "</div>"
      ],
      "text/plain": [
       "              Vol         Rev         Exp         EmpCnt        MNC        GST\n",
       "count   10.000000   10.000000   10.000000      10.000000  10.000000  10.000000\n",
       "mean   949.500000  874.000000  678.000000  201500.000000   0.900000  11.000000\n",
       "std     27.228457   51.549286   19.032137  161979.594051   0.316228   5.715476\n",
       "min    910.000000  810.800000  650.000000   25000.000000   0.000000   5.000000\n",
       "25%    928.750000  834.175000  666.250000   51500.000000   1.000000   5.000000\n",
       "50%    947.500000  860.300000  677.500000  185500.000000   1.000000  12.000000\n",
       "75%    967.500000  920.725000  688.750000  322000.000000   1.000000  16.500000\n",
       "max    995.000000  950.300000  710.000000  500000.000000   1.000000  18.000000"
      ]
     },
     "execution_count": 139,
     "metadata": {},
     "output_type": "execute_result"
    }
   ],
   "source": [
    "# by default - it display numeric columns\n",
    "df_stock.describe()"
   ]
  },
  {
   "cell_type": "code",
   "execution_count": 142,
   "metadata": {},
   "outputs": [
    {
     "data": {
      "text/html": [
       "<div>\n",
       "<style scoped>\n",
       "    .dataframe tbody tr th:only-of-type {\n",
       "        vertical-align: middle;\n",
       "    }\n",
       "\n",
       "    .dataframe tbody tr th {\n",
       "        vertical-align: top;\n",
       "    }\n",
       "\n",
       "    .dataframe thead th {\n",
       "        text-align: right;\n",
       "    }\n",
       "</style>\n",
       "<table border=\"1\" class=\"dataframe\">\n",
       "  <thead>\n",
       "    <tr style=\"text-align: right;\">\n",
       "      <th></th>\n",
       "      <th>Sector</th>\n",
       "      <th>HQ</th>\n",
       "      <th>StockID</th>\n",
       "      <th>Start Date</th>\n",
       "    </tr>\n",
       "  </thead>\n",
       "  <tbody>\n",
       "    <tr>\n",
       "      <th>count</th>\n",
       "      <td>10</td>\n",
       "      <td>10</td>\n",
       "      <td>10</td>\n",
       "      <td>10</td>\n",
       "    </tr>\n",
       "    <tr>\n",
       "      <th>unique</th>\n",
       "      <td>3</td>\n",
       "      <td>5</td>\n",
       "      <td>10</td>\n",
       "      <td>10</td>\n",
       "    </tr>\n",
       "    <tr>\n",
       "      <th>top</th>\n",
       "      <td>Pub</td>\n",
       "      <td>Blr</td>\n",
       "      <td>TCS</td>\n",
       "      <td>Apr 2004</td>\n",
       "    </tr>\n",
       "    <tr>\n",
       "      <th>freq</th>\n",
       "      <td>4</td>\n",
       "      <td>4</td>\n",
       "      <td>1</td>\n",
       "      <td>1</td>\n",
       "    </tr>\n",
       "  </tbody>\n",
       "</table>\n",
       "</div>"
      ],
      "text/plain": [
       "       Sector   HQ StockID Start Date\n",
       "count      10   10      10         10\n",
       "unique      3    5      10         10\n",
       "top       Pub  Blr     TCS   Apr 2004\n",
       "freq        4    4       1          1"
      ]
     },
     "execution_count": 142,
     "metadata": {},
     "output_type": "execute_result"
    }
   ],
   "source": [
    "# displays categorical \n",
    "df_stock.describe(include = np.object_)"
   ]
  },
  {
   "cell_type": "code",
   "execution_count": 143,
   "metadata": {},
   "outputs": [
    {
     "data": {
      "text/html": [
       "<div>\n",
       "<style scoped>\n",
       "    .dataframe tbody tr th:only-of-type {\n",
       "        vertical-align: middle;\n",
       "    }\n",
       "\n",
       "    .dataframe tbody tr th {\n",
       "        vertical-align: top;\n",
       "    }\n",
       "\n",
       "    .dataframe thead th {\n",
       "        text-align: right;\n",
       "    }\n",
       "</style>\n",
       "<table border=\"1\" class=\"dataframe\">\n",
       "  <thead>\n",
       "    <tr style=\"text-align: right;\">\n",
       "      <th></th>\n",
       "      <th>Vol</th>\n",
       "      <th>Rev</th>\n",
       "      <th>Exp</th>\n",
       "      <th>Sector</th>\n",
       "      <th>EmpCnt</th>\n",
       "      <th>HQ</th>\n",
       "      <th>MNC</th>\n",
       "      <th>StockID</th>\n",
       "      <th>GST</th>\n",
       "      <th>Start Date</th>\n",
       "    </tr>\n",
       "  </thead>\n",
       "  <tbody>\n",
       "    <tr>\n",
       "      <th>count</th>\n",
       "      <td>10.000000</td>\n",
       "      <td>10.000000</td>\n",
       "      <td>10.000000</td>\n",
       "      <td>10</td>\n",
       "      <td>10.000000</td>\n",
       "      <td>10</td>\n",
       "      <td>10.000000</td>\n",
       "      <td>10</td>\n",
       "      <td>10.000000</td>\n",
       "      <td>10</td>\n",
       "    </tr>\n",
       "    <tr>\n",
       "      <th>unique</th>\n",
       "      <td>NaN</td>\n",
       "      <td>NaN</td>\n",
       "      <td>NaN</td>\n",
       "      <td>3</td>\n",
       "      <td>NaN</td>\n",
       "      <td>5</td>\n",
       "      <td>NaN</td>\n",
       "      <td>10</td>\n",
       "      <td>NaN</td>\n",
       "      <td>10</td>\n",
       "    </tr>\n",
       "    <tr>\n",
       "      <th>top</th>\n",
       "      <td>NaN</td>\n",
       "      <td>NaN</td>\n",
       "      <td>NaN</td>\n",
       "      <td>Pub</td>\n",
       "      <td>NaN</td>\n",
       "      <td>Blr</td>\n",
       "      <td>NaN</td>\n",
       "      <td>TCS</td>\n",
       "      <td>NaN</td>\n",
       "      <td>Apr 2004</td>\n",
       "    </tr>\n",
       "    <tr>\n",
       "      <th>freq</th>\n",
       "      <td>NaN</td>\n",
       "      <td>NaN</td>\n",
       "      <td>NaN</td>\n",
       "      <td>4</td>\n",
       "      <td>NaN</td>\n",
       "      <td>4</td>\n",
       "      <td>NaN</td>\n",
       "      <td>1</td>\n",
       "      <td>NaN</td>\n",
       "      <td>1</td>\n",
       "    </tr>\n",
       "    <tr>\n",
       "      <th>mean</th>\n",
       "      <td>949.500000</td>\n",
       "      <td>874.000000</td>\n",
       "      <td>678.000000</td>\n",
       "      <td>NaN</td>\n",
       "      <td>201500.000000</td>\n",
       "      <td>NaN</td>\n",
       "      <td>0.900000</td>\n",
       "      <td>NaN</td>\n",
       "      <td>11.000000</td>\n",
       "      <td>NaN</td>\n",
       "    </tr>\n",
       "    <tr>\n",
       "      <th>std</th>\n",
       "      <td>27.228457</td>\n",
       "      <td>51.549286</td>\n",
       "      <td>19.032137</td>\n",
       "      <td>NaN</td>\n",
       "      <td>161979.594051</td>\n",
       "      <td>NaN</td>\n",
       "      <td>0.316228</td>\n",
       "      <td>NaN</td>\n",
       "      <td>5.715476</td>\n",
       "      <td>NaN</td>\n",
       "    </tr>\n",
       "    <tr>\n",
       "      <th>min</th>\n",
       "      <td>910.000000</td>\n",
       "      <td>810.800000</td>\n",
       "      <td>650.000000</td>\n",
       "      <td>NaN</td>\n",
       "      <td>25000.000000</td>\n",
       "      <td>NaN</td>\n",
       "      <td>0.000000</td>\n",
       "      <td>NaN</td>\n",
       "      <td>5.000000</td>\n",
       "      <td>NaN</td>\n",
       "    </tr>\n",
       "    <tr>\n",
       "      <th>25%</th>\n",
       "      <td>928.750000</td>\n",
       "      <td>834.175000</td>\n",
       "      <td>666.250000</td>\n",
       "      <td>NaN</td>\n",
       "      <td>51500.000000</td>\n",
       "      <td>NaN</td>\n",
       "      <td>1.000000</td>\n",
       "      <td>NaN</td>\n",
       "      <td>5.000000</td>\n",
       "      <td>NaN</td>\n",
       "    </tr>\n",
       "    <tr>\n",
       "      <th>50%</th>\n",
       "      <td>947.500000</td>\n",
       "      <td>860.300000</td>\n",
       "      <td>677.500000</td>\n",
       "      <td>NaN</td>\n",
       "      <td>185500.000000</td>\n",
       "      <td>NaN</td>\n",
       "      <td>1.000000</td>\n",
       "      <td>NaN</td>\n",
       "      <td>12.000000</td>\n",
       "      <td>NaN</td>\n",
       "    </tr>\n",
       "    <tr>\n",
       "      <th>75%</th>\n",
       "      <td>967.500000</td>\n",
       "      <td>920.725000</td>\n",
       "      <td>688.750000</td>\n",
       "      <td>NaN</td>\n",
       "      <td>322000.000000</td>\n",
       "      <td>NaN</td>\n",
       "      <td>1.000000</td>\n",
       "      <td>NaN</td>\n",
       "      <td>16.500000</td>\n",
       "      <td>NaN</td>\n",
       "    </tr>\n",
       "    <tr>\n",
       "      <th>max</th>\n",
       "      <td>995.000000</td>\n",
       "      <td>950.300000</td>\n",
       "      <td>710.000000</td>\n",
       "      <td>NaN</td>\n",
       "      <td>500000.000000</td>\n",
       "      <td>NaN</td>\n",
       "      <td>1.000000</td>\n",
       "      <td>NaN</td>\n",
       "      <td>18.000000</td>\n",
       "      <td>NaN</td>\n",
       "    </tr>\n",
       "  </tbody>\n",
       "</table>\n",
       "</div>"
      ],
      "text/plain": [
       "               Vol         Rev         Exp Sector         EmpCnt   HQ  \\\n",
       "count    10.000000   10.000000   10.000000     10      10.000000   10   \n",
       "unique         NaN         NaN         NaN      3            NaN    5   \n",
       "top            NaN         NaN         NaN    Pub            NaN  Blr   \n",
       "freq           NaN         NaN         NaN      4            NaN    4   \n",
       "mean    949.500000  874.000000  678.000000    NaN  201500.000000  NaN   \n",
       "std      27.228457   51.549286   19.032137    NaN  161979.594051  NaN   \n",
       "min     910.000000  810.800000  650.000000    NaN   25000.000000  NaN   \n",
       "25%     928.750000  834.175000  666.250000    NaN   51500.000000  NaN   \n",
       "50%     947.500000  860.300000  677.500000    NaN  185500.000000  NaN   \n",
       "75%     967.500000  920.725000  688.750000    NaN  322000.000000  NaN   \n",
       "max     995.000000  950.300000  710.000000    NaN  500000.000000  NaN   \n",
       "\n",
       "              MNC StockID        GST Start Date  \n",
       "count   10.000000      10  10.000000         10  \n",
       "unique        NaN      10        NaN         10  \n",
       "top           NaN     TCS        NaN   Apr 2004  \n",
       "freq          NaN       1        NaN          1  \n",
       "mean     0.900000     NaN  11.000000        NaN  \n",
       "std      0.316228     NaN   5.715476        NaN  \n",
       "min      0.000000     NaN   5.000000        NaN  \n",
       "25%      1.000000     NaN   5.000000        NaN  \n",
       "50%      1.000000     NaN  12.000000        NaN  \n",
       "75%      1.000000     NaN  16.500000        NaN  \n",
       "max      1.000000     NaN  18.000000        NaN  "
      ]
     },
     "execution_count": 143,
     "metadata": {},
     "output_type": "execute_result"
    }
   ],
   "source": [
    "# Five Point Summary - pd.describe\n",
    "df_stock.describe(include='all')"
   ]
  },
  {
   "cell_type": "code",
   "execution_count": 146,
   "metadata": {},
   "outputs": [
    {
     "data": {
      "text/html": [
       "<div>\n",
       "<style scoped>\n",
       "    .dataframe tbody tr th:only-of-type {\n",
       "        vertical-align: middle;\n",
       "    }\n",
       "\n",
       "    .dataframe tbody tr th {\n",
       "        vertical-align: top;\n",
       "    }\n",
       "\n",
       "    .dataframe thead th {\n",
       "        text-align: right;\n",
       "    }\n",
       "</style>\n",
       "<table border=\"1\" class=\"dataframe\">\n",
       "  <thead>\n",
       "    <tr style=\"text-align: right;\">\n",
       "      <th></th>\n",
       "      <th>Vol</th>\n",
       "      <th>Rev</th>\n",
       "      <th>Exp</th>\n",
       "      <th>EmpCnt</th>\n",
       "      <th>MNC</th>\n",
       "      <th>GST</th>\n",
       "    </tr>\n",
       "  </thead>\n",
       "  <tbody>\n",
       "    <tr>\n",
       "      <th>count</th>\n",
       "      <td>10.000000</td>\n",
       "      <td>10.000000</td>\n",
       "      <td>10.000000</td>\n",
       "      <td>10.000000</td>\n",
       "      <td>10.000000</td>\n",
       "      <td>10.000000</td>\n",
       "    </tr>\n",
       "    <tr>\n",
       "      <th>mean</th>\n",
       "      <td>949.500000</td>\n",
       "      <td>874.000000</td>\n",
       "      <td>678.000000</td>\n",
       "      <td>201500.000000</td>\n",
       "      <td>0.900000</td>\n",
       "      <td>11.000000</td>\n",
       "    </tr>\n",
       "    <tr>\n",
       "      <th>std</th>\n",
       "      <td>27.228457</td>\n",
       "      <td>51.549286</td>\n",
       "      <td>19.032137</td>\n",
       "      <td>161979.594051</td>\n",
       "      <td>0.316228</td>\n",
       "      <td>5.715476</td>\n",
       "    </tr>\n",
       "    <tr>\n",
       "      <th>min</th>\n",
       "      <td>910.000000</td>\n",
       "      <td>810.800000</td>\n",
       "      <td>650.000000</td>\n",
       "      <td>25000.000000</td>\n",
       "      <td>0.000000</td>\n",
       "      <td>5.000000</td>\n",
       "    </tr>\n",
       "    <tr>\n",
       "      <th>25%</th>\n",
       "      <td>928.750000</td>\n",
       "      <td>834.175000</td>\n",
       "      <td>666.250000</td>\n",
       "      <td>51500.000000</td>\n",
       "      <td>1.000000</td>\n",
       "      <td>5.000000</td>\n",
       "    </tr>\n",
       "    <tr>\n",
       "      <th>50%</th>\n",
       "      <td>947.500000</td>\n",
       "      <td>860.300000</td>\n",
       "      <td>677.500000</td>\n",
       "      <td>185500.000000</td>\n",
       "      <td>1.000000</td>\n",
       "      <td>12.000000</td>\n",
       "    </tr>\n",
       "    <tr>\n",
       "      <th>75%</th>\n",
       "      <td>967.500000</td>\n",
       "      <td>920.725000</td>\n",
       "      <td>688.750000</td>\n",
       "      <td>322000.000000</td>\n",
       "      <td>1.000000</td>\n",
       "      <td>16.500000</td>\n",
       "    </tr>\n",
       "    <tr>\n",
       "      <th>max</th>\n",
       "      <td>995.000000</td>\n",
       "      <td>950.300000</td>\n",
       "      <td>710.000000</td>\n",
       "      <td>500000.000000</td>\n",
       "      <td>1.000000</td>\n",
       "      <td>18.000000</td>\n",
       "    </tr>\n",
       "  </tbody>\n",
       "</table>\n",
       "</div>"
      ],
      "text/plain": [
       "              Vol         Rev         Exp         EmpCnt        MNC        GST\n",
       "count   10.000000   10.000000   10.000000      10.000000  10.000000  10.000000\n",
       "mean   949.500000  874.000000  678.000000  201500.000000   0.900000  11.000000\n",
       "std     27.228457   51.549286   19.032137  161979.594051   0.316228   5.715476\n",
       "min    910.000000  810.800000  650.000000   25000.000000   0.000000   5.000000\n",
       "25%    928.750000  834.175000  666.250000   51500.000000   1.000000   5.000000\n",
       "50%    947.500000  860.300000  677.500000  185500.000000   1.000000  12.000000\n",
       "75%    967.500000  920.725000  688.750000  322000.000000   1.000000  16.500000\n",
       "max    995.000000  950.300000  710.000000  500000.000000   1.000000  18.000000"
      ]
     },
     "execution_count": 146,
     "metadata": {},
     "output_type": "execute_result"
    }
   ],
   "source": [
    "# describe or five point summary is stored as dataframe\n",
    "d = df_stock.describe()\n",
    "d"
   ]
  },
  {
   "cell_type": "code",
   "execution_count": 122,
   "metadata": {},
   "outputs": [
    {
     "name": "stdout",
     "output_type": "stream",
     "text": [
      "              Vol         Rev         Exp         EmpCnt        MNC        GST\n",
      "count   10.000000   10.000000   10.000000      10.000000  10.000000  10.000000\n",
      "mean   949.500000  874.000000  678.000000  201500.000000   0.900000  11.000000\n",
      "std     27.228457   51.549286   19.032137  161979.594051   0.316228   5.715476\n",
      "min    910.000000  810.800000  650.000000   25000.000000   0.000000   5.000000\n",
      "25%    928.750000  834.175000  666.250000   51500.000000   1.000000   5.000000\n",
      "50%    947.500000  860.300000  677.500000  185500.000000   1.000000  12.000000\n",
      "75%    967.500000  920.725000  688.750000  322000.000000   1.000000  16.500000\n",
      "max    995.000000  950.300000  710.000000  500000.000000   1.000000  18.000000\n",
      "\n",
      "Index(['count', 'mean', 'std', 'min', '25%', '50%', '75%', 'max'], dtype='object')\n",
      "\n",
      "Index(['Vol', 'Rev', 'Exp', 'EmpCnt', 'MNC', 'GST'], dtype='object')\n"
     ]
    }
   ],
   "source": [
    "d = df_stock.describe()\n",
    "print(d)\n",
    "print()\n",
    "print(d.index)\n",
    "print()\n",
    "print(d.columns)"
   ]
  },
  {
   "cell_type": "code",
   "execution_count": 123,
   "metadata": {},
   "outputs": [
    {
     "data": {
      "text/html": [
       "<div>\n",
       "<style scoped>\n",
       "    .dataframe tbody tr th:only-of-type {\n",
       "        vertical-align: middle;\n",
       "    }\n",
       "\n",
       "    .dataframe tbody tr th {\n",
       "        vertical-align: top;\n",
       "    }\n",
       "\n",
       "    .dataframe thead th {\n",
       "        text-align: right;\n",
       "    }\n",
       "</style>\n",
       "<table border=\"1\" class=\"dataframe\">\n",
       "  <thead>\n",
       "    <tr style=\"text-align: right;\">\n",
       "      <th></th>\n",
       "      <th>Sector</th>\n",
       "      <th>HQ</th>\n",
       "      <th>StockID</th>\n",
       "      <th>Start Date</th>\n",
       "    </tr>\n",
       "  </thead>\n",
       "  <tbody>\n",
       "    <tr>\n",
       "      <th>count</th>\n",
       "      <td>10</td>\n",
       "      <td>10</td>\n",
       "      <td>10</td>\n",
       "      <td>10</td>\n",
       "    </tr>\n",
       "    <tr>\n",
       "      <th>unique</th>\n",
       "      <td>3</td>\n",
       "      <td>5</td>\n",
       "      <td>10</td>\n",
       "      <td>10</td>\n",
       "    </tr>\n",
       "    <tr>\n",
       "      <th>top</th>\n",
       "      <td>Pub</td>\n",
       "      <td>Blr</td>\n",
       "      <td>TCS</td>\n",
       "      <td>Apr 2004</td>\n",
       "    </tr>\n",
       "    <tr>\n",
       "      <th>freq</th>\n",
       "      <td>4</td>\n",
       "      <td>4</td>\n",
       "      <td>1</td>\n",
       "      <td>1</td>\n",
       "    </tr>\n",
       "  </tbody>\n",
       "</table>\n",
       "</div>"
      ],
      "text/plain": [
       "       Sector   HQ StockID Start Date\n",
       "count      10   10      10         10\n",
       "unique      3    5      10         10\n",
       "top       Pub  Blr     TCS   Apr 2004\n",
       "freq        4    4       1          1"
      ]
     },
     "execution_count": 123,
     "metadata": {},
     "output_type": "execute_result"
    }
   ],
   "source": [
    "df_stock.describe(exclude=np.number)"
   ]
  },
  {
   "cell_type": "code",
   "execution_count": 147,
   "metadata": {},
   "outputs": [],
   "source": [
    "# convert dataframe into excel, html, json and csv format"
   ]
  },
  {
   "cell_type": "code",
   "execution_count": null,
   "metadata": {},
   "outputs": [],
   "source": [
    "df_stock.to_excel()"
   ]
  },
  {
   "cell_type": "code",
   "execution_count": 125,
   "metadata": {},
   "outputs": [],
   "source": [
    "df_stock.to_excel('1d_stock.xlsx')"
   ]
  },
  {
   "cell_type": "code",
   "execution_count": 128,
   "metadata": {},
   "outputs": [],
   "source": [
    "df_stock.to_html('1d_stock.html')"
   ]
  },
  {
   "cell_type": "code",
   "execution_count": 129,
   "metadata": {},
   "outputs": [],
   "source": [
    "df_stock.to_json('1d_stock.json')"
   ]
  },
  {
   "cell_type": "code",
   "execution_count": 130,
   "metadata": {},
   "outputs": [],
   "source": [
    "df_stock.to_csv('1d_stock.csv')"
   ]
  },
  {
   "cell_type": "code",
   "execution_count": 149,
   "metadata": {},
   "outputs": [
    {
     "name": "stdout",
     "output_type": "stream",
     "text": [
      "zsh:1: command not found: dir\r\n"
     ]
    }
   ],
   "source": [
    "!dir 1d*"
   ]
  },
  {
   "cell_type": "code",
   "execution_count": 148,
   "metadata": {},
   "outputs": [
    {
     "name": "stdout",
     "output_type": "stream",
     "text": [
      "-rw-r--r--@ 1 vidyadharbendre  staff   663 Mar 13 20:38 1d_stock.csv\r\n",
      "-rw-r--r--@ 1 vidyadharbendre  staff  2801 Mar 13 20:35 1d_stock.html\r\n",
      "-rw-r--r--@ 1 vidyadharbendre  staff  2207 Mar 13 20:36 1d_stock.json\r\n",
      "-rw-r--r--@ 1 vidyadharbendre  staff  9515 Mar 17 19:45 1d_stock.xlsx\r\n"
     ]
    }
   ],
   "source": [
    "!ls -la 1d*"
   ]
  },
  {
   "cell_type": "code",
   "execution_count": 150,
   "metadata": {},
   "outputs": [
    {
     "data": {
      "text/html": [
       "<div>\n",
       "<style scoped>\n",
       "    .dataframe tbody tr th:only-of-type {\n",
       "        vertical-align: middle;\n",
       "    }\n",
       "\n",
       "    .dataframe tbody tr th {\n",
       "        vertical-align: top;\n",
       "    }\n",
       "\n",
       "    .dataframe thead th {\n",
       "        text-align: right;\n",
       "    }\n",
       "</style>\n",
       "<table border=\"1\" class=\"dataframe\">\n",
       "  <thead>\n",
       "    <tr style=\"text-align: right;\">\n",
       "      <th></th>\n",
       "      <th>Unnamed: 0</th>\n",
       "      <th>Vol</th>\n",
       "      <th>Rev</th>\n",
       "      <th>Exp</th>\n",
       "      <th>Sector</th>\n",
       "      <th>EmpCnt</th>\n",
       "      <th>HQ</th>\n",
       "      <th>MNC</th>\n",
       "      <th>StockID</th>\n",
       "      <th>GST</th>\n",
       "      <th>Start Date</th>\n",
       "    </tr>\n",
       "  </thead>\n",
       "  <tbody>\n",
       "    <tr>\n",
       "      <th>0</th>\n",
       "      <td>TCS_Solutions</td>\n",
       "      <td>980</td>\n",
       "      <td>950.3</td>\n",
       "      <td>700</td>\n",
       "      <td>Pub</td>\n",
       "      <td>500000</td>\n",
       "      <td>Mum</td>\n",
       "      <td>1</td>\n",
       "      <td>TCS</td>\n",
       "      <td>18</td>\n",
       "      <td>Apr 2004</td>\n",
       "    </tr>\n",
       "    <tr>\n",
       "      <th>1</th>\n",
       "      <td>Infosys_Tech</td>\n",
       "      <td>970</td>\n",
       "      <td>930.8</td>\n",
       "      <td>690</td>\n",
       "      <td>Pvt</td>\n",
       "      <td>346000</td>\n",
       "      <td>Blr</td>\n",
       "      <td>1</td>\n",
       "      <td>INFY</td>\n",
       "      <td>12</td>\n",
       "      <td>Jul 1999</td>\n",
       "    </tr>\n",
       "    <tr>\n",
       "      <th>2</th>\n",
       "      <td>Wipro_Services</td>\n",
       "      <td>960</td>\n",
       "      <td>890.5</td>\n",
       "      <td>680</td>\n",
       "      <td>Pub</td>\n",
       "      <td>250000</td>\n",
       "      <td>Blr</td>\n",
       "      <td>1</td>\n",
       "      <td>WIPR</td>\n",
       "      <td>5</td>\n",
       "      <td>Dec 2002</td>\n",
       "    </tr>\n",
       "    <tr>\n",
       "      <th>3</th>\n",
       "      <td>HCL_Tech</td>\n",
       "      <td>950</td>\n",
       "      <td>870.4</td>\n",
       "      <td>670</td>\n",
       "      <td>Pvt</td>\n",
       "      <td>225000</td>\n",
       "      <td>NCR</td>\n",
       "      <td>1</td>\n",
       "      <td>HCLT</td>\n",
       "      <td>5</td>\n",
       "      <td>Aug 2007</td>\n",
       "    </tr>\n",
       "    <tr>\n",
       "      <th>4</th>\n",
       "      <td>TechMahindra</td>\n",
       "      <td>940</td>\n",
       "      <td>850.2</td>\n",
       "      <td>665</td>\n",
       "      <td>Pub</td>\n",
       "      <td>146000</td>\n",
       "      <td>Pun</td>\n",
       "      <td>1</td>\n",
       "      <td>TMAH</td>\n",
       "      <td>12</td>\n",
       "      <td>Mar 2009</td>\n",
       "    </tr>\n",
       "    <tr>\n",
       "      <th>5</th>\n",
       "      <td>LT_Infotech</td>\n",
       "      <td>920</td>\n",
       "      <td>820.6</td>\n",
       "      <td>655</td>\n",
       "      <td>Gov</td>\n",
       "      <td>92000</td>\n",
       "      <td>Mum</td>\n",
       "      <td>1</td>\n",
       "      <td>LTI</td>\n",
       "      <td>18</td>\n",
       "      <td>Dec 2016</td>\n",
       "    </tr>\n",
       "    <tr>\n",
       "      <th>6</th>\n",
       "      <td>Mindtree_Ltd</td>\n",
       "      <td>910</td>\n",
       "      <td>810.8</td>\n",
       "      <td>650</td>\n",
       "      <td>Pvt</td>\n",
       "      <td>38000</td>\n",
       "      <td>Blr</td>\n",
       "      <td>1</td>\n",
       "      <td>MIND</td>\n",
       "      <td>18</td>\n",
       "      <td>Jan 2018</td>\n",
       "    </tr>\n",
       "    <tr>\n",
       "      <th>7</th>\n",
       "      <td>Cognizant_India</td>\n",
       "      <td>995</td>\n",
       "      <td>940.7</td>\n",
       "      <td>710</td>\n",
       "      <td>Pub</td>\n",
       "      <td>355000</td>\n",
       "      <td>Chn</td>\n",
       "      <td>1</td>\n",
       "      <td>COGN</td>\n",
       "      <td>12</td>\n",
       "      <td>May 2019</td>\n",
       "    </tr>\n",
       "    <tr>\n",
       "      <th>8</th>\n",
       "      <td>Mphasis_Ltd</td>\n",
       "      <td>925</td>\n",
       "      <td>830.5</td>\n",
       "      <td>675</td>\n",
       "      <td>Pvt</td>\n",
       "      <td>38000</td>\n",
       "      <td>Blr</td>\n",
       "      <td>1</td>\n",
       "      <td>MPHS</td>\n",
       "      <td>5</td>\n",
       "      <td>Sep 2020</td>\n",
       "    </tr>\n",
       "    <tr>\n",
       "      <th>9</th>\n",
       "      <td>Persistent_Systems</td>\n",
       "      <td>945</td>\n",
       "      <td>845.2</td>\n",
       "      <td>685</td>\n",
       "      <td>Gov</td>\n",
       "      <td>25000</td>\n",
       "      <td>Pun</td>\n",
       "      <td>0</td>\n",
       "      <td>PRST</td>\n",
       "      <td>5</td>\n",
       "      <td>Apr 2021</td>\n",
       "    </tr>\n",
       "  </tbody>\n",
       "</table>\n",
       "</div>"
      ],
      "text/plain": [
       "           Unnamed: 0  Vol    Rev  Exp Sector  EmpCnt   HQ  MNC StockID  GST  \\\n",
       "0       TCS_Solutions  980  950.3  700    Pub  500000  Mum    1     TCS   18   \n",
       "1        Infosys_Tech  970  930.8  690    Pvt  346000  Blr    1    INFY   12   \n",
       "2      Wipro_Services  960  890.5  680    Pub  250000  Blr    1    WIPR    5   \n",
       "3            HCL_Tech  950  870.4  670    Pvt  225000  NCR    1    HCLT    5   \n",
       "4        TechMahindra  940  850.2  665    Pub  146000  Pun    1    TMAH   12   \n",
       "5         LT_Infotech  920  820.6  655    Gov   92000  Mum    1     LTI   18   \n",
       "6        Mindtree_Ltd  910  810.8  650    Pvt   38000  Blr    1    MIND   18   \n",
       "7     Cognizant_India  995  940.7  710    Pub  355000  Chn    1    COGN   12   \n",
       "8         Mphasis_Ltd  925  830.5  675    Pvt   38000  Blr    1    MPHS    5   \n",
       "9  Persistent_Systems  945  845.2  685    Gov   25000  Pun    0    PRST    5   \n",
       "\n",
       "  Start Date  \n",
       "0   Apr 2004  \n",
       "1   Jul 1999  \n",
       "2   Dec 2002  \n",
       "3   Aug 2007  \n",
       "4   Mar 2009  \n",
       "5   Dec 2016  \n",
       "6   Jan 2018  \n",
       "7   May 2019  \n",
       "8   Sep 2020  \n",
       "9   Apr 2021  "
      ]
     },
     "execution_count": 150,
     "metadata": {},
     "output_type": "execute_result"
    }
   ],
   "source": [
    "pd.read_excel('1d_stock.xlsx')"
   ]
  },
  {
   "cell_type": "code",
   "execution_count": 134,
   "metadata": {},
   "outputs": [
    {
     "data": {
      "text/html": [
       "<div>\n",
       "<style scoped>\n",
       "    .dataframe tbody tr th:only-of-type {\n",
       "        vertical-align: middle;\n",
       "    }\n",
       "\n",
       "    .dataframe tbody tr th {\n",
       "        vertical-align: top;\n",
       "    }\n",
       "\n",
       "    .dataframe thead th {\n",
       "        text-align: right;\n",
       "    }\n",
       "</style>\n",
       "<table border=\"1\" class=\"dataframe\">\n",
       "  <thead>\n",
       "    <tr style=\"text-align: right;\">\n",
       "      <th></th>\n",
       "      <th>Vol</th>\n",
       "      <th>Rev</th>\n",
       "      <th>Exp</th>\n",
       "      <th>Sector</th>\n",
       "      <th>EmpCnt</th>\n",
       "      <th>HQ</th>\n",
       "      <th>MNC</th>\n",
       "      <th>StockID</th>\n",
       "      <th>GST</th>\n",
       "      <th>Start Date</th>\n",
       "    </tr>\n",
       "  </thead>\n",
       "  <tbody>\n",
       "    <tr>\n",
       "      <th>TCS_Solutions</th>\n",
       "      <td>980</td>\n",
       "      <td>950.3</td>\n",
       "      <td>700</td>\n",
       "      <td>Pub</td>\n",
       "      <td>500000</td>\n",
       "      <td>Mum</td>\n",
       "      <td>1</td>\n",
       "      <td>TCS</td>\n",
       "      <td>18</td>\n",
       "      <td>Apr 2004</td>\n",
       "    </tr>\n",
       "    <tr>\n",
       "      <th>Infosys_Tech</th>\n",
       "      <td>970</td>\n",
       "      <td>930.8</td>\n",
       "      <td>690</td>\n",
       "      <td>Pvt</td>\n",
       "      <td>346000</td>\n",
       "      <td>Blr</td>\n",
       "      <td>1</td>\n",
       "      <td>INFY</td>\n",
       "      <td>12</td>\n",
       "      <td>Jul 1999</td>\n",
       "    </tr>\n",
       "    <tr>\n",
       "      <th>Wipro_Services</th>\n",
       "      <td>960</td>\n",
       "      <td>890.5</td>\n",
       "      <td>680</td>\n",
       "      <td>Pub</td>\n",
       "      <td>250000</td>\n",
       "      <td>Blr</td>\n",
       "      <td>1</td>\n",
       "      <td>WIPR</td>\n",
       "      <td>5</td>\n",
       "      <td>Dec 2002</td>\n",
       "    </tr>\n",
       "    <tr>\n",
       "      <th>HCL_Tech</th>\n",
       "      <td>950</td>\n",
       "      <td>870.4</td>\n",
       "      <td>670</td>\n",
       "      <td>Pvt</td>\n",
       "      <td>225000</td>\n",
       "      <td>NCR</td>\n",
       "      <td>1</td>\n",
       "      <td>HCLT</td>\n",
       "      <td>5</td>\n",
       "      <td>Aug 2007</td>\n",
       "    </tr>\n",
       "    <tr>\n",
       "      <th>TechMahindra</th>\n",
       "      <td>940</td>\n",
       "      <td>850.2</td>\n",
       "      <td>665</td>\n",
       "      <td>Pub</td>\n",
       "      <td>146000</td>\n",
       "      <td>Pun</td>\n",
       "      <td>1</td>\n",
       "      <td>TMAH</td>\n",
       "      <td>12</td>\n",
       "      <td>Mar 2009</td>\n",
       "    </tr>\n",
       "    <tr>\n",
       "      <th>LT_Infotech</th>\n",
       "      <td>920</td>\n",
       "      <td>820.6</td>\n",
       "      <td>655</td>\n",
       "      <td>Gov</td>\n",
       "      <td>92000</td>\n",
       "      <td>Mum</td>\n",
       "      <td>1</td>\n",
       "      <td>LTI</td>\n",
       "      <td>18</td>\n",
       "      <td>Dec 2016</td>\n",
       "    </tr>\n",
       "    <tr>\n",
       "      <th>Mindtree_Ltd</th>\n",
       "      <td>910</td>\n",
       "      <td>810.8</td>\n",
       "      <td>650</td>\n",
       "      <td>Pvt</td>\n",
       "      <td>38000</td>\n",
       "      <td>Blr</td>\n",
       "      <td>1</td>\n",
       "      <td>MIND</td>\n",
       "      <td>18</td>\n",
       "      <td>Jan 2018</td>\n",
       "    </tr>\n",
       "    <tr>\n",
       "      <th>Cognizant_India</th>\n",
       "      <td>995</td>\n",
       "      <td>940.7</td>\n",
       "      <td>710</td>\n",
       "      <td>Pub</td>\n",
       "      <td>355000</td>\n",
       "      <td>Chn</td>\n",
       "      <td>1</td>\n",
       "      <td>COGN</td>\n",
       "      <td>12</td>\n",
       "      <td>May 2019</td>\n",
       "    </tr>\n",
       "    <tr>\n",
       "      <th>Mphasis_Ltd</th>\n",
       "      <td>925</td>\n",
       "      <td>830.5</td>\n",
       "      <td>675</td>\n",
       "      <td>Pvt</td>\n",
       "      <td>38000</td>\n",
       "      <td>Blr</td>\n",
       "      <td>1</td>\n",
       "      <td>MPHS</td>\n",
       "      <td>5</td>\n",
       "      <td>Sep 2020</td>\n",
       "    </tr>\n",
       "    <tr>\n",
       "      <th>Persistent_Systems</th>\n",
       "      <td>945</td>\n",
       "      <td>845.2</td>\n",
       "      <td>685</td>\n",
       "      <td>Gov</td>\n",
       "      <td>25000</td>\n",
       "      <td>Pun</td>\n",
       "      <td>0</td>\n",
       "      <td>PRST</td>\n",
       "      <td>5</td>\n",
       "      <td>Apr 2021</td>\n",
       "    </tr>\n",
       "  </tbody>\n",
       "</table>\n",
       "</div>"
      ],
      "text/plain": [
       "                    Vol    Rev  Exp Sector  EmpCnt   HQ  MNC StockID  GST  \\\n",
       "TCS_Solutions       980  950.3  700    Pub  500000  Mum    1     TCS   18   \n",
       "Infosys_Tech        970  930.8  690    Pvt  346000  Blr    1    INFY   12   \n",
       "Wipro_Services      960  890.5  680    Pub  250000  Blr    1    WIPR    5   \n",
       "HCL_Tech            950  870.4  670    Pvt  225000  NCR    1    HCLT    5   \n",
       "TechMahindra        940  850.2  665    Pub  146000  Pun    1    TMAH   12   \n",
       "LT_Infotech         920  820.6  655    Gov   92000  Mum    1     LTI   18   \n",
       "Mindtree_Ltd        910  810.8  650    Pvt   38000  Blr    1    MIND   18   \n",
       "Cognizant_India     995  940.7  710    Pub  355000  Chn    1    COGN   12   \n",
       "Mphasis_Ltd         925  830.5  675    Pvt   38000  Blr    1    MPHS    5   \n",
       "Persistent_Systems  945  845.2  685    Gov   25000  Pun    0    PRST    5   \n",
       "\n",
       "                   Start Date  \n",
       "TCS_Solutions        Apr 2004  \n",
       "Infosys_Tech         Jul 1999  \n",
       "Wipro_Services       Dec 2002  \n",
       "HCL_Tech             Aug 2007  \n",
       "TechMahindra         Mar 2009  \n",
       "LT_Infotech          Dec 2016  \n",
       "Mindtree_Ltd         Jan 2018  \n",
       "Cognizant_India      May 2019  \n",
       "Mphasis_Ltd          Sep 2020  \n",
       "Persistent_Systems   Apr 2021  "
      ]
     },
     "execution_count": 134,
     "metadata": {},
     "output_type": "execute_result"
    }
   ],
   "source": [
    "pd.read_excel('1d_stock.xlsx', index_col=0)"
   ]
  },
  {
   "cell_type": "code",
   "execution_count": 137,
   "metadata": {},
   "outputs": [
    {
     "data": {
      "text/html": [
       "<div>\n",
       "<style scoped>\n",
       "    .dataframe tbody tr th:only-of-type {\n",
       "        vertical-align: middle;\n",
       "    }\n",
       "\n",
       "    .dataframe tbody tr th {\n",
       "        vertical-align: top;\n",
       "    }\n",
       "\n",
       "    .dataframe thead th {\n",
       "        text-align: right;\n",
       "    }\n",
       "</style>\n",
       "<table border=\"1\" class=\"dataframe\">\n",
       "  <thead>\n",
       "    <tr style=\"text-align: right;\">\n",
       "      <th></th>\n",
       "      <th>Vol</th>\n",
       "      <th>Rev</th>\n",
       "      <th>Exp</th>\n",
       "      <th>Sector</th>\n",
       "      <th>EmpCnt</th>\n",
       "      <th>HQ</th>\n",
       "      <th>MNC</th>\n",
       "      <th>StockID</th>\n",
       "      <th>GST</th>\n",
       "      <th>Start Date</th>\n",
       "    </tr>\n",
       "  </thead>\n",
       "  <tbody>\n",
       "    <tr>\n",
       "      <th>TCS_Solutions</th>\n",
       "      <td>980</td>\n",
       "      <td>950.3</td>\n",
       "      <td>700</td>\n",
       "      <td>Pub</td>\n",
       "      <td>500000</td>\n",
       "      <td>Mum</td>\n",
       "      <td>1</td>\n",
       "      <td>TCS</td>\n",
       "      <td>18</td>\n",
       "      <td>Apr 2004</td>\n",
       "    </tr>\n",
       "    <tr>\n",
       "      <th>Infosys_Tech</th>\n",
       "      <td>970</td>\n",
       "      <td>930.8</td>\n",
       "      <td>690</td>\n",
       "      <td>Pvt</td>\n",
       "      <td>346000</td>\n",
       "      <td>Blr</td>\n",
       "      <td>1</td>\n",
       "      <td>INFY</td>\n",
       "      <td>12</td>\n",
       "      <td>Jul 1999</td>\n",
       "    </tr>\n",
       "    <tr>\n",
       "      <th>Wipro_Services</th>\n",
       "      <td>960</td>\n",
       "      <td>890.5</td>\n",
       "      <td>680</td>\n",
       "      <td>Pub</td>\n",
       "      <td>250000</td>\n",
       "      <td>Blr</td>\n",
       "      <td>1</td>\n",
       "      <td>WIPR</td>\n",
       "      <td>5</td>\n",
       "      <td>Dec 2002</td>\n",
       "    </tr>\n",
       "    <tr>\n",
       "      <th>HCL_Tech</th>\n",
       "      <td>950</td>\n",
       "      <td>870.4</td>\n",
       "      <td>670</td>\n",
       "      <td>Pvt</td>\n",
       "      <td>225000</td>\n",
       "      <td>NCR</td>\n",
       "      <td>1</td>\n",
       "      <td>HCLT</td>\n",
       "      <td>5</td>\n",
       "      <td>Aug 2007</td>\n",
       "    </tr>\n",
       "    <tr>\n",
       "      <th>TechMahindra</th>\n",
       "      <td>940</td>\n",
       "      <td>850.2</td>\n",
       "      <td>665</td>\n",
       "      <td>Pub</td>\n",
       "      <td>146000</td>\n",
       "      <td>Pun</td>\n",
       "      <td>1</td>\n",
       "      <td>TMAH</td>\n",
       "      <td>12</td>\n",
       "      <td>Mar 2009</td>\n",
       "    </tr>\n",
       "    <tr>\n",
       "      <th>LT_Infotech</th>\n",
       "      <td>920</td>\n",
       "      <td>820.6</td>\n",
       "      <td>655</td>\n",
       "      <td>Gov</td>\n",
       "      <td>92000</td>\n",
       "      <td>Mum</td>\n",
       "      <td>1</td>\n",
       "      <td>LTI</td>\n",
       "      <td>18</td>\n",
       "      <td>Dec 2016</td>\n",
       "    </tr>\n",
       "    <tr>\n",
       "      <th>Mindtree_Ltd</th>\n",
       "      <td>910</td>\n",
       "      <td>810.8</td>\n",
       "      <td>650</td>\n",
       "      <td>Pvt</td>\n",
       "      <td>38000</td>\n",
       "      <td>Blr</td>\n",
       "      <td>1</td>\n",
       "      <td>MIND</td>\n",
       "      <td>18</td>\n",
       "      <td>Jan 2018</td>\n",
       "    </tr>\n",
       "    <tr>\n",
       "      <th>Cognizant_India</th>\n",
       "      <td>995</td>\n",
       "      <td>940.7</td>\n",
       "      <td>710</td>\n",
       "      <td>Pub</td>\n",
       "      <td>355000</td>\n",
       "      <td>Chn</td>\n",
       "      <td>1</td>\n",
       "      <td>COGN</td>\n",
       "      <td>12</td>\n",
       "      <td>May 2019</td>\n",
       "    </tr>\n",
       "    <tr>\n",
       "      <th>Mphasis_Ltd</th>\n",
       "      <td>925</td>\n",
       "      <td>830.5</td>\n",
       "      <td>675</td>\n",
       "      <td>Pvt</td>\n",
       "      <td>38000</td>\n",
       "      <td>Blr</td>\n",
       "      <td>1</td>\n",
       "      <td>MPHS</td>\n",
       "      <td>5</td>\n",
       "      <td>Sep 2020</td>\n",
       "    </tr>\n",
       "    <tr>\n",
       "      <th>Persistent_Systems</th>\n",
       "      <td>945</td>\n",
       "      <td>845.2</td>\n",
       "      <td>685</td>\n",
       "      <td>Gov</td>\n",
       "      <td>25000</td>\n",
       "      <td>Pun</td>\n",
       "      <td>0</td>\n",
       "      <td>PRST</td>\n",
       "      <td>5</td>\n",
       "      <td>Apr 2021</td>\n",
       "    </tr>\n",
       "  </tbody>\n",
       "</table>\n",
       "</div>"
      ],
      "text/plain": [
       "                    Vol    Rev  Exp Sector  EmpCnt   HQ  MNC StockID  GST  \\\n",
       "TCS_Solutions       980  950.3  700    Pub  500000  Mum    1     TCS   18   \n",
       "Infosys_Tech        970  930.8  690    Pvt  346000  Blr    1    INFY   12   \n",
       "Wipro_Services      960  890.5  680    Pub  250000  Blr    1    WIPR    5   \n",
       "HCL_Tech            950  870.4  670    Pvt  225000  NCR    1    HCLT    5   \n",
       "TechMahindra        940  850.2  665    Pub  146000  Pun    1    TMAH   12   \n",
       "LT_Infotech         920  820.6  655    Gov   92000  Mum    1     LTI   18   \n",
       "Mindtree_Ltd        910  810.8  650    Pvt   38000  Blr    1    MIND   18   \n",
       "Cognizant_India     995  940.7  710    Pub  355000  Chn    1    COGN   12   \n",
       "Mphasis_Ltd         925  830.5  675    Pvt   38000  Blr    1    MPHS    5   \n",
       "Persistent_Systems  945  845.2  685    Gov   25000  Pun    0    PRST    5   \n",
       "\n",
       "                   Start Date  \n",
       "TCS_Solutions        Apr 2004  \n",
       "Infosys_Tech         Jul 1999  \n",
       "Wipro_Services       Dec 2002  \n",
       "HCL_Tech             Aug 2007  \n",
       "TechMahindra         Mar 2009  \n",
       "LT_Infotech          Dec 2016  \n",
       "Mindtree_Ltd         Jan 2018  \n",
       "Cognizant_India      May 2019  \n",
       "Mphasis_Ltd          Sep 2020  \n",
       "Persistent_Systems   Apr 2021  "
      ]
     },
     "execution_count": 137,
     "metadata": {},
     "output_type": "execute_result"
    }
   ],
   "source": [
    "dfh = pd.read_html('1d_stock.html', index_col=0)\n",
    "dfh[0]"
   ]
  },
  {
   "cell_type": "code",
   "execution_count": 138,
   "metadata": {},
   "outputs": [
    {
     "data": {
      "text/html": [
       "<div>\n",
       "<style scoped>\n",
       "    .dataframe tbody tr th:only-of-type {\n",
       "        vertical-align: middle;\n",
       "    }\n",
       "\n",
       "    .dataframe tbody tr th {\n",
       "        vertical-align: top;\n",
       "    }\n",
       "\n",
       "    .dataframe thead th {\n",
       "        text-align: right;\n",
       "    }\n",
       "</style>\n",
       "<table border=\"1\" class=\"dataframe\">\n",
       "  <thead>\n",
       "    <tr style=\"text-align: right;\">\n",
       "      <th></th>\n",
       "      <th>Vol</th>\n",
       "      <th>Rev</th>\n",
       "      <th>Exp</th>\n",
       "      <th>Sector</th>\n",
       "      <th>EmpCnt</th>\n",
       "      <th>HQ</th>\n",
       "      <th>MNC</th>\n",
       "      <th>StockID</th>\n",
       "      <th>GST</th>\n",
       "      <th>Start Date</th>\n",
       "    </tr>\n",
       "  </thead>\n",
       "  <tbody>\n",
       "    <tr>\n",
       "      <th>TCS_Solutions</th>\n",
       "      <td>980</td>\n",
       "      <td>950.3</td>\n",
       "      <td>700</td>\n",
       "      <td>Pub</td>\n",
       "      <td>500000</td>\n",
       "      <td>Mum</td>\n",
       "      <td>1</td>\n",
       "      <td>TCS</td>\n",
       "      <td>18</td>\n",
       "      <td>Apr 2004</td>\n",
       "    </tr>\n",
       "    <tr>\n",
       "      <th>Infosys_Tech</th>\n",
       "      <td>970</td>\n",
       "      <td>930.8</td>\n",
       "      <td>690</td>\n",
       "      <td>Pvt</td>\n",
       "      <td>346000</td>\n",
       "      <td>Blr</td>\n",
       "      <td>1</td>\n",
       "      <td>INFY</td>\n",
       "      <td>12</td>\n",
       "      <td>Jul 1999</td>\n",
       "    </tr>\n",
       "    <tr>\n",
       "      <th>Wipro_Services</th>\n",
       "      <td>960</td>\n",
       "      <td>890.5</td>\n",
       "      <td>680</td>\n",
       "      <td>Pub</td>\n",
       "      <td>250000</td>\n",
       "      <td>Blr</td>\n",
       "      <td>1</td>\n",
       "      <td>WIPR</td>\n",
       "      <td>5</td>\n",
       "      <td>Dec 2002</td>\n",
       "    </tr>\n",
       "    <tr>\n",
       "      <th>HCL_Tech</th>\n",
       "      <td>950</td>\n",
       "      <td>870.4</td>\n",
       "      <td>670</td>\n",
       "      <td>Pvt</td>\n",
       "      <td>225000</td>\n",
       "      <td>NCR</td>\n",
       "      <td>1</td>\n",
       "      <td>HCLT</td>\n",
       "      <td>5</td>\n",
       "      <td>Aug 2007</td>\n",
       "    </tr>\n",
       "    <tr>\n",
       "      <th>TechMahindra</th>\n",
       "      <td>940</td>\n",
       "      <td>850.2</td>\n",
       "      <td>665</td>\n",
       "      <td>Pub</td>\n",
       "      <td>146000</td>\n",
       "      <td>Pun</td>\n",
       "      <td>1</td>\n",
       "      <td>TMAH</td>\n",
       "      <td>12</td>\n",
       "      <td>Mar 2009</td>\n",
       "    </tr>\n",
       "    <tr>\n",
       "      <th>LT_Infotech</th>\n",
       "      <td>920</td>\n",
       "      <td>820.6</td>\n",
       "      <td>655</td>\n",
       "      <td>Gov</td>\n",
       "      <td>92000</td>\n",
       "      <td>Mum</td>\n",
       "      <td>1</td>\n",
       "      <td>LTI</td>\n",
       "      <td>18</td>\n",
       "      <td>Dec 2016</td>\n",
       "    </tr>\n",
       "    <tr>\n",
       "      <th>Mindtree_Ltd</th>\n",
       "      <td>910</td>\n",
       "      <td>810.8</td>\n",
       "      <td>650</td>\n",
       "      <td>Pvt</td>\n",
       "      <td>38000</td>\n",
       "      <td>Blr</td>\n",
       "      <td>1</td>\n",
       "      <td>MIND</td>\n",
       "      <td>18</td>\n",
       "      <td>Jan 2018</td>\n",
       "    </tr>\n",
       "    <tr>\n",
       "      <th>Cognizant_India</th>\n",
       "      <td>995</td>\n",
       "      <td>940.7</td>\n",
       "      <td>710</td>\n",
       "      <td>Pub</td>\n",
       "      <td>355000</td>\n",
       "      <td>Chn</td>\n",
       "      <td>1</td>\n",
       "      <td>COGN</td>\n",
       "      <td>12</td>\n",
       "      <td>May 2019</td>\n",
       "    </tr>\n",
       "    <tr>\n",
       "      <th>Mphasis_Ltd</th>\n",
       "      <td>925</td>\n",
       "      <td>830.5</td>\n",
       "      <td>675</td>\n",
       "      <td>Pvt</td>\n",
       "      <td>38000</td>\n",
       "      <td>Blr</td>\n",
       "      <td>1</td>\n",
       "      <td>MPHS</td>\n",
       "      <td>5</td>\n",
       "      <td>Sep 2020</td>\n",
       "    </tr>\n",
       "    <tr>\n",
       "      <th>Persistent_Systems</th>\n",
       "      <td>945</td>\n",
       "      <td>845.2</td>\n",
       "      <td>685</td>\n",
       "      <td>Gov</td>\n",
       "      <td>25000</td>\n",
       "      <td>Pun</td>\n",
       "      <td>0</td>\n",
       "      <td>PRST</td>\n",
       "      <td>5</td>\n",
       "      <td>Apr 2021</td>\n",
       "    </tr>\n",
       "  </tbody>\n",
       "</table>\n",
       "</div>"
      ],
      "text/plain": [
       "                    Vol    Rev  Exp Sector  EmpCnt   HQ  MNC StockID  GST  \\\n",
       "TCS_Solutions       980  950.3  700    Pub  500000  Mum    1     TCS   18   \n",
       "Infosys_Tech        970  930.8  690    Pvt  346000  Blr    1    INFY   12   \n",
       "Wipro_Services      960  890.5  680    Pub  250000  Blr    1    WIPR    5   \n",
       "HCL_Tech            950  870.4  670    Pvt  225000  NCR    1    HCLT    5   \n",
       "TechMahindra        940  850.2  665    Pub  146000  Pun    1    TMAH   12   \n",
       "LT_Infotech         920  820.6  655    Gov   92000  Mum    1     LTI   18   \n",
       "Mindtree_Ltd        910  810.8  650    Pvt   38000  Blr    1    MIND   18   \n",
       "Cognizant_India     995  940.7  710    Pub  355000  Chn    1    COGN   12   \n",
       "Mphasis_Ltd         925  830.5  675    Pvt   38000  Blr    1    MPHS    5   \n",
       "Persistent_Systems  945  845.2  685    Gov   25000  Pun    0    PRST    5   \n",
       "\n",
       "                   Start Date  \n",
       "TCS_Solutions        Apr 2004  \n",
       "Infosys_Tech         Jul 1999  \n",
       "Wipro_Services       Dec 2002  \n",
       "HCL_Tech             Aug 2007  \n",
       "TechMahindra         Mar 2009  \n",
       "LT_Infotech          Dec 2016  \n",
       "Mindtree_Ltd         Jan 2018  \n",
       "Cognizant_India      May 2019  \n",
       "Mphasis_Ltd          Sep 2020  \n",
       "Persistent_Systems   Apr 2021  "
      ]
     },
     "execution_count": 138,
     "metadata": {},
     "output_type": "execute_result"
    }
   ],
   "source": [
    "pd.read_json('1d_stock.json')"
   ]
  },
  {
   "cell_type": "code",
   "execution_count": null,
   "metadata": {},
   "outputs": [],
   "source": [
    "#Summary:\n",
    " \n",
    "#1. creating dataframe from list, dictionary\n",
    "#2. df.shape - rows and columns\n",
    "#3. df.info() - total number of records and data type of each column\n",
    "#4. df.describe - Five Point Summary - mean, std, count, min and max\n",
    "#5. df.describe() - default - displays numerical columns\n",
    "#6. df.describe(include = np.objects_) - categorical columns\n",
    "#7. df.describe(include = 'all')\n",
    "#8. convert dataframe into different file types - df.to_execl(), df.to_csv(), df.to_html()...\n",
    "#9. retrive different file types - pd.read_csv, pd.read_excel, pd.read_json, pd.read_html\n",
    "#10. except json, row_index = 0 while reading different file types - first column into row index"
   ]
  },
  {
   "cell_type": "code",
   "execution_count": 145,
   "metadata": {},
   "outputs": [],
   "source": [
    "#import PyPDF2"
   ]
  },
  {
   "cell_type": "code",
   "execution_count": 272,
   "metadata": {},
   "outputs": [],
   "source": [
    "# Dataframe Access\n",
    "\n",
    "#1. Direct Access \n",
    "# access columns\n",
    "#    - df[<col_label] - df_stock['Exp']\n",
    "#    - df[<vector of column labels>] - df_stock[['Vol', 'GST']]\n",
    "# access rows\n",
    "#    - df[<slicing of row labels>] - df_stock['TCS_Solutions':'Mindtree_Ltd']\n",
    "\n",
    "#2. Integer Location Access(iloc)\n",
    "#    - df.iloc[row_numeric_index] - df_stock.iloc[0] - returns a particular row for all the columns data\n",
    "#    - df.iloc[row_numeric_index, col_numeric_index]\n",
    "#\n",
    "#    - df.iloc[row_numeric_slice]\n",
    "#    - df.iloc[row_numberic_slice, col_numeric_slice]\n",
    "#    \n",
    "#    - df.iloc[[row_numeric_idices]] - list of rows as vectors\n",
    "#    - df.iloc[[row_numeric_indices],[column_numeric_indices]] # from the selected rows, pick the columns\n",
    "#\n",
    "#    - combination of the above\n",
    "#3. Labelled/Location Base Access\n",
    "#    - iloc - does not allow labelled access\n",
    "#    - df.loc[row_label]\n",
    "#    - df.loc[row_label, column_label]\n",
    "\n",
    "#    - df.loc[row_label_slice]\n",
    "#    - df.loc[row_label_slice, col_label_slice]\n",
    "\n",
    "#    - df.loc[[row_label_indices]]\n",
    "#    - df.loc[[row_label_indices], [col_label_indices]]"
   ]
  },
  {
   "cell_type": "code",
   "execution_count": 173,
   "metadata": {},
   "outputs": [
    {
     "data": {
      "text/plain": [
       "Vol                980\n",
       "Rev              950.3\n",
       "Exp                700\n",
       "Sector             Pub\n",
       "EmpCnt          500000\n",
       "HQ                 Mum\n",
       "MNC                  1\n",
       "StockID            TCS\n",
       "GST                 18\n",
       "Start Date    Apr 2004\n",
       "Name: TCS_Solutions, dtype: object"
      ]
     },
     "execution_count": 173,
     "metadata": {},
     "output_type": "execute_result"
    }
   ],
   "source": [
    "df_stock.iloc[0]"
   ]
  },
  {
   "cell_type": "code",
   "execution_count": 146,
   "metadata": {},
   "outputs": [
    {
     "data": {
      "text/html": [
       "<div>\n",
       "<style scoped>\n",
       "    .dataframe tbody tr th:only-of-type {\n",
       "        vertical-align: middle;\n",
       "    }\n",
       "\n",
       "    .dataframe tbody tr th {\n",
       "        vertical-align: top;\n",
       "    }\n",
       "\n",
       "    .dataframe thead th {\n",
       "        text-align: right;\n",
       "    }\n",
       "</style>\n",
       "<table border=\"1\" class=\"dataframe\">\n",
       "  <thead>\n",
       "    <tr style=\"text-align: right;\">\n",
       "      <th></th>\n",
       "      <th>Vol</th>\n",
       "      <th>Rev</th>\n",
       "      <th>Exp</th>\n",
       "      <th>Sector</th>\n",
       "      <th>EmpCnt</th>\n",
       "      <th>HQ</th>\n",
       "      <th>MNC</th>\n",
       "      <th>StockID</th>\n",
       "      <th>GST</th>\n",
       "      <th>Start Date</th>\n",
       "    </tr>\n",
       "  </thead>\n",
       "  <tbody>\n",
       "    <tr>\n",
       "      <th>TCS_Solutions</th>\n",
       "      <td>980</td>\n",
       "      <td>950.3</td>\n",
       "      <td>700</td>\n",
       "      <td>Pub</td>\n",
       "      <td>500000</td>\n",
       "      <td>Mum</td>\n",
       "      <td>1</td>\n",
       "      <td>TCS</td>\n",
       "      <td>18</td>\n",
       "      <td>Apr 2004</td>\n",
       "    </tr>\n",
       "    <tr>\n",
       "      <th>Infosys_Tech</th>\n",
       "      <td>970</td>\n",
       "      <td>930.8</td>\n",
       "      <td>690</td>\n",
       "      <td>Pvt</td>\n",
       "      <td>346000</td>\n",
       "      <td>Blr</td>\n",
       "      <td>1</td>\n",
       "      <td>INFY</td>\n",
       "      <td>12</td>\n",
       "      <td>Jul 1999</td>\n",
       "    </tr>\n",
       "    <tr>\n",
       "      <th>Wipro_Services</th>\n",
       "      <td>960</td>\n",
       "      <td>890.5</td>\n",
       "      <td>680</td>\n",
       "      <td>Pub</td>\n",
       "      <td>250000</td>\n",
       "      <td>Blr</td>\n",
       "      <td>1</td>\n",
       "      <td>WIPR</td>\n",
       "      <td>5</td>\n",
       "      <td>Dec 2002</td>\n",
       "    </tr>\n",
       "    <tr>\n",
       "      <th>HCL_Tech</th>\n",
       "      <td>950</td>\n",
       "      <td>870.4</td>\n",
       "      <td>670</td>\n",
       "      <td>Pvt</td>\n",
       "      <td>225000</td>\n",
       "      <td>NCR</td>\n",
       "      <td>1</td>\n",
       "      <td>HCLT</td>\n",
       "      <td>5</td>\n",
       "      <td>Aug 2007</td>\n",
       "    </tr>\n",
       "    <tr>\n",
       "      <th>TechMahindra</th>\n",
       "      <td>940</td>\n",
       "      <td>850.2</td>\n",
       "      <td>665</td>\n",
       "      <td>Pub</td>\n",
       "      <td>146000</td>\n",
       "      <td>Pun</td>\n",
       "      <td>1</td>\n",
       "      <td>TMAH</td>\n",
       "      <td>12</td>\n",
       "      <td>Mar 2009</td>\n",
       "    </tr>\n",
       "    <tr>\n",
       "      <th>LT_Infotech</th>\n",
       "      <td>920</td>\n",
       "      <td>820.6</td>\n",
       "      <td>655</td>\n",
       "      <td>Gov</td>\n",
       "      <td>92000</td>\n",
       "      <td>Mum</td>\n",
       "      <td>1</td>\n",
       "      <td>LTI</td>\n",
       "      <td>18</td>\n",
       "      <td>Dec 2016</td>\n",
       "    </tr>\n",
       "    <tr>\n",
       "      <th>Mindtree_Ltd</th>\n",
       "      <td>910</td>\n",
       "      <td>810.8</td>\n",
       "      <td>650</td>\n",
       "      <td>Pvt</td>\n",
       "      <td>38000</td>\n",
       "      <td>Blr</td>\n",
       "      <td>1</td>\n",
       "      <td>MIND</td>\n",
       "      <td>18</td>\n",
       "      <td>Jan 2018</td>\n",
       "    </tr>\n",
       "    <tr>\n",
       "      <th>Cognizant_India</th>\n",
       "      <td>995</td>\n",
       "      <td>940.7</td>\n",
       "      <td>710</td>\n",
       "      <td>Pub</td>\n",
       "      <td>355000</td>\n",
       "      <td>Chn</td>\n",
       "      <td>1</td>\n",
       "      <td>COGN</td>\n",
       "      <td>12</td>\n",
       "      <td>May 2019</td>\n",
       "    </tr>\n",
       "    <tr>\n",
       "      <th>Mphasis_Ltd</th>\n",
       "      <td>925</td>\n",
       "      <td>830.5</td>\n",
       "      <td>675</td>\n",
       "      <td>Pvt</td>\n",
       "      <td>38000</td>\n",
       "      <td>Blr</td>\n",
       "      <td>1</td>\n",
       "      <td>MPHS</td>\n",
       "      <td>5</td>\n",
       "      <td>Sep 2020</td>\n",
       "    </tr>\n",
       "    <tr>\n",
       "      <th>Persistent_Systems</th>\n",
       "      <td>945</td>\n",
       "      <td>845.2</td>\n",
       "      <td>685</td>\n",
       "      <td>Gov</td>\n",
       "      <td>25000</td>\n",
       "      <td>Pun</td>\n",
       "      <td>0</td>\n",
       "      <td>PRST</td>\n",
       "      <td>5</td>\n",
       "      <td>Apr 2021</td>\n",
       "    </tr>\n",
       "  </tbody>\n",
       "</table>\n",
       "</div>"
      ],
      "text/plain": [
       "                    Vol    Rev  Exp Sector  EmpCnt   HQ  MNC StockID  GST  \\\n",
       "TCS_Solutions       980  950.3  700    Pub  500000  Mum    1     TCS   18   \n",
       "Infosys_Tech        970  930.8  690    Pvt  346000  Blr    1    INFY   12   \n",
       "Wipro_Services      960  890.5  680    Pub  250000  Blr    1    WIPR    5   \n",
       "HCL_Tech            950  870.4  670    Pvt  225000  NCR    1    HCLT    5   \n",
       "TechMahindra        940  850.2  665    Pub  146000  Pun    1    TMAH   12   \n",
       "LT_Infotech         920  820.6  655    Gov   92000  Mum    1     LTI   18   \n",
       "Mindtree_Ltd        910  810.8  650    Pvt   38000  Blr    1    MIND   18   \n",
       "Cognizant_India     995  940.7  710    Pub  355000  Chn    1    COGN   12   \n",
       "Mphasis_Ltd         925  830.5  675    Pvt   38000  Blr    1    MPHS    5   \n",
       "Persistent_Systems  945  845.2  685    Gov   25000  Pun    0    PRST    5   \n",
       "\n",
       "                   Start Date  \n",
       "TCS_Solutions        Apr 2004  \n",
       "Infosys_Tech         Jul 1999  \n",
       "Wipro_Services       Dec 2002  \n",
       "HCL_Tech             Aug 2007  \n",
       "TechMahindra         Mar 2009  \n",
       "LT_Infotech          Dec 2016  \n",
       "Mindtree_Ltd         Jan 2018  \n",
       "Cognizant_India      May 2019  \n",
       "Mphasis_Ltd          Sep 2020  \n",
       "Persistent_Systems   Apr 2021  "
      ]
     },
     "execution_count": 146,
     "metadata": {},
     "output_type": "execute_result"
    }
   ],
   "source": [
    "df_stock"
   ]
  },
  {
   "cell_type": "code",
   "execution_count": 152,
   "metadata": {},
   "outputs": [],
   "source": [
    "#dir(df_stock)"
   ]
  },
  {
   "cell_type": "code",
   "execution_count": 153,
   "metadata": {},
   "outputs": [
    {
     "data": {
      "text/plain": [
       "Index(['Vol', 'Rev', 'Exp', 'Sector', 'EmpCnt', 'HQ', 'MNC', 'StockID', 'GST',\n",
       "       'Start Date'],\n",
       "      dtype='object')"
      ]
     },
     "execution_count": 153,
     "metadata": {},
     "output_type": "execute_result"
    }
   ],
   "source": [
    "#column name becomes one of the attribute of the dataframe\n",
    "df_stock.columns"
   ]
  },
  {
   "cell_type": "code",
   "execution_count": 154,
   "metadata": {},
   "outputs": [
    {
     "data": {
      "text/plain": [
       "TCS_Solutions         980\n",
       "Infosys_Tech          970\n",
       "Wipro_Services        960\n",
       "HCL_Tech              950\n",
       "TechMahindra          940\n",
       "LT_Infotech           920\n",
       "Mindtree_Ltd          910\n",
       "Cognizant_India       995\n",
       "Mphasis_Ltd           925\n",
       "Persistent_Systems    945\n",
       "Name: Vol, dtype: int64"
      ]
     },
     "execution_count": 154,
     "metadata": {},
     "output_type": "execute_result"
    }
   ],
   "source": [
    "# accessing single column\n",
    "#column name becomes one of the attribute of the dataframe\n",
    "df_stock.Vol"
   ]
  },
  {
   "cell_type": "code",
   "execution_count": 158,
   "metadata": {},
   "outputs": [
    {
     "data": {
      "text/html": [
       "<div>\n",
       "<style scoped>\n",
       "    .dataframe tbody tr th:only-of-type {\n",
       "        vertical-align: middle;\n",
       "    }\n",
       "\n",
       "    .dataframe tbody tr th {\n",
       "        vertical-align: top;\n",
       "    }\n",
       "\n",
       "    .dataframe thead th {\n",
       "        text-align: right;\n",
       "    }\n",
       "</style>\n",
       "<table border=\"1\" class=\"dataframe\">\n",
       "  <thead>\n",
       "    <tr style=\"text-align: right;\">\n",
       "      <th></th>\n",
       "      <th>Vol</th>\n",
       "      <th>HQ</th>\n",
       "    </tr>\n",
       "  </thead>\n",
       "  <tbody>\n",
       "    <tr>\n",
       "      <th>TCS_Solutions</th>\n",
       "      <td>980</td>\n",
       "      <td>Mum</td>\n",
       "    </tr>\n",
       "    <tr>\n",
       "      <th>Infosys_Tech</th>\n",
       "      <td>970</td>\n",
       "      <td>Blr</td>\n",
       "    </tr>\n",
       "    <tr>\n",
       "      <th>Wipro_Services</th>\n",
       "      <td>960</td>\n",
       "      <td>Blr</td>\n",
       "    </tr>\n",
       "    <tr>\n",
       "      <th>HCL_Tech</th>\n",
       "      <td>950</td>\n",
       "      <td>NCR</td>\n",
       "    </tr>\n",
       "    <tr>\n",
       "      <th>TechMahindra</th>\n",
       "      <td>940</td>\n",
       "      <td>Pun</td>\n",
       "    </tr>\n",
       "    <tr>\n",
       "      <th>LT_Infotech</th>\n",
       "      <td>920</td>\n",
       "      <td>Mum</td>\n",
       "    </tr>\n",
       "    <tr>\n",
       "      <th>Mindtree_Ltd</th>\n",
       "      <td>910</td>\n",
       "      <td>Blr</td>\n",
       "    </tr>\n",
       "    <tr>\n",
       "      <th>Cognizant_India</th>\n",
       "      <td>995</td>\n",
       "      <td>Chn</td>\n",
       "    </tr>\n",
       "    <tr>\n",
       "      <th>Mphasis_Ltd</th>\n",
       "      <td>925</td>\n",
       "      <td>Blr</td>\n",
       "    </tr>\n",
       "    <tr>\n",
       "      <th>Persistent_Systems</th>\n",
       "      <td>945</td>\n",
       "      <td>Pun</td>\n",
       "    </tr>\n",
       "  </tbody>\n",
       "</table>\n",
       "</div>"
      ],
      "text/plain": [
       "                    Vol   HQ\n",
       "TCS_Solutions       980  Mum\n",
       "Infosys_Tech        970  Blr\n",
       "Wipro_Services      960  Blr\n",
       "HCL_Tech            950  NCR\n",
       "TechMahindra        940  Pun\n",
       "LT_Infotech         920  Mum\n",
       "Mindtree_Ltd        910  Blr\n",
       "Cognizant_India     995  Chn\n",
       "Mphasis_Ltd         925  Blr\n",
       "Persistent_Systems  945  Pun"
      ]
     },
     "execution_count": 158,
     "metadata": {},
     "output_type": "execute_result"
    }
   ],
   "source": [
    "#accessing multiple columns through vector (column labels)\n",
    "df_stock[['Vol', 'HQ']]"
   ]
  },
  {
   "cell_type": "code",
   "execution_count": 160,
   "metadata": {},
   "outputs": [
    {
     "data": {
      "text/html": [
       "<div>\n",
       "<style scoped>\n",
       "    .dataframe tbody tr th:only-of-type {\n",
       "        vertical-align: middle;\n",
       "    }\n",
       "\n",
       "    .dataframe tbody tr th {\n",
       "        vertical-align: top;\n",
       "    }\n",
       "\n",
       "    .dataframe thead th {\n",
       "        text-align: right;\n",
       "    }\n",
       "</style>\n",
       "<table border=\"1\" class=\"dataframe\">\n",
       "  <thead>\n",
       "    <tr style=\"text-align: right;\">\n",
       "      <th></th>\n",
       "      <th>Vol</th>\n",
       "      <th>Rev</th>\n",
       "      <th>Exp</th>\n",
       "      <th>Sector</th>\n",
       "      <th>EmpCnt</th>\n",
       "      <th>HQ</th>\n",
       "      <th>MNC</th>\n",
       "      <th>StockID</th>\n",
       "      <th>GST</th>\n",
       "      <th>Start Date</th>\n",
       "    </tr>\n",
       "  </thead>\n",
       "  <tbody>\n",
       "    <tr>\n",
       "      <th>TCS_Solutions</th>\n",
       "      <td>980</td>\n",
       "      <td>950.3</td>\n",
       "      <td>700</td>\n",
       "      <td>Pub</td>\n",
       "      <td>500000</td>\n",
       "      <td>Mum</td>\n",
       "      <td>1</td>\n",
       "      <td>TCS</td>\n",
       "      <td>18</td>\n",
       "      <td>Apr 2004</td>\n",
       "    </tr>\n",
       "    <tr>\n",
       "      <th>Infosys_Tech</th>\n",
       "      <td>970</td>\n",
       "      <td>930.8</td>\n",
       "      <td>690</td>\n",
       "      <td>Pvt</td>\n",
       "      <td>346000</td>\n",
       "      <td>Blr</td>\n",
       "      <td>1</td>\n",
       "      <td>INFY</td>\n",
       "      <td>12</td>\n",
       "      <td>Jul 1999</td>\n",
       "    </tr>\n",
       "    <tr>\n",
       "      <th>Wipro_Services</th>\n",
       "      <td>960</td>\n",
       "      <td>890.5</td>\n",
       "      <td>680</td>\n",
       "      <td>Pub</td>\n",
       "      <td>250000</td>\n",
       "      <td>Blr</td>\n",
       "      <td>1</td>\n",
       "      <td>WIPR</td>\n",
       "      <td>5</td>\n",
       "      <td>Dec 2002</td>\n",
       "    </tr>\n",
       "    <tr>\n",
       "      <th>HCL_Tech</th>\n",
       "      <td>950</td>\n",
       "      <td>870.4</td>\n",
       "      <td>670</td>\n",
       "      <td>Pvt</td>\n",
       "      <td>225000</td>\n",
       "      <td>NCR</td>\n",
       "      <td>1</td>\n",
       "      <td>HCLT</td>\n",
       "      <td>5</td>\n",
       "      <td>Aug 2007</td>\n",
       "    </tr>\n",
       "    <tr>\n",
       "      <th>TechMahindra</th>\n",
       "      <td>940</td>\n",
       "      <td>850.2</td>\n",
       "      <td>665</td>\n",
       "      <td>Pub</td>\n",
       "      <td>146000</td>\n",
       "      <td>Pun</td>\n",
       "      <td>1</td>\n",
       "      <td>TMAH</td>\n",
       "      <td>12</td>\n",
       "      <td>Mar 2009</td>\n",
       "    </tr>\n",
       "    <tr>\n",
       "      <th>LT_Infotech</th>\n",
       "      <td>920</td>\n",
       "      <td>820.6</td>\n",
       "      <td>655</td>\n",
       "      <td>Gov</td>\n",
       "      <td>92000</td>\n",
       "      <td>Mum</td>\n",
       "      <td>1</td>\n",
       "      <td>LTI</td>\n",
       "      <td>18</td>\n",
       "      <td>Dec 2016</td>\n",
       "    </tr>\n",
       "  </tbody>\n",
       "</table>\n",
       "</div>"
      ],
      "text/plain": [
       "                Vol    Rev  Exp Sector  EmpCnt   HQ  MNC StockID  GST  \\\n",
       "TCS_Solutions   980  950.3  700    Pub  500000  Mum    1     TCS   18   \n",
       "Infosys_Tech    970  930.8  690    Pvt  346000  Blr    1    INFY   12   \n",
       "Wipro_Services  960  890.5  680    Pub  250000  Blr    1    WIPR    5   \n",
       "HCL_Tech        950  870.4  670    Pvt  225000  NCR    1    HCLT    5   \n",
       "TechMahindra    940  850.2  665    Pub  146000  Pun    1    TMAH   12   \n",
       "LT_Infotech     920  820.6  655    Gov   92000  Mum    1     LTI   18   \n",
       "\n",
       "               Start Date  \n",
       "TCS_Solutions    Apr 2004  \n",
       "Infosys_Tech     Jul 1999  \n",
       "Wipro_Services   Dec 2002  \n",
       "HCL_Tech         Aug 2007  \n",
       "TechMahindra     Mar 2009  \n",
       "LT_Infotech      Dec 2016  "
      ]
     },
     "execution_count": 160,
     "metadata": {},
     "output_type": "execute_result"
    }
   ],
   "source": [
    "df_stock['TCS_Solutions': 'LT_Infotech']"
   ]
  },
  {
   "cell_type": "code",
   "execution_count": 169,
   "metadata": {},
   "outputs": [
    {
     "data": {
      "text/plain": [
       "TechMahindra    146000\n",
       "Name: EmpCnt, dtype: int64"
      ]
     },
     "execution_count": 169,
     "metadata": {},
     "output_type": "execute_result"
    }
   ],
   "source": [
    "# Direct Access - individual element\n",
    "df_stock['TechMahindra':'TechMahindra']['EmpCnt']"
   ]
  },
  {
   "cell_type": "code",
   "execution_count": 178,
   "metadata": {},
   "outputs": [
    {
     "data": {
      "text/html": [
       "<div>\n",
       "<style scoped>\n",
       "    .dataframe tbody tr th:only-of-type {\n",
       "        vertical-align: middle;\n",
       "    }\n",
       "\n",
       "    .dataframe tbody tr th {\n",
       "        vertical-align: top;\n",
       "    }\n",
       "\n",
       "    .dataframe thead th {\n",
       "        text-align: right;\n",
       "    }\n",
       "</style>\n",
       "<table border=\"1\" class=\"dataframe\">\n",
       "  <thead>\n",
       "    <tr style=\"text-align: right;\">\n",
       "      <th></th>\n",
       "      <th>EmpCnt</th>\n",
       "      <th>MNC</th>\n",
       "    </tr>\n",
       "  </thead>\n",
       "  <tbody>\n",
       "    <tr>\n",
       "      <th>TCS_Solutions</th>\n",
       "      <td>500000</td>\n",
       "      <td>1</td>\n",
       "    </tr>\n",
       "    <tr>\n",
       "      <th>Infosys_Tech</th>\n",
       "      <td>346000</td>\n",
       "      <td>1</td>\n",
       "    </tr>\n",
       "    <tr>\n",
       "      <th>Wipro_Services</th>\n",
       "      <td>250000</td>\n",
       "      <td>1</td>\n",
       "    </tr>\n",
       "    <tr>\n",
       "      <th>HCL_Tech</th>\n",
       "      <td>225000</td>\n",
       "      <td>1</td>\n",
       "    </tr>\n",
       "    <tr>\n",
       "      <th>TechMahindra</th>\n",
       "      <td>146000</td>\n",
       "      <td>1</td>\n",
       "    </tr>\n",
       "    <tr>\n",
       "      <th>LT_Infotech</th>\n",
       "      <td>92000</td>\n",
       "      <td>1</td>\n",
       "    </tr>\n",
       "    <tr>\n",
       "      <th>Mindtree_Ltd</th>\n",
       "      <td>38000</td>\n",
       "      <td>1</td>\n",
       "    </tr>\n",
       "    <tr>\n",
       "      <th>Cognizant_India</th>\n",
       "      <td>355000</td>\n",
       "      <td>1</td>\n",
       "    </tr>\n",
       "    <tr>\n",
       "      <th>Mphasis_Ltd</th>\n",
       "      <td>38000</td>\n",
       "      <td>1</td>\n",
       "    </tr>\n",
       "    <tr>\n",
       "      <th>Persistent_Systems</th>\n",
       "      <td>25000</td>\n",
       "      <td>0</td>\n",
       "    </tr>\n",
       "  </tbody>\n",
       "</table>\n",
       "</div>"
      ],
      "text/plain": [
       "                    EmpCnt  MNC\n",
       "TCS_Solutions       500000    1\n",
       "Infosys_Tech        346000    1\n",
       "Wipro_Services      250000    1\n",
       "HCL_Tech            225000    1\n",
       "TechMahindra        146000    1\n",
       "LT_Infotech          92000    1\n",
       "Mindtree_Ltd         38000    1\n",
       "Cognizant_India     355000    1\n",
       "Mphasis_Ltd          38000    1\n",
       "Persistent_Systems   25000    0"
      ]
     },
     "execution_count": 178,
     "metadata": {},
     "output_type": "execute_result"
    }
   ],
   "source": [
    "df_stock[['EmpCnt', 'MNC']]"
   ]
  },
  {
   "cell_type": "code",
   "execution_count": 180,
   "metadata": {},
   "outputs": [
    {
     "data": {
      "text/html": [
       "<div>\n",
       "<style scoped>\n",
       "    .dataframe tbody tr th:only-of-type {\n",
       "        vertical-align: middle;\n",
       "    }\n",
       "\n",
       "    .dataframe tbody tr th {\n",
       "        vertical-align: top;\n",
       "    }\n",
       "\n",
       "    .dataframe thead th {\n",
       "        text-align: right;\n",
       "    }\n",
       "</style>\n",
       "<table border=\"1\" class=\"dataframe\">\n",
       "  <thead>\n",
       "    <tr style=\"text-align: right;\">\n",
       "      <th></th>\n",
       "      <th>Vol</th>\n",
       "      <th>Rev</th>\n",
       "      <th>Exp</th>\n",
       "      <th>Sector</th>\n",
       "      <th>EmpCnt</th>\n",
       "      <th>HQ</th>\n",
       "      <th>MNC</th>\n",
       "      <th>StockID</th>\n",
       "      <th>GST</th>\n",
       "      <th>Start Date</th>\n",
       "    </tr>\n",
       "  </thead>\n",
       "  <tbody>\n",
       "    <tr>\n",
       "      <th>TCS_Solutions</th>\n",
       "      <td>980</td>\n",
       "      <td>950.3</td>\n",
       "      <td>700</td>\n",
       "      <td>Pub</td>\n",
       "      <td>500000</td>\n",
       "      <td>Mum</td>\n",
       "      <td>1</td>\n",
       "      <td>TCS</td>\n",
       "      <td>18</td>\n",
       "      <td>Apr 2004</td>\n",
       "    </tr>\n",
       "    <tr>\n",
       "      <th>Infosys_Tech</th>\n",
       "      <td>970</td>\n",
       "      <td>930.8</td>\n",
       "      <td>690</td>\n",
       "      <td>Pvt</td>\n",
       "      <td>346000</td>\n",
       "      <td>Blr</td>\n",
       "      <td>1</td>\n",
       "      <td>INFY</td>\n",
       "      <td>12</td>\n",
       "      <td>Jul 1999</td>\n",
       "    </tr>\n",
       "    <tr>\n",
       "      <th>Wipro_Services</th>\n",
       "      <td>960</td>\n",
       "      <td>890.5</td>\n",
       "      <td>680</td>\n",
       "      <td>Pub</td>\n",
       "      <td>250000</td>\n",
       "      <td>Blr</td>\n",
       "      <td>1</td>\n",
       "      <td>WIPR</td>\n",
       "      <td>5</td>\n",
       "      <td>Dec 2002</td>\n",
       "    </tr>\n",
       "    <tr>\n",
       "      <th>HCL_Tech</th>\n",
       "      <td>950</td>\n",
       "      <td>870.4</td>\n",
       "      <td>670</td>\n",
       "      <td>Pvt</td>\n",
       "      <td>225000</td>\n",
       "      <td>NCR</td>\n",
       "      <td>1</td>\n",
       "      <td>HCLT</td>\n",
       "      <td>5</td>\n",
       "      <td>Aug 2007</td>\n",
       "    </tr>\n",
       "    <tr>\n",
       "      <th>TechMahindra</th>\n",
       "      <td>940</td>\n",
       "      <td>850.2</td>\n",
       "      <td>665</td>\n",
       "      <td>Pub</td>\n",
       "      <td>146000</td>\n",
       "      <td>Pun</td>\n",
       "      <td>1</td>\n",
       "      <td>TMAH</td>\n",
       "      <td>12</td>\n",
       "      <td>Mar 2009</td>\n",
       "    </tr>\n",
       "    <tr>\n",
       "      <th>LT_Infotech</th>\n",
       "      <td>920</td>\n",
       "      <td>820.6</td>\n",
       "      <td>655</td>\n",
       "      <td>Gov</td>\n",
       "      <td>92000</td>\n",
       "      <td>Mum</td>\n",
       "      <td>1</td>\n",
       "      <td>LTI</td>\n",
       "      <td>18</td>\n",
       "      <td>Dec 2016</td>\n",
       "    </tr>\n",
       "    <tr>\n",
       "      <th>Mindtree_Ltd</th>\n",
       "      <td>910</td>\n",
       "      <td>810.8</td>\n",
       "      <td>650</td>\n",
       "      <td>Pvt</td>\n",
       "      <td>38000</td>\n",
       "      <td>Blr</td>\n",
       "      <td>1</td>\n",
       "      <td>MIND</td>\n",
       "      <td>18</td>\n",
       "      <td>Jan 2018</td>\n",
       "    </tr>\n",
       "    <tr>\n",
       "      <th>Cognizant_India</th>\n",
       "      <td>995</td>\n",
       "      <td>940.7</td>\n",
       "      <td>710</td>\n",
       "      <td>Pub</td>\n",
       "      <td>355000</td>\n",
       "      <td>Chn</td>\n",
       "      <td>1</td>\n",
       "      <td>COGN</td>\n",
       "      <td>12</td>\n",
       "      <td>May 2019</td>\n",
       "    </tr>\n",
       "    <tr>\n",
       "      <th>Mphasis_Ltd</th>\n",
       "      <td>925</td>\n",
       "      <td>830.5</td>\n",
       "      <td>675</td>\n",
       "      <td>Pvt</td>\n",
       "      <td>38000</td>\n",
       "      <td>Blr</td>\n",
       "      <td>1</td>\n",
       "      <td>MPHS</td>\n",
       "      <td>5</td>\n",
       "      <td>Sep 2020</td>\n",
       "    </tr>\n",
       "    <tr>\n",
       "      <th>Persistent_Systems</th>\n",
       "      <td>945</td>\n",
       "      <td>845.2</td>\n",
       "      <td>685</td>\n",
       "      <td>Gov</td>\n",
       "      <td>25000</td>\n",
       "      <td>Pun</td>\n",
       "      <td>0</td>\n",
       "      <td>PRST</td>\n",
       "      <td>5</td>\n",
       "      <td>Apr 2021</td>\n",
       "    </tr>\n",
       "  </tbody>\n",
       "</table>\n",
       "</div>"
      ],
      "text/plain": [
       "                    Vol    Rev  Exp Sector  EmpCnt   HQ  MNC StockID  GST  \\\n",
       "TCS_Solutions       980  950.3  700    Pub  500000  Mum    1     TCS   18   \n",
       "Infosys_Tech        970  930.8  690    Pvt  346000  Blr    1    INFY   12   \n",
       "Wipro_Services      960  890.5  680    Pub  250000  Blr    1    WIPR    5   \n",
       "HCL_Tech            950  870.4  670    Pvt  225000  NCR    1    HCLT    5   \n",
       "TechMahindra        940  850.2  665    Pub  146000  Pun    1    TMAH   12   \n",
       "LT_Infotech         920  820.6  655    Gov   92000  Mum    1     LTI   18   \n",
       "Mindtree_Ltd        910  810.8  650    Pvt   38000  Blr    1    MIND   18   \n",
       "Cognizant_India     995  940.7  710    Pub  355000  Chn    1    COGN   12   \n",
       "Mphasis_Ltd         925  830.5  675    Pvt   38000  Blr    1    MPHS    5   \n",
       "Persistent_Systems  945  845.2  685    Gov   25000  Pun    0    PRST    5   \n",
       "\n",
       "                   Start Date  \n",
       "TCS_Solutions        Apr 2004  \n",
       "Infosys_Tech         Jul 1999  \n",
       "Wipro_Services       Dec 2002  \n",
       "HCL_Tech             Aug 2007  \n",
       "TechMahindra         Mar 2009  \n",
       "LT_Infotech          Dec 2016  \n",
       "Mindtree_Ltd         Jan 2018  \n",
       "Cognizant_India      May 2019  \n",
       "Mphasis_Ltd          Sep 2020  \n",
       "Persistent_Systems   Apr 2021  "
      ]
     },
     "execution_count": 180,
     "metadata": {},
     "output_type": "execute_result"
    }
   ],
   "source": [
    "df_stock[df_stock.columns]"
   ]
  },
  {
   "cell_type": "code",
   "execution_count": 181,
   "metadata": {},
   "outputs": [
    {
     "data": {
      "text/plain": [
       "TCS_Solutions         980\n",
       "Infosys_Tech          970\n",
       "Wipro_Services        960\n",
       "HCL_Tech              950\n",
       "TechMahindra          940\n",
       "LT_Infotech           920\n",
       "Mindtree_Ltd          910\n",
       "Cognizant_India       995\n",
       "Mphasis_Ltd           925\n",
       "Persistent_Systems    945\n",
       "Name: Vol, dtype: int64"
      ]
     },
     "execution_count": 181,
     "metadata": {},
     "output_type": "execute_result"
    }
   ],
   "source": [
    "df_stock['Vol']"
   ]
  },
  {
   "cell_type": "code",
   "execution_count": 182,
   "metadata": {},
   "outputs": [
    {
     "data": {
      "text/plain": [
       "(10,)"
      ]
     },
     "execution_count": 182,
     "metadata": {},
     "output_type": "execute_result"
    }
   ],
   "source": [
    "# single dimensional\n",
    "df_stock['Vol'].shape"
   ]
  },
  {
   "cell_type": "code",
   "execution_count": 183,
   "metadata": {},
   "outputs": [
    {
     "data": {
      "text/plain": [
       "(10, 1)"
      ]
     },
     "execution_count": 183,
     "metadata": {},
     "output_type": "execute_result"
    }
   ],
   "source": [
    "# vector - 2 dimensional\n",
    "df_stock[['Vol']].shape"
   ]
  },
  {
   "cell_type": "code",
   "execution_count": null,
   "metadata": {},
   "outputs": [],
   "source": [
    "#Integer Based Location Access - iloc"
   ]
  },
  {
   "cell_type": "code",
   "execution_count": 192,
   "metadata": {},
   "outputs": [
    {
     "name": "stdout",
     "output_type": "stream",
     "text": [
      "980\n"
     ]
    }
   ],
   "source": [
    "print(df_stock.iloc[0, 0])"
   ]
  },
  {
   "cell_type": "code",
   "execution_count": 193,
   "metadata": {},
   "outputs": [
    {
     "data": {
      "text/html": [
       "<div>\n",
       "<style scoped>\n",
       "    .dataframe tbody tr th:only-of-type {\n",
       "        vertical-align: middle;\n",
       "    }\n",
       "\n",
       "    .dataframe tbody tr th {\n",
       "        vertical-align: top;\n",
       "    }\n",
       "\n",
       "    .dataframe thead th {\n",
       "        text-align: right;\n",
       "    }\n",
       "</style>\n",
       "<table border=\"1\" class=\"dataframe\">\n",
       "  <thead>\n",
       "    <tr style=\"text-align: right;\">\n",
       "      <th></th>\n",
       "      <th>Vol</th>\n",
       "      <th>Rev</th>\n",
       "      <th>Exp</th>\n",
       "      <th>Sector</th>\n",
       "      <th>EmpCnt</th>\n",
       "      <th>HQ</th>\n",
       "      <th>MNC</th>\n",
       "      <th>StockID</th>\n",
       "      <th>GST</th>\n",
       "      <th>Start Date</th>\n",
       "    </tr>\n",
       "  </thead>\n",
       "  <tbody>\n",
       "    <tr>\n",
       "      <th>TCS_Solutions</th>\n",
       "      <td>980</td>\n",
       "      <td>950.3</td>\n",
       "      <td>700</td>\n",
       "      <td>Pub</td>\n",
       "      <td>500000</td>\n",
       "      <td>Mum</td>\n",
       "      <td>1</td>\n",
       "      <td>TCS</td>\n",
       "      <td>18</td>\n",
       "      <td>Apr 2004</td>\n",
       "    </tr>\n",
       "    <tr>\n",
       "      <th>Infosys_Tech</th>\n",
       "      <td>970</td>\n",
       "      <td>930.8</td>\n",
       "      <td>690</td>\n",
       "      <td>Pvt</td>\n",
       "      <td>346000</td>\n",
       "      <td>Blr</td>\n",
       "      <td>1</td>\n",
       "      <td>INFY</td>\n",
       "      <td>12</td>\n",
       "      <td>Jul 1999</td>\n",
       "    </tr>\n",
       "    <tr>\n",
       "      <th>Wipro_Services</th>\n",
       "      <td>960</td>\n",
       "      <td>890.5</td>\n",
       "      <td>680</td>\n",
       "      <td>Pub</td>\n",
       "      <td>250000</td>\n",
       "      <td>Blr</td>\n",
       "      <td>1</td>\n",
       "      <td>WIPR</td>\n",
       "      <td>5</td>\n",
       "      <td>Dec 2002</td>\n",
       "    </tr>\n",
       "    <tr>\n",
       "      <th>HCL_Tech</th>\n",
       "      <td>950</td>\n",
       "      <td>870.4</td>\n",
       "      <td>670</td>\n",
       "      <td>Pvt</td>\n",
       "      <td>225000</td>\n",
       "      <td>NCR</td>\n",
       "      <td>1</td>\n",
       "      <td>HCLT</td>\n",
       "      <td>5</td>\n",
       "      <td>Aug 2007</td>\n",
       "    </tr>\n",
       "    <tr>\n",
       "      <th>TechMahindra</th>\n",
       "      <td>940</td>\n",
       "      <td>850.2</td>\n",
       "      <td>665</td>\n",
       "      <td>Pub</td>\n",
       "      <td>146000</td>\n",
       "      <td>Pun</td>\n",
       "      <td>1</td>\n",
       "      <td>TMAH</td>\n",
       "      <td>12</td>\n",
       "      <td>Mar 2009</td>\n",
       "    </tr>\n",
       "    <tr>\n",
       "      <th>LT_Infotech</th>\n",
       "      <td>920</td>\n",
       "      <td>820.6</td>\n",
       "      <td>655</td>\n",
       "      <td>Gov</td>\n",
       "      <td>92000</td>\n",
       "      <td>Mum</td>\n",
       "      <td>1</td>\n",
       "      <td>LTI</td>\n",
       "      <td>18</td>\n",
       "      <td>Dec 2016</td>\n",
       "    </tr>\n",
       "    <tr>\n",
       "      <th>Mindtree_Ltd</th>\n",
       "      <td>910</td>\n",
       "      <td>810.8</td>\n",
       "      <td>650</td>\n",
       "      <td>Pvt</td>\n",
       "      <td>38000</td>\n",
       "      <td>Blr</td>\n",
       "      <td>1</td>\n",
       "      <td>MIND</td>\n",
       "      <td>18</td>\n",
       "      <td>Jan 2018</td>\n",
       "    </tr>\n",
       "    <tr>\n",
       "      <th>Cognizant_India</th>\n",
       "      <td>995</td>\n",
       "      <td>940.7</td>\n",
       "      <td>710</td>\n",
       "      <td>Pub</td>\n",
       "      <td>355000</td>\n",
       "      <td>Chn</td>\n",
       "      <td>1</td>\n",
       "      <td>COGN</td>\n",
       "      <td>12</td>\n",
       "      <td>May 2019</td>\n",
       "    </tr>\n",
       "    <tr>\n",
       "      <th>Mphasis_Ltd</th>\n",
       "      <td>925</td>\n",
       "      <td>830.5</td>\n",
       "      <td>675</td>\n",
       "      <td>Pvt</td>\n",
       "      <td>38000</td>\n",
       "      <td>Blr</td>\n",
       "      <td>1</td>\n",
       "      <td>MPHS</td>\n",
       "      <td>5</td>\n",
       "      <td>Sep 2020</td>\n",
       "    </tr>\n",
       "    <tr>\n",
       "      <th>Persistent_Systems</th>\n",
       "      <td>945</td>\n",
       "      <td>845.2</td>\n",
       "      <td>685</td>\n",
       "      <td>Gov</td>\n",
       "      <td>25000</td>\n",
       "      <td>Pun</td>\n",
       "      <td>0</td>\n",
       "      <td>PRST</td>\n",
       "      <td>5</td>\n",
       "      <td>Apr 2021</td>\n",
       "    </tr>\n",
       "  </tbody>\n",
       "</table>\n",
       "</div>"
      ],
      "text/plain": [
       "                    Vol    Rev  Exp Sector  EmpCnt   HQ  MNC StockID  GST  \\\n",
       "TCS_Solutions       980  950.3  700    Pub  500000  Mum    1     TCS   18   \n",
       "Infosys_Tech        970  930.8  690    Pvt  346000  Blr    1    INFY   12   \n",
       "Wipro_Services      960  890.5  680    Pub  250000  Blr    1    WIPR    5   \n",
       "HCL_Tech            950  870.4  670    Pvt  225000  NCR    1    HCLT    5   \n",
       "TechMahindra        940  850.2  665    Pub  146000  Pun    1    TMAH   12   \n",
       "LT_Infotech         920  820.6  655    Gov   92000  Mum    1     LTI   18   \n",
       "Mindtree_Ltd        910  810.8  650    Pvt   38000  Blr    1    MIND   18   \n",
       "Cognizant_India     995  940.7  710    Pub  355000  Chn    1    COGN   12   \n",
       "Mphasis_Ltd         925  830.5  675    Pvt   38000  Blr    1    MPHS    5   \n",
       "Persistent_Systems  945  845.2  685    Gov   25000  Pun    0    PRST    5   \n",
       "\n",
       "                   Start Date  \n",
       "TCS_Solutions        Apr 2004  \n",
       "Infosys_Tech         Jul 1999  \n",
       "Wipro_Services       Dec 2002  \n",
       "HCL_Tech             Aug 2007  \n",
       "TechMahindra         Mar 2009  \n",
       "LT_Infotech          Dec 2016  \n",
       "Mindtree_Ltd         Jan 2018  \n",
       "Cognizant_India      May 2019  \n",
       "Mphasis_Ltd          Sep 2020  \n",
       "Persistent_Systems   Apr 2021  "
      ]
     },
     "execution_count": 193,
     "metadata": {},
     "output_type": "execute_result"
    }
   ],
   "source": [
    "df_stock"
   ]
  },
  {
   "cell_type": "code",
   "execution_count": 280,
   "metadata": {},
   "outputs": [
    {
     "data": {
      "text/plain": [
       "Wipro_Services    Blr\n",
       "HCL_Tech          NCR\n",
       "TechMahindra      Pun\n",
       "LT_Infotech       Mum\n",
       "Mindtree_Ltd      Blr\n",
       "Name: HQ, dtype: object"
      ]
     },
     "execution_count": 280,
     "metadata": {},
     "output_type": "execute_result"
    }
   ],
   "source": [
    "df_stock.iloc[2:7, -5]"
   ]
  },
  {
   "cell_type": "code",
   "execution_count": 279,
   "metadata": {},
   "outputs": [
    {
     "data": {
      "text/plain": [
       "Wipro_Services    Blr\n",
       "HCL_Tech          NCR\n",
       "TechMahindra      Pun\n",
       "LT_Infotech       Mum\n",
       "Mindtree_Ltd      Blr\n",
       "Name: HQ, dtype: object"
      ]
     },
     "execution_count": 279,
     "metadata": {},
     "output_type": "execute_result"
    }
   ],
   "source": [
    "df_stock.iloc[2:7]['HQ']"
   ]
  },
  {
   "cell_type": "code",
   "execution_count": 281,
   "metadata": {},
   "outputs": [
    {
     "data": {
      "text/plain": [
       "Wipro_Services    Blr\n",
       "HCL_Tech          NCR\n",
       "TechMahindra      Pun\n",
       "LT_Infotech       Mum\n",
       "Mindtree_Ltd      Blr\n",
       "Name: HQ, dtype: object"
      ]
     },
     "execution_count": 281,
     "metadata": {},
     "output_type": "execute_result"
    }
   ],
   "source": [
    "df_stock.iloc[2:7].HQ"
   ]
  },
  {
   "cell_type": "code",
   "execution_count": 289,
   "metadata": {},
   "outputs": [
    {
     "name": "stdout",
     "output_type": "stream",
     "text": [
      "                    Vol    Rev  Exp Sector  EmpCnt   HQ  MNC StockID  GST  \\\n",
      "TCS_Solutions       980  950.3  700    Pub  500000  Mum    1     TCS   18   \n",
      "Infosys_Tech        970  930.8  690    Pvt  346000  Blr    1    INFY   12   \n",
      "Wipro_Services      960  890.5  680    Pub  250000  Blr    1    WIPR    5   \n",
      "HCL_Tech            950  870.4  670    Pvt  225000  NCR    1    HCLT    5   \n",
      "TechMahindra        940  850.2  665    Pub  146000  Pun    1    TMAH   12   \n",
      "LT_Infotech         920  820.6  655    Gov   92000  Mum    1     LTI   18   \n",
      "Mindtree_Ltd        910  810.8  650    Pvt   38000  Blr    1    MIND   18   \n",
      "Cognizant_India     995  940.7  710    Pub  355000  Chn    1    COGN   12   \n",
      "Mphasis_Ltd         925  830.5  675    Pvt   38000  Blr    1    MPHS    5   \n",
      "Persistent_Systems  945  845.2  685    Gov   25000  Pun    0    PRST    5   \n",
      "\n",
      "                   Start Date  \n",
      "TCS_Solutions        Apr 2004  \n",
      "Infosys_Tech         Jul 1999  \n",
      "Wipro_Services       Dec 2002  \n",
      "HCL_Tech             Aug 2007  \n",
      "TechMahindra         Mar 2009  \n",
      "LT_Infotech          Dec 2016  \n",
      "Mindtree_Ltd         Jan 2018  \n",
      "Cognizant_India      May 2019  \n",
      "Mphasis_Ltd          Sep 2020  \n",
      "Persistent_Systems   Apr 2021  \n"
     ]
    },
    {
     "data": {
      "text/html": [
       "<div>\n",
       "<style scoped>\n",
       "    .dataframe tbody tr th:only-of-type {\n",
       "        vertical-align: middle;\n",
       "    }\n",
       "\n",
       "    .dataframe tbody tr th {\n",
       "        vertical-align: top;\n",
       "    }\n",
       "\n",
       "    .dataframe thead th {\n",
       "        text-align: right;\n",
       "    }\n",
       "</style>\n",
       "<table border=\"1\" class=\"dataframe\">\n",
       "  <thead>\n",
       "    <tr style=\"text-align: right;\">\n",
       "      <th></th>\n",
       "      <th>Vol</th>\n",
       "      <th>Rev</th>\n",
       "      <th>Exp</th>\n",
       "      <th>Sector</th>\n",
       "      <th>EmpCnt</th>\n",
       "      <th>HQ</th>\n",
       "      <th>MNC</th>\n",
       "      <th>StockID</th>\n",
       "      <th>GST</th>\n",
       "      <th>Start Date</th>\n",
       "    </tr>\n",
       "  </thead>\n",
       "  <tbody>\n",
       "    <tr>\n",
       "      <th>Infosys_Tech</th>\n",
       "      <td>970</td>\n",
       "      <td>930.8</td>\n",
       "      <td>690</td>\n",
       "      <td>Pvt</td>\n",
       "      <td>346000</td>\n",
       "      <td>Blr</td>\n",
       "      <td>1</td>\n",
       "      <td>INFY</td>\n",
       "      <td>12</td>\n",
       "      <td>Jul 1999</td>\n",
       "    </tr>\n",
       "    <tr>\n",
       "      <th>TechMahindra</th>\n",
       "      <td>940</td>\n",
       "      <td>850.2</td>\n",
       "      <td>665</td>\n",
       "      <td>Pub</td>\n",
       "      <td>146000</td>\n",
       "      <td>Pun</td>\n",
       "      <td>1</td>\n",
       "      <td>TMAH</td>\n",
       "      <td>12</td>\n",
       "      <td>Mar 2009</td>\n",
       "    </tr>\n",
       "    <tr>\n",
       "      <th>Cognizant_India</th>\n",
       "      <td>995</td>\n",
       "      <td>940.7</td>\n",
       "      <td>710</td>\n",
       "      <td>Pub</td>\n",
       "      <td>355000</td>\n",
       "      <td>Chn</td>\n",
       "      <td>1</td>\n",
       "      <td>COGN</td>\n",
       "      <td>12</td>\n",
       "      <td>May 2019</td>\n",
       "    </tr>\n",
       "  </tbody>\n",
       "</table>\n",
       "</div>"
      ],
      "text/plain": [
       "                 Vol    Rev  Exp Sector  EmpCnt   HQ  MNC StockID  GST  \\\n",
       "Infosys_Tech     970  930.8  690    Pvt  346000  Blr    1    INFY   12   \n",
       "TechMahindra     940  850.2  665    Pub  146000  Pun    1    TMAH   12   \n",
       "Cognizant_India  995  940.7  710    Pub  355000  Chn    1    COGN   12   \n",
       "\n",
       "                Start Date  \n",
       "Infosys_Tech      Jul 1999  \n",
       "TechMahindra      Mar 2009  \n",
       "Cognizant_India   May 2019  "
      ]
     },
     "execution_count": 289,
     "metadata": {},
     "output_type": "execute_result"
    }
   ],
   "source": [
    "#Try to execute & understand the concept to retrieve only \n",
    "print(df_stock)\n",
    "df_stock.iloc[1:8:3]         ## 1, 4, 7, 10   - displays first, fourth & seventh row "
   ]
  },
  {
   "cell_type": "code",
   "execution_count": 304,
   "metadata": {},
   "outputs": [
    {
     "data": {
      "text/html": [
       "<div>\n",
       "<style scoped>\n",
       "    .dataframe tbody tr th:only-of-type {\n",
       "        vertical-align: middle;\n",
       "    }\n",
       "\n",
       "    .dataframe tbody tr th {\n",
       "        vertical-align: top;\n",
       "    }\n",
       "\n",
       "    .dataframe thead th {\n",
       "        text-align: right;\n",
       "    }\n",
       "</style>\n",
       "<table border=\"1\" class=\"dataframe\">\n",
       "  <thead>\n",
       "    <tr style=\"text-align: right;\">\n",
       "      <th></th>\n",
       "      <th>Vol</th>\n",
       "      <th>Rev</th>\n",
       "      <th>Exp</th>\n",
       "      <th>Sector</th>\n",
       "      <th>EmpCnt</th>\n",
       "      <th>HQ</th>\n",
       "      <th>MNC</th>\n",
       "      <th>StockID</th>\n",
       "      <th>GST</th>\n",
       "      <th>Start Date</th>\n",
       "    </tr>\n",
       "  </thead>\n",
       "  <tbody>\n",
       "    <tr>\n",
       "      <th>Infosys_Tech</th>\n",
       "      <td>970</td>\n",
       "      <td>930.8</td>\n",
       "      <td>690</td>\n",
       "      <td>Pvt</td>\n",
       "      <td>346000</td>\n",
       "      <td>Blr</td>\n",
       "      <td>1</td>\n",
       "      <td>INFY</td>\n",
       "      <td>12</td>\n",
       "      <td>Jul 1999</td>\n",
       "    </tr>\n",
       "    <tr>\n",
       "      <th>Mphasis_Ltd</th>\n",
       "      <td>925</td>\n",
       "      <td>830.5</td>\n",
       "      <td>675</td>\n",
       "      <td>Pvt</td>\n",
       "      <td>38000</td>\n",
       "      <td>Blr</td>\n",
       "      <td>1</td>\n",
       "      <td>MPHS</td>\n",
       "      <td>5</td>\n",
       "      <td>Sep 2020</td>\n",
       "    </tr>\n",
       "    <tr>\n",
       "      <th>HCL_Tech</th>\n",
       "      <td>950</td>\n",
       "      <td>870.4</td>\n",
       "      <td>670</td>\n",
       "      <td>Pvt</td>\n",
       "      <td>225000</td>\n",
       "      <td>NCR</td>\n",
       "      <td>1</td>\n",
       "      <td>HCLT</td>\n",
       "      <td>5</td>\n",
       "      <td>Aug 2007</td>\n",
       "    </tr>\n",
       "  </tbody>\n",
       "</table>\n",
       "</div>"
      ],
      "text/plain": [
       "              Vol    Rev  Exp Sector  EmpCnt   HQ  MNC StockID  GST Start Date\n",
       "Infosys_Tech  970  930.8  690    Pvt  346000  Blr    1    INFY   12   Jul 1999\n",
       "Mphasis_Ltd   925  830.5  675    Pvt   38000  Blr    1    MPHS    5   Sep 2020\n",
       "HCL_Tech      950  870.4  670    Pvt  225000  NCR    1    HCLT    5   Aug 2007"
      ]
     },
     "execution_count": 304,
     "metadata": {},
     "output_type": "execute_result"
    }
   ],
   "source": [
    "df_stock.iloc[[1,8,3]] # row index (double square bracket - vector representation)"
   ]
  },
  {
   "cell_type": "code",
   "execution_count": 309,
   "metadata": {},
   "outputs": [
    {
     "ename": "TypeError",
     "evalue": "Cannot index by location index with a non-integer key",
     "output_type": "error",
     "traceback": [
      "\u001b[0;31m---------------------------------------------------------------------------\u001b[0m",
      "\u001b[0;31mTypeError\u001b[0m                                 Traceback (most recent call last)",
      "Cell \u001b[0;32mIn[309], line 3\u001b[0m\n\u001b[1;32m      1\u001b[0m \u001b[38;5;66;03m# iloc does not allow labelled access\u001b[39;00m\n\u001b[1;32m      2\u001b[0m \u001b[38;5;66;03m# integer location based access - label is not allowed\u001b[39;00m\n\u001b[0;32m----> 3\u001b[0m \u001b[43mdf_stock\u001b[49m\u001b[38;5;241;43m.\u001b[39;49m\u001b[43miloc\u001b[49m\u001b[43m[\u001b[49m\u001b[38;5;124;43m'\u001b[39;49m\u001b[38;5;124;43mVol\u001b[39;49m\u001b[38;5;124;43m'\u001b[39;49m\u001b[43m]\u001b[49m\n",
      "File \u001b[0;32m~/miniforge3/envs/nndl_env/lib/python3.9/site-packages/pandas/core/indexing.py:1191\u001b[0m, in \u001b[0;36m_LocationIndexer.__getitem__\u001b[0;34m(self, key)\u001b[0m\n\u001b[1;32m   1189\u001b[0m maybe_callable \u001b[38;5;241m=\u001b[39m com\u001b[38;5;241m.\u001b[39mapply_if_callable(key, \u001b[38;5;28mself\u001b[39m\u001b[38;5;241m.\u001b[39mobj)\n\u001b[1;32m   1190\u001b[0m maybe_callable \u001b[38;5;241m=\u001b[39m \u001b[38;5;28mself\u001b[39m\u001b[38;5;241m.\u001b[39m_check_deprecated_callable_usage(key, maybe_callable)\n\u001b[0;32m-> 1191\u001b[0m \u001b[38;5;28;01mreturn\u001b[39;00m \u001b[38;5;28;43mself\u001b[39;49m\u001b[38;5;241;43m.\u001b[39;49m\u001b[43m_getitem_axis\u001b[49m\u001b[43m(\u001b[49m\u001b[43mmaybe_callable\u001b[49m\u001b[43m,\u001b[49m\u001b[43m \u001b[49m\u001b[43maxis\u001b[49m\u001b[38;5;241;43m=\u001b[39;49m\u001b[43maxis\u001b[49m\u001b[43m)\u001b[49m\n",
      "File \u001b[0;32m~/miniforge3/envs/nndl_env/lib/python3.9/site-packages/pandas/core/indexing.py:1749\u001b[0m, in \u001b[0;36m_iLocIndexer._getitem_axis\u001b[0;34m(self, key, axis)\u001b[0m\n\u001b[1;32m   1747\u001b[0m key \u001b[38;5;241m=\u001b[39m item_from_zerodim(key)\n\u001b[1;32m   1748\u001b[0m \u001b[38;5;28;01mif\u001b[39;00m \u001b[38;5;129;01mnot\u001b[39;00m is_integer(key):\n\u001b[0;32m-> 1749\u001b[0m     \u001b[38;5;28;01mraise\u001b[39;00m \u001b[38;5;167;01mTypeError\u001b[39;00m(\u001b[38;5;124m\"\u001b[39m\u001b[38;5;124mCannot index by location index with a non-integer key\u001b[39m\u001b[38;5;124m\"\u001b[39m)\n\u001b[1;32m   1751\u001b[0m \u001b[38;5;66;03m# validate the location\u001b[39;00m\n\u001b[1;32m   1752\u001b[0m \u001b[38;5;28mself\u001b[39m\u001b[38;5;241m.\u001b[39m_validate_integer(key, axis)\n",
      "\u001b[0;31mTypeError\u001b[0m: Cannot index by location index with a non-integer key"
     ]
    }
   ],
   "source": [
    "# iloc does not allow labelled access\n",
    "# integer location based access - label is not allowed\n",
    "df_stock.iloc['Vol']"
   ]
  },
  {
   "cell_type": "code",
   "execution_count": 308,
   "metadata": {},
   "outputs": [],
   "source": [
    "#Location/Labelled based Access"
   ]
  },
  {
   "cell_type": "code",
   "execution_count": 310,
   "metadata": {},
   "outputs": [
    {
     "data": {
      "text/html": [
       "<div>\n",
       "<style scoped>\n",
       "    .dataframe tbody tr th:only-of-type {\n",
       "        vertical-align: middle;\n",
       "    }\n",
       "\n",
       "    .dataframe tbody tr th {\n",
       "        vertical-align: top;\n",
       "    }\n",
       "\n",
       "    .dataframe thead th {\n",
       "        text-align: right;\n",
       "    }\n",
       "</style>\n",
       "<table border=\"1\" class=\"dataframe\">\n",
       "  <thead>\n",
       "    <tr style=\"text-align: right;\">\n",
       "      <th></th>\n",
       "      <th>Vol</th>\n",
       "      <th>Rev</th>\n",
       "      <th>Exp</th>\n",
       "      <th>Sector</th>\n",
       "      <th>EmpCnt</th>\n",
       "      <th>HQ</th>\n",
       "      <th>MNC</th>\n",
       "      <th>StockID</th>\n",
       "      <th>GST</th>\n",
       "      <th>Start Date</th>\n",
       "    </tr>\n",
       "  </thead>\n",
       "  <tbody>\n",
       "    <tr>\n",
       "      <th>TCS_Solutions</th>\n",
       "      <td>980</td>\n",
       "      <td>950.3</td>\n",
       "      <td>700</td>\n",
       "      <td>Pub</td>\n",
       "      <td>500000</td>\n",
       "      <td>Mum</td>\n",
       "      <td>1</td>\n",
       "      <td>TCS</td>\n",
       "      <td>18</td>\n",
       "      <td>Apr 2004</td>\n",
       "    </tr>\n",
       "    <tr>\n",
       "      <th>Infosys_Tech</th>\n",
       "      <td>970</td>\n",
       "      <td>930.8</td>\n",
       "      <td>690</td>\n",
       "      <td>Pvt</td>\n",
       "      <td>346000</td>\n",
       "      <td>Blr</td>\n",
       "      <td>1</td>\n",
       "      <td>INFY</td>\n",
       "      <td>12</td>\n",
       "      <td>Jul 1999</td>\n",
       "    </tr>\n",
       "    <tr>\n",
       "      <th>Wipro_Services</th>\n",
       "      <td>960</td>\n",
       "      <td>890.5</td>\n",
       "      <td>680</td>\n",
       "      <td>Pub</td>\n",
       "      <td>250000</td>\n",
       "      <td>Blr</td>\n",
       "      <td>1</td>\n",
       "      <td>WIPR</td>\n",
       "      <td>5</td>\n",
       "      <td>Dec 2002</td>\n",
       "    </tr>\n",
       "    <tr>\n",
       "      <th>HCL_Tech</th>\n",
       "      <td>950</td>\n",
       "      <td>870.4</td>\n",
       "      <td>670</td>\n",
       "      <td>Pvt</td>\n",
       "      <td>225000</td>\n",
       "      <td>NCR</td>\n",
       "      <td>1</td>\n",
       "      <td>HCLT</td>\n",
       "      <td>5</td>\n",
       "      <td>Aug 2007</td>\n",
       "    </tr>\n",
       "    <tr>\n",
       "      <th>TechMahindra</th>\n",
       "      <td>940</td>\n",
       "      <td>850.2</td>\n",
       "      <td>665</td>\n",
       "      <td>Pub</td>\n",
       "      <td>146000</td>\n",
       "      <td>Pun</td>\n",
       "      <td>1</td>\n",
       "      <td>TMAH</td>\n",
       "      <td>12</td>\n",
       "      <td>Mar 2009</td>\n",
       "    </tr>\n",
       "    <tr>\n",
       "      <th>LT_Infotech</th>\n",
       "      <td>920</td>\n",
       "      <td>820.6</td>\n",
       "      <td>655</td>\n",
       "      <td>Gov</td>\n",
       "      <td>92000</td>\n",
       "      <td>Mum</td>\n",
       "      <td>1</td>\n",
       "      <td>LTI</td>\n",
       "      <td>18</td>\n",
       "      <td>Dec 2016</td>\n",
       "    </tr>\n",
       "    <tr>\n",
       "      <th>Mindtree_Ltd</th>\n",
       "      <td>910</td>\n",
       "      <td>810.8</td>\n",
       "      <td>650</td>\n",
       "      <td>Pvt</td>\n",
       "      <td>38000</td>\n",
       "      <td>Blr</td>\n",
       "      <td>1</td>\n",
       "      <td>MIND</td>\n",
       "      <td>18</td>\n",
       "      <td>Jan 2018</td>\n",
       "    </tr>\n",
       "    <tr>\n",
       "      <th>Cognizant_India</th>\n",
       "      <td>995</td>\n",
       "      <td>940.7</td>\n",
       "      <td>710</td>\n",
       "      <td>Pub</td>\n",
       "      <td>355000</td>\n",
       "      <td>Chn</td>\n",
       "      <td>1</td>\n",
       "      <td>COGN</td>\n",
       "      <td>12</td>\n",
       "      <td>May 2019</td>\n",
       "    </tr>\n",
       "    <tr>\n",
       "      <th>Mphasis_Ltd</th>\n",
       "      <td>925</td>\n",
       "      <td>830.5</td>\n",
       "      <td>675</td>\n",
       "      <td>Pvt</td>\n",
       "      <td>38000</td>\n",
       "      <td>Blr</td>\n",
       "      <td>1</td>\n",
       "      <td>MPHS</td>\n",
       "      <td>5</td>\n",
       "      <td>Sep 2020</td>\n",
       "    </tr>\n",
       "    <tr>\n",
       "      <th>Persistent_Systems</th>\n",
       "      <td>945</td>\n",
       "      <td>845.2</td>\n",
       "      <td>685</td>\n",
       "      <td>Gov</td>\n",
       "      <td>25000</td>\n",
       "      <td>Pun</td>\n",
       "      <td>0</td>\n",
       "      <td>PRST</td>\n",
       "      <td>5</td>\n",
       "      <td>Apr 2021</td>\n",
       "    </tr>\n",
       "  </tbody>\n",
       "</table>\n",
       "</div>"
      ],
      "text/plain": [
       "                    Vol    Rev  Exp Sector  EmpCnt   HQ  MNC StockID  GST  \\\n",
       "TCS_Solutions       980  950.3  700    Pub  500000  Mum    1     TCS   18   \n",
       "Infosys_Tech        970  930.8  690    Pvt  346000  Blr    1    INFY   12   \n",
       "Wipro_Services      960  890.5  680    Pub  250000  Blr    1    WIPR    5   \n",
       "HCL_Tech            950  870.4  670    Pvt  225000  NCR    1    HCLT    5   \n",
       "TechMahindra        940  850.2  665    Pub  146000  Pun    1    TMAH   12   \n",
       "LT_Infotech         920  820.6  655    Gov   92000  Mum    1     LTI   18   \n",
       "Mindtree_Ltd        910  810.8  650    Pvt   38000  Blr    1    MIND   18   \n",
       "Cognizant_India     995  940.7  710    Pub  355000  Chn    1    COGN   12   \n",
       "Mphasis_Ltd         925  830.5  675    Pvt   38000  Blr    1    MPHS    5   \n",
       "Persistent_Systems  945  845.2  685    Gov   25000  Pun    0    PRST    5   \n",
       "\n",
       "                   Start Date  \n",
       "TCS_Solutions        Apr 2004  \n",
       "Infosys_Tech         Jul 1999  \n",
       "Wipro_Services       Dec 2002  \n",
       "HCL_Tech             Aug 2007  \n",
       "TechMahindra         Mar 2009  \n",
       "LT_Infotech          Dec 2016  \n",
       "Mindtree_Ltd         Jan 2018  \n",
       "Cognizant_India      May 2019  \n",
       "Mphasis_Ltd          Sep 2020  \n",
       "Persistent_Systems   Apr 2021  "
      ]
     },
     "execution_count": 310,
     "metadata": {},
     "output_type": "execute_result"
    }
   ],
   "source": [
    "df_stock"
   ]
  },
  {
   "cell_type": "code",
   "execution_count": 311,
   "metadata": {},
   "outputs": [
    {
     "data": {
      "text/plain": [
       "Vol                950\n",
       "Rev              870.4\n",
       "Exp                670\n",
       "Sector             Pvt\n",
       "EmpCnt          225000\n",
       "HQ                 NCR\n",
       "MNC                  1\n",
       "StockID           HCLT\n",
       "GST                  5\n",
       "Start Date    Aug 2007\n",
       "Name: HCL_Tech, dtype: object"
      ]
     },
     "execution_count": 311,
     "metadata": {},
     "output_type": "execute_result"
    }
   ],
   "source": [
    "df_stock.loc['HCL_Tech']"
   ]
  },
  {
   "cell_type": "code",
   "execution_count": 313,
   "metadata": {},
   "outputs": [
    {
     "data": {
      "text/plain": [
       "225000"
      ]
     },
     "execution_count": 313,
     "metadata": {},
     "output_type": "execute_result"
    }
   ],
   "source": [
    "df_stock.loc['HCL_Tech', 'EmpCnt']"
   ]
  },
  {
   "cell_type": "code",
   "execution_count": 314,
   "metadata": {},
   "outputs": [
    {
     "data": {
      "text/plain": [
       "Index(['TCS_Solutions', 'Infosys_Tech', 'Wipro_Services', 'HCL_Tech',\n",
       "       'TechMahindra', 'LT_Infotech', 'Mindtree_Ltd', 'Cognizant_India',\n",
       "       'Mphasis_Ltd', 'Persistent_Systems'],\n",
       "      dtype='object')"
      ]
     },
     "execution_count": 314,
     "metadata": {},
     "output_type": "execute_result"
    }
   ],
   "source": [
    "df_stock.index"
   ]
  },
  {
   "cell_type": "code",
   "execution_count": 315,
   "metadata": {},
   "outputs": [
    {
     "data": {
      "text/plain": [
       "Index(['Vol', 'Rev', 'Exp', 'Sector', 'EmpCnt', 'HQ', 'MNC', 'StockID', 'GST',\n",
       "       'Start Date'],\n",
       "      dtype='object')"
      ]
     },
     "execution_count": 315,
     "metadata": {},
     "output_type": "execute_result"
    }
   ],
   "source": [
    "df_stock.columns"
   ]
  },
  {
   "cell_type": "code",
   "execution_count": null,
   "metadata": {},
   "outputs": [],
   "source": [
    "#labels = df.index + df.columns - all the above becomes label for the dataframe"
   ]
  },
  {
   "cell_type": "code",
   "execution_count": 316,
   "metadata": {},
   "outputs": [
    {
     "data": {
      "text/html": [
       "<div>\n",
       "<style scoped>\n",
       "    .dataframe tbody tr th:only-of-type {\n",
       "        vertical-align: middle;\n",
       "    }\n",
       "\n",
       "    .dataframe tbody tr th {\n",
       "        vertical-align: top;\n",
       "    }\n",
       "\n",
       "    .dataframe thead th {\n",
       "        text-align: right;\n",
       "    }\n",
       "</style>\n",
       "<table border=\"1\" class=\"dataframe\">\n",
       "  <thead>\n",
       "    <tr style=\"text-align: right;\">\n",
       "      <th></th>\n",
       "      <th>Vol</th>\n",
       "      <th>Rev</th>\n",
       "      <th>Exp</th>\n",
       "      <th>Sector</th>\n",
       "      <th>EmpCnt</th>\n",
       "      <th>HQ</th>\n",
       "      <th>MNC</th>\n",
       "      <th>StockID</th>\n",
       "      <th>GST</th>\n",
       "      <th>Start Date</th>\n",
       "    </tr>\n",
       "  </thead>\n",
       "  <tbody>\n",
       "    <tr>\n",
       "      <th>TCS_Solutions</th>\n",
       "      <td>980</td>\n",
       "      <td>950.3</td>\n",
       "      <td>700</td>\n",
       "      <td>Pub</td>\n",
       "      <td>500000</td>\n",
       "      <td>Mum</td>\n",
       "      <td>1</td>\n",
       "      <td>TCS</td>\n",
       "      <td>18</td>\n",
       "      <td>Apr 2004</td>\n",
       "    </tr>\n",
       "    <tr>\n",
       "      <th>Infosys_Tech</th>\n",
       "      <td>970</td>\n",
       "      <td>930.8</td>\n",
       "      <td>690</td>\n",
       "      <td>Pvt</td>\n",
       "      <td>346000</td>\n",
       "      <td>Blr</td>\n",
       "      <td>1</td>\n",
       "      <td>INFY</td>\n",
       "      <td>12</td>\n",
       "      <td>Jul 1999</td>\n",
       "    </tr>\n",
       "    <tr>\n",
       "      <th>Wipro_Services</th>\n",
       "      <td>960</td>\n",
       "      <td>890.5</td>\n",
       "      <td>680</td>\n",
       "      <td>Pub</td>\n",
       "      <td>250000</td>\n",
       "      <td>Blr</td>\n",
       "      <td>1</td>\n",
       "      <td>WIPR</td>\n",
       "      <td>5</td>\n",
       "      <td>Dec 2002</td>\n",
       "    </tr>\n",
       "    <tr>\n",
       "      <th>HCL_Tech</th>\n",
       "      <td>950</td>\n",
       "      <td>870.4</td>\n",
       "      <td>670</td>\n",
       "      <td>Pvt</td>\n",
       "      <td>225000</td>\n",
       "      <td>NCR</td>\n",
       "      <td>1</td>\n",
       "      <td>HCLT</td>\n",
       "      <td>5</td>\n",
       "      <td>Aug 2007</td>\n",
       "    </tr>\n",
       "    <tr>\n",
       "      <th>TechMahindra</th>\n",
       "      <td>940</td>\n",
       "      <td>850.2</td>\n",
       "      <td>665</td>\n",
       "      <td>Pub</td>\n",
       "      <td>146000</td>\n",
       "      <td>Pun</td>\n",
       "      <td>1</td>\n",
       "      <td>TMAH</td>\n",
       "      <td>12</td>\n",
       "      <td>Mar 2009</td>\n",
       "    </tr>\n",
       "    <tr>\n",
       "      <th>LT_Infotech</th>\n",
       "      <td>920</td>\n",
       "      <td>820.6</td>\n",
       "      <td>655</td>\n",
       "      <td>Gov</td>\n",
       "      <td>92000</td>\n",
       "      <td>Mum</td>\n",
       "      <td>1</td>\n",
       "      <td>LTI</td>\n",
       "      <td>18</td>\n",
       "      <td>Dec 2016</td>\n",
       "    </tr>\n",
       "    <tr>\n",
       "      <th>Mindtree_Ltd</th>\n",
       "      <td>910</td>\n",
       "      <td>810.8</td>\n",
       "      <td>650</td>\n",
       "      <td>Pvt</td>\n",
       "      <td>38000</td>\n",
       "      <td>Blr</td>\n",
       "      <td>1</td>\n",
       "      <td>MIND</td>\n",
       "      <td>18</td>\n",
       "      <td>Jan 2018</td>\n",
       "    </tr>\n",
       "    <tr>\n",
       "      <th>Cognizant_India</th>\n",
       "      <td>995</td>\n",
       "      <td>940.7</td>\n",
       "      <td>710</td>\n",
       "      <td>Pub</td>\n",
       "      <td>355000</td>\n",
       "      <td>Chn</td>\n",
       "      <td>1</td>\n",
       "      <td>COGN</td>\n",
       "      <td>12</td>\n",
       "      <td>May 2019</td>\n",
       "    </tr>\n",
       "    <tr>\n",
       "      <th>Mphasis_Ltd</th>\n",
       "      <td>925</td>\n",
       "      <td>830.5</td>\n",
       "      <td>675</td>\n",
       "      <td>Pvt</td>\n",
       "      <td>38000</td>\n",
       "      <td>Blr</td>\n",
       "      <td>1</td>\n",
       "      <td>MPHS</td>\n",
       "      <td>5</td>\n",
       "      <td>Sep 2020</td>\n",
       "    </tr>\n",
       "    <tr>\n",
       "      <th>Persistent_Systems</th>\n",
       "      <td>945</td>\n",
       "      <td>845.2</td>\n",
       "      <td>685</td>\n",
       "      <td>Gov</td>\n",
       "      <td>25000</td>\n",
       "      <td>Pun</td>\n",
       "      <td>0</td>\n",
       "      <td>PRST</td>\n",
       "      <td>5</td>\n",
       "      <td>Apr 2021</td>\n",
       "    </tr>\n",
       "  </tbody>\n",
       "</table>\n",
       "</div>"
      ],
      "text/plain": [
       "                    Vol    Rev  Exp Sector  EmpCnt   HQ  MNC StockID  GST  \\\n",
       "TCS_Solutions       980  950.3  700    Pub  500000  Mum    1     TCS   18   \n",
       "Infosys_Tech        970  930.8  690    Pvt  346000  Blr    1    INFY   12   \n",
       "Wipro_Services      960  890.5  680    Pub  250000  Blr    1    WIPR    5   \n",
       "HCL_Tech            950  870.4  670    Pvt  225000  NCR    1    HCLT    5   \n",
       "TechMahindra        940  850.2  665    Pub  146000  Pun    1    TMAH   12   \n",
       "LT_Infotech         920  820.6  655    Gov   92000  Mum    1     LTI   18   \n",
       "Mindtree_Ltd        910  810.8  650    Pvt   38000  Blr    1    MIND   18   \n",
       "Cognizant_India     995  940.7  710    Pub  355000  Chn    1    COGN   12   \n",
       "Mphasis_Ltd         925  830.5  675    Pvt   38000  Blr    1    MPHS    5   \n",
       "Persistent_Systems  945  845.2  685    Gov   25000  Pun    0    PRST    5   \n",
       "\n",
       "                   Start Date  \n",
       "TCS_Solutions        Apr 2004  \n",
       "Infosys_Tech         Jul 1999  \n",
       "Wipro_Services       Dec 2002  \n",
       "HCL_Tech             Aug 2007  \n",
       "TechMahindra         Mar 2009  \n",
       "LT_Infotech          Dec 2016  \n",
       "Mindtree_Ltd         Jan 2018  \n",
       "Cognizant_India      May 2019  \n",
       "Mphasis_Ltd          Sep 2020  \n",
       "Persistent_Systems   Apr 2021  "
      ]
     },
     "execution_count": 316,
     "metadata": {},
     "output_type": "execute_result"
    }
   ],
   "source": [
    "df_stock"
   ]
  },
  {
   "cell_type": "code",
   "execution_count": 319,
   "metadata": {},
   "outputs": [
    {
     "data": {
      "text/html": [
       "<div>\n",
       "<style scoped>\n",
       "    .dataframe tbody tr th:only-of-type {\n",
       "        vertical-align: middle;\n",
       "    }\n",
       "\n",
       "    .dataframe tbody tr th {\n",
       "        vertical-align: top;\n",
       "    }\n",
       "\n",
       "    .dataframe thead th {\n",
       "        text-align: right;\n",
       "    }\n",
       "</style>\n",
       "<table border=\"1\" class=\"dataframe\">\n",
       "  <thead>\n",
       "    <tr style=\"text-align: right;\">\n",
       "      <th></th>\n",
       "      <th>EmpCnt</th>\n",
       "      <th>HQ</th>\n",
       "      <th>MNC</th>\n",
       "      <th>StockID</th>\n",
       "      <th>GST</th>\n",
       "    </tr>\n",
       "  </thead>\n",
       "  <tbody>\n",
       "    <tr>\n",
       "      <th>LT_Infotech</th>\n",
       "      <td>92000</td>\n",
       "      <td>Mum</td>\n",
       "      <td>1</td>\n",
       "      <td>LTI</td>\n",
       "      <td>18</td>\n",
       "    </tr>\n",
       "    <tr>\n",
       "      <th>Mindtree_Ltd</th>\n",
       "      <td>38000</td>\n",
       "      <td>Blr</td>\n",
       "      <td>1</td>\n",
       "      <td>MIND</td>\n",
       "      <td>18</td>\n",
       "    </tr>\n",
       "    <tr>\n",
       "      <th>Cognizant_India</th>\n",
       "      <td>355000</td>\n",
       "      <td>Chn</td>\n",
       "      <td>1</td>\n",
       "      <td>COGN</td>\n",
       "      <td>12</td>\n",
       "    </tr>\n",
       "    <tr>\n",
       "      <th>Mphasis_Ltd</th>\n",
       "      <td>38000</td>\n",
       "      <td>Blr</td>\n",
       "      <td>1</td>\n",
       "      <td>MPHS</td>\n",
       "      <td>5</td>\n",
       "    </tr>\n",
       "  </tbody>\n",
       "</table>\n",
       "</div>"
      ],
      "text/plain": [
       "                 EmpCnt   HQ  MNC StockID  GST\n",
       "LT_Infotech       92000  Mum    1     LTI   18\n",
       "Mindtree_Ltd      38000  Blr    1    MIND   18\n",
       "Cognizant_India  355000  Chn    1    COGN   12\n",
       "Mphasis_Ltd       38000  Blr    1    MPHS    5"
      ]
     },
     "execution_count": 319,
     "metadata": {},
     "output_type": "execute_result"
    }
   ],
   "source": [
    "df_stock.loc['LT_Infotech':'Mphasis_Ltd', 'EmpCnt':'GST']"
   ]
  },
  {
   "cell_type": "code",
   "execution_count": 320,
   "metadata": {},
   "outputs": [
    {
     "data": {
      "text/html": [
       "<div>\n",
       "<style scoped>\n",
       "    .dataframe tbody tr th:only-of-type {\n",
       "        vertical-align: middle;\n",
       "    }\n",
       "\n",
       "    .dataframe tbody tr th {\n",
       "        vertical-align: top;\n",
       "    }\n",
       "\n",
       "    .dataframe thead th {\n",
       "        text-align: right;\n",
       "    }\n",
       "</style>\n",
       "<table border=\"1\" class=\"dataframe\">\n",
       "  <thead>\n",
       "    <tr style=\"text-align: right;\">\n",
       "      <th></th>\n",
       "      <th>Sector</th>\n",
       "      <th>MNC</th>\n",
       "      <th>EmpCnt</th>\n",
       "    </tr>\n",
       "  </thead>\n",
       "  <tbody>\n",
       "    <tr>\n",
       "      <th>TCS_Solutions</th>\n",
       "      <td>Pub</td>\n",
       "      <td>1</td>\n",
       "      <td>500000</td>\n",
       "    </tr>\n",
       "    <tr>\n",
       "      <th>HCL_Tech</th>\n",
       "      <td>Pvt</td>\n",
       "      <td>1</td>\n",
       "      <td>225000</td>\n",
       "    </tr>\n",
       "    <tr>\n",
       "      <th>Persistent_Systems</th>\n",
       "      <td>Gov</td>\n",
       "      <td>0</td>\n",
       "      <td>25000</td>\n",
       "    </tr>\n",
       "  </tbody>\n",
       "</table>\n",
       "</div>"
      ],
      "text/plain": [
       "                   Sector  MNC  EmpCnt\n",
       "TCS_Solutions         Pub    1  500000\n",
       "HCL_Tech              Pvt    1  225000\n",
       "Persistent_Systems    Gov    0   25000"
      ]
     },
     "execution_count": 320,
     "metadata": {},
     "output_type": "execute_result"
    }
   ],
   "source": [
    "df_stock.loc[['TCS_Solutions', 'HCL_Tech', 'Persistent_Systems'], ['Sector', 'MNC', 'EmpCnt']]"
   ]
  },
  {
   "cell_type": "code",
   "execution_count": 327,
   "metadata": {},
   "outputs": [
    {
     "data": {
      "text/plain": [
       "TCS_Solutions         Pub\n",
       "Infosys_Tech          Pvt\n",
       "Wipro_Services        Pub\n",
       "HCL_Tech              Pvt\n",
       "TechMahindra          Pub\n",
       "LT_Infotech           Gov\n",
       "Mindtree_Ltd          Pvt\n",
       "Cognizant_India       Pub\n",
       "Mphasis_Ltd           Pvt\n",
       "Persistent_Systems    Gov\n",
       "Name: Sector, dtype: object"
      ]
     },
     "execution_count": 327,
     "metadata": {},
     "output_type": "execute_result"
    }
   ],
   "source": [
    "df_stock.loc[:, 'Sector']"
   ]
  },
  {
   "cell_type": "code",
   "execution_count": 326,
   "metadata": {},
   "outputs": [
    {
     "data": {
      "text/html": [
       "<div>\n",
       "<style scoped>\n",
       "    .dataframe tbody tr th:only-of-type {\n",
       "        vertical-align: middle;\n",
       "    }\n",
       "\n",
       "    .dataframe tbody tr th {\n",
       "        vertical-align: top;\n",
       "    }\n",
       "\n",
       "    .dataframe thead th {\n",
       "        text-align: right;\n",
       "    }\n",
       "</style>\n",
       "<table border=\"1\" class=\"dataframe\">\n",
       "  <thead>\n",
       "    <tr style=\"text-align: right;\">\n",
       "      <th></th>\n",
       "      <th>Sector</th>\n",
       "      <th>EmpCnt</th>\n",
       "    </tr>\n",
       "  </thead>\n",
       "  <tbody>\n",
       "    <tr>\n",
       "      <th>TCS_Solutions</th>\n",
       "      <td>Pub</td>\n",
       "      <td>500000</td>\n",
       "    </tr>\n",
       "    <tr>\n",
       "      <th>Infosys_Tech</th>\n",
       "      <td>Pvt</td>\n",
       "      <td>346000</td>\n",
       "    </tr>\n",
       "    <tr>\n",
       "      <th>Wipro_Services</th>\n",
       "      <td>Pub</td>\n",
       "      <td>250000</td>\n",
       "    </tr>\n",
       "    <tr>\n",
       "      <th>HCL_Tech</th>\n",
       "      <td>Pvt</td>\n",
       "      <td>225000</td>\n",
       "    </tr>\n",
       "    <tr>\n",
       "      <th>TechMahindra</th>\n",
       "      <td>Pub</td>\n",
       "      <td>146000</td>\n",
       "    </tr>\n",
       "    <tr>\n",
       "      <th>LT_Infotech</th>\n",
       "      <td>Gov</td>\n",
       "      <td>92000</td>\n",
       "    </tr>\n",
       "    <tr>\n",
       "      <th>Mindtree_Ltd</th>\n",
       "      <td>Pvt</td>\n",
       "      <td>38000</td>\n",
       "    </tr>\n",
       "    <tr>\n",
       "      <th>Cognizant_India</th>\n",
       "      <td>Pub</td>\n",
       "      <td>355000</td>\n",
       "    </tr>\n",
       "    <tr>\n",
       "      <th>Mphasis_Ltd</th>\n",
       "      <td>Pvt</td>\n",
       "      <td>38000</td>\n",
       "    </tr>\n",
       "    <tr>\n",
       "      <th>Persistent_Systems</th>\n",
       "      <td>Gov</td>\n",
       "      <td>25000</td>\n",
       "    </tr>\n",
       "  </tbody>\n",
       "</table>\n",
       "</div>"
      ],
      "text/plain": [
       "                   Sector  EmpCnt\n",
       "TCS_Solutions         Pub  500000\n",
       "Infosys_Tech          Pvt  346000\n",
       "Wipro_Services        Pub  250000\n",
       "HCL_Tech              Pvt  225000\n",
       "TechMahindra          Pub  146000\n",
       "LT_Infotech           Gov   92000\n",
       "Mindtree_Ltd          Pvt   38000\n",
       "Cognizant_India       Pub  355000\n",
       "Mphasis_Ltd           Pvt   38000\n",
       "Persistent_Systems    Gov   25000"
      ]
     },
     "execution_count": 326,
     "metadata": {},
     "output_type": "execute_result"
    }
   ],
   "source": [
    "df_stock.loc[:, ['Sector', 'EmpCnt']]"
   ]
  },
  {
   "cell_type": "code",
   "execution_count": 328,
   "metadata": {},
   "outputs": [
    {
     "data": {
      "text/html": [
       "<div>\n",
       "<style scoped>\n",
       "    .dataframe tbody tr th:only-of-type {\n",
       "        vertical-align: middle;\n",
       "    }\n",
       "\n",
       "    .dataframe tbody tr th {\n",
       "        vertical-align: top;\n",
       "    }\n",
       "\n",
       "    .dataframe thead th {\n",
       "        text-align: right;\n",
       "    }\n",
       "</style>\n",
       "<table border=\"1\" class=\"dataframe\">\n",
       "  <thead>\n",
       "    <tr style=\"text-align: right;\">\n",
       "      <th></th>\n",
       "      <th>Sector</th>\n",
       "      <th>EmpCnt</th>\n",
       "    </tr>\n",
       "  </thead>\n",
       "  <tbody>\n",
       "    <tr>\n",
       "      <th>TCS_Solutions</th>\n",
       "      <td>Pub</td>\n",
       "      <td>500000</td>\n",
       "    </tr>\n",
       "    <tr>\n",
       "      <th>TechMahindra</th>\n",
       "      <td>Pub</td>\n",
       "      <td>146000</td>\n",
       "    </tr>\n",
       "    <tr>\n",
       "      <th>Mphasis_Ltd</th>\n",
       "      <td>Pvt</td>\n",
       "      <td>38000</td>\n",
       "    </tr>\n",
       "  </tbody>\n",
       "</table>\n",
       "</div>"
      ],
      "text/plain": [
       "              Sector  EmpCnt\n",
       "TCS_Solutions    Pub  500000\n",
       "TechMahindra     Pub  146000\n",
       "Mphasis_Ltd      Pvt   38000"
      ]
     },
     "execution_count": 328,
     "metadata": {},
     "output_type": "execute_result"
    }
   ],
   "source": [
    "df_stock.loc[['TCS_Solutions', 'TechMahindra', 'Mphasis_Ltd'], ['Sector', 'EmpCnt']]"
   ]
  },
  {
   "cell_type": "code",
   "execution_count": 337,
   "metadata": {},
   "outputs": [
    {
     "data": {
      "text/html": [
       "<div>\n",
       "<style scoped>\n",
       "    .dataframe tbody tr th:only-of-type {\n",
       "        vertical-align: middle;\n",
       "    }\n",
       "\n",
       "    .dataframe tbody tr th {\n",
       "        vertical-align: top;\n",
       "    }\n",
       "\n",
       "    .dataframe thead th {\n",
       "        text-align: right;\n",
       "    }\n",
       "</style>\n",
       "<table border=\"1\" class=\"dataframe\">\n",
       "  <thead>\n",
       "    <tr style=\"text-align: right;\">\n",
       "      <th></th>\n",
       "      <th>Vol</th>\n",
       "      <th>Rev</th>\n",
       "      <th>Exp</th>\n",
       "      <th>Sector</th>\n",
       "      <th>EmpCnt</th>\n",
       "      <th>HQ</th>\n",
       "      <th>MNC</th>\n",
       "      <th>StockID</th>\n",
       "      <th>GST</th>\n",
       "      <th>Start Date</th>\n",
       "    </tr>\n",
       "  </thead>\n",
       "  <tbody>\n",
       "    <tr>\n",
       "      <th>TCS_Solutions</th>\n",
       "      <td>980</td>\n",
       "      <td>950.3</td>\n",
       "      <td>700</td>\n",
       "      <td>Pub</td>\n",
       "      <td>500000</td>\n",
       "      <td>Mum</td>\n",
       "      <td>1</td>\n",
       "      <td>TCS</td>\n",
       "      <td>18</td>\n",
       "      <td>Apr 2004</td>\n",
       "    </tr>\n",
       "    <tr>\n",
       "      <th>Infosys_Tech</th>\n",
       "      <td>970</td>\n",
       "      <td>930.8</td>\n",
       "      <td>690</td>\n",
       "      <td>Pvt</td>\n",
       "      <td>346000</td>\n",
       "      <td>Blr</td>\n",
       "      <td>1</td>\n",
       "      <td>INFY</td>\n",
       "      <td>12</td>\n",
       "      <td>Jul 1999</td>\n",
       "    </tr>\n",
       "    <tr>\n",
       "      <th>Cognizant_India</th>\n",
       "      <td>995</td>\n",
       "      <td>940.7</td>\n",
       "      <td>710</td>\n",
       "      <td>Pub</td>\n",
       "      <td>355000</td>\n",
       "      <td>Chn</td>\n",
       "      <td>1</td>\n",
       "      <td>COGN</td>\n",
       "      <td>12</td>\n",
       "      <td>May 2019</td>\n",
       "    </tr>\n",
       "  </tbody>\n",
       "</table>\n",
       "</div>"
      ],
      "text/plain": [
       "                 Vol    Rev  Exp Sector  EmpCnt   HQ  MNC StockID  GST  \\\n",
       "TCS_Solutions    980  950.3  700    Pub  500000  Mum    1     TCS   18   \n",
       "Infosys_Tech     970  930.8  690    Pvt  346000  Blr    1    INFY   12   \n",
       "Cognizant_India  995  940.7  710    Pub  355000  Chn    1    COGN   12   \n",
       "\n",
       "                Start Date  \n",
       "TCS_Solutions     Apr 2004  \n",
       "Infosys_Tech      Jul 1999  \n",
       "Cognizant_India   May 2019  "
      ]
     },
     "execution_count": 337,
     "metadata": {},
     "output_type": "execute_result"
    }
   ],
   "source": [
    "# conditional access\n",
    "mask = df_stock.EmpCnt > 300000\n",
    "df_stock[mask]"
   ]
  },
  {
   "cell_type": "code",
   "execution_count": null,
   "metadata": {},
   "outputs": [],
   "source": []
  },
  {
   "cell_type": "code",
   "execution_count": null,
   "metadata": {},
   "outputs": [],
   "source": []
  },
  {
   "cell_type": "code",
   "execution_count": 184,
   "metadata": {},
   "outputs": [
    {
     "name": "stdout",
     "output_type": "stream",
     "text": [
      "-rw-r--r--@ 1 vidyadharbendre  staff   663 Mar 13 20:38 1d_stock.csv\r\n",
      "-rw-r--r--@ 1 vidyadharbendre  staff  2801 Mar 13 20:35 1d_stock.html\r\n",
      "-rw-r--r--@ 1 vidyadharbendre  staff  2207 Mar 13 20:36 1d_stock.json\r\n",
      "-rw-r--r--@ 1 vidyadharbendre  staff  5763 Mar 13 20:33 1d_stock.xlsx\r\n"
     ]
    }
   ],
   "source": [
    "!ls -la 1d*"
   ]
  },
  {
   "cell_type": "code",
   "execution_count": null,
   "metadata": {},
   "outputs": [],
   "source": []
  },
  {
   "cell_type": "code",
   "execution_count": null,
   "metadata": {},
   "outputs": [],
   "source": [
    "pd.rea"
   ]
  },
  {
   "cell_type": "code",
   "execution_count": 39,
   "metadata": {},
   "outputs": [],
   "source": [
    "df_store = pd.read_csv('df_store.csv')"
   ]
  },
  {
   "cell_type": "code",
   "execution_count": 40,
   "metadata": {},
   "outputs": [
    {
     "data": {
      "text/html": [
       "<div>\n",
       "<style scoped>\n",
       "    .dataframe tbody tr th:only-of-type {\n",
       "        vertical-align: middle;\n",
       "    }\n",
       "\n",
       "    .dataframe tbody tr th {\n",
       "        vertical-align: top;\n",
       "    }\n",
       "\n",
       "    .dataframe thead th {\n",
       "        text-align: right;\n",
       "    }\n",
       "</style>\n",
       "<table border=\"1\" class=\"dataframe\">\n",
       "  <thead>\n",
       "    <tr style=\"text-align: right;\">\n",
       "      <th></th>\n",
       "      <th>Unnamed: 0</th>\n",
       "      <th>Store</th>\n",
       "      <th>Location</th>\n",
       "      <th>Sales</th>\n",
       "    </tr>\n",
       "  </thead>\n",
       "  <tbody>\n",
       "    <tr>\n",
       "      <th>0</th>\n",
       "      <td>0</td>\n",
       "      <td>A</td>\n",
       "      <td>Mumbai</td>\n",
       "      <td>40000</td>\n",
       "    </tr>\n",
       "    <tr>\n",
       "      <th>1</th>\n",
       "      <td>1</td>\n",
       "      <td>B</td>\n",
       "      <td>Pune</td>\n",
       "      <td>45600</td>\n",
       "    </tr>\n",
       "    <tr>\n",
       "      <th>2</th>\n",
       "      <td>2</td>\n",
       "      <td>A</td>\n",
       "      <td>Hyderabad</td>\n",
       "      <td>56000</td>\n",
       "    </tr>\n",
       "    <tr>\n",
       "      <th>3</th>\n",
       "      <td>3</td>\n",
       "      <td>C</td>\n",
       "      <td>Mumbai</td>\n",
       "      <td>90000</td>\n",
       "    </tr>\n",
       "    <tr>\n",
       "      <th>4</th>\n",
       "      <td>4</td>\n",
       "      <td>D</td>\n",
       "      <td>Pune</td>\n",
       "      <td>89000</td>\n",
       "    </tr>\n",
       "  </tbody>\n",
       "</table>\n",
       "</div>"
      ],
      "text/plain": [
       "   Unnamed: 0 Store   Location  Sales\n",
       "0           0     A     Mumbai  40000\n",
       "1           1     B       Pune  45600\n",
       "2           2     A  Hyderabad  56000\n",
       "3           3     C     Mumbai  90000\n",
       "4           4     D       Pune  89000"
      ]
     },
     "execution_count": 40,
     "metadata": {},
     "output_type": "execute_result"
    }
   ],
   "source": [
    "df_store.head()"
   ]
  },
  {
   "cell_type": "code",
   "execution_count": 29,
   "metadata": {},
   "outputs": [
    {
     "data": {
      "text/html": [
       "<div>\n",
       "<style scoped>\n",
       "    .dataframe tbody tr th:only-of-type {\n",
       "        vertical-align: middle;\n",
       "    }\n",
       "\n",
       "    .dataframe tbody tr th {\n",
       "        vertical-align: top;\n",
       "    }\n",
       "\n",
       "    .dataframe thead th {\n",
       "        text-align: right;\n",
       "    }\n",
       "</style>\n",
       "<table border=\"1\" class=\"dataframe\">\n",
       "  <thead>\n",
       "    <tr style=\"text-align: right;\">\n",
       "      <th></th>\n",
       "      <th>Unnamed: 0</th>\n",
       "      <th>Store</th>\n",
       "      <th>Location</th>\n",
       "      <th>Sales</th>\n",
       "    </tr>\n",
       "  </thead>\n",
       "  <tbody>\n",
       "    <tr>\n",
       "      <th>5</th>\n",
       "      <td>5</td>\n",
       "      <td>A</td>\n",
       "      <td>Delhi</td>\n",
       "      <td>87000</td>\n",
       "    </tr>\n",
       "    <tr>\n",
       "      <th>6</th>\n",
       "      <td>6</td>\n",
       "      <td>D</td>\n",
       "      <td>Hyderabad</td>\n",
       "      <td>85000</td>\n",
       "    </tr>\n",
       "    <tr>\n",
       "      <th>7</th>\n",
       "      <td>7</td>\n",
       "      <td>A</td>\n",
       "      <td>Pune</td>\n",
       "      <td>78000</td>\n",
       "    </tr>\n",
       "    <tr>\n",
       "      <th>8</th>\n",
       "      <td>8</td>\n",
       "      <td>C</td>\n",
       "      <td>Mumbai</td>\n",
       "      <td>89000</td>\n",
       "    </tr>\n",
       "    <tr>\n",
       "      <th>9</th>\n",
       "      <td>9</td>\n",
       "      <td>B</td>\n",
       "      <td>Pune</td>\n",
       "      <td>70000</td>\n",
       "    </tr>\n",
       "  </tbody>\n",
       "</table>\n",
       "</div>"
      ],
      "text/plain": [
       "   Unnamed: 0 Store   Location  Sales\n",
       "5           5     A      Delhi  87000\n",
       "6           6     D  Hyderabad  85000\n",
       "7           7     A       Pune  78000\n",
       "8           8     C     Mumbai  89000\n",
       "9           9     B       Pune  70000"
      ]
     },
     "execution_count": 29,
     "metadata": {},
     "output_type": "execute_result"
    }
   ],
   "source": [
    "df_store.tail()"
   ]
  },
  {
   "cell_type": "code",
   "execution_count": 20,
   "metadata": {},
   "outputs": [],
   "source": [
    "df_store = pd.read_csv('df_store.csv')"
   ]
  },
  {
   "cell_type": "code",
   "execution_count": 21,
   "metadata": {},
   "outputs": [
    {
     "data": {
      "text/plain": [
       "Index(['Unnamed: 0', 'Store', 'Location', 'Sales'], dtype='object')"
      ]
     },
     "execution_count": 21,
     "metadata": {},
     "output_type": "execute_result"
    }
   ],
   "source": [
    "df_store.columns"
   ]
  },
  {
   "cell_type": "code",
   "execution_count": 22,
   "metadata": {},
   "outputs": [
    {
     "data": {
      "text/html": [
       "<div>\n",
       "<style scoped>\n",
       "    .dataframe tbody tr th:only-of-type {\n",
       "        vertical-align: middle;\n",
       "    }\n",
       "\n",
       "    .dataframe tbody tr th {\n",
       "        vertical-align: top;\n",
       "    }\n",
       "\n",
       "    .dataframe thead th {\n",
       "        text-align: right;\n",
       "    }\n",
       "</style>\n",
       "<table border=\"1\" class=\"dataframe\">\n",
       "  <thead>\n",
       "    <tr style=\"text-align: right;\">\n",
       "      <th></th>\n",
       "      <th>Unnamed: 0</th>\n",
       "      <th>Store</th>\n",
       "      <th>Location</th>\n",
       "      <th>Sales</th>\n",
       "    </tr>\n",
       "  </thead>\n",
       "  <tbody>\n",
       "    <tr>\n",
       "      <th>0</th>\n",
       "      <td>0</td>\n",
       "      <td>A</td>\n",
       "      <td>Mumbai</td>\n",
       "      <td>40000</td>\n",
       "    </tr>\n",
       "    <tr>\n",
       "      <th>1</th>\n",
       "      <td>1</td>\n",
       "      <td>B</td>\n",
       "      <td>Pune</td>\n",
       "      <td>45600</td>\n",
       "    </tr>\n",
       "    <tr>\n",
       "      <th>2</th>\n",
       "      <td>2</td>\n",
       "      <td>A</td>\n",
       "      <td>Hyderabad</td>\n",
       "      <td>56000</td>\n",
       "    </tr>\n",
       "    <tr>\n",
       "      <th>3</th>\n",
       "      <td>3</td>\n",
       "      <td>C</td>\n",
       "      <td>Mumbai</td>\n",
       "      <td>90000</td>\n",
       "    </tr>\n",
       "    <tr>\n",
       "      <th>4</th>\n",
       "      <td>4</td>\n",
       "      <td>D</td>\n",
       "      <td>Pune</td>\n",
       "      <td>89000</td>\n",
       "    </tr>\n",
       "  </tbody>\n",
       "</table>\n",
       "</div>"
      ],
      "text/plain": [
       "   Unnamed: 0 Store   Location  Sales\n",
       "0           0     A     Mumbai  40000\n",
       "1           1     B       Pune  45600\n",
       "2           2     A  Hyderabad  56000\n",
       "3           3     C     Mumbai  90000\n",
       "4           4     D       Pune  89000"
      ]
     },
     "execution_count": 22,
     "metadata": {},
     "output_type": "execute_result"
    }
   ],
   "source": [
    "df_store.head()"
   ]
  },
  {
   "cell_type": "code",
   "execution_count": 30,
   "metadata": {},
   "outputs": [
    {
     "data": {
      "text/html": [
       "<div>\n",
       "<style scoped>\n",
       "    .dataframe tbody tr th:only-of-type {\n",
       "        vertical-align: middle;\n",
       "    }\n",
       "\n",
       "    .dataframe tbody tr th {\n",
       "        vertical-align: top;\n",
       "    }\n",
       "\n",
       "    .dataframe thead th {\n",
       "        text-align: right;\n",
       "    }\n",
       "</style>\n",
       "<table border=\"1\" class=\"dataframe\">\n",
       "  <thead>\n",
       "    <tr style=\"text-align: right;\">\n",
       "      <th></th>\n",
       "      <th>Unnamed: 0</th>\n",
       "      <th>Store</th>\n",
       "      <th>Location</th>\n",
       "      <th>Sales</th>\n",
       "    </tr>\n",
       "  </thead>\n",
       "  <tbody>\n",
       "    <tr>\n",
       "      <th>5</th>\n",
       "      <td>5</td>\n",
       "      <td>A</td>\n",
       "      <td>Delhi</td>\n",
       "      <td>87000</td>\n",
       "    </tr>\n",
       "    <tr>\n",
       "      <th>6</th>\n",
       "      <td>6</td>\n",
       "      <td>D</td>\n",
       "      <td>Hyderabad</td>\n",
       "      <td>85000</td>\n",
       "    </tr>\n",
       "    <tr>\n",
       "      <th>7</th>\n",
       "      <td>7</td>\n",
       "      <td>A</td>\n",
       "      <td>Pune</td>\n",
       "      <td>78000</td>\n",
       "    </tr>\n",
       "    <tr>\n",
       "      <th>8</th>\n",
       "      <td>8</td>\n",
       "      <td>C</td>\n",
       "      <td>Mumbai</td>\n",
       "      <td>89000</td>\n",
       "    </tr>\n",
       "    <tr>\n",
       "      <th>9</th>\n",
       "      <td>9</td>\n",
       "      <td>B</td>\n",
       "      <td>Pune</td>\n",
       "      <td>70000</td>\n",
       "    </tr>\n",
       "  </tbody>\n",
       "</table>\n",
       "</div>"
      ],
      "text/plain": [
       "   Unnamed: 0 Store   Location  Sales\n",
       "5           5     A      Delhi  87000\n",
       "6           6     D  Hyderabad  85000\n",
       "7           7     A       Pune  78000\n",
       "8           8     C     Mumbai  89000\n",
       "9           9     B       Pune  70000"
      ]
     },
     "execution_count": 30,
     "metadata": {},
     "output_type": "execute_result"
    }
   ],
   "source": [
    "df_store.tail()"
   ]
  },
  {
   "cell_type": "code",
   "execution_count": 32,
   "metadata": {},
   "outputs": [
    {
     "data": {
      "text/plain": [
       "(10, 4)"
      ]
     },
     "execution_count": 32,
     "metadata": {},
     "output_type": "execute_result"
    }
   ],
   "source": [
    "df_store.shape"
   ]
  },
  {
   "cell_type": "code",
   "execution_count": 33,
   "metadata": {},
   "outputs": [
    {
     "name": "stdout",
     "output_type": "stream",
     "text": [
      "<class 'pandas.core.frame.DataFrame'>\n",
      "RangeIndex: 10 entries, 0 to 9\n",
      "Data columns (total 4 columns):\n",
      " #   Column      Non-Null Count  Dtype \n",
      "---  ------      --------------  ----- \n",
      " 0   Unnamed: 0  10 non-null     int64 \n",
      " 1   Store       10 non-null     object\n",
      " 2   Location    10 non-null     object\n",
      " 3   Sales       10 non-null     int64 \n",
      "dtypes: int64(2), object(2)\n",
      "memory usage: 448.0+ bytes\n"
     ]
    }
   ],
   "source": [
    "df_store.info()"
   ]
  },
  {
   "cell_type": "code",
   "execution_count": 34,
   "metadata": {},
   "outputs": [
    {
     "data": {
      "text/html": [
       "<div>\n",
       "<style scoped>\n",
       "    .dataframe tbody tr th:only-of-type {\n",
       "        vertical-align: middle;\n",
       "    }\n",
       "\n",
       "    .dataframe tbody tr th {\n",
       "        vertical-align: top;\n",
       "    }\n",
       "\n",
       "    .dataframe thead th {\n",
       "        text-align: right;\n",
       "    }\n",
       "</style>\n",
       "<table border=\"1\" class=\"dataframe\">\n",
       "  <thead>\n",
       "    <tr style=\"text-align: right;\">\n",
       "      <th></th>\n",
       "      <th>Unnamed: 0</th>\n",
       "      <th>Sales</th>\n",
       "    </tr>\n",
       "  </thead>\n",
       "  <tbody>\n",
       "    <tr>\n",
       "      <th>count</th>\n",
       "      <td>10.00000</td>\n",
       "      <td>10.000000</td>\n",
       "    </tr>\n",
       "    <tr>\n",
       "      <th>mean</th>\n",
       "      <td>4.50000</td>\n",
       "      <td>72960.000000</td>\n",
       "    </tr>\n",
       "    <tr>\n",
       "      <th>std</th>\n",
       "      <td>3.02765</td>\n",
       "      <td>19159.401522</td>\n",
       "    </tr>\n",
       "    <tr>\n",
       "      <th>min</th>\n",
       "      <td>0.00000</td>\n",
       "      <td>40000.000000</td>\n",
       "    </tr>\n",
       "    <tr>\n",
       "      <th>25%</th>\n",
       "      <td>2.25000</td>\n",
       "      <td>59500.000000</td>\n",
       "    </tr>\n",
       "    <tr>\n",
       "      <th>50%</th>\n",
       "      <td>4.50000</td>\n",
       "      <td>81500.000000</td>\n",
       "    </tr>\n",
       "    <tr>\n",
       "      <th>75%</th>\n",
       "      <td>6.75000</td>\n",
       "      <td>88500.000000</td>\n",
       "    </tr>\n",
       "    <tr>\n",
       "      <th>max</th>\n",
       "      <td>9.00000</td>\n",
       "      <td>90000.000000</td>\n",
       "    </tr>\n",
       "  </tbody>\n",
       "</table>\n",
       "</div>"
      ],
      "text/plain": [
       "       Unnamed: 0         Sales\n",
       "count    10.00000     10.000000\n",
       "mean      4.50000  72960.000000\n",
       "std       3.02765  19159.401522\n",
       "min       0.00000  40000.000000\n",
       "25%       2.25000  59500.000000\n",
       "50%       4.50000  81500.000000\n",
       "75%       6.75000  88500.000000\n",
       "max       9.00000  90000.000000"
      ]
     },
     "execution_count": 34,
     "metadata": {},
     "output_type": "execute_result"
    }
   ],
   "source": [
    "df_store.describe()"
   ]
  },
  {
   "cell_type": "code",
   "execution_count": 35,
   "metadata": {},
   "outputs": [
    {
     "data": {
      "text/plain": [
       "Index(['Unnamed: 0', 'Store', 'Location', 'Sales'], dtype='object')"
      ]
     },
     "execution_count": 35,
     "metadata": {},
     "output_type": "execute_result"
    }
   ],
   "source": [
    "df_store.columns"
   ]
  },
  {
   "cell_type": "code",
   "execution_count": 36,
   "metadata": {},
   "outputs": [
    {
     "data": {
      "text/html": [
       "<div>\n",
       "<style scoped>\n",
       "    .dataframe tbody tr th:only-of-type {\n",
       "        vertical-align: middle;\n",
       "    }\n",
       "\n",
       "    .dataframe tbody tr th {\n",
       "        vertical-align: top;\n",
       "    }\n",
       "\n",
       "    .dataframe thead th {\n",
       "        text-align: right;\n",
       "    }\n",
       "</style>\n",
       "<table border=\"1\" class=\"dataframe\">\n",
       "  <thead>\n",
       "    <tr style=\"text-align: right;\">\n",
       "      <th></th>\n",
       "      <th>Store</th>\n",
       "      <th>Location</th>\n",
       "      <th>Sales</th>\n",
       "    </tr>\n",
       "  </thead>\n",
       "  <tbody>\n",
       "    <tr>\n",
       "      <th>0</th>\n",
       "      <td>A</td>\n",
       "      <td>Mumbai</td>\n",
       "      <td>40000</td>\n",
       "    </tr>\n",
       "    <tr>\n",
       "      <th>1</th>\n",
       "      <td>B</td>\n",
       "      <td>Pune</td>\n",
       "      <td>45600</td>\n",
       "    </tr>\n",
       "    <tr>\n",
       "      <th>2</th>\n",
       "      <td>A</td>\n",
       "      <td>Hyderabad</td>\n",
       "      <td>56000</td>\n",
       "    </tr>\n",
       "    <tr>\n",
       "      <th>3</th>\n",
       "      <td>C</td>\n",
       "      <td>Mumbai</td>\n",
       "      <td>90000</td>\n",
       "    </tr>\n",
       "    <tr>\n",
       "      <th>4</th>\n",
       "      <td>D</td>\n",
       "      <td>Pune</td>\n",
       "      <td>89000</td>\n",
       "    </tr>\n",
       "    <tr>\n",
       "      <th>5</th>\n",
       "      <td>A</td>\n",
       "      <td>Delhi</td>\n",
       "      <td>87000</td>\n",
       "    </tr>\n",
       "    <tr>\n",
       "      <th>6</th>\n",
       "      <td>D</td>\n",
       "      <td>Hyderabad</td>\n",
       "      <td>85000</td>\n",
       "    </tr>\n",
       "    <tr>\n",
       "      <th>7</th>\n",
       "      <td>A</td>\n",
       "      <td>Pune</td>\n",
       "      <td>78000</td>\n",
       "    </tr>\n",
       "    <tr>\n",
       "      <th>8</th>\n",
       "      <td>C</td>\n",
       "      <td>Mumbai</td>\n",
       "      <td>89000</td>\n",
       "    </tr>\n",
       "    <tr>\n",
       "      <th>9</th>\n",
       "      <td>B</td>\n",
       "      <td>Pune</td>\n",
       "      <td>70000</td>\n",
       "    </tr>\n",
       "  </tbody>\n",
       "</table>\n",
       "</div>"
      ],
      "text/plain": [
       "  Store   Location  Sales\n",
       "0     A     Mumbai  40000\n",
       "1     B       Pune  45600\n",
       "2     A  Hyderabad  56000\n",
       "3     C     Mumbai  90000\n",
       "4     D       Pune  89000\n",
       "5     A      Delhi  87000\n",
       "6     D  Hyderabad  85000\n",
       "7     A       Pune  78000\n",
       "8     C     Mumbai  89000\n",
       "9     B       Pune  70000"
      ]
     },
     "execution_count": 36,
     "metadata": {},
     "output_type": "execute_result"
    }
   ],
   "source": [
    "df_store.drop(columns=['Unnamed: 0'], axis=1)"
   ]
  },
  {
   "cell_type": "code",
   "execution_count": 37,
   "metadata": {},
   "outputs": [],
   "source": [
    "df_store = df_store.drop(columns=['Unnamed: 0'], axis=1)"
   ]
  },
  {
   "cell_type": "code",
   "execution_count": 38,
   "metadata": {},
   "outputs": [
    {
     "data": {
      "text/plain": [
       "Index(['Store', 'Location', 'Sales'], dtype='object')"
      ]
     },
     "execution_count": 38,
     "metadata": {},
     "output_type": "execute_result"
    }
   ],
   "source": [
    "df_store.columns"
   ]
  },
  {
   "cell_type": "code",
   "execution_count": 41,
   "metadata": {},
   "outputs": [
    {
     "data": {
      "text/plain": [
       "Index(['Unnamed: 0', 'Store', 'Location', 'Sales'], dtype='object')"
      ]
     },
     "execution_count": 41,
     "metadata": {},
     "output_type": "execute_result"
    }
   ],
   "source": [
    "df_store.columns"
   ]
  },
  {
   "cell_type": "code",
   "execution_count": 43,
   "metadata": {},
   "outputs": [],
   "source": [
    "df_store.drop(columns=['Unnamed: 0'], axis=1, inplace=True)"
   ]
  },
  {
   "cell_type": "code",
   "execution_count": 44,
   "metadata": {},
   "outputs": [
    {
     "data": {
      "text/plain": [
       "Index(['Store', 'Location', 'Sales'], dtype='object')"
      ]
     },
     "execution_count": 44,
     "metadata": {},
     "output_type": "execute_result"
    }
   ],
   "source": [
    "df_store.columns"
   ]
  },
  {
   "cell_type": "code",
   "execution_count": null,
   "metadata": {},
   "outputs": [],
   "source": []
  },
  {
   "cell_type": "markdown",
   "metadata": {
    "colab_type": "text",
    "id": "SoPrcxboRbUe"
   },
   "source": [
    "<table align=\"left\">\n",
    "    <tr>\n",
    "        <td width=\"6%\">\n",
    "            <img src=\"../images/RA_Logo.png\">\n",
    "        </td>\n",
    "        <td>\n",
    "            <div align=\"left\", style=\"font-size:120%\">\n",
    "                <font color=\"#21618C\">\n",
    "                    <b>6. Write a program to display a summary of the basic information about a given data frame<b>\n",
    "                </font>\n",
    "            </div>\n",
    "        </td>\n",
    "    </tr>\n",
    "</table>"
   ]
  },
  {
   "cell_type": "code",
   "execution_count": null,
   "metadata": {},
   "outputs": [],
   "source": []
  },
  {
   "cell_type": "markdown",
   "metadata": {
    "colab_type": "text",
    "id": "C9zu7zyuRbUf"
   },
   "source": [
    "**Use the below dataframe:**<br>\n",
    "df_store = pd.DataFrame({'Store': ['A', 'B', 'A', 'C', 'D', 'A', 'D', 'A', 'C', 'B'],<br>\n",
    "                         'Location': ['Mumbai', 'Pune', 'Hyderabad', 'Mumbai', 'Pune', 'Delhi', 'Hyderabad', 'Pune',<br>\n",
    "                         'Mumbai', 'Pune'],<br>\n",
    "                         'Sales': [40000, 45600, 56000, 90000, 89000, 87000, 85000, 78000, 89000, 70000]<br>\n",
    "})"
   ]
  },
  {
   "cell_type": "code",
   "execution_count": 6,
   "metadata": {
    "colab": {},
    "colab_type": "code",
    "id": "zS_Gmgn2RbUf"
   },
   "outputs": [
    {
     "name": "stdout",
     "output_type": "stream",
     "text": [
      "<class 'pandas.core.frame.DataFrame'>\n",
      "RangeIndex: 10 entries, 0 to 9\n",
      "Data columns (total 3 columns):\n",
      " #   Column    Non-Null Count  Dtype \n",
      "---  ------    --------------  ----- \n",
      " 0   Store     10 non-null     object\n",
      " 1   Location  10 non-null     object\n",
      " 2   Sales     10 non-null     int64 \n",
      "dtypes: int64(1), object(2)\n",
      "memory usage: 368.0+ bytes\n",
      "None\n"
     ]
    }
   ],
   "source": [
    "# write your code here\n",
    "\n",
    "df_store = pd.DataFrame({'Store': ['A', 'B', 'A', 'C', 'D', 'A', 'D', 'A', 'C', 'B'],\n",
    "'Location': ['Mumbai', 'Pune', 'Hyderabad', 'Mumbai', 'Pune', 'Delhi', 'Hyderabad', 'Pune',\n",
    "'Mumbai', 'Pune'],\n",
    "'Sales': [40000, 45600, 56000, 90000, 89000, 87000, 85000, 78000, 89000, 70000]\n",
    "})\n",
    "\n",
    "\n",
    "#d = df_store.describe(include='all')\n",
    "#print(d)\n",
    "#print(type(d))\n",
    "\n",
    "i = df_store.info()\n",
    "print(i)"
   ]
  },
  {
   "cell_type": "markdown",
   "metadata": {
    "colab_type": "text",
    "id": "nYi2z54ZRbUi"
   },
   "source": [
    "<table align=\"left\">\n",
    "    <tr>\n",
    "        <td width=\"6%\">\n",
    "            <img src=\"../images/RA_Logo.png\">\n",
    "        </td>\n",
    "        <td>\n",
    "            <div align=\"left\", style=\"font-size:120%\">\n",
    "                <font color=\"#21618C\">\n",
    "                    <b>7. Write a program to replace the ‘Store' column, contains the values 'A', 'B', 'C', and 'D' with 'Store_A', Store_B', 'Store_C' and 'Store_D' respectively\n",
    "<b>\n",
    "                </font>\n",
    "            </div>\n",
    "        </td>\n",
    "    </tr>\n",
    "</table>"
   ]
  },
  {
   "cell_type": "markdown",
   "metadata": {
    "colab_type": "text",
    "id": "dKKsmpcRRbUi"
   },
   "source": [
    "**Use the below dataframe:**<br>\n",
    "df_store = pd.DataFrame({'Store': ['A', 'B', 'A', 'C', 'D', 'A', 'D', 'A', 'C', 'B'],<br>\n",
    "                         'Location': ['Mumbai', 'Pune', 'Hyderabad', 'Mumbai', 'Pune', 'Delhi', 'Hyderabad', 'Pune',<br>\n",
    "                         'Mumbai', 'Pune'],<br>\n",
    "                         'Sales': [40000, 45600, 56000, 90000, 89000, 87000, 85000, 78000, 89000, 70000]<br>\n",
    "})"
   ]
  },
  {
   "cell_type": "code",
   "execution_count": 7,
   "metadata": {
    "colab": {},
    "colab_type": "code",
    "id": "cJw5uKELRbUi"
   },
   "outputs": [
    {
     "name": "stdout",
     "output_type": "stream",
     "text": [
      "     Store   Location  Sales\n",
      "0  Store_A     Mumbai  40000\n",
      "1  Store_B       Pune  45600\n",
      "2  Store_A  Hyderabad  56000\n",
      "3  Store_C     Mumbai  90000\n",
      "4  Store_D       Pune  89000\n",
      "5  Store_A      Delhi  87000\n",
      "6  Store_D  Hyderabad  85000\n",
      "7  Store_A       Pune  78000\n",
      "8  Store_C     Mumbai  89000\n",
      "9  Store_B       Pune  70000\n"
     ]
    }
   ],
   "source": [
    "# write your code here\n",
    "import numpy as np\n",
    "\n",
    "df_store = pd.DataFrame({'Store': ['A', 'B', 'A', 'C', 'D', 'A', 'D', 'A', 'C', 'B'],\n",
    "'Location': ['Mumbai', 'Pune', 'Hyderabad', 'Mumbai', 'Pune', 'Delhi', 'Hyderabad', 'Pune',\n",
    "'Mumbai', 'Pune'],\n",
    "'Sales': [40000, 45600, 56000, 90000, 89000, 87000, 85000, 78000, 89000, 70000]\n",
    "})\n",
    "\n",
    "df_store['Store'] = df_store['Store'].replace(['A', 'B', 'C', 'D'],['Store_A', 'Store_B', 'Store_C', 'Store_D'])\n",
    "\n",
    "print(df_store)\n",
    "                                                              "
   ]
  },
  {
   "cell_type": "markdown",
   "metadata": {
    "colab_type": "text",
    "id": "TVA2mt_KRbUl"
   },
   "source": [
    "<table align=\"left\">\n",
    "    <tr>\n",
    "        <td width=\"6%\">\n",
    "            <img src=\"../images/RA_Logo.png\">\n",
    "        </td>\n",
    "        <td>\n",
    "            <div align=\"left\", style=\"font-size:120%\">\n",
    "                <font color=\"#21618C\">\n",
    "                    <b>8. Create a dataframe in pandas using list and series\n",
    "<b>\n",
    "                </font>\n",
    "            </div>\n",
    "        </td>\n",
    "    </tr>\n",
    "</table>"
   ]
  },
  {
   "cell_type": "code",
   "execution_count": 8,
   "metadata": {
    "colab": {},
    "colab_type": "code",
    "id": "XglG84OnRbUl"
   },
   "outputs": [
    {
     "name": "stdout",
     "output_type": "stream",
     "text": [
      "       Vol  Rev   Exp\n",
      "Tata    10  100  1000\n",
      "Birla   20  200  2000\n",
      "Tata    30  300  3000\n",
      "Infy    40  400  4000\n",
      "HCL     50  500  5000\n",
      "(5, 3)\n",
      "Index(['Tata', 'Birla', 'Tata', 'Infy', 'HCL'], dtype='object')\n",
      "Index(['Vol', 'Rev', 'Exp'], dtype='object')\n"
     ]
    }
   ],
   "source": [
    "# write your code here\n",
    "\n",
    "countries_name = ['India', 'US', 'UK', 'Australia']    \n",
    "countries_id = [1, 2, 3, 4] \n",
    "\n",
    "df_countries = pd.DataFrame (list(zip(countries_name, countries_id)),\n",
    "               columns =['Name Of the Country', 'Country Id'])\n",
    "\n",
    "df_countries\n",
    "\n",
    "\n",
    "mylist1 = [[10,100,1000],[20,200,2000],[30,300,3000],[40,400,4000],[50,500,5000]]\n",
    "row_label_list = ['Tata','Birla','Tata','Infy','HCL']\n",
    "col_label_list = ['Vol','Rev', 'Exp']\n",
    "\n",
    "df2 = pd.DataFrame(mylist1, columns=col_label_list, index=row_label_list)\n",
    "print(df2)\n",
    "print(df2.shape)\n",
    "print(df2.index)\n",
    "print(df2.columns)"
   ]
  },
  {
   "cell_type": "markdown",
   "metadata": {
    "colab_type": "text",
    "id": "CWgXGHK4RbUo"
   },
   "source": [
    "<table align=\"left\">\n",
    "    <tr>\n",
    "        <td width=\"6%\">\n",
    "            <img src=\"../images/RA_Logo.png\">\n",
    "        </td>\n",
    "        <td>\n",
    "            <div align=\"left\", style=\"font-size:120%\">\n",
    "                <font color=\"#21618C\">\n",
    "                    <b>9. Save a given dataframe to a csv file\n",
    "<b>\n",
    "                </font>\n",
    "            </div>\n",
    "        </td>\n",
    "    </tr>\n",
    "</table>"
   ]
  },
  {
   "cell_type": "markdown",
   "metadata": {
    "colab_type": "text",
    "id": "t-TsnZ60RbUo"
   },
   "source": [
    "**Use the below dataframe:**<br>\n",
    "df_store = pd.DataFrame({'Store': ['A', 'B', 'A', 'C', 'D', 'A', 'D', 'A', 'C', 'B'],<br>\n",
    "                         'Location': ['Mumbai', 'Pune', 'Hyderabad', 'Mumbai', 'Pune', 'Delhi', 'Hyderabad', 'Pune',<br>\n",
    "                         'Mumbai', 'Pune'],<br>\n",
    "                         'Sales': [40000, 45600, 56000, 90000, 89000, 87000, 85000, 78000, 89000, 70000]<br>\n",
    "})"
   ]
  },
  {
   "cell_type": "code",
   "execution_count": 9,
   "metadata": {
    "colab": {},
    "colab_type": "code",
    "id": "VQI_oDu9RbUp"
   },
   "outputs": [
    {
     "data": {
      "text/plain": [
       "'/Users/vidyadharbendre/workspace/advanced_python/learn_advanced_python_using_examples/notebooks/Advanced'"
      ]
     },
     "execution_count": 9,
     "metadata": {},
     "output_type": "execute_result"
    }
   ],
   "source": [
    "# write your code here\n",
    "\n",
    "df_store = pd.DataFrame({'Store': ['A', 'B', 'A', 'C', 'D', 'A', 'D', 'A', 'C', 'B'],\n",
    "'Location': ['Mumbai', 'Pune', 'Hyderabad', 'Mumbai', 'Pune', 'Delhi', 'Hyderabad', 'Pune',\n",
    "'Mumbai', 'Pune'],\n",
    "'Sales': [40000, 45600, 56000, 90000, 89000, 87000, 85000, 78000, 89000, 70000]\n",
    "})\n",
    "\n",
    "# saving the dataframe \n",
    "df_store.to_csv('df_store.csv') \n",
    "import os\n",
    "os.getcwd()\n"
   ]
  },
  {
   "cell_type": "markdown",
   "metadata": {
    "colab_type": "text",
    "id": "BBpk9v5zRbUr"
   },
   "source": [
    "<table align=\"left\">\n",
    "    <tr>\n",
    "        <td width=\"6%\">\n",
    "            <img src=\"../images/RA_Logo.png\">\n",
    "        </td>\n",
    "        <td>\n",
    "            <div align=\"left\", style=\"font-size:120%\">\n",
    "                <font color=\"#21618C\">\n",
    "                    <b>10. Find the maximum sales for each store\n",
    "<b>\n",
    "                </font>\n",
    "            </div>\n",
    "        </td>\n",
    "    </tr>\n",
    "</table>"
   ]
  },
  {
   "cell_type": "markdown",
   "metadata": {
    "colab_type": "text",
    "id": "siEl2XUURbUs"
   },
   "source": [
    "**Use the below dataframe:**<br>\n",
    "df_store = pd.DataFrame({'Store': ['A', 'B', 'A', 'C', 'D', 'A', 'D', 'A', 'C', 'B'],<br>\n",
    "                         'Location': ['Mumbai', 'Pune', 'Hyderabad', 'Mumbai', 'Pune', 'Delhi', 'Hyderabad', 'Pune',<br>\n",
    "                         'Mumbai', 'Pune'],<br>\n",
    "                         'Sales': [40000, 45600, 56000, 90000, 89000, 87000, 85000, 78000, 89000, 70000]<br>\n",
    "})"
   ]
  },
  {
   "cell_type": "code",
   "execution_count": 12,
   "metadata": {
    "colab": {},
    "colab_type": "code",
    "id": "WXrVapSLRbUs"
   },
   "outputs": [
    {
     "name": "stdout",
     "output_type": "stream",
     "text": [
      "  Store   Location  Sales\n",
      "0     A     Mumbai  40000\n",
      "1     B       Pune  45600\n",
      "2     A  Hyderabad  56000\n",
      "3     C     Mumbai  90000\n",
      "4     D       Pune  89000\n",
      "5     A      Delhi  87000\n",
      "6     D  Hyderabad  85000\n",
      "7     A       Pune  78000\n",
      "8     C     Mumbai  89000\n",
      "9     B       Pune  70000\n",
      "      Location  Sales\n",
      "Store                \n",
      "A         Pune  87000\n",
      "B         Pune  70000\n",
      "C       Mumbai  90000\n",
      "D         Pune  89000\n"
     ]
    }
   ],
   "source": [
    "# write your code here\n",
    "\n",
    "df_store = pd.DataFrame({'Store': ['A', 'B', 'A', 'C', 'D', 'A', 'D', 'A', 'C', 'B'],\n",
    "'Location': ['Mumbai', 'Pune', 'Hyderabad', 'Mumbai', 'Pune', 'Delhi', 'Hyderabad', 'Pune',\n",
    "'Mumbai', 'Pune'],\n",
    "'Sales': [40000, 45600, 56000, 90000, 89000, 87000, 85000, 78000, 89000, 70000]\n",
    "})\n",
    "print(df_store)\n",
    "#DataFrame.min(axis=None, skipna=None, level=None, numeric_only=None, **kwargs)\n",
    "\n",
    "df_store_group = df_store.groupby('Store')\n",
    "print(df_store_group.max())\n",
    "\n",
    "\n",
    "\n",
    "\n",
    "\n",
    "  "
   ]
  },
  {
   "cell_type": "markdown",
   "metadata": {
    "colab_type": "text",
    "id": "C8QNUNd8RbUu"
   },
   "source": [
    "<table align=\"left\">\n",
    "    <tr>\n",
    "        <td width=\"6%\">\n",
    "            <img src=\"../images/RA_Logo.png\">\n",
    "        </td>\n",
    "        <td>\n",
    "            <div align=\"left\", style=\"font-size:120%\">\n",
    "                <font color=\"#21618C\">\n",
    "                    <b>11. Write a program to select all columns, except 'Ranking_Rate' column in a data frame\n",
    "<b>\n",
    "                </font>\n",
    "            </div>\n",
    "        </td>\n",
    "    </tr>\n",
    "</table>"
   ]
  },
  {
   "cell_type": "markdown",
   "metadata": {
    "colab_type": "text",
    "id": "lhdStUpZRbUv"
   },
   "source": [
    "**Use the below dataframe:**<br>\n",
    "df_store = pd.DataFrame({'Store': ['A', 'B', 'A', 'C', 'D', 'A', 'D', 'A', 'C', 'B'],<br>\n",
    "                         'Location': ['Mumbai', 'Pune', 'Hyderabad', 'Mumbai', 'Pune', 'Delhi', 'Hyderabad', 'Pune',<br>\n",
    "                         'Mumbai', 'Pune'],<br>\n",
    "                         'Sales': [40000, 45600, 56000, 90000, 89000, 87000, 85000, 78000, 89000, 70000]<br>\n",
    "})"
   ]
  },
  {
   "cell_type": "code",
   "execution_count": 15,
   "metadata": {
    "colab": {},
    "colab_type": "code",
    "id": "Uq7hIDkyRbUv"
   },
   "outputs": [
    {
     "name": "stdout",
     "output_type": "stream",
     "text": [
      "  Store   Location  Sales\n",
      "0     A     Mumbai  40000\n",
      "1     B       Pune  45600\n",
      "2     A  Hyderabad  56000\n",
      "3     C     Mumbai  90000\n",
      "4     D       Pune  89000\n",
      "5     A      Delhi  87000\n",
      "6     D  Hyderabad  85000\n",
      "7     A       Pune  78000\n",
      "8     C     Mumbai  89000\n",
      "9     B       Pune  70000\n"
     ]
    }
   ],
   "source": [
    "# write your code here\n",
    "\n",
    "df_store = pd.DataFrame({'Store': ['A', 'B', 'A', 'C', 'D', 'A', 'D', 'A', 'C', 'B'],\n",
    "'Location': ['Mumbai', 'Pune', 'Hyderabad', 'Mumbai', 'Pune', 'Delhi', 'Hyderabad', 'Pune',\n",
    "'Mumbai', 'Pune'],\n",
    "'Sales': [40000, 45600, 56000, 90000, 89000, 87000, 85000, 78000, 89000, 70000]\n",
    "})\n",
    "\n",
    "\n",
    "df_store['Rating_Rank'] = df_store['Sales'].rank(ascending = 0)  \n",
    "#print(df_store)\n",
    "#print(df_store[['Store', 'Location', 'Sales']])\n",
    "print(df_store.iloc[:,0:3])\n",
    "\n"
   ]
  },
  {
   "cell_type": "markdown",
   "metadata": {
    "colab_type": "text",
    "id": "AdbUdO6iRbUy"
   },
   "source": [
    "<table align=\"left\">\n",
    "    <tr>\n",
    "        <td width=\"6%\">\n",
    "            <img src=\"../images/RA_Logo.png\">\n",
    "        </td>\n",
    "        <td>\n",
    "            <div align=\"left\", style=\"font-size:120%\">\n",
    "                <font color=\"#21618C\">\n",
    "                    <b>12. Write a program to insert a given column at a specific column index in a data frame\n",
    "<b>\n",
    "                </font>\n",
    "            </div>\n",
    "        </td>\n",
    "    </tr>\n",
    "</table>"
   ]
  },
  {
   "cell_type": "markdown",
   "metadata": {
    "colab_type": "text",
    "id": "1GysZf7XRbUz"
   },
   "source": [
    "**Use the below data frame**<br>\n",
    "data = {\n",
    "    'Name': ['Amit Sharma', 'Neha Iyer', 'Rajesh Patel', 'Priya Nair'],\n",
    "    'Age': [34, 59, 32, 40]\n",
    "}<br>\n",
    "df = pd.DataFrame(data=data)<br><br>\n",
    "**Add the new variable salary as third column**<br>\n",
    "salary = [35000, 24000, 55000, 40000]"
   ]
  },
  {
   "cell_type": "code",
   "execution_count": 77,
   "metadata": {
    "colab": {},
    "colab_type": "code",
    "id": "YqSIBh6RRbUz"
   },
   "outputs": [
    {
     "name": "stdout",
     "output_type": "stream",
     "text": [
      "           Name  Age  salary\n",
      "0   Amit Sharma   34   35000\n",
      "1     Neha Iyer   59   24000\n",
      "2  Rajesh Patel   32   55000\n",
      "3    Priya Nair   40   40000\n"
     ]
    }
   ],
   "source": [
    "# write your code here\n",
    "\n",
    "data = {'Name': ['Amit Sharma', 'Neha Iyer', 'Rajesh Patel', 'Priya Nair'], 'Age': [34, 59, 32, 40]}\n",
    "df = pd.DataFrame(data=data)\n",
    "\n",
    "salary = [35000, 24000, 55000, 40000]\n",
    "\n",
    "df['salary'] = salary\n",
    "print(df)"
   ]
  },
  {
   "cell_type": "markdown",
   "metadata": {
    "colab_type": "text",
    "id": "mPXB8vQ8RbU2"
   },
   "source": [
    "<table align=\"left\">\n",
    "    <tr>\n",
    "        <td width=\"6%\">\n",
    "            <img src=\"../images/RA_Logo.png\">\n",
    "        </td>\n",
    "        <td>\n",
    "            <div align=\"left\", style=\"font-size:120%\">\n",
    "                <font color=\"#21618C\">\n",
    "                    <b>13. Write a program to get the third row of a given data frame\n",
    "<b>\n",
    "                </font>\n",
    "            </div>\n",
    "        </td>\n",
    "    </tr>\n",
    "</table>"
   ]
  },
  {
   "cell_type": "markdown",
   "metadata": {
    "colab_type": "text",
    "id": "TYCfvoUmRbU2"
   },
   "source": [
    "**Use the below data frame**<br>\n",
    "data = {'Name': ['Amit Sharma', 'Neha Iyer', 'Rajesh Patel', 'Priya Nair'], 'Age': [34, 59, 32, 40]}<br>\n",
    "df = pd.DataFrame(data=data)<br><br>"
   ]
  },
  {
   "cell_type": "code",
   "execution_count": 78,
   "metadata": {
    "colab": {},
    "colab_type": "code",
    "id": "hK22ZeHvRbU3"
   },
   "outputs": [
    {
     "name": "stdout",
     "output_type": "stream",
     "text": [
      "           Name  Age\n",
      "0   Amit Sharma   34\n",
      "1     Neha Iyer   59\n",
      "2  Rajesh Patel   32\n",
      "3    Priya Nair   40\n"
     ]
    },
    {
     "data": {
      "text/html": [
       "<div>\n",
       "<style scoped>\n",
       "    .dataframe tbody tr th:only-of-type {\n",
       "        vertical-align: middle;\n",
       "    }\n",
       "\n",
       "    .dataframe tbody tr th {\n",
       "        vertical-align: top;\n",
       "    }\n",
       "\n",
       "    .dataframe thead th {\n",
       "        text-align: right;\n",
       "    }\n",
       "</style>\n",
       "<table border=\"1\" class=\"dataframe\">\n",
       "  <thead>\n",
       "    <tr style=\"text-align: right;\">\n",
       "      <th></th>\n",
       "      <th>Name</th>\n",
       "      <th>Age</th>\n",
       "    </tr>\n",
       "  </thead>\n",
       "  <tbody>\n",
       "    <tr>\n",
       "      <th>2</th>\n",
       "      <td>Rajesh Patel</td>\n",
       "      <td>32</td>\n",
       "    </tr>\n",
       "  </tbody>\n",
       "</table>\n",
       "</div>"
      ],
      "text/plain": [
       "           Name  Age\n",
       "2  Rajesh Patel   32"
      ]
     },
     "execution_count": 78,
     "metadata": {},
     "output_type": "execute_result"
    }
   ],
   "source": [
    "# write your code here\n",
    "\n",
    "data = {'Name': ['Amit Sharma', 'Neha Iyer', 'Rajesh Patel', 'Priya Nair'], 'Age': [34, 59, 32, 40]}\n",
    "df = pd.DataFrame(data=data)\n",
    "print(df)\n",
    "\n",
    "\n",
    "df.iloc[[2]]"
   ]
  },
  {
   "cell_type": "markdown",
   "metadata": {
    "colab_type": "text",
    "id": "yNEIFxqIRbU6"
   },
   "source": [
    "<table align=\"left\">\n",
    "    <tr>\n",
    "        <td width=\"6%\">\n",
    "            <img src=\"../images/RA_Logo.png\">\n",
    "        </td>\n",
    "        <td>\n",
    "            <div align=\"left\", style=\"font-size:120%\">\n",
    "                <font color=\"#21618C\">\n",
    "                    <b>14. Write a program to create a data frame from a numpy array\n",
    "<b>\n",
    "                </font>\n",
    "            </div>\n",
    "        </td>\n",
    "    </tr>\n",
    "</table>"
   ]
  },
  {
   "cell_type": "code",
   "execution_count": 17,
   "metadata": {
    "colab": {},
    "colab_type": "code",
    "id": "9ZrA1LgcRbU6"
   },
   "outputs": [
    {
     "name": "stdout",
     "output_type": "stream",
     "text": [
      "       Vol  Rev  Exp\n",
      "Tata    93   50   83\n",
      "Birla   64   41   86\n",
      "Tata    49   35   61\n",
      "Infy    16   55   22\n",
      "HCL     59   76   85\n",
      "(5, 3)\n",
      "Index(['Tata', 'Birla', 'Tata', 'Infy', 'HCL'], dtype='object')\n",
      "Index(['Vol', 'Rev', 'Exp'], dtype='object')\n"
     ]
    }
   ],
   "source": [
    "# write your code here\n",
    "import pandas as pd\n",
    "import numpy as np\n",
    "\n",
    "np.random.seed(23)\n",
    "n53 = np.random.randint(low=10, high=100,size=(5,3))\n",
    "\n",
    "row_label_list = ['Tata','Birla','Tata','Infy','HCL']\n",
    "col_label_list = ['Vol','Rev', 'Exp']\n",
    "\n",
    "df2 = pd.DataFrame(n53, index=row_label_list, columns=col_label_list)\n",
    "\n",
    "print(df2)\n",
    "print(df2.shape)\n",
    "print(df2.index)\n",
    "print(df2.columns)"
   ]
  },
  {
   "cell_type": "markdown",
   "metadata": {
    "colab_type": "text",
    "id": "zcrnxIZYRbU8"
   },
   "source": [
    "<table align=\"left\">\n",
    "    <tr>\n",
    "        <td width=\"6%\">\n",
    "            <img src=\"../images/RA_Logo.png\">\n",
    "        </td>\n",
    "        <td>\n",
    "            <div align=\"left\", style=\"font-size:120%\">\n",
    "                <font color=\"#21618C\">\n",
    "                    <b>15. Write a programm to count total sales per store\n",
    "<b>\n",
    "                </font>\n",
    "            </div>\n",
    "        </td>\n",
    "    </tr>\n",
    "</table>"
   ]
  },
  {
   "cell_type": "markdown",
   "metadata": {
    "colab_type": "text",
    "id": "XLysA7uQRbU8"
   },
   "source": [
    "**Use the below dataframe:**<br>\n",
    "df_store = pd.DataFrame({'Store': ['A', 'B', 'A', 'C', 'D', 'A', 'D', 'A', 'C', 'B'],<br>\n",
    "                         'Location': ['Mumbai', 'Pune', 'Hyderabad', 'Mumbai', 'Pune', 'Delhi', 'Hyderabad', 'Pune',<br>\n",
    "                         'Mumbai', 'Pune'],<br>\n",
    "                         'Sales': [40000, 45600, 56000, 90000, 89000, 87000, 85000, 78000, 89000, 70000]<br>\n",
    "})"
   ]
  },
  {
   "cell_type": "code",
   "execution_count": 18,
   "metadata": {
    "colab": {},
    "colab_type": "code",
    "id": "mjgy4CPbRbU9"
   },
   "outputs": [
    {
     "name": "stdout",
     "output_type": "stream",
     "text": [
      "  Store   Location  Sales\n",
      "0     A     Mumbai  40000\n",
      "1     B       Pune  45600\n",
      "2     A  Hyderabad  56000\n",
      "3     C     Mumbai  90000\n",
      "4     D       Pune  89000\n",
      "5     A      Delhi  87000\n",
      "6     D  Hyderabad  85000\n",
      "7     A       Pune  78000\n",
      "8     C     Mumbai  89000\n",
      "9     B       Pune  70000\n",
      "        Sales\n",
      "Store        \n",
      "A      261000\n",
      "B      115600\n",
      "C      179000\n",
      "D      174000\n"
     ]
    }
   ],
   "source": [
    "# write your code here\n",
    "\n",
    "df_store = pd.DataFrame({'Store': ['A', 'B', 'A', 'C', 'D', 'A', 'D', 'A', 'C', 'B'],\n",
    "'Location': ['Mumbai', 'Pune', 'Hyderabad', 'Mumbai', 'Pune', 'Delhi', 'Hyderabad', 'Pune',\n",
    "'Mumbai', 'Pune'],\n",
    "'Sales': [40000, 45600, 56000, 90000, 89000, 87000, 85000, 78000, 89000, 70000]\n",
    "})\n",
    "\n",
    "print(df_store)\n",
    "df_store_group = df_store.groupby('Store')\n",
    "print(df_store_group.sum())\n",
    "\n",
    "\n",
    "\n",
    "\n"
   ]
  },
  {
   "cell_type": "markdown",
   "metadata": {
    "colab_type": "text",
    "id": "Hz0wxdcdRbU_"
   },
   "source": [
    "<table align=\"left\">\n",
    "    <tr>\n",
    "        <td width=\"6%\">\n",
    "            <img src=\"../images/RA_Logo.png\">\n",
    "        </td>\n",
    "        <td>\n",
    "            <div align=\"left\", style=\"font-size:120%\">\n",
    "                <font color=\"#21618C\">\n",
    "                    <b>16. Write a program to count the most common words in a list\n",
    "<b>\n",
    "                </font>\n",
    "            </div>\n",
    "        </td>\n",
    "    </tr>\n",
    "</table>"
   ]
  },
  {
   "cell_type": "markdown",
   "metadata": {
    "colab_type": "text",
    "id": "-CZInS5rRbU_"
   },
   "source": [
    "**Use the below list:**<br>\n",
    "words_list = ['words', 'will', 'where', 'shall', 'we', 'will', 'shall', 'we', 'words', 'where', 'shall'<br>\n",
    "        'will', 'there', 'wow', 'should', 'shall', 'we', 'where', 'should', 'where', 'will', 'there',<br>\n",
    "        'now', 'where', 'we', 'will', 'where', 'should', 'will', 'where']"
   ]
  },
  {
   "cell_type": "code",
   "execution_count": 19,
   "metadata": {
    "colab": {},
    "colab_type": "code",
    "id": "PmFSWdBhRbVA"
   },
   "outputs": [
    {
     "name": "stdout",
     "output_type": "stream",
     "text": [
      "['shallwill', 'there', 'words', 'will', 'where', 'should', 'now', 'shall', 'we', 'wow']\n",
      "<class 'pandas.core.series.Series'>\n",
      "           words_list\n",
      "where               7\n",
      "will                5\n",
      "we                  4\n",
      "shall               3\n",
      "should              3\n",
      "words               2\n",
      "there               2\n",
      "shallwill           1\n",
      "wow                 1\n",
      "now                 1\n",
      "words_list    where\n",
      "dtype: object\n"
     ]
    }
   ],
   "source": [
    "# write your code here\n",
    "\n",
    "words_list = ['words', 'will', 'where', 'shall', 'we', 'will', 'shall', 'we', 'words', 'where', 'shall'\n",
    "'will', 'there', 'wow', 'should', 'shall', 'we', 'where', 'should', 'where', 'will', 'there',\n",
    "'now', 'where', 'we', 'will', 'where', 'should', 'will', 'where']\n",
    "\n",
    "keys = set(words_list)\n",
    "\n",
    "keys_list = list(keys)\n",
    "print(keys_list)\n",
    "\n",
    "df = pd.DataFrame(data=words_list, columns=['words_list'])\n",
    "count_list = df['words_list'].value_counts()\n",
    "\n",
    "print(type(count_list))\n",
    "\n",
    "\n",
    "df1 = pd.DataFrame(data = count_list)\n",
    "df1.index\n",
    "df1.values\n",
    "df1.columns\n",
    "df1.shape\n",
    "\n",
    "print(df1)\n",
    "print(df1.idxmax())\n",
    "\n",
    "\n",
    "\n",
    "#def most_frequent(List):\n",
    "#    return max(set(List), key = List.count)\n",
    "\n",
    "#count = most_frequent(words_list)\n",
    "\n",
    "#print(count)"
   ]
  },
  {
   "cell_type": "code",
   "execution_count": null,
   "metadata": {},
   "outputs": [],
   "source": []
  },
  {
   "cell_type": "markdown",
   "metadata": {
    "colab_type": "text",
    "id": "WOl1KoTmRbVC"
   },
   "source": [
    "<a id='sorting'></a>\n",
    "## 3. Sorting"
   ]
  },
  {
   "cell_type": "markdown",
   "metadata": {
    "colab_type": "text",
    "id": "2qIZZKw3RbVD"
   },
   "source": [
    "<table align=\"left\">\n",
    "    <tr>\n",
    "        <td width=\"6%\">\n",
    "            <img src=\"../images/RA_Logo.png\">\n",
    "        </td>\n",
    "        <td>\n",
    "            <div align=\"left\", style=\"font-size:120%\">\n",
    "                <font color=\"#21618C\">\n",
    "                    <b>17. Write a program to sort the data frame by 'Sales' in ascending order\n",
    "<b>\n",
    "                </font>\n",
    "            </div>\n",
    "        </td>\n",
    "    </tr>\n",
    "</table>"
   ]
  },
  {
   "cell_type": "markdown",
   "metadata": {
    "colab_type": "text",
    "id": "S4QUDsQFRbVD"
   },
   "source": [
    "**Use the below dataframe:**<br>\n",
    "df_store = pd.DataFrame({'Store': ['A', 'B', 'A', 'C', 'D', 'A', 'D', 'A', 'C', 'B'],<br>\n",
    "                         'Location': ['Mumbai', 'Pune', 'Hyderabad', 'Mumbai', 'Pune', 'Delhi', 'Hyderabad', 'Pune',<br>\n",
    "                         'Mumbai', 'Pune'],<br>\n",
    "                         'Sales': [40000, 45600, 56000, 90000, 89000, 87000, 85000, 78000, 89000, 70000]<br>\n",
    "})"
   ]
  },
  {
   "cell_type": "code",
   "execution_count": 20,
   "metadata": {
    "colab": {},
    "colab_type": "code",
    "id": "PD3t4CEZRbVD"
   },
   "outputs": [
    {
     "name": "stdout",
     "output_type": "stream",
     "text": [
      "  Store   Location  Sales\n",
      "0     A     Mumbai  40000\n",
      "1     B       Pune  45600\n",
      "2     A  Hyderabad  56000\n",
      "9     B       Pune  70000\n",
      "7     A       Pune  78000\n",
      "6     D  Hyderabad  85000\n",
      "5     A      Delhi  87000\n",
      "4     D       Pune  89000\n",
      "8     C     Mumbai  89000\n",
      "3     C     Mumbai  90000\n"
     ]
    }
   ],
   "source": [
    "# write your code here\n",
    "\n",
    "df_store = pd.DataFrame({'Store': ['A', 'B', 'A', 'C', 'D', 'A', 'D', 'A', 'C', 'B'],\n",
    "'Location': ['Mumbai', 'Pune', 'Hyderabad', 'Mumbai', 'Pune', 'Delhi', 'Hyderabad', 'Pune',\n",
    "'Mumbai', 'Pune'],\n",
    "'Sales': [40000, 45600, 56000, 90000, 89000, 87000, 85000, 78000, 89000, 70000]\n",
    "})\n",
    "\n",
    "print(df_store.sort_values(by='Sales'))\n",
    "\n",
    "\n"
   ]
  },
  {
   "cell_type": "markdown",
   "metadata": {
    "colab_type": "text",
    "id": "QhYSth7eRbVG"
   },
   "source": [
    "<table align=\"left\">\n",
    "    <tr>\n",
    "        <td width=\"6%\">\n",
    "            <img src=\"../images/RA_Logo.png\">\n",
    "        </td>\n",
    "        <td>\n",
    "            <div align=\"left\", style=\"font-size:120%\">\n",
    "                <font color=\"#21618C\">\n",
    "                    <b>18. Write a program to sort the data frame, first by 'Store' in ascending order, then by 'Sales' in descending order\n",
    "<b>\n",
    "                </font>\n",
    "            </div>\n",
    "        </td>\n",
    "    </tr>\n",
    "</table>"
   ]
  },
  {
   "cell_type": "markdown",
   "metadata": {
    "colab_type": "text",
    "id": "hvo37OG3RbVG"
   },
   "source": [
    "**Use the below dataframe:**<br>\n",
    "df_store = pd.DataFrame({'Store': ['A', 'B', 'A', 'C', 'D', 'A', 'D', 'A', 'C', 'B'],<br>\n",
    "                         'Location': ['Mumbai', 'Pune', 'Hyderabad', 'Mumbai', 'Pune', 'Delhi', 'Hyderabad', 'Pune',<br>\n",
    "                         'Mumbai', 'Pune'],<br>\n",
    "                         'Sales': [40000, 45600, 56000, 90000, 89000, 87000, 85000, 78000, 89000, 70000]<br>\n",
    "})"
   ]
  },
  {
   "cell_type": "code",
   "execution_count": 21,
   "metadata": {
    "colab": {},
    "colab_type": "code",
    "id": "DfxN_LxvRbVG"
   },
   "outputs": [
    {
     "data": {
      "text/html": [
       "<div>\n",
       "<style scoped>\n",
       "    .dataframe tbody tr th:only-of-type {\n",
       "        vertical-align: middle;\n",
       "    }\n",
       "\n",
       "    .dataframe tbody tr th {\n",
       "        vertical-align: top;\n",
       "    }\n",
       "\n",
       "    .dataframe thead th {\n",
       "        text-align: right;\n",
       "    }\n",
       "</style>\n",
       "<table border=\"1\" class=\"dataframe\">\n",
       "  <thead>\n",
       "    <tr style=\"text-align: right;\">\n",
       "      <th></th>\n",
       "      <th>Store</th>\n",
       "      <th>Location</th>\n",
       "      <th>Sales</th>\n",
       "    </tr>\n",
       "  </thead>\n",
       "  <tbody>\n",
       "    <tr>\n",
       "      <th>5</th>\n",
       "      <td>A</td>\n",
       "      <td>Delhi</td>\n",
       "      <td>87000</td>\n",
       "    </tr>\n",
       "    <tr>\n",
       "      <th>7</th>\n",
       "      <td>A</td>\n",
       "      <td>Pune</td>\n",
       "      <td>78000</td>\n",
       "    </tr>\n",
       "    <tr>\n",
       "      <th>2</th>\n",
       "      <td>A</td>\n",
       "      <td>Hyderabad</td>\n",
       "      <td>56000</td>\n",
       "    </tr>\n",
       "    <tr>\n",
       "      <th>0</th>\n",
       "      <td>A</td>\n",
       "      <td>Mumbai</td>\n",
       "      <td>40000</td>\n",
       "    </tr>\n",
       "    <tr>\n",
       "      <th>9</th>\n",
       "      <td>B</td>\n",
       "      <td>Pune</td>\n",
       "      <td>70000</td>\n",
       "    </tr>\n",
       "    <tr>\n",
       "      <th>1</th>\n",
       "      <td>B</td>\n",
       "      <td>Pune</td>\n",
       "      <td>45600</td>\n",
       "    </tr>\n",
       "    <tr>\n",
       "      <th>3</th>\n",
       "      <td>C</td>\n",
       "      <td>Mumbai</td>\n",
       "      <td>90000</td>\n",
       "    </tr>\n",
       "    <tr>\n",
       "      <th>8</th>\n",
       "      <td>C</td>\n",
       "      <td>Mumbai</td>\n",
       "      <td>89000</td>\n",
       "    </tr>\n",
       "    <tr>\n",
       "      <th>4</th>\n",
       "      <td>D</td>\n",
       "      <td>Pune</td>\n",
       "      <td>89000</td>\n",
       "    </tr>\n",
       "    <tr>\n",
       "      <th>6</th>\n",
       "      <td>D</td>\n",
       "      <td>Hyderabad</td>\n",
       "      <td>85000</td>\n",
       "    </tr>\n",
       "  </tbody>\n",
       "</table>\n",
       "</div>"
      ],
      "text/plain": [
       "  Store   Location  Sales\n",
       "5     A      Delhi  87000\n",
       "7     A       Pune  78000\n",
       "2     A  Hyderabad  56000\n",
       "0     A     Mumbai  40000\n",
       "9     B       Pune  70000\n",
       "1     B       Pune  45600\n",
       "3     C     Mumbai  90000\n",
       "8     C     Mumbai  89000\n",
       "4     D       Pune  89000\n",
       "6     D  Hyderabad  85000"
      ]
     },
     "execution_count": 21,
     "metadata": {},
     "output_type": "execute_result"
    }
   ],
   "source": [
    "# write your code here\n",
    "df_store = pd.DataFrame({'Store': ['A', 'B', 'A', 'C', 'D', 'A', 'D', 'A', 'C', 'B'],\n",
    "'Location': ['Mumbai', 'Pune', 'Hyderabad', 'Mumbai', 'Pune', 'Delhi', 'Hyderabad', 'Pune',\n",
    "'Mumbai', 'Pune'],\n",
    "'Sales': [40000, 45600, 56000, 90000, 89000, 87000, 85000, 78000, 89000, 70000]\n",
    "})\n",
    "df_store.sort_values(by=['Store','Sales'], ascending = (True, False))\n",
    "\n",
    "\n",
    "\n"
   ]
  },
  {
   "cell_type": "markdown",
   "metadata": {
    "colab_type": "text",
    "id": "PPg6Oh0RRbVI"
   },
   "source": [
    "<a id='ranking'></a>\n",
    "## 4. Ranking"
   ]
  },
  {
   "cell_type": "markdown",
   "metadata": {
    "colab_type": "text",
    "id": "BVQhfOqVRbVJ"
   },
   "source": [
    "<table align=\"left\">\n",
    "    <tr>\n",
    "        <td width=\"6%\">\n",
    "            <img src=\"../images/RA_Logo.png\">\n",
    "        </td>\n",
    "        <td>\n",
    "            <div align=\"left\", style=\"font-size:120%\">\n",
    "                <font color=\"#21618C\">\n",
    "                    <b>19. Create a column Rating_Rank, which contains the rank of each store based on sales of the product in ascending order\n",
    "<b>\n",
    "                </font>\n",
    "            </div>\n",
    "        </td>\n",
    "    </tr>\n",
    "</table>"
   ]
  },
  {
   "cell_type": "markdown",
   "metadata": {
    "colab_type": "text",
    "id": "3O3pbAe0RbVJ"
   },
   "source": [
    "**Use the below dataframe:**<br>\n",
    "df_store = pd.DataFrame({'Store': ['A', 'B', 'A', 'C', 'D', 'A', 'D', 'A', 'C', 'B'],<br>\n",
    "                         'Location': ['Mumbai', 'Pune', 'Hyderabad', 'Mumbai', 'Pune', 'Delhi', 'Hyderabad', 'Pune',<br>\n",
    "                         'Mumbai', 'Pune'],<br>\n",
    "                         'Sales': [40000, 45600, 56000, 90000, 89000, 87000, 85000, 78000, 89000, 70000]<br>\n",
    "})"
   ]
  },
  {
   "cell_type": "code",
   "execution_count": 22,
   "metadata": {
    "colab": {},
    "colab_type": "code",
    "id": "0ujeCa_oRbVJ"
   },
   "outputs": [
    {
     "name": "stdout",
     "output_type": "stream",
     "text": [
      "  Store   Location  Sales  Rating_Rank\n",
      "0     A     Mumbai  40000         10.0\n",
      "1     B       Pune  45600          9.0\n",
      "2     A  Hyderabad  56000          8.0\n",
      "3     C     Mumbai  90000          1.0\n",
      "4     D       Pune  89000          2.5\n",
      "5     A      Delhi  87000          4.0\n",
      "6     D  Hyderabad  85000          5.0\n",
      "7     A       Pune  78000          6.0\n",
      "8     C     Mumbai  89000          2.5\n",
      "9     B       Pune  70000          7.0\n"
     ]
    },
    {
     "data": {
      "text/html": [
       "<div>\n",
       "<style scoped>\n",
       "    .dataframe tbody tr th:only-of-type {\n",
       "        vertical-align: middle;\n",
       "    }\n",
       "\n",
       "    .dataframe tbody tr th {\n",
       "        vertical-align: top;\n",
       "    }\n",
       "\n",
       "    .dataframe thead th {\n",
       "        text-align: right;\n",
       "    }\n",
       "</style>\n",
       "<table border=\"1\" class=\"dataframe\">\n",
       "  <thead>\n",
       "    <tr style=\"text-align: right;\">\n",
       "      <th></th>\n",
       "      <th>Store</th>\n",
       "      <th>Location</th>\n",
       "      <th>Sales</th>\n",
       "      <th>Rating_Rank</th>\n",
       "    </tr>\n",
       "  </thead>\n",
       "  <tbody>\n",
       "    <tr>\n",
       "      <th>0</th>\n",
       "      <td>A</td>\n",
       "      <td>Mumbai</td>\n",
       "      <td>40000</td>\n",
       "      <td>10.0</td>\n",
       "    </tr>\n",
       "    <tr>\n",
       "      <th>1</th>\n",
       "      <td>B</td>\n",
       "      <td>Pune</td>\n",
       "      <td>45600</td>\n",
       "      <td>9.0</td>\n",
       "    </tr>\n",
       "    <tr>\n",
       "      <th>2</th>\n",
       "      <td>A</td>\n",
       "      <td>Hyderabad</td>\n",
       "      <td>56000</td>\n",
       "      <td>8.0</td>\n",
       "    </tr>\n",
       "    <tr>\n",
       "      <th>3</th>\n",
       "      <td>C</td>\n",
       "      <td>Mumbai</td>\n",
       "      <td>90000</td>\n",
       "      <td>1.0</td>\n",
       "    </tr>\n",
       "    <tr>\n",
       "      <th>4</th>\n",
       "      <td>D</td>\n",
       "      <td>Pune</td>\n",
       "      <td>89000</td>\n",
       "      <td>2.5</td>\n",
       "    </tr>\n",
       "    <tr>\n",
       "      <th>5</th>\n",
       "      <td>A</td>\n",
       "      <td>Delhi</td>\n",
       "      <td>87000</td>\n",
       "      <td>4.0</td>\n",
       "    </tr>\n",
       "    <tr>\n",
       "      <th>6</th>\n",
       "      <td>D</td>\n",
       "      <td>Hyderabad</td>\n",
       "      <td>85000</td>\n",
       "      <td>5.0</td>\n",
       "    </tr>\n",
       "    <tr>\n",
       "      <th>7</th>\n",
       "      <td>A</td>\n",
       "      <td>Pune</td>\n",
       "      <td>78000</td>\n",
       "      <td>6.0</td>\n",
       "    </tr>\n",
       "    <tr>\n",
       "      <th>8</th>\n",
       "      <td>C</td>\n",
       "      <td>Mumbai</td>\n",
       "      <td>89000</td>\n",
       "      <td>2.5</td>\n",
       "    </tr>\n",
       "    <tr>\n",
       "      <th>9</th>\n",
       "      <td>B</td>\n",
       "      <td>Pune</td>\n",
       "      <td>70000</td>\n",
       "      <td>7.0</td>\n",
       "    </tr>\n",
       "  </tbody>\n",
       "</table>\n",
       "</div>"
      ],
      "text/plain": [
       "  Store   Location  Sales  Rating_Rank\n",
       "0     A     Mumbai  40000         10.0\n",
       "1     B       Pune  45600          9.0\n",
       "2     A  Hyderabad  56000          8.0\n",
       "3     C     Mumbai  90000          1.0\n",
       "4     D       Pune  89000          2.5\n",
       "5     A      Delhi  87000          4.0\n",
       "6     D  Hyderabad  85000          5.0\n",
       "7     A       Pune  78000          6.0\n",
       "8     C     Mumbai  89000          2.5\n",
       "9     B       Pune  70000          7.0"
      ]
     },
     "execution_count": 22,
     "metadata": {},
     "output_type": "execute_result"
    }
   ],
   "source": [
    "# write your code here\n",
    "\n",
    "df_store = pd.DataFrame({'Store': ['A', 'B', 'A', 'C', 'D', 'A', 'D', 'A', 'C', 'B'],\n",
    "'Location': ['Mumbai', 'Pune', 'Hyderabad', 'Mumbai', 'Pune', 'Delhi', 'Hyderabad', 'Pune',\n",
    "'Mumbai', 'Pune'],\n",
    "'Sales': [40000, 45600, 56000, 90000, 89000, 87000, 85000, 78000, 89000, 70000]\n",
    "})\n",
    "\n",
    "df_store['Rating_Rank'] = df_store['Sales'].rank(ascending = 0)\n",
    "  \n",
    "print(df_store)\n",
    "\n",
    "df_store\n"
   ]
  },
  {
   "cell_type": "markdown",
   "metadata": {
    "colab_type": "text",
    "id": "1yxI_hliRbVL"
   },
   "source": [
    "<table align=\"left\">\n",
    "    <tr>\n",
    "        <td width=\"6%\">\n",
    "            <img src=\"../images/RA_Logo.png\">\n",
    "        </td>\n",
    "        <td>\n",
    "            <div align=\"left\", style=\"font-size:120%\">\n",
    "                <font color=\"#21618C\">\n",
    "                    <b>20. Rank the data frame in descending order of sales by store\n",
    "<b>\n",
    "                </font>\n",
    "            </div>\n",
    "        </td>\n",
    "    </tr>\n",
    "</table>"
   ]
  },
  {
   "cell_type": "markdown",
   "metadata": {
    "colab_type": "text",
    "id": "5Ov910e6RbVM"
   },
   "source": [
    "**Use the 'df_store' data frame**"
   ]
  },
  {
   "cell_type": "code",
   "execution_count": 25,
   "metadata": {
    "colab": {},
    "colab_type": "code",
    "id": "hJBVaDErRbVM"
   },
   "outputs": [
    {
     "data": {
      "text/html": [
       "<div>\n",
       "<style scoped>\n",
       "    .dataframe tbody tr th:only-of-type {\n",
       "        vertical-align: middle;\n",
       "    }\n",
       "\n",
       "    .dataframe tbody tr th {\n",
       "        vertical-align: top;\n",
       "    }\n",
       "\n",
       "    .dataframe thead th {\n",
       "        text-align: right;\n",
       "    }\n",
       "</style>\n",
       "<table border=\"1\" class=\"dataframe\">\n",
       "  <thead>\n",
       "    <tr style=\"text-align: right;\">\n",
       "      <th></th>\n",
       "      <th>Store</th>\n",
       "      <th>Location</th>\n",
       "      <th>Sales</th>\n",
       "      <th>Rating_Rank</th>\n",
       "    </tr>\n",
       "  </thead>\n",
       "  <tbody>\n",
       "    <tr>\n",
       "      <th>3</th>\n",
       "      <td>C</td>\n",
       "      <td>Mumbai</td>\n",
       "      <td>90000</td>\n",
       "      <td>1.0</td>\n",
       "    </tr>\n",
       "    <tr>\n",
       "      <th>4</th>\n",
       "      <td>D</td>\n",
       "      <td>Pune</td>\n",
       "      <td>89000</td>\n",
       "      <td>2.5</td>\n",
       "    </tr>\n",
       "    <tr>\n",
       "      <th>8</th>\n",
       "      <td>C</td>\n",
       "      <td>Mumbai</td>\n",
       "      <td>89000</td>\n",
       "      <td>2.5</td>\n",
       "    </tr>\n",
       "    <tr>\n",
       "      <th>5</th>\n",
       "      <td>A</td>\n",
       "      <td>Delhi</td>\n",
       "      <td>87000</td>\n",
       "      <td>4.0</td>\n",
       "    </tr>\n",
       "    <tr>\n",
       "      <th>6</th>\n",
       "      <td>D</td>\n",
       "      <td>Hyderabad</td>\n",
       "      <td>85000</td>\n",
       "      <td>5.0</td>\n",
       "    </tr>\n",
       "    <tr>\n",
       "      <th>7</th>\n",
       "      <td>A</td>\n",
       "      <td>Pune</td>\n",
       "      <td>78000</td>\n",
       "      <td>6.0</td>\n",
       "    </tr>\n",
       "    <tr>\n",
       "      <th>9</th>\n",
       "      <td>B</td>\n",
       "      <td>Pune</td>\n",
       "      <td>70000</td>\n",
       "      <td>7.0</td>\n",
       "    </tr>\n",
       "    <tr>\n",
       "      <th>2</th>\n",
       "      <td>A</td>\n",
       "      <td>Hyderabad</td>\n",
       "      <td>56000</td>\n",
       "      <td>8.0</td>\n",
       "    </tr>\n",
       "    <tr>\n",
       "      <th>1</th>\n",
       "      <td>B</td>\n",
       "      <td>Pune</td>\n",
       "      <td>45600</td>\n",
       "      <td>9.0</td>\n",
       "    </tr>\n",
       "    <tr>\n",
       "      <th>0</th>\n",
       "      <td>A</td>\n",
       "      <td>Mumbai</td>\n",
       "      <td>40000</td>\n",
       "      <td>10.0</td>\n",
       "    </tr>\n",
       "  </tbody>\n",
       "</table>\n",
       "</div>"
      ],
      "text/plain": [
       "  Store   Location  Sales  Rating_Rank\n",
       "3     C     Mumbai  90000          1.0\n",
       "4     D       Pune  89000          2.5\n",
       "8     C     Mumbai  89000          2.5\n",
       "5     A      Delhi  87000          4.0\n",
       "6     D  Hyderabad  85000          5.0\n",
       "7     A       Pune  78000          6.0\n",
       "9     B       Pune  70000          7.0\n",
       "2     A  Hyderabad  56000          8.0\n",
       "1     B       Pune  45600          9.0\n",
       "0     A     Mumbai  40000         10.0"
      ]
     },
     "execution_count": 25,
     "metadata": {},
     "output_type": "execute_result"
    }
   ],
   "source": [
    "# write your code here\n",
    "\n",
    "df_store['Rating_Rank'] = df_store['Sales'].rank(ascending = 0)\n",
    "df_store.sort_values(by=['Sales'], ascending = (False))\n",
    "\n",
    "\n",
    "\n",
    "\n"
   ]
  },
  {
   "cell_type": "code",
   "execution_count": null,
   "metadata": {},
   "outputs": [],
   "source": []
  },
  {
   "cell_type": "code",
   "execution_count": 2,
   "metadata": {},
   "outputs": [
    {
     "name": "stdout",
     "output_type": "stream",
     "text": [
      "1.4.2\n"
     ]
    }
   ],
   "source": [
    "import sklearn\n",
    "print(sklearn.__version__)"
   ]
  },
  {
   "cell_type": "code",
   "execution_count": null,
   "metadata": {},
   "outputs": [],
   "source": []
  }
 ],
 "metadata": {
  "colab": {
   "name": "NPV - INCLASS - LAB (DAY 2)  -  Questions  [V1.0 - 090120].ipynb",
   "provenance": []
  },
  "kernelspec": {
   "display_name": "Python 3 (ipykernel)",
   "language": "python",
   "name": "python3"
  },
  "language_info": {
   "codemirror_mode": {
    "name": "ipython",
    "version": 3
   },
   "file_extension": ".py",
   "mimetype": "text/x-python",
   "name": "python",
   "nbconvert_exporter": "python",
   "pygments_lexer": "ipython3",
   "version": "3.9.16"
  }
 },
 "nbformat": 4,
 "nbformat_minor": 4
}
