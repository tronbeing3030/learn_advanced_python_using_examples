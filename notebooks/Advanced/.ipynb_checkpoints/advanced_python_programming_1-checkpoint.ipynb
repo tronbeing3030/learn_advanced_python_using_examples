{
 "cells": [
  {
   "cell_type": "markdown",
   "metadata": {},
   "source": [
    "<table align=\"left\" width=100%>\n",
    "    <tr>\n",
    "        <td width=\"12%\">\n",
    "            <img src=\"../images/RA_Logo.png\">\n",
    "        </td>\n",
    "        <td>\n",
    "            <div align=\"center\">\n",
    "                <font color=\"#21618C\" size=8px>\n",
    "                  <b> Advanced Python Programming <br> (Day 1) </b>\n",
    "                </font>\n",
    "            </div>\n",
    "        </td>\n",
    "    </tr>\n",
    "</table>"
   ]
  },
  {
   "cell_type": "markdown",
   "metadata": {},
   "source": [
    "<table align=\"left\">\n",
    "  <td>\n",
    "    <a href=\"https://colab.research.google.com/github/vidyadharbendre/learn_advanced_python_using_examples/blob/main/notebooks/Advanced/advanced_python_programming_1.ipynb\" target=\"_parent\"><img src=\"https://colab.research.google.com/assets/colab-badge.svg\" alt=\"Open In Colab\"/></a>\n",
    "  </td>\n",
    "  <td>\n",
    "    <a target=\"_blank\" href=\"https://kaggle.com/kernels/welcome?src=https://github.com/vidyadharbendre/learn_advanced_python_using_examples/blob/main/notebooks/Advanced/advanced_python_programming_1.ipynb\"><img src=\"https://kaggle.com/static/images/open-in-kaggle.svg\" /></a>\n",
    "  </td>\n",
    "\n",
    " <td>\n",
    "    <a target=\"_blank\" href=\"https://github.com/vidyadharbendre/learn_advanced_python_using_examples/blob/main/notebooks/Advanced/advanced_python_programming_1.ipynb\">\n",
    "      <img src=\"https://img.shields.io/badge/Open%20in-GitHub-100000?style=flat&logo=github&logoColor=white\" alt=\"Open in GitHub\"/>\n",
    "    </a>\n",
    "  </td>\n",
    "\n",
    "</table>"
   ]
  },
  {
   "cell_type": "markdown",
   "metadata": {},
   "source": [
    "##  Table of Content\n",
    "\n",
    "1. **[One Dimensional Array](#1D)**\n",
    "2. **[Two Dimensional Array](#2D)**\n",
    "3. **[Stacking](#Stacking)**\n",
    "4. **[Splitting](#Splitting)**\n",
    "5. **[For Loop](#loop)**"
   ]
  },
  {
   "cell_type": "code",
   "execution_count": 53,
   "metadata": {},
   "outputs": [
    {
     "name": "stdout",
     "output_type": "stream",
     "text": [
      "Name: numpy\r\n",
      "Version: 1.24.1\r\n",
      "Summary: Fundamental package for array computing in Python\r\n",
      "Home-page: https://www.numpy.org\r\n",
      "Author: Travis E. Oliphant et al.\r\n",
      "Author-email: \r\n",
      "License: BSD-3-Clause\r\n",
      "Location: /Users/vidyadharbendre/miniforge3/envs/python_env/lib/python3.9/site-packages\r\n",
      "Requires: \r\n",
      "Required-by: contourpy, gensim, gym, h5py, imageio, Keras-Applications, Keras-Preprocessing, matplotlib, opencv-python, opt-einsum, pandas, patsy, scikit-image, scikit-learn, scikit-surprise, scipy, seaborn, stable-baselines3, statsmodels, tensorboard, tensorflow-hub, tensorflow-macos, tifffile, wordcloud, xgboost, yellowbrick\r\n"
     ]
    }
   ],
   "source": [
    "!pip show numpy"
   ]
  },
  {
   "cell_type": "code",
   "execution_count": 8,
   "metadata": {},
   "outputs": [],
   "source": [
    "#!conda install numpy\n",
    "# or \n",
    "#!pip install numpy"
   ]
  },
  {
   "cell_type": "markdown",
   "metadata": {},
   "source": [
    "### Let's begin with some hands-on practice exercises"
   ]
  },
  {
   "cell_type": "markdown",
   "metadata": {},
   "source": [
    "<a id=\"1D\"> </a>\n",
    "## 1. One Dimensional Array"
   ]
  },
  {
   "cell_type": "markdown",
   "metadata": {},
   "source": [
    "A one-dimensional array in NumPy, often referred to as a 1D array or vector, is a data structure that represents a sequence of elements along a single dimension. It is similar to a list or array in Python but offers more functionality and efficiency for numerical computations"
   ]
  },
  {
   "cell_type": "code",
   "execution_count": 31,
   "metadata": {},
   "outputs": [
    {
     "name": "stdout",
     "output_type": "stream",
     "text": [
      "Python: 3.9.16 | packaged by conda-forge | (main, Feb  1 2023, 21:38:11) \n",
      "[Clang 14.0.6 ]\n"
     ]
    }
   ],
   "source": [
    "# Python version\n",
    "import sys\n",
    "print('Python: {}'.format(sys.version))"
   ]
  },
  {
   "cell_type": "code",
   "execution_count": 32,
   "metadata": {},
   "outputs": [
    {
     "name": "stdout",
     "output_type": "stream",
     "text": [
      "numpy: 1.24.1\n"
     ]
    }
   ],
   "source": [
    "# numpy\n",
    "import numpy\n",
    "print('numpy: {}'.format(numpy.__version__))"
   ]
  },
  {
   "cell_type": "code",
   "execution_count": 37,
   "metadata": {},
   "outputs": [
    {
     "name": "stdout",
     "output_type": "stream",
     "text": [
      "Python: 3.9.16 | packaged by conda-forge | (main, Feb  1 2023, 21:38:11) \n",
      "[Clang 14.0.6 ]\n",
      "scipy: 1.13.0\n",
      "numpy: 1.24.1\n",
      "matplotlib: 3.8.4\n",
      "pandas: 1.4.3\n",
      "sklearn: 1.4.2\n",
      "seaborn: 0.11.2\n",
      "urlib: urllib\n",
      "csv: 1.0\n"
     ]
    }
   ],
   "source": [
    "# Machine Learning Libraries\n",
    "# Python version\n",
    "import sys\n",
    "print('Python: {}'.format(sys.version))\n",
    "# scipy\n",
    "import scipy\n",
    "print('scipy: {}'.format(scipy.__version__))\n",
    "# numpy\n",
    "import numpy\n",
    "print('numpy: {}'.format(numpy.__version__))\n",
    "# matplotlib\n",
    "import matplotlib\n",
    "print('matplotlib: {}'.format(matplotlib.__version__))\n",
    "# pandas\n",
    "import pandas\n",
    "print('pandas: {}'.format(pandas.__version__))\n",
    "# scikit-learn\n",
    "import sklearn\n",
    "print('sklearn: {}'.format(sklearn.__version__))\n",
    "import seaborn\n",
    "print('seaborn: {}'.format(seaborn.__version__))\n",
    "import urllib\n",
    "print('urlib: {}'.format(urllib.__name__))\n",
    "import csv\n",
    "print('csv: {}'.format(csv.__version__))"
   ]
  },
  {
   "cell_type": "code",
   "execution_count": null,
   "metadata": {},
   "outputs": [],
   "source": []
  },
  {
   "cell_type": "code",
   "execution_count": 2,
   "metadata": {},
   "outputs": [
    {
     "data": {
      "text/plain": [
       "array([1, 2, 3])"
      ]
     },
     "execution_count": 2,
     "metadata": {},
     "output_type": "execute_result"
    }
   ],
   "source": [
    "import numpy as np\n",
    "np.array([1, 2, 3])"
   ]
  },
  {
   "cell_type": "code",
   "execution_count": 4,
   "metadata": {},
   "outputs": [],
   "source": [
    "arr_1 = np.array([1, 2, 3])"
   ]
  },
  {
   "cell_type": "code",
   "execution_count": 5,
   "metadata": {},
   "outputs": [
    {
     "data": {
      "text/plain": [
       "numpy.ndarray"
      ]
     },
     "execution_count": 5,
     "metadata": {},
     "output_type": "execute_result"
    }
   ],
   "source": [
    "type(arr_1)"
   ]
  },
  {
   "cell_type": "code",
   "execution_count": 7,
   "metadata": {},
   "outputs": [],
   "source": [
    "list_1 = [1, 2, 3]"
   ]
  },
  {
   "cell_type": "code",
   "execution_count": 8,
   "metadata": {},
   "outputs": [
    {
     "data": {
      "text/plain": [
       "array([1, 2, 3])"
      ]
     },
     "execution_count": 8,
     "metadata": {},
     "output_type": "execute_result"
    }
   ],
   "source": [
    "np.array(list_1)"
   ]
  },
  {
   "cell_type": "code",
   "execution_count": 9,
   "metadata": {},
   "outputs": [],
   "source": [
    "arr_2 = np.array(list_1)"
   ]
  },
  {
   "cell_type": "code",
   "execution_count": 10,
   "metadata": {},
   "outputs": [
    {
     "data": {
      "text/plain": [
       "numpy.ndarray"
      ]
     },
     "execution_count": 10,
     "metadata": {},
     "output_type": "execute_result"
    }
   ],
   "source": [
    "type(arr_2)"
   ]
  },
  {
   "cell_type": "code",
   "execution_count": 11,
   "metadata": {},
   "outputs": [
    {
     "data": {
      "text/plain": [
       "array([1, 2, 3, 4])"
      ]
     },
     "execution_count": 11,
     "metadata": {},
     "output_type": "execute_result"
    }
   ],
   "source": [
    "np.arange(start=1, stop=5, step=1)"
   ]
  },
  {
   "cell_type": "code",
   "execution_count": 14,
   "metadata": {},
   "outputs": [],
   "source": [
    "var_1 = np.arange(start=1, stop=5, step=1)"
   ]
  },
  {
   "cell_type": "code",
   "execution_count": 15,
   "metadata": {},
   "outputs": [
    {
     "data": {
      "text/plain": [
       "numpy.ndarray"
      ]
     },
     "execution_count": 15,
     "metadata": {},
     "output_type": "execute_result"
    }
   ],
   "source": [
    "type(var_1)"
   ]
  },
  {
   "cell_type": "code",
   "execution_count": 16,
   "metadata": {},
   "outputs": [
    {
     "name": "stdout",
     "output_type": "stream",
     "text": [
      "[1 2 3 4]\n"
     ]
    }
   ],
   "source": [
    "print(var_1)"
   ]
  },
  {
   "cell_type": "code",
   "execution_count": 17,
   "metadata": {},
   "outputs": [
    {
     "data": {
      "text/plain": [
       "array([1, 2, 3, 4])"
      ]
     },
     "execution_count": 17,
     "metadata": {},
     "output_type": "execute_result"
    }
   ],
   "source": [
    "var_1"
   ]
  },
  {
   "cell_type": "code",
   "execution_count": 12,
   "metadata": {},
   "outputs": [
    {
     "data": {
      "text/plain": [
       "array([1. , 1.5, 2. , 2.5, 3. , 3.5, 4. , 4.5, 5. , 5.5, 6. , 6.5, 7. ,\n",
       "       7.5, 8. , 8.5, 9. , 9.5])"
      ]
     },
     "execution_count": 12,
     "metadata": {},
     "output_type": "execute_result"
    }
   ],
   "source": [
    "np.arange(1, 10, 0.5)"
   ]
  },
  {
   "cell_type": "code",
   "execution_count": 19,
   "metadata": {},
   "outputs": [
    {
     "data": {
      "text/plain": [
       "array([ 1,  2,  3,  4,  5,  6,  7,  8,  9, 10, 11, 12, 13, 14, 15, 16, 17,\n",
       "       18, 19, 20, 21, 22, 23, 24, 25, 26, 27, 28, 29, 30, 31, 32, 33, 34,\n",
       "       35, 36, 37, 38, 39, 40, 41, 42, 43, 44, 45, 46, 47, 48, 49, 50, 51,\n",
       "       52, 53, 54, 55, 56, 57, 58, 59, 60, 61, 62, 63, 64, 65, 66, 67, 68,\n",
       "       69, 70, 71, 72, 73, 74, 75, 76, 77, 78, 79, 80, 81, 82, 83, 84, 85,\n",
       "       86, 87, 88, 89, 90, 91, 92, 93, 94, 95, 96, 97, 98, 99])"
      ]
     },
     "execution_count": 19,
     "metadata": {},
     "output_type": "execute_result"
    }
   ],
   "source": [
    "np.arange(1, 100, 1)"
   ]
  },
  {
   "cell_type": "code",
   "execution_count": 13,
   "metadata": {},
   "outputs": [
    {
     "data": {
      "text/plain": [
       "numpy.ndarray"
      ]
     },
     "execution_count": 13,
     "metadata": {},
     "output_type": "execute_result"
    }
   ],
   "source": [
    "var_2 = np.arange(1, 10, 0.5)\n",
    "type(var_2)"
   ]
  },
  {
   "cell_type": "code",
   "execution_count": 14,
   "metadata": {},
   "outputs": [
    {
     "name": "stdout",
     "output_type": "stream",
     "text": [
      "[1 2 3 4]\n",
      "<class 'numpy.ndarray'>\n"
     ]
    }
   ],
   "source": [
    "arr_range = np.arange(start=1, stop=5)\n",
    "print(arr_range)\n",
    "print(type(arr_range))"
   ]
  },
  {
   "cell_type": "code",
   "execution_count": null,
   "metadata": {},
   "outputs": [],
   "source": [
    "np.zeros()"
   ]
  },
  {
   "cell_type": "code",
   "execution_count": 15,
   "metadata": {},
   "outputs": [
    {
     "data": {
      "text/plain": [
       "array([0., 0., 0.])"
      ]
     },
     "execution_count": 15,
     "metadata": {},
     "output_type": "execute_result"
    }
   ],
   "source": [
    "np.zeros(3)"
   ]
  },
  {
   "cell_type": "code",
   "execution_count": 20,
   "metadata": {},
   "outputs": [
    {
     "data": {
      "text/plain": [
       "array([0, 0, 0])"
      ]
     },
     "execution_count": 20,
     "metadata": {},
     "output_type": "execute_result"
    }
   ],
   "source": [
    "np.zeros(shape=3, dtype=int)"
   ]
  },
  {
   "cell_type": "code",
   "execution_count": 22,
   "metadata": {},
   "outputs": [
    {
     "data": {
      "text/plain": [
       "array([[0., 0., 0., 0., 0., 0.],\n",
       "       [0., 0., 0., 0., 0., 0.],\n",
       "       [0., 0., 0., 0., 0., 0.],\n",
       "       [0., 0., 0., 0., 0., 0.],\n",
       "       [0., 0., 0., 0., 0., 0.],\n",
       "       [0., 0., 0., 0., 0., 0.]])"
      ]
     },
     "execution_count": 22,
     "metadata": {},
     "output_type": "execute_result"
    }
   ],
   "source": [
    "np.zeros((6, 6))"
   ]
  },
  {
   "cell_type": "code",
   "execution_count": 16,
   "metadata": {},
   "outputs": [
    {
     "name": "stdout",
     "output_type": "stream",
     "text": [
      "[[0. 0. 0. 0.]\n",
      " [0. 0. 0. 0.]\n",
      " [0. 0. 0. 0.]]\n",
      "<class 'numpy.ndarray'>\n"
     ]
    }
   ],
   "source": [
    "zero_1 = np.zeros((3, 4))\n",
    "print(zero_1)\n",
    "print(type(zero_1))"
   ]
  },
  {
   "cell_type": "code",
   "execution_count": 17,
   "metadata": {},
   "outputs": [
    {
     "data": {
      "text/plain": [
       "array([[1., 1., 1., 1., 1., 1., 1., 1., 1., 1.],\n",
       "       [1., 1., 1., 1., 1., 1., 1., 1., 1., 1.],\n",
       "       [1., 1., 1., 1., 1., 1., 1., 1., 1., 1.],\n",
       "       [1., 1., 1., 1., 1., 1., 1., 1., 1., 1.],\n",
       "       [1., 1., 1., 1., 1., 1., 1., 1., 1., 1.]])"
      ]
     },
     "execution_count": 17,
     "metadata": {},
     "output_type": "execute_result"
    }
   ],
   "source": [
    "np.ones((5, 10))"
   ]
  },
  {
   "cell_type": "code",
   "execution_count": null,
   "metadata": {},
   "outputs": [],
   "source": [
    "np.ones((5, 10))"
   ]
  },
  {
   "cell_type": "code",
   "execution_count": 18,
   "metadata": {},
   "outputs": [
    {
     "name": "stdout",
     "output_type": "stream",
     "text": [
      "1D Array: [1 2 3 4 5]\n",
      "1D Array (using arange): [1 2 3 4 5]\n",
      "1D Array of Zeros: [0. 0. 0. 0. 0.]\n",
      "1D Array of Ones: [1. 1. 1. 1. 1.]\n"
     ]
    }
   ],
   "source": [
    "import numpy as np\n",
    "\n",
    "# Create a 1D array from a Python list\n",
    "arr = np.array([1, 2, 3, 4, 5])\n",
    "\n",
    "# Alternatively, you can use np.arange to create a range of values\n",
    "arr_range = np.arange(1, 6)\n",
    "\n",
    "# You can also create an array of zeros or ones\n",
    "arr_zeros = np.zeros(5)\n",
    "arr_ones = np.ones(5)\n",
    "\n",
    "# Print the arrays\n",
    "print(\"1D Array:\", arr)\n",
    "print(\"1D Array (using arange):\", arr_range)\n",
    "print(\"1D Array of Zeros:\", arr_zeros)\n",
    "print(\"1D Array of Ones:\", arr_ones)"
   ]
  },
  {
   "cell_type": "code",
   "execution_count": 26,
   "metadata": {},
   "outputs": [
    {
     "data": {
      "text/plain": [
       "array([ 1,  5,  9, 13, 17, 21])"
      ]
     },
     "execution_count": 26,
     "metadata": {},
     "output_type": "execute_result"
    }
   ],
   "source": [
    "np.arange(1, 22, 4)"
   ]
  },
  {
   "cell_type": "code",
   "execution_count": 19,
   "metadata": {},
   "outputs": [
    {
     "name": "stdout",
     "output_type": "stream",
     "text": [
      "range(0, 10)\n",
      "Size of u:  28\n"
     ]
    }
   ],
   "source": [
    "import sys\n",
    "\n",
    "u = range(10)\n",
    "print(u)\n",
    "# for i in u:\n",
    "#     print(i)\n",
    "print(\"Size of u: \", sys.getsizeof(len(u)))"
   ]
  },
  {
   "cell_type": "code",
   "execution_count": 20,
   "metadata": {},
   "outputs": [
    {
     "name": "stdout",
     "output_type": "stream",
     "text": [
      "[0 1 2 3 4 5 6 7 8 9]\n",
      "Size of u:  28\n"
     ]
    }
   ],
   "source": [
    "v = np.arange(10)\n",
    "print(v)\n",
    "print(\"Size of u: \", sys.getsizeof(len(v)))"
   ]
  },
  {
   "cell_type": "raw",
   "metadata": {},
   "source": [
    "One-dimensional arrays are widely used in numerical computing for tasks such as storing and manipulating sequences of data, performing mathematical operations, and representing signals or time series data. They serve as fundamental building blocks for more complex data structures and algorithms in scientific computing and data analysis"
   ]
  },
  {
   "cell_type": "raw",
   "metadata": {},
   "source": [
    "In Python, a list is a built-in data structure that can hold a collection of items. Lists are ordered, mutable (modifiable), and can contain elements of different data types. Here's a simple example of creating a list"
   ]
  },
  {
   "cell_type": "code",
   "execution_count": 36,
   "metadata": {},
   "outputs": [],
   "source": [
    "my_list = [1, 2, 3, 4, 5]"
   ]
  },
  {
   "cell_type": "raw",
   "metadata": {},
   "source": [
    "We can add, remove, or modify elements in a list, and you can access individual elements using indexing. For example"
   ]
  },
  {
   "cell_type": "code",
   "execution_count": 37,
   "metadata": {},
   "outputs": [
    {
     "name": "stdout",
     "output_type": "stream",
     "text": [
      "1\n",
      "[10, 2, 3, 4, 5]\n",
      "[10, 2, 3, 4, 5, 6]\n",
      "[10, 2, 4, 5, 6]\n"
     ]
    }
   ],
   "source": [
    "# Accessing elements\n",
    "print(my_list[0])  # Output: 1\n",
    "\n",
    "# Modifying elements\n",
    "my_list[0] = 10\n",
    "print(my_list)  # Output: [10, 2, 3, 4, 5]\n",
    "\n",
    "# Adding elements\n",
    "my_list.append(6)\n",
    "print(my_list)  # Output: [10, 2, 3, 4, 5, 6]\n",
    "\n",
    "# Removing elements\n",
    "my_list.remove(3)\n",
    "print(my_list)  # Output: [10, 2, 4, 5, 6]"
   ]
  },
  {
   "cell_type": "raw",
   "metadata": {},
   "source": [
    "NumPy, on the other hand, is a powerful library for numerical computing in Python. It provides support for multi-dimensional arrays (ndarrays) and a wide range of mathematical operations. To convert a Python list to a NumPy array, you can use the numpy.array() function. Here's how:"
   ]
  },
  {
   "cell_type": "code",
   "execution_count": 3,
   "metadata": {},
   "outputs": [
    {
     "name": "stdout",
     "output_type": "stream",
     "text": [
      "[1 2 3 4 5]\n"
     ]
    }
   ],
   "source": [
    "import numpy as np\n",
    "\n",
    "# Create a Python list\n",
    "my_list = [1, 2, 3, 4, 5]\n",
    "\n",
    "# Convert the list to a NumPy array\n",
    "my_array = np.array(my_list)\n",
    "\n",
    "# Print the NumPy array\n",
    "print(my_array)"
   ]
  },
  {
   "cell_type": "code",
   "execution_count": 2,
   "metadata": {},
   "outputs": [
    {
     "data": {
      "text/plain": [
       "[1, 2, 3, 4, 5]"
      ]
     },
     "execution_count": 2,
     "metadata": {},
     "output_type": "execute_result"
    }
   ],
   "source": [
    "vectorAsList = [1, 2, 3, 4, 5]\n",
    "vectorAsList"
   ]
  },
  {
   "cell_type": "code",
   "execution_count": 4,
   "metadata": {},
   "outputs": [
    {
     "data": {
      "text/plain": [
       "array([1, 2, 3, 4, 5])"
      ]
     },
     "execution_count": 4,
     "metadata": {},
     "output_type": "execute_result"
    }
   ],
   "source": [
    "vectorAsArray = np.array(vectorAsList)\n",
    "vectorAsArray"
   ]
  },
  {
   "cell_type": "code",
   "execution_count": 5,
   "metadata": {},
   "outputs": [
    {
     "data": {
      "text/plain": [
       "array([[1, 2, 3, 4, 5]])"
      ]
     },
     "execution_count": 5,
     "metadata": {},
     "output_type": "execute_result"
    }
   ],
   "source": [
    "rowVector = np.array([[1, 2, 3, 4, 5]])\n",
    "rowVector"
   ]
  },
  {
   "cell_type": "code",
   "execution_count": 6,
   "metadata": {},
   "outputs": [
    {
     "data": {
      "text/plain": [
       "array([[1],\n",
       "       [2],\n",
       "       [3],\n",
       "       [4],\n",
       "       [5]])"
      ]
     },
     "execution_count": 6,
     "metadata": {},
     "output_type": "execute_result"
    }
   ],
   "source": [
    "columnVector = np.array([[1], [2], [3], [4], [5]])\n",
    "columnVector"
   ]
  },
  {
   "cell_type": "raw",
   "metadata": {},
   "source": [
    "Now, my_array is a one-dimensional NumPy array containing the same elements as the original Python list. NumPy arrays offer many advantages over Python lists, including faster operations and support for a wide range of mathematical functions"
   ]
  },
  {
   "cell_type": "code",
   "execution_count": 21,
   "metadata": {},
   "outputs": [],
   "source": [
    "scalar = 4"
   ]
  },
  {
   "cell_type": "code",
   "execution_count": 22,
   "metadata": {},
   "outputs": [
    {
     "data": {
      "text/plain": [
       "[1, 2, 3, 4, 5]"
      ]
     },
     "execution_count": 22,
     "metadata": {},
     "output_type": "execute_result"
    }
   ],
   "source": [
    "vectorAsList"
   ]
  },
  {
   "cell_type": "code",
   "execution_count": 24,
   "metadata": {},
   "outputs": [
    {
     "data": {
      "text/plain": [
       "[1, 2, 3, 4, 5, 1, 2, 3, 4, 5, 1, 2, 3, 4, 5, 1, 2, 3, 4, 5]"
      ]
     },
     "execution_count": 24,
     "metadata": {},
     "output_type": "execute_result"
    }
   ],
   "source": [
    "#scalar to list multiplication\n",
    "scalar*vectorAsList"
   ]
  },
  {
   "cell_type": "code",
   "execution_count": 25,
   "metadata": {},
   "outputs": [
    {
     "data": {
      "text/plain": [
       "array([1, 2, 3, 4, 5])"
      ]
     },
     "execution_count": 25,
     "metadata": {},
     "output_type": "execute_result"
    }
   ],
   "source": [
    "vectorAsArray"
   ]
  },
  {
   "cell_type": "code",
   "execution_count": 27,
   "metadata": {},
   "outputs": [
    {
     "data": {
      "text/plain": [
       "array([ 4,  8, 12, 16, 20])"
      ]
     },
     "execution_count": 27,
     "metadata": {},
     "output_type": "execute_result"
    }
   ],
   "source": [
    "#scalar * vector\n",
    "scalar*vectorAsArray"
   ]
  },
  {
   "cell_type": "markdown",
   "metadata": {},
   "source": [
    "<table align=\"left\">\n",
    "    <tr>\n",
    "        <td width=\"6%\">\n",
    "            <img src=\"../images/RA_Logo.png\">\n",
    "        </td>\n",
    "        <td>\n",
    "            <div align=\"left\", style=\"font-size:120%\">\n",
    "                <font color=\"#21618C\">\n",
    "                    <b>1. Write a NumPy program to convert a list of numeric values into a one-dimensional NumPy array</b>\n",
    "                </font>\n",
    "            </div>\n",
    "        </td>\n",
    "    </tr>\n",
    "</table>"
   ]
  },
  {
   "cell_type": "markdown",
   "metadata": {},
   "source": [
    "**Use the list given below: (or create your own list)**<br>\n",
    "\n",
    "list1 = [3.04, 1.65, 5.76, 1.66, 1.54, 4.69, 2.68]"
   ]
  },
  {
   "cell_type": "code",
   "execution_count": 7,
   "metadata": {},
   "outputs": [
    {
     "name": "stdout",
     "output_type": "stream",
     "text": [
      "[3.04, 1.65, 5.76, 1.66, 1.54, 4.69, 2.68]\n",
      "[3.04 1.65 5.76 1.66 1.54 4.69 2.68]\n",
      "<class 'numpy.ndarray'>\n"
     ]
    }
   ],
   "source": [
    "list1 = [3.04, 1.65, 5.76, 1.66, 1.54, 4.69, 2.68]\n",
    "print(list1)\n",
    "list1_array = np.array(list1)\n",
    "print(list1_array)\n",
    "print(type(list1_array))"
   ]
  },
  {
   "cell_type": "markdown",
   "metadata": {},
   "source": [
    "<table align=\"left\">\n",
    "    <tr>\n",
    "        <td width=\"6%\">\n",
    "            <img src=\"../images/RA_Logo.png\">\n",
    "        </td>\n",
    "        <td>\n",
    "            <div align=\"left\", style=\"font-size:120%\">\n",
    "                <font color=\"#21618C\">\n",
    "                    <b>2. Create a 1D array of weights of 10 students and retrieve all the weights greater than 68</b>\n",
    "                </font>\n",
    "            </div>\n",
    "        </td>\n",
    "    </tr>\n",
    "</table>"
   ]
  },
  {
   "cell_type": "markdown",
   "metadata": {},
   "source": [
    "**Use the weights given below: (or create your own list)**\n",
    "\n",
    "weights = [74.2, 85, 74, 67.9, 52, 70.5, 86, 51.8, 64, 82]"
   ]
  },
  {
   "cell_type": "code",
   "execution_count": 27,
   "metadata": {},
   "outputs": [],
   "source": [
    "weights = [74.2, 85, 74, 67.9, 52, 70.5, 86, 51.8, 64, 82]"
   ]
  },
  {
   "cell_type": "code",
   "execution_count": 28,
   "metadata": {},
   "outputs": [
    {
     "data": {
      "text/plain": [
       "list"
      ]
     },
     "execution_count": 28,
     "metadata": {},
     "output_type": "execute_result"
    }
   ],
   "source": [
    "type(weights)"
   ]
  },
  {
   "cell_type": "code",
   "execution_count": 29,
   "metadata": {},
   "outputs": [
    {
     "data": {
      "text/plain": [
       "array([74.2, 85. , 74. , 67.9, 52. , 70.5, 86. , 51.8, 64. , 82. ])"
      ]
     },
     "execution_count": 29,
     "metadata": {},
     "output_type": "execute_result"
    }
   ],
   "source": [
    "np.array(weights)"
   ]
  },
  {
   "cell_type": "code",
   "execution_count": 30,
   "metadata": {},
   "outputs": [],
   "source": [
    "weights_array = np.array(weights)"
   ]
  },
  {
   "cell_type": "code",
   "execution_count": 34,
   "metadata": {},
   "outputs": [
    {
     "data": {
      "text/plain": [
       "numpy.ndarray"
      ]
     },
     "execution_count": 34,
     "metadata": {},
     "output_type": "execute_result"
    }
   ],
   "source": [
    "type(weights_array)"
   ]
  },
  {
   "cell_type": "code",
   "execution_count": 33,
   "metadata": {},
   "outputs": [
    {
     "data": {
      "text/plain": [
       "array([74.2, 85. , 74. , 70.5, 86. , 82. ])"
      ]
     },
     "execution_count": 33,
     "metadata": {},
     "output_type": "execute_result"
    }
   ],
   "source": [
    "weights_array[weights_array > 68]"
   ]
  },
  {
   "cell_type": "code",
   "execution_count": 35,
   "metadata": {},
   "outputs": [
    {
     "name": "stdout",
     "output_type": "stream",
     "text": [
      "[74.2 85.  74.  67.9 52.  70.5 86.  51.8 64.  82. ]\n"
     ]
    }
   ],
   "source": [
    "print(weights_array)"
   ]
  },
  {
   "cell_type": "code",
   "execution_count": 36,
   "metadata": {},
   "outputs": [
    {
     "data": {
      "text/plain": [
       "10"
      ]
     },
     "execution_count": 36,
     "metadata": {},
     "output_type": "execute_result"
    }
   ],
   "source": [
    "weights_array.size # total number of elements"
   ]
  },
  {
   "cell_type": "code",
   "execution_count": 37,
   "metadata": {},
   "outputs": [
    {
     "data": {
      "text/plain": [
       "(10,)"
      ]
     },
     "execution_count": 37,
     "metadata": {},
     "output_type": "execute_result"
    }
   ],
   "source": [
    "weights_array.shape"
   ]
  },
  {
   "cell_type": "code",
   "execution_count": 40,
   "metadata": {},
   "outputs": [
    {
     "data": {
      "text/plain": [
       "dtype('float64')"
      ]
     },
     "execution_count": 40,
     "metadata": {},
     "output_type": "execute_result"
    }
   ],
   "source": [
    "weights_array.dtype"
   ]
  },
  {
   "cell_type": "code",
   "execution_count": 39,
   "metadata": {},
   "outputs": [
    {
     "data": {
      "text/plain": [
       "8"
      ]
     },
     "execution_count": 39,
     "metadata": {},
     "output_type": "execute_result"
    }
   ],
   "source": [
    "weights_array.itemsize # number of bytes consumed by each item"
   ]
  },
  {
   "cell_type": "code",
   "execution_count": 41,
   "metadata": {},
   "outputs": [
    {
     "data": {
      "text/plain": [
       "1"
      ]
     },
     "execution_count": 41,
     "metadata": {},
     "output_type": "execute_result"
    }
   ],
   "source": [
    "weights_array.ndim"
   ]
  },
  {
   "cell_type": "code",
   "execution_count": null,
   "metadata": {},
   "outputs": [],
   "source": [
    "import numpy as np"
   ]
  },
  {
   "cell_type": "code",
   "execution_count": 48,
   "metadata": {},
   "outputs": [
    {
     "name": "stdout",
     "output_type": "stream",
     "text": [
      "[11, 22, 33, 44.5, 55, 2147483647]\n",
      "\n",
      "[1.10000000e+01 2.20000000e+01 3.30000000e+01 4.45000000e+01\n",
      " 5.50000000e+01 2.14748365e+09]\n",
      "1\n",
      "(6,)\n",
      "6\n",
      "8\n",
      "float64\n",
      "48\n"
     ]
    }
   ],
   "source": [
    "python_list = [11, 22, 33, 44.5, 55, 2**31-1]\n",
    "print(python_list)\n",
    "print()\n",
    "numpy_array = np.array(python_list)\n",
    "print(numpy_array)\n",
    "print(numpy_array.ndim)\n",
    "print(numpy_array.shape)\n",
    "print(numpy_array.size)\n",
    "print(numpy_array.itemsize) # each individual element size in bytes\n",
    "print(numpy_array.dtype)\n",
    "print(numpy_array.size * numpy_array.itemsize)"
   ]
  },
  {
   "cell_type": "code",
   "execution_count": 49,
   "metadata": {},
   "outputs": [
    {
     "data": {
      "text/plain": [
       "11.0"
      ]
     },
     "execution_count": 49,
     "metadata": {},
     "output_type": "execute_result"
    }
   ],
   "source": [
    "1.1*10"
   ]
  },
  {
   "cell_type": "raw",
   "metadata": {},
   "source": [
    "In NumPy, np.random.seed(42) is used to set the seed for the random number generator. \n",
    "\n",
    "This function ensures that the random numbers generated by NumPy functions are reproducible, meaning they will be the same every time you run your code with the same seed value"
   ]
  },
  {
   "cell_type": "raw",
   "metadata": {},
   "source": [
    "Here's how it works:\n",
    "\n",
    "When you call np.random.seed(42), you are initializing the random number generator with a specific seed value, in this case, 42.\n",
    "\n",
    "After setting the seed, any subsequent calls to random number generation functions in NumPy will produce the same sequence of random numbers every time you run your code, as long as you use the same seed value.\n",
    "\n",
    "This is particularly useful when you want to ensure reproducibility in your experiments or simulations. \n",
    "\n",
    "By setting the seed, you can make sure that your results are consistent across different runs of your code, which can be important for debugging, testing, and sharing your work with others."
   ]
  },
  {
   "cell_type": "code",
   "execution_count": 99,
   "metadata": {},
   "outputs": [
    {
     "name": "stdout",
     "output_type": "stream",
     "text": [
      "Random numbers: [51 92 14 71 60]\n"
     ]
    }
   ],
   "source": [
    "#Here's an example to illustrate:\n",
    "\n",
    "import numpy as np\n",
    "\n",
    "# Set the seed\n",
    "np.random.seed(42)\n",
    "\n",
    "# Generate some random numbers\n",
    "random_numbers = np.random.randint(0, 100, 5)\n",
    "\n",
    "print(\"Random numbers:\", random_numbers)"
   ]
  },
  {
   "cell_type": "code",
   "execution_count": 107,
   "metadata": {},
   "outputs": [
    {
     "data": {
      "text/plain": [
       "array([51, 92, 14])"
      ]
     },
     "execution_count": 107,
     "metadata": {},
     "output_type": "execute_result"
    }
   ],
   "source": [
    "# Set the seed\n",
    "np.random.seed(42)\n",
    "np.random.randint(0, 100, 3)"
   ]
  },
  {
   "cell_type": "raw",
   "metadata": {},
   "source": [
    "If you run this code multiple times, you will always get the same sequence of random numbers because the seed is set to 42. If you were to remove the np.random.seed(42) line, you would get different random numbers each time you run the code."
   ]
  },
  {
   "cell_type": "code",
   "execution_count": 46,
   "metadata": {},
   "outputs": [
    {
     "name": "stdout",
     "output_type": "stream",
     "text": [
      "Random numbers: [ 1 63 59 20 32]\n"
     ]
    }
   ],
   "source": [
    "#Here's an example to illustrate by not having seed - execute multiple times the current cell to see different values everytime:\n",
    "\n",
    "import numpy as np\n",
    "\n",
    "# Set the seed\n",
    "#np.random.seed(42)\n",
    "\n",
    "# Generate some random numbers\n",
    "random_numbers = np.random.randint(0, 100, 5)\n",
    "\n",
    "print(\"Random numbers:\", random_numbers)"
   ]
  },
  {
   "cell_type": "raw",
   "metadata": {},
   "source": [
    "np.random.randint is a NumPy function used to generate random integers within a specified range. Here's how it works:"
   ]
  },
  {
   "cell_type": "code",
   "execution_count": 52,
   "metadata": {},
   "outputs": [
    {
     "data": {
      "text/plain": [
       "array([1, 1, 1, 1, 1, 1, 0, 0, 1, 0])"
      ]
     },
     "execution_count": 52,
     "metadata": {},
     "output_type": "execute_result"
    }
   ],
   "source": [
    "np.random.randint(2, size=10)"
   ]
  },
  {
   "cell_type": "code",
   "execution_count": 85,
   "metadata": {},
   "outputs": [
    {
     "data": {
      "text/plain": [
       "array([78, 68, 54, 82, 47, 60, 78, 58, 62, 50, 50, 63, 75, 79, 63, 42, 61,\n",
       "       41, 63, 83, 69, 77, 41, 60, 72, 51, 61, 83, 64, 88, 66, 81, 67, 55,\n",
       "       54, 86, 83, 42, 76, 46, 60, 48, 78, 57, 43, 64, 53, 89, 48, 65])"
      ]
     },
     "execution_count": 85,
     "metadata": {},
     "output_type": "execute_result"
    }
   ],
   "source": [
    "np.random.seed(42)\n",
    "np.random.randint(40, 90, size=(50))"
   ]
  },
  {
   "cell_type": "code",
   "execution_count": null,
   "metadata": {},
   "outputs": [],
   "source": [
    "[78, 68, 54, 82, 47, 60, 78, 58, 62, 50, 50, 63, 75, 79, 63, 42, 61,\n",
    "       41, 63, 83, 69, 77, 41, 60, 72, 51, 61, 83, 64, 88, 66, 81, 67, 55,\n",
    "       54, 86, 83, 42, 76, 46, 60, 48, 78, 57, 43, 64, 53, 89, 48, 65]"
   ]
  },
  {
   "cell_type": "code",
   "execution_count": 87,
   "metadata": {},
   "outputs": [
    {
     "data": {
      "text/plain": [
       "array([48, 64, 43, 79, 63, 55, 88, 50, 70, 74, 42, 74, 54, 74, 89, 88, 64,\n",
       "       55, 76, 83, 56, 49, 69, 62, 42, 67, 84, 44, 71, 41, 53, 59, 76, 44,\n",
       "       67, 43, 47, 89, 87, 41, 54, 47, 56, 42, 81, 70, 59, 74, 67, 86])"
      ]
     },
     "execution_count": 87,
     "metadata": {},
     "output_type": "execute_result"
    }
   ],
   "source": [
    "np.random.seed(100)\n",
    "np.random.randint(40, 90, size=(50))"
   ]
  },
  {
   "cell_type": "code",
   "execution_count": null,
   "metadata": {},
   "outputs": [],
   "source": [
    "[48, 64, 43, 79, 63, 55, 88, 50, 70, 74, 42, 74, 54, 74, 89, 88, 64,\n",
    "       55, 76, 83, 56, 49, 69, 62, 42, 67, 84, 44, 71, 41, 53, 59, 76, 44,\n",
    "       67, 43, 47, 89, 87, 41, 54, 47, 56, 42, 81, 70, 59, 74, 67, 86]"
   ]
  },
  {
   "cell_type": "code",
   "execution_count": 47,
   "metadata": {},
   "outputs": [
    {
     "name": "stdout",
     "output_type": "stream",
     "text": [
      "Random integer between 0 and 9: 9\n",
      "Random integer between 5 and 10: 10\n",
      "Array of random integers between 1 and 100:\n",
      "[[89 49 91]\n",
      " [59 42 92]\n",
      " [60 80 15]]\n"
     ]
    }
   ],
   "source": [
    "import numpy as np\n",
    "\n",
    "# Generate a random integer between 0 and 9\n",
    "random_int = np.random.randint(10)\n",
    "print(\"Random integer between 0 and 9:\", random_int)\n",
    "\n",
    "# Generate a random integer between 5 and 10\n",
    "random_int_range = np.random.randint(5, 11)\n",
    "print(\"Random integer between 5 and 10:\", random_int_range)\n",
    "\n",
    "# Generate an array of random integers between 1 and 100 with shape (3, 3)\n",
    "random_array = np.random.randint(1, 101, size=(3, 3))\n",
    "print(\"Array of random integers between 1 and 100:\")\n",
    "print(random_array)"
   ]
  },
  {
   "cell_type": "code",
   "execution_count": 94,
   "metadata": {},
   "outputs": [
    {
     "data": {
      "text/plain": [
       "array([[83, 93, 95],\n",
       "       [94, 87, 93],\n",
       "       [87, 95, 92],\n",
       "       [97, 94, 92],\n",
       "       [88, 94, 92],\n",
       "       [80, 86, 88],\n",
       "       [80, 91, 87],\n",
       "       [90, 98, 96],\n",
       "       [87, 82, 82],\n",
       "       [80, 84, 89],\n",
       "       [86, 88, 86],\n",
       "       [88, 87, 91],\n",
       "       [81, 80, 95],\n",
       "       [84, 82, 91],\n",
       "       [87, 82, 80],\n",
       "       [82, 84, 94],\n",
       "       [93, 82, 80],\n",
       "       [84, 93, 86],\n",
       "       [88, 94, 94],\n",
       "       [89, 92, 98]])"
      ]
     },
     "execution_count": 94,
     "metadata": {},
     "output_type": "execute_result"
    }
   ],
   "source": [
    "#np.random.seed(42)\n",
    "random_array = np.random.randint(80, 100, size=(20, 3))\n",
    "random_array"
   ]
  },
  {
   "cell_type": "raw",
   "metadata": {},
   "source": [
    "In this example:\n",
    "\n",
    "np.random.randint(10) generates a random integer between 0 and 9.\n",
    "\n",
    "np.random.randint(5, 11) generates a random integer between 5 (inclusive) and 11 (exclusive), i.e., between 5 and 10.\n",
    "\n",
    "np.random.randint(1, 101, size=(3, 3)) generates an array of random integers between 1 and 100 with shape (3, 3)."
   ]
  },
  {
   "cell_type": "markdown",
   "metadata": {},
   "source": [
    "<table align=\"left\">\n",
    "    <tr>\n",
    "        <td width=\"6%\">\n",
    "            <img src=\"../images/RA_Logo.png\">\n",
    "        </td>\n",
    "        <td>\n",
    "            <div align=\"left\", style=\"font-size:120%\">\n",
    "                <font color=\"#21618C\">\n",
    "                    <b>3. Write a code to generate 10 random integers between 20 to 40 (Is it possible to generate same random numbers everytime? If yes, describe the function)\n",
    "                    </b>\n",
    "                </font>\n",
    "            </div>\n",
    "        </td>\n",
    "    </tr>\n",
    "</table>"
   ]
  },
  {
   "cell_type": "code",
   "execution_count": 106,
   "metadata": {},
   "outputs": [
    {
     "name": "stdout",
     "output_type": "stream",
     "text": [
      "<class 'numpy.ndarray'>\n",
      "(10,)\n",
      "[25 31 32 28 29 31 25 35 20 36]\n"
     ]
    }
   ],
   "source": [
    "# type your code here\n",
    "np.random.seed(1)\n",
    "\n",
    "n10 = np.random.randint(low=20,high=40,size=10)\n",
    "print(type(n10))\n",
    "print(n10.shape)\n",
    "print(n10)"
   ]
  },
  {
   "cell_type": "code",
   "execution_count": 98,
   "metadata": {},
   "outputs": [
    {
     "name": "stdout",
     "output_type": "stream",
     "text": [
      "<class 'numpy.ndarray'>\n",
      "(10,)\n",
      "[26 39 34 30 27 26 38 30 30 23]\n"
     ]
    }
   ],
   "source": [
    "# type your code here\n",
    "np.random.seed(42)\n",
    "\n",
    "n10 = np.random.randint(low=20,high=40,size=10)\n",
    "print(type(n10))\n",
    "print(n10.shape)\n",
    "print(n10)\n"
   ]
  },
  {
   "cell_type": "code",
   "execution_count": 99,
   "metadata": {},
   "outputs": [
    {
     "name": "stdout",
     "output_type": "stream",
     "text": [
      "<class 'numpy.ndarray'>\n",
      "(10,)\n",
      "[28 23 27 35 36 30 22 22 22 34]\n"
     ]
    }
   ],
   "source": [
    "# type your code here\n",
    "np.random.seed(100)\n",
    "\n",
    "n10 = np.random.randint(low=20,high=40,size=10)\n",
    "print(type(n10))\n",
    "print(n10.shape)\n",
    "print(n10)"
   ]
  },
  {
   "cell_type": "markdown",
   "metadata": {},
   "source": [
    "<table align=\"left\">\n",
    "    <tr>\n",
    "        <td width=\"6%\">\n",
    "            <img src=\"../images/RA_Logo.png\">\n",
    "        </td>\n",
    "        <td>\n",
    "            <div align=\"left\", style=\"font-size:120%\">\n",
    "                <font color=\"#21618C\">\n",
    "                    <b>4. Write a program to get the fifth power of the first five positive integers\n",
    "                    </b>\n",
    "                </font>\n",
    "            </div>\n",
    "        </td>\n",
    "    </tr>\n",
    "</table>"
   ]
  },
  {
   "cell_type": "code",
   "execution_count": 116,
   "metadata": {},
   "outputs": [
    {
     "name": "stdout",
     "output_type": "stream",
     "text": [
      "[26 39 34 30 27 26 38 30 30 23]\n"
     ]
    }
   ],
   "source": [
    "# type your code here\n",
    "np.random.seed(42)\n",
    "\n",
    "n10 = np.random.randint(low=20,high=40,size=10)\n",
    "print(n10)"
   ]
  },
  {
   "cell_type": "code",
   "execution_count": 115,
   "metadata": {},
   "outputs": [
    {
     "data": {
      "text/plain": [
       "23"
      ]
     },
     "execution_count": 115,
     "metadata": {},
     "output_type": "execute_result"
    }
   ],
   "source": [
    "#access the last element\n",
    "n10[-1]"
   ]
  },
  {
   "cell_type": "code",
   "execution_count": 117,
   "metadata": {},
   "outputs": [
    {
     "data": {
      "text/plain": [
       "30"
      ]
     },
     "execution_count": 117,
     "metadata": {},
     "output_type": "execute_result"
    }
   ],
   "source": [
    "#access the before last element\n",
    "n10[-2]"
   ]
  },
  {
   "cell_type": "code",
   "execution_count": 112,
   "metadata": {},
   "outputs": [
    {
     "data": {
      "text/plain": [
       "26"
      ]
     },
     "execution_count": 112,
     "metadata": {},
     "output_type": "execute_result"
    }
   ],
   "source": [
    "#display the first element accessing it through righthand side\n",
    "n10[-10]"
   ]
  },
  {
   "cell_type": "code",
   "execution_count": 118,
   "metadata": {},
   "outputs": [
    {
     "data": {
      "text/plain": [
       "26"
      ]
     },
     "execution_count": 118,
     "metadata": {},
     "output_type": "execute_result"
    }
   ],
   "source": [
    "#display the first element accessing it from left\n",
    "n10[0]"
   ]
  },
  {
   "cell_type": "code",
   "execution_count": 114,
   "metadata": {},
   "outputs": [
    {
     "data": {
      "text/plain": [
       "array([26, 39, 34, 30])"
      ]
     },
     "execution_count": 114,
     "metadata": {},
     "output_type": "execute_result"
    }
   ],
   "source": [
    "n10[0:4]"
   ]
  },
  {
   "cell_type": "code",
   "execution_count": 122,
   "metadata": {},
   "outputs": [
    {
     "name": "stdout",
     "output_type": "stream",
     "text": [
      "[26 39 34 30 27 26 38 30 30 23]\n",
      "[26 39 34 30 27]\n",
      "[11881376 90224199 45435424 24300000 14348907]\n"
     ]
    }
   ],
   "source": [
    "# type your code here\n",
    "np.random.seed(42)\n",
    "\n",
    "n10 = np.random.randint(low=20,high=40,size=10)\n",
    "print(n10)\n",
    "n5 = n10[0:5]\n",
    "print(n5)\n",
    "n5 = np.power(n5, 5)\n",
    "print(n5)"
   ]
  },
  {
   "cell_type": "code",
   "execution_count": 119,
   "metadata": {},
   "outputs": [
    {
     "data": {
      "text/plain": [
       "11881376"
      ]
     },
     "execution_count": 119,
     "metadata": {},
     "output_type": "execute_result"
    }
   ],
   "source": [
    "26*26*26*26*26"
   ]
  },
  {
   "cell_type": "code",
   "execution_count": 120,
   "metadata": {},
   "outputs": [
    {
     "data": {
      "text/plain": [
       "676"
      ]
     },
     "execution_count": 120,
     "metadata": {},
     "output_type": "execute_result"
    }
   ],
   "source": [
    "26*26"
   ]
  },
  {
   "cell_type": "raw",
   "metadata": {},
   "source": [
    "1. Help me with concise and efficient way to create an array of even numbers between 50 and 100 using numpy's arange function with a step of 2. \n",
    "\n",
    "Here's the code snippet:"
   ]
  },
  {
   "cell_type": "code",
   "execution_count": 48,
   "metadata": {},
   "outputs": [
    {
     "name": "stdout",
     "output_type": "stream",
     "text": [
      "Array of even numbers between 50 and 100:\n",
      "[ 50  52  54  56  58  60  62  64  66  68  70  72  74  76  78  80  82  84\n",
      "  86  88  90  92  94  96  98 100]\n"
     ]
    }
   ],
   "source": [
    "import numpy as np\n",
    "\n",
    "# Create an array of even numbers between 50 and 100\n",
    "even_numbers = np.arange(50, 101, 2)\n",
    "\n",
    "print(\"Array of even numbers between 50 and 100:\")\n",
    "print(even_numbers)"
   ]
  },
  {
   "cell_type": "code",
   "execution_count": 124,
   "metadata": {},
   "outputs": [
    {
     "name": "stdout",
     "output_type": "stream",
     "text": [
      "Array of even numbers between 50 and 100:\n",
      "[ 50  60  70  80  90 100]\n"
     ]
    }
   ],
   "source": [
    "#increase it by 10 step\n",
    "import numpy as np\n",
    "\n",
    "# Create an array of even numbers between 50 and 100\n",
    "even_numbers = np.arange(50, 101, 10)\n",
    "\n",
    "print(\"Array of even numbers between 50 and 100:\")\n",
    "print(even_numbers)"
   ]
  },
  {
   "cell_type": "raw",
   "metadata": {},
   "source": [
    "2. Using np.arange and filtering:\n",
    "\n",
    "Here's the code snippet:"
   ]
  },
  {
   "cell_type": "code",
   "execution_count": 125,
   "metadata": {},
   "outputs": [
    {
     "name": "stdout",
     "output_type": "stream",
     "text": [
      "Array of even numbers between 50 and 100:\n",
      "[ 50  52  54  56  58  60  62  64  66  68  70  72  74  76  78  80  82  84\n",
      "  86  88  90  92  94  96  98 100]\n"
     ]
    }
   ],
   "source": [
    "# Generate even numbers between 50 and 100 using arange.\n",
    "\n",
    "import numpy as np\n",
    "\n",
    "# Create an array of numbers from 50 to 100\n",
    "numbers = np.arange(50, 101)\n",
    "\n",
    "# Filter out the even numbers\n",
    "even_numbers = numbers[numbers % 2 == 0]\n",
    "\n",
    "print(\"Array of even numbers between 50 and 100:\")\n",
    "print(even_numbers)"
   ]
  },
  {
   "cell_type": "code",
   "execution_count": 126,
   "metadata": {},
   "outputs": [
    {
     "name": "stdout",
     "output_type": "stream",
     "text": [
      "Array of even numbers between 50 and 100:\n",
      "[51 53 55 57 59 61 63 65 67 69 71 73 75 77 79 81 83 85 87 89 91 93 95 97\n",
      " 99]\n"
     ]
    }
   ],
   "source": [
    "# Generate odd numbers between 50 and 100 using arange.\n",
    "\n",
    "import numpy as np\n",
    "\n",
    "# Create an array of numbers from 50 to 100\n",
    "numbers = np.arange(50, 101)\n",
    "\n",
    "# Filter out the even numbers\n",
    "even_numbers = numbers[numbers % 2 != 0]\n",
    "\n",
    "print(\"Array of even numbers between 50 and 100:\")\n",
    "print(even_numbers)"
   ]
  },
  {
   "cell_type": "raw",
   "metadata": {},
   "source": [
    "3. Using np.linspace and filtering:\n",
    "    \n",
    "Here's the code snippet:"
   ]
  },
  {
   "cell_type": "code",
   "execution_count": 50,
   "metadata": {},
   "outputs": [
    {
     "name": "stdout",
     "output_type": "stream",
     "text": [
      "Array of even numbers between 50 and 100:\n",
      "[ 50.  52.  54.  56.  58.  60.  62.  64.  66.  68.  70.  72.  74.  76.\n",
      "  78.  80.  82.  84.  86.  88.  90.  92.  94.  96.  98. 100.]\n"
     ]
    }
   ],
   "source": [
    "import numpy as np\n",
    "\n",
    "# Create an array of numbers from 50 to 100 with a step of 1\n",
    "numbers = np.linspace(50, 100, 51)\n",
    "\n",
    "# Filter out the even numbers\n",
    "even_numbers = numbers[numbers % 2 == 0]\n",
    "\n",
    "print(\"Array of even numbers between 50 and 100:\")\n",
    "print(even_numbers)"
   ]
  },
  {
   "cell_type": "raw",
   "metadata": {},
   "source": [
    "4. Using list comprehension and np.array:"
   ]
  },
  {
   "cell_type": "code",
   "execution_count": 129,
   "metadata": {},
   "outputs": [
    {
     "name": "stdout",
     "output_type": "stream",
     "text": [
      "50\n",
      "51\n",
      "52\n",
      "53\n",
      "54\n",
      "55\n",
      "56\n",
      "57\n",
      "58\n",
      "59\n",
      "60\n",
      "61\n",
      "62\n",
      "63\n",
      "64\n",
      "65\n",
      "66\n",
      "67\n",
      "68\n"
     ]
    }
   ],
   "source": [
    "for num in range(50, 69):\n",
    "    print(num)"
   ]
  },
  {
   "cell_type": "code",
   "execution_count": 130,
   "metadata": {},
   "outputs": [
    {
     "data": {
      "text/plain": [
       "[50, 52, 54, 56, 58, 60, 62, 64, 66, 68]"
      ]
     },
     "execution_count": 130,
     "metadata": {},
     "output_type": "execute_result"
    }
   ],
   "source": [
    "[num for num in range(50, 69) if num%2 ==0]"
   ]
  },
  {
   "cell_type": "code",
   "execution_count": 133,
   "metadata": {},
   "outputs": [
    {
     "data": {
      "text/plain": [
       "[50, 52, 54, 56, 58, 60, 62, 64, 66, 68]"
      ]
     },
     "execution_count": 133,
     "metadata": {},
     "output_type": "execute_result"
    }
   ],
   "source": [
    "even = [num for num in range(50, 69) if num%2 ==0]\n",
    "even"
   ]
  },
  {
   "cell_type": "code",
   "execution_count": 134,
   "metadata": {},
   "outputs": [
    {
     "name": "stdout",
     "output_type": "stream",
     "text": [
      "Array of even numbers between 50 and 100:\n",
      "[ 50  52  54  56  58  60  62  64  66  68  70  72  74  76  78  80  82  84\n",
      "  86  88  90  92  94  96  98 100]\n"
     ]
    }
   ],
   "source": [
    "import numpy as np\n",
    "\n",
    "# Create a list of even numbers between 50 and 100\n",
    "even_numbers_list = [num for num in range(50, 101) if num % 2 == 0]\n",
    "\n",
    "# Convert the list to a numpy array\n",
    "even_numbers = np.array(even_numbers_list)\n",
    "\n",
    "print(\"Array of even numbers between 50 and 100:\")\n",
    "print(even_numbers)"
   ]
  },
  {
   "cell_type": "markdown",
   "metadata": {},
   "source": [
    "<table align=\"left\">\n",
    "    <tr>\n",
    "        <td width=\"6%\">\n",
    "            <img src=\"../images/RA_Logo.png\">\n",
    "        </td>\n",
    "        <td>\n",
    "            <div align=\"left\", style=\"font-size:120%\">\n",
    "                <font color=\"#21618C\">\n",
    "                    <b>5. Write a program to create an array of all the odd integers from 50 to 100 \n",
    "                    </b>\n",
    "                </font>\n",
    "            </div>\n",
    "        </td>\n",
    "    </tr>\n",
    "</table>"
   ]
  },
  {
   "cell_type": "code",
   "execution_count": 5,
   "metadata": {},
   "outputs": [
    {
     "name": "stdout",
     "output_type": "stream",
     "text": [
      "[51 53 55 57 59 61 63 65 67 69 71 73 75 77 79 81 83 85 87 89 91 93 95 97\n",
      " 99]\n"
     ]
    }
   ],
   "source": [
    "# type your code here\n",
    "\n",
    "n11 = np.arange(50, 100)\n",
    "n11 = n11[n11%2 == 1]\n",
    "print(n11)"
   ]
  },
  {
   "cell_type": "code",
   "execution_count": 135,
   "metadata": {},
   "outputs": [
    {
     "name": "stdout",
     "output_type": "stream",
     "text": [
      "[51 53 55 57 59 61 63 65 67 69 71 73 75 77 79 81 83 85 87 89 91 93 95 97\n",
      " 99]\n"
     ]
    }
   ],
   "source": [
    "# type your code here\n",
    "\n",
    "n11 = np.arange(50, 100)\n",
    "n11 = n11[n11%2 != 0]\n",
    "print(n11)"
   ]
  },
  {
   "cell_type": "markdown",
   "metadata": {},
   "source": [
    "<table align=\"left\">\n",
    "    <tr>\n",
    "        <td width=\"6%\">\n",
    "            <img src=\"../images/RA_Logo.png\">\n",
    "        </td>\n",
    "        <td>\n",
    "            <div align=\"left\", style=\"font-size:120%\">\n",
    "                <font color=\"#21618C\">\n",
    "                    <b>6. Write a program to calculate the sum of each column </b>\n",
    "                </font>\n",
    "            </div>\n",
    "        </td>\n",
    "    </tr>\n",
    "</table>"
   ]
  },
  {
   "cell_type": "markdown",
   "metadata": {},
   "source": [
    "**Use the array given below: (or create your own array)**\n",
    "\n",
    "A = [[1, 4, 8], [5, 7, 3], [9, 14, 2]]"
   ]
  },
  {
   "cell_type": "code",
   "execution_count": 52,
   "metadata": {},
   "outputs": [
    {
     "name": "stdout",
     "output_type": "stream",
     "text": [
      "[[ 1  4  8]\n",
      " [ 5  7  3]\n",
      " [ 9 14  2]]\n",
      "The sum of each column [15 25 13]\n"
     ]
    }
   ],
   "source": [
    "# type your code here\n",
    "\n",
    "A = [[1, 4, 8], [5, 7, 3], [9, 14, 2]]\n",
    "\n",
    "n11_arr = np.array(A)\n",
    "print(n11_arr)\n",
    "n11_arr_sum = np.sum(n11_arr, axis = 0)\n",
    "print('The sum of each column', n11_arr_sum)"
   ]
  },
  {
   "cell_type": "markdown",
   "metadata": {},
   "source": [
    "<table align=\"left\">\n",
    "    <tr>\n",
    "        <td width=\"6%\">\n",
    "            <img src=\"../images/RA_Logo.png\">\n",
    "        </td>\n",
    "        <td>\n",
    "            <div align=\"left\", style=\"font-size:120%\">\n",
    "                <font color=\"#21618C\">\n",
    "                    <b>7. Write a code to get the element-wise remainder of an array after division by 8  \n",
    "                    </b>\n",
    "                </font>\n",
    "            </div>\n",
    "        </td>\n",
    "    </tr>\n",
    "</table>"
   ]
  },
  {
   "cell_type": "markdown",
   "metadata": {},
   "source": [
    "**Use the list given below:**<br>\n",
    "    \n",
    "num = [42, 87, 90, 14, 32, 75, 61, 80, 92]"
   ]
  },
  {
   "cell_type": "code",
   "execution_count": 8,
   "metadata": {},
   "outputs": [
    {
     "name": "stdout",
     "output_type": "stream",
     "text": [
      "[42 87 90 14 32 75 61 80 92]\n",
      "[2 7 2 6 0 3 5 0 4]\n"
     ]
    }
   ],
   "source": [
    "# type your code here\n",
    "\n",
    "num = [42, 87, 90, 14, 32, 75, 61, 80, 92]\n",
    "num_array_rem = np.array(num)\n",
    "print(num_array_rem)\n",
    "num_array_rem = np.remainder(num_array_rem, 8)\n",
    "print(num_array_rem)\n",
    "\n"
   ]
  },
  {
   "cell_type": "markdown",
   "metadata": {},
   "source": [
    "<a id=\"2D\"> </a>\n",
    "## 2. Two Dimensional Array"
   ]
  },
  {
   "cell_type": "raw",
   "metadata": {},
   "source": [
    "rows, columns"
   ]
  },
  {
   "cell_type": "raw",
   "metadata": {},
   "source": [
    "11 22 33 44\n",
    "55 66 77 88\n",
    "99 00 10 20"
   ]
  },
  {
   "cell_type": "code",
   "execution_count": 232,
   "metadata": {},
   "outputs": [
    {
     "data": {
      "text/plain": [
       "[[11, 22, 33, 44], [55, 66, 77, 88], [99, 0, 10, 20]]"
      ]
     },
     "execution_count": 232,
     "metadata": {},
     "output_type": "execute_result"
    }
   ],
   "source": [
    "[   \n",
    "    [11, 22, 33, 44],\n",
    "    [55, 66, 77, 88],\n",
    "    [99, 00, 10, 20]\n",
    "]"
   ]
  },
  {
   "cell_type": "code",
   "execution_count": 234,
   "metadata": {},
   "outputs": [
    {
     "data": {
      "text/plain": [
       "[[11, 22, 33, 44], [55, 66, 77, 88], [99, 0, 10, 20]]"
      ]
     },
     "execution_count": 234,
     "metadata": {},
     "output_type": "execute_result"
    }
   ],
   "source": [
    "list34 = [   \n",
    "    [11, 22, 33, 44],\n",
    "    [55, 66, 77, 88],\n",
    "    [99, 00, 10, 20]\n",
    "]\n",
    "list34"
   ]
  },
  {
   "cell_type": "code",
   "execution_count": 138,
   "metadata": {},
   "outputs": [
    {
     "data": {
      "text/plain": [
       "[[11, 22, 33, 44], [55, 66, 77, 88], [99, 0, 10, 20]]"
      ]
     },
     "execution_count": 138,
     "metadata": {},
     "output_type": "execute_result"
    }
   ],
   "source": [
    "list34 = [[11, 22, 33, 44], [55, 66, 77, 88], [99, 00, 10, 20]]\n",
    "list34"
   ]
  },
  {
   "cell_type": "code",
   "execution_count": 235,
   "metadata": {},
   "outputs": [
    {
     "data": {
      "text/plain": [
       "array([[11, 22, 33, 44],\n",
       "       [55, 66, 77, 88],\n",
       "       [99,  0, 10, 20]])"
      ]
     },
     "execution_count": 235,
     "metadata": {},
     "output_type": "execute_result"
    }
   ],
   "source": [
    "np.array(list34)"
   ]
  },
  {
   "cell_type": "code",
   "execution_count": 140,
   "metadata": {},
   "outputs": [
    {
     "data": {
      "text/plain": [
       "array([[11, 22, 33, 44],\n",
       "       [55, 66, 77, 88],\n",
       "       [99,  0, 10, 20]])"
      ]
     },
     "execution_count": 140,
     "metadata": {},
     "output_type": "execute_result"
    }
   ],
   "source": [
    "n34 = np.array(list34)\n",
    "n34"
   ]
  },
  {
   "cell_type": "code",
   "execution_count": 259,
   "metadata": {},
   "outputs": [
    {
     "name": "stdout",
     "output_type": "stream",
     "text": [
      "2\n",
      "\n",
      "(3, 4)\n",
      "\n",
      "12\n",
      "\n",
      "8\n",
      "\n",
      "int64\n",
      "\n",
      "96\n",
      "\n"
     ]
    }
   ],
   "source": [
    "list34 = [[11, 22, 33, 44], [55, 66, 77, 88], [99, 00, 10, 2**16]]\n",
    "\n",
    "n34 = np.array(list34)\n",
    "\n",
    "print(n34.ndim)\n",
    "print()\n",
    "print(n34.shape)\n",
    "print()\n",
    "print(n34.size)\n",
    "print()\n",
    "print(n34.itemsize)\n",
    "print()\n",
    "print(n34.dtype)\n",
    "print()\n",
    "print(n34.size * n34.itemsize) #total memory occupied\n",
    "print()"
   ]
  },
  {
   "cell_type": "code",
   "execution_count": 245,
   "metadata": {},
   "outputs": [
    {
     "data": {
      "text/plain": [
       "65536"
      ]
     },
     "execution_count": 245,
     "metadata": {},
     "output_type": "execute_result"
    }
   ],
   "source": [
    "2**16"
   ]
  },
  {
   "cell_type": "code",
   "execution_count": 152,
   "metadata": {},
   "outputs": [
    {
     "name": "stdout",
     "output_type": "stream",
     "text": [
      "2\n",
      "(3, 4)\n",
      "12\n",
      "84\n",
      "<U21\n",
      "1008\n"
     ]
    }
   ],
   "source": [
    "list34 = [[11, 22, 33, 44], [55, 66, 77, 88], [99, \"hello\", 10, 256]]\n",
    "n34 = np.array(list34)\n",
    "print(n34.ndim)\n",
    "print(n34.shape)\n",
    "print(n34.size)\n",
    "print(n34.itemsize)\n",
    "print(n34.dtype)\n",
    "print(n34.size * n34.itemsize) #total memory occupied"
   ]
  },
  {
   "cell_type": "code",
   "execution_count": null,
   "metadata": {},
   "outputs": [],
   "source": [
    "Unicode "
   ]
  },
  {
   "cell_type": "code",
   "execution_count": 260,
   "metadata": {},
   "outputs": [
    {
     "data": {
      "text/plain": [
       "1267650600228229401496703205376"
      ]
     },
     "execution_count": 260,
     "metadata": {},
     "output_type": "execute_result"
    }
   ],
   "source": [
    "2**100"
   ]
  },
  {
   "cell_type": "code",
   "execution_count": 262,
   "metadata": {},
   "outputs": [
    {
     "data": {
      "text/plain": [
       "18446744073709551616"
      ]
     },
     "execution_count": 262,
     "metadata": {},
     "output_type": "execute_result"
    }
   ],
   "source": [
    "2**64"
   ]
  },
  {
   "cell_type": "code",
   "execution_count": 154,
   "metadata": {},
   "outputs": [
    {
     "name": "stdout",
     "output_type": "stream",
     "text": [
      "2\n",
      "(3, 4)\n",
      "12\n",
      "8\n",
      "object\n",
      "96\n"
     ]
    }
   ],
   "source": [
    "list34 = [[11, 22, 33, 44], [55, 66, 77, 88], [99, 2**100, 10, 256]]\n",
    "n34 = np.array(list34)\n",
    "print(n34.ndim)\n",
    "print(n34.shape)\n",
    "print(n34.size)\n",
    "print(n34.itemsize)\n",
    "print(n34.dtype)\n",
    "print(n34.size * n34.itemsize) #total memory occupied"
   ]
  },
  {
   "cell_type": "code",
   "execution_count": 157,
   "metadata": {},
   "outputs": [
    {
     "data": {
      "text/plain": [
       "array([ 0,  1,  2,  3,  4,  5,  6,  7,  8,  9, 10, 11, 12, 13, 14, 15, 16,\n",
       "       17, 18, 19])"
      ]
     },
     "execution_count": 157,
     "metadata": {},
     "output_type": "execute_result"
    }
   ],
   "source": [
    "np.arange(20)"
   ]
  },
  {
   "cell_type": "code",
   "execution_count": 263,
   "metadata": {},
   "outputs": [
    {
     "name": "stdout",
     "output_type": "stream",
     "text": [
      "[ 0  1  2  3  4  5  6  7  8  9 10 11 12 13 14 15 16 17 18 19]\n",
      "(20,)\n"
     ]
    }
   ],
   "source": [
    "np.arange(20)\n",
    "n45 = np.arange(20)\n",
    "print(n45)\n",
    "print(n45.shape)"
   ]
  },
  {
   "cell_type": "code",
   "execution_count": 264,
   "metadata": {},
   "outputs": [
    {
     "data": {
      "text/plain": [
       "array([ 0,  1,  2,  3,  4,  5,  6,  7,  8,  9, 10, 11, 12, 13, 14, 15, 16,\n",
       "       17, 18, 19])"
      ]
     },
     "execution_count": 264,
     "metadata": {},
     "output_type": "execute_result"
    }
   ],
   "source": [
    "n45"
   ]
  },
  {
   "cell_type": "code",
   "execution_count": 266,
   "metadata": {},
   "outputs": [
    {
     "data": {
      "text/plain": [
       "array([[ 0,  1,  2,  3,  4],\n",
       "       [ 5,  6,  7,  8,  9],\n",
       "       [10, 11, 12, 13, 14],\n",
       "       [15, 16, 17, 18, 19]])"
      ]
     },
     "execution_count": 266,
     "metadata": {},
     "output_type": "execute_result"
    }
   ],
   "source": [
    "n45.reshape(4, 5)"
   ]
  },
  {
   "cell_type": "code",
   "execution_count": 267,
   "metadata": {},
   "outputs": [
    {
     "data": {
      "text/plain": [
       "array([[ 0,  1,  2,  3],\n",
       "       [ 4,  5,  6,  7],\n",
       "       [ 8,  9, 10, 11],\n",
       "       [12, 13, 14, 15],\n",
       "       [16, 17, 18, 19]])"
      ]
     },
     "execution_count": 267,
     "metadata": {},
     "output_type": "execute_result"
    }
   ],
   "source": [
    "n45.reshape(5, 4)"
   ]
  },
  {
   "cell_type": "code",
   "execution_count": 271,
   "metadata": {},
   "outputs": [
    {
     "data": {
      "text/plain": [
       "array([[ 0,  1,  2,  3,  4,  5,  6,  7,  8,  9, 10, 11, 12, 13, 14, 15,\n",
       "        16, 17, 18, 19]])"
      ]
     },
     "execution_count": 271,
     "metadata": {},
     "output_type": "execute_result"
    }
   ],
   "source": [
    "n120 = np.arange(20).reshape(1, 20)\n",
    "n120"
   ]
  },
  {
   "cell_type": "code",
   "execution_count": 158,
   "metadata": {},
   "outputs": [
    {
     "data": {
      "text/plain": [
       "array([[ 0,  1,  2,  3,  4],\n",
       "       [ 5,  6,  7,  8,  9],\n",
       "       [10, 11, 12, 13, 14],\n",
       "       [15, 16, 17, 18, 19]])"
      ]
     },
     "execution_count": 158,
     "metadata": {},
     "output_type": "execute_result"
    }
   ],
   "source": [
    "n45.reshape(4, 5)"
   ]
  },
  {
   "cell_type": "code",
   "execution_count": null,
   "metadata": {},
   "outputs": [],
   "source": [
    "n201.reshape(20, 1)\n",
    "n45"
   ]
  },
  {
   "cell_type": "code",
   "execution_count": 167,
   "metadata": {},
   "outputs": [
    {
     "name": "stdout",
     "output_type": "stream",
     "text": [
      "(4, 5)\n",
      "[[ 0  1  2  3  4]\n",
      " [ 5  6  7  8  9]\n",
      " [10 11 12 13 14]\n",
      " [15 16 17 18 19]]\n"
     ]
    }
   ],
   "source": [
    "n45 = np.arange(20).reshape(4, 5)\n",
    "print(n45.shape)\n",
    "print(n45)"
   ]
  },
  {
   "cell_type": "code",
   "execution_count": 164,
   "metadata": {},
   "outputs": [
    {
     "data": {
      "text/plain": [
       "array([[ 0,  1,  2,  3],\n",
       "       [ 4,  5,  6,  7],\n",
       "       [ 8,  9, 10, 11],\n",
       "       [12, 13, 14, 15],\n",
       "       [16, 17, 18, 19]])"
      ]
     },
     "execution_count": 164,
     "metadata": {},
     "output_type": "execute_result"
    }
   ],
   "source": [
    "# 5 rows with 4 columns\n",
    "np.arange(20).reshape(5, 4)"
   ]
  },
  {
   "cell_type": "code",
   "execution_count": 165,
   "metadata": {},
   "outputs": [
    {
     "data": {
      "text/plain": [
       "array([[ 0,  1,  2,  3],\n",
       "       [ 4,  5,  6,  7],\n",
       "       [ 8,  9, 10, 11],\n",
       "       [12, 13, 14, 15],\n",
       "       [16, 17, 18, 19]])"
      ]
     },
     "execution_count": 165,
     "metadata": {},
     "output_type": "execute_result"
    }
   ],
   "source": [
    "n54 = np.arange(20).reshape(5, 4)\n",
    "n54"
   ]
  },
  {
   "cell_type": "code",
   "execution_count": 163,
   "metadata": {},
   "outputs": [
    {
     "data": {
      "text/plain": [
       "array([[ 0,  1,  2,  3,  4,  5,  6,  7,  8,  9, 10, 11, 12, 13, 14, 15,\n",
       "        16, 17, 18, 19]])"
      ]
     },
     "execution_count": 163,
     "metadata": {},
     "output_type": "execute_result"
    }
   ],
   "source": [
    "#1 row with 20 columns\n",
    "np.arange(20).reshape(1, 20)"
   ]
  },
  {
   "cell_type": "code",
   "execution_count": 159,
   "metadata": {},
   "outputs": [
    {
     "name": "stdout",
     "output_type": "stream",
     "text": [
      "[[ 0  1  2  3  4]\n",
      " [ 5  6  7  8  9]\n",
      " [10 11 12 13 14]\n",
      " [15 16 17 18 19]]\n",
      "(4, 5)\n"
     ]
    }
   ],
   "source": [
    "np.arange(20)\n",
    "n45 = np.arange(20).reshape(4, 5)\n",
    "print(n45)\n",
    "print(n45.shape)"
   ]
  },
  {
   "cell_type": "code",
   "execution_count": 174,
   "metadata": {},
   "outputs": [
    {
     "data": {
      "text/plain": [
       "array([[[ 0,  1],\n",
       "        [ 2,  3]],\n",
       "\n",
       "       [[ 4,  5],\n",
       "        [ 6,  7]],\n",
       "\n",
       "       [[ 8,  9],\n",
       "        [10, 11]],\n",
       "\n",
       "       [[12, 13],\n",
       "        [14, 15]],\n",
       "\n",
       "       [[16, 17],\n",
       "        [18, 19]]])"
      ]
     },
     "execution_count": 174,
     "metadata": {},
     "output_type": "execute_result"
    }
   ],
   "source": [
    "# 3 dimensional\n",
    "n522 = np.arange(20).reshape(5, 2, 2)\n",
    "n522"
   ]
  },
  {
   "cell_type": "code",
   "execution_count": null,
   "metadata": {},
   "outputs": [],
   "source": [
    "#axix = 0 - 2 rows\n",
    "#axis = 1 - 2 columns\n",
    "#axis = 2 - 5 depth"
   ]
  },
  {
   "cell_type": "code",
   "execution_count": 176,
   "metadata": {},
   "outputs": [
    {
     "name": "stdout",
     "output_type": "stream",
     "text": [
      "Current directory: /Users/vidyadharbendre/workspace/advanced_python/learn_advanced_python_using_examples/notebooks/Advanced\n",
      "Image path: ../images/numpy_5_2_2.png\n"
     ]
    },
    {
     "data": {
      "image/png": "[encoded data removed]",
      "text/plain": [
       "<IPython.core.display.Image object>"
      ]
     },
     "metadata": {},
     "output_type": "display_data"
    }
   ],
   "source": [
    "import os\n",
    "from IPython.display import Image, display\n",
    "\n",
    "# Get current directory\n",
    "current_dir = os.getcwd()\n",
    "print(f\"Current directory: {current_dir}\")\n",
    "\n",
    "# Build path to the image in the data folder\n",
    "image_path = os.path.join(\"../images\", \"numpy_5_2_2.png\")\n",
    "print(f\"Image path: {image_path}\")\n",
    "\n",
    "# Display the image\n",
    "display(Image(image_path))"
   ]
  },
  {
   "cell_type": "code",
   "execution_count": null,
   "metadata": {},
   "outputs": [],
   "source": [
    "[\n",
    "    \n",
    "    [\n",
    "        [0, 1],[2, 3]\n",
    "    ],\n",
    "    [ [], []],\n",
    "    [ [], []],\n",
    "    [[], []],\n",
    "    [[16, 17], [18, 19]]\n",
    " \n",
    "    \n",
    "]"
   ]
  },
  {
   "cell_type": "code",
   "execution_count": 179,
   "metadata": {},
   "outputs": [
    {
     "name": "stdout",
     "output_type": "stream",
     "text": [
      "(5, 2, 2)\n",
      "[[[ 0  1]\n",
      "  [ 2  3]]\n",
      "\n",
      " [[ 4  5]\n",
      "  [ 6  7]]\n",
      "\n",
      " [[ 8  9]\n",
      "  [10 11]]\n",
      "\n",
      " [[12 13]\n",
      "  [14 15]]\n",
      "\n",
      " [[16 17]\n",
      "  [18 19]]]\n"
     ]
    }
   ],
   "source": [
    "list522 = [\n",
    "    [[0, 1], [2, 3]],\n",
    "    [[4, 5], [6,7]],\n",
    "    [[8, 9], [10, 11]],\n",
    "    [[12, 13], [14, 15]],\n",
    "    [[16, 17], [18, 19]]\n",
    "    \n",
    "]\n",
    "n522 = np.array(list522)\n",
    "print(n522.shape)\n",
    "print()\n",
    "print(n522)\n",
    "print()"
   ]
  },
  {
   "cell_type": "code",
   "execution_count": 272,
   "metadata": {},
   "outputs": [
    {
     "data": {
      "text/plain": [
       "16"
      ]
     },
     "execution_count": 272,
     "metadata": {},
     "output_type": "execute_result"
    }
   ],
   "source": [
    "n522[4, 0, 0]"
   ]
  },
  {
   "cell_type": "code",
   "execution_count": 273,
   "metadata": {},
   "outputs": [
    {
     "data": {
      "text/plain": [
       "17"
      ]
     },
     "execution_count": 273,
     "metadata": {},
     "output_type": "execute_result"
    }
   ],
   "source": [
    "n522[4, 0, 1]"
   ]
  },
  {
   "cell_type": "code",
   "execution_count": 274,
   "metadata": {},
   "outputs": [
    {
     "data": {
      "text/plain": [
       "19"
      ]
     },
     "execution_count": 274,
     "metadata": {},
     "output_type": "execute_result"
    }
   ],
   "source": [
    "n522[4, 1, 1]"
   ]
  },
  {
   "cell_type": "markdown",
   "metadata": {},
   "source": [
    "In NumPy, the np.flatten() method is used to convert a multi-dimensional array into a one-dimensional array (flattened array)."
   ]
  },
  {
   "cell_type": "code",
   "execution_count": 160,
   "metadata": {},
   "outputs": [
    {
     "data": {
      "text/plain": [
       "array([ 0,  1,  2,  3,  4,  5,  6,  7,  8,  9, 10, 11, 12, 13, 14, 15, 16,\n",
       "       17, 18, 19])"
      ]
     },
     "execution_count": 160,
     "metadata": {},
     "output_type": "execute_result"
    }
   ],
   "source": [
    "n45.flatten()"
   ]
  },
  {
   "cell_type": "code",
   "execution_count": 276,
   "metadata": {},
   "outputs": [
    {
     "data": {
      "text/plain": [
       "array([ 0,  1,  2,  3,  4,  5,  6,  7,  8,  9, 10, 11, 12, 13, 14, 15, 16,\n",
       "       17, 18, 19])"
      ]
     },
     "execution_count": 276,
     "metadata": {},
     "output_type": "execute_result"
    }
   ],
   "source": [
    "n522.flatten()"
   ]
  },
  {
   "cell_type": "markdown",
   "metadata": {},
   "source": [
    "<table align=\"left\">\n",
    "    <tr>\n",
    "        <td width=\"6%\">\n",
    "            <img src=\"../images/RA_Logo.png\">\n",
    "        </td>\n",
    "        <td>\n",
    "            <div align=\"left\", style=\"font-size:120%\">\n",
    "                <font color=\"#21618C\">\n",
    "                    <b>8. Create a 2D numpy array from a 1D array of 20 elements of your choice. Further, subset the first 5 elements from the second element of a resulting 2D array \n",
    "                    </b>\n",
    "                </font>\n",
    "            </div>\n",
    "        </td>\n",
    "    </tr>\n",
    "</table>"
   ]
  },
  {
   "cell_type": "code",
   "execution_count": 168,
   "metadata": {},
   "outputs": [
    {
     "data": {
      "text/plain": [
       "array([ 0,  1,  2,  3,  4,  5,  6,  7,  8,  9, 10, 11, 12, 13, 14, 15, 16,\n",
       "       17, 18, 19])"
      ]
     },
     "execution_count": 168,
     "metadata": {},
     "output_type": "execute_result"
    }
   ],
   "source": [
    "# type your code here\n",
    "np.arange(0,20)"
   ]
  },
  {
   "cell_type": "code",
   "execution_count": 169,
   "metadata": {},
   "outputs": [
    {
     "data": {
      "text/plain": [
       "array([[ 0,  1,  2,  3,  4],\n",
       "       [ 5,  6,  7,  8,  9],\n",
       "       [10, 11, 12, 13, 14],\n",
       "       [15, 16, 17, 18, 19]])"
      ]
     },
     "execution_count": 169,
     "metadata": {},
     "output_type": "execute_result"
    }
   ],
   "source": [
    "np.arange(0,20).reshape(4, 5)"
   ]
  },
  {
   "cell_type": "code",
   "execution_count": 170,
   "metadata": {},
   "outputs": [
    {
     "data": {
      "text/plain": [
       "(4, 5)"
      ]
     },
     "execution_count": 170,
     "metadata": {},
     "output_type": "execute_result"
    }
   ],
   "source": [
    "array_2D = np.arange(0,20).reshape(4, 5)\n",
    "array_2D.shape"
   ]
  },
  {
   "cell_type": "code",
   "execution_count": 10,
   "metadata": {},
   "outputs": [
    {
     "name": "stdout",
     "output_type": "stream",
     "text": [
      "[[ 0  1  2  3  4]\n",
      " [ 5  6  7  8  9]\n",
      " [10 11 12 13 14]\n",
      " [15 16 17 18 19]]\n",
      "[1 2 3 4 5]\n"
     ]
    }
   ],
   "source": [
    "array_2D = np.arange(0,20).reshape(4,5)\n",
    "print(array_2D)\n",
    "\n",
    "b = array_2D.flatten()\n",
    "print(b[1:6])"
   ]
  },
  {
   "cell_type": "markdown",
   "metadata": {},
   "source": [
    "<table align=\"left\">\n",
    "    <tr>\n",
    "        <td width=\"6%\">\n",
    "            <img src=\"../images/RA_Logo.png\">\n",
    "        </td>\n",
    "        <td>\n",
    "            <div align=\"left\", style=\"font-size:120%\">\n",
    "                <font color=\"#21618C\">\n",
    "                    <b>9. Write a program to find common values between two arrays \n",
    "                    </b>\n",
    "                </font>\n",
    "            </div>\n",
    "        </td>\n",
    "    </tr>\n",
    "</table>"
   ]
  },
  {
   "cell_type": "markdown",
   "metadata": {},
   "source": [
    "**Use the lists given below:**<br>\n",
    "\n",
    "array1 = [10, 30, 50, 60, 90]\n",
    "\n",
    "array2 = [50, 20, 80, 125, 10, 70]"
   ]
  },
  {
   "cell_type": "code",
   "execution_count": 11,
   "metadata": {},
   "outputs": [],
   "source": [
    "# type your code here"
   ]
  },
  {
   "cell_type": "code",
   "execution_count": 12,
   "metadata": {},
   "outputs": [
    {
     "name": "stdout",
     "output_type": "stream",
     "text": [
      "[10 50]\n"
     ]
    }
   ],
   "source": [
    "array1 = [10, 30, 50, 60, 90]\n",
    "array2 = [50, 20, 80, 125, 10, 70]\n",
    "\n",
    "np.intersect1d(array1, array2)\n",
    "print(np.intersect1d(array1, array2))\n"
   ]
  },
  {
   "cell_type": "markdown",
   "metadata": {},
   "source": [
    "<table align=\"left\">\n",
    "    <tr>\n",
    "        <td width=\"6%\">\n",
    "            <img src=\"../images/RA_Logo.png\">\n",
    "        </td>\n",
    "        <td>\n",
    "            <div align=\"left\", style=\"font-size:120%\">\n",
    "                <font color=\"#21618C\">\n",
    "                    <b>10. Write a program to find BMI of the patients whose height and weight is provided in the list given below \n",
    "                    </b>\n",
    "                </font>\n",
    "            </div>\n",
    "        </td>\n",
    "    </tr>\n",
    "</table>"
   ]
  },
  {
   "cell_type": "markdown",
   "metadata": {},
   "source": [
    "**Use the lists given below:**<br>\n",
    "\n",
    "list of weights (in kg)\n",
    "weights = [57, 69, 54, 65 ,71, 62, 56]\n",
    "\n",
    "list of heights (in m)<br>\n",
    "heights = [1.59, 1.75, 1.66, 1.74, 1.64, 1.72, 1.53] "
   ]
  },
  {
   "cell_type": "code",
   "execution_count": 13,
   "metadata": {},
   "outputs": [
    {
     "name": "stdout",
     "output_type": "stream",
     "text": [
      "[22.54657648 22.53061224 19.59645812 21.46915048 26.39797739 20.9572742\n",
      " 23.922423  ]\n",
      "[22.55 22.53 19.6  21.47 26.4  20.96 23.92]\n"
     ]
    }
   ],
   "source": [
    "# type your code here\n",
    "weights = [57, 69, 54, 65 ,71, 62, 56]\n",
    "heights = [1.59, 1.75, 1.66, 1.74, 1.64, 1.72, 1.53]\n",
    "np_weights = np.array(weights)\n",
    "np_heights = np.array(heights)\n",
    "bmi = np_weights/np_heights**2\n",
    "print(bmi)\n",
    "bmi = np.round(bmi,2)\n",
    "print(bmi)"
   ]
  },
  {
   "cell_type": "code",
   "execution_count": null,
   "metadata": {},
   "outputs": [],
   "source": []
  },
  {
   "cell_type": "markdown",
   "metadata": {},
   "source": [
    "<table align=\"left\">\n",
    "    <tr>\n",
    "        <td width=\"6%\">\n",
    "            <img src=\"../images/RA_Logo.png\">\n",
    "        </td>\n",
    "        <td>\n",
    "            <div align=\"left\", style=\"font-size:120%\">\n",
    "                <font color=\"#21618C\">\n",
    "                    <b>11. Write a program to add a new column ([5,7]) at the last position in the array given below \n",
    "                    </b>\n",
    "                </font>\n",
    "            </div>\n",
    "        </td>\n",
    "    </tr>\n",
    "</table>"
   ]
  },
  {
   "cell_type": "markdown",
   "metadata": {},
   "source": [
    "**Use the array given below:**\n",
    "\n",
    "array1 = [[[3, 4], [8, 2],[5, 9]]]"
   ]
  },
  {
   "cell_type": "code",
   "execution_count": 14,
   "metadata": {},
   "outputs": [],
   "source": [
    "# type your code here"
   ]
  },
  {
   "cell_type": "code",
   "execution_count": 15,
   "metadata": {},
   "outputs": [
    {
     "name": "stdout",
     "output_type": "stream",
     "text": [
      "(1, 3, 2)\n",
      "[[[3 4]\n",
      "  [8 2]\n",
      "  [5 9]]]\n",
      "(1, 1, 2)\n",
      "[[[5 7]]]\n",
      "[[[3 4]\n",
      "  [8 2]\n",
      "  [5 9]\n",
      "  [5 7]]]\n"
     ]
    }
   ],
   "source": [
    "array1 = [[[3, 4], [8, 2],[5, 9]]]\n",
    "a = np.array(array1)\n",
    "print(a.shape)\n",
    "print(a)\n",
    "\n",
    "b = np.array([[[5,7]]])\n",
    "print(b.shape)\n",
    "print(b)\n",
    "\n",
    "new_array1 = np.append(a, b, axis = 1)\n",
    "print(new_array1)\n"
   ]
  },
  {
   "cell_type": "markdown",
   "metadata": {},
   "source": [
    "<table align=\"left\">\n",
    "    <tr>\n",
    "        <td width=\"6%\">\n",
    "            <img src=\"question_icon.png\">\n",
    "        </td>\n",
    "        <td>\n",
    "            <div align=\"left\", style=\"font-size:120%\">\n",
    "                <font color=\"#21618C\">\n",
    "                    <b>12. Write a code to print the identity matrix of order 5</b>\n",
    "                </font>\n",
    "            </div>\n",
    "        </td>\n",
    "    </tr>\n",
    "</table>"
   ]
  },
  {
   "cell_type": "code",
   "execution_count": 16,
   "metadata": {},
   "outputs": [
    {
     "name": "stdout",
     "output_type": "stream",
     "text": [
      "[[1. 0. 0. 0. 0.]\n",
      " [0. 1. 0. 0. 0.]\n",
      " [0. 0. 1. 0. 0.]\n",
      " [0. 0. 0. 1. 0.]\n",
      " [0. 0. 0. 0. 1.]]\n"
     ]
    }
   ],
   "source": [
    "# type your code here\n",
    "import numpy as np\n",
    "a = np.identity(5)\n",
    "print(a)\n",
    "\n",
    "\n"
   ]
  },
  {
   "cell_type": "markdown",
   "metadata": {},
   "source": [
    "<table align=\"left\">\n",
    "    <tr>\n",
    "        <td width=\"6%\">\n",
    "            <img src=\"../images/RA_Logo.png\">\n",
    "        </td>\n",
    "        <td>\n",
    "            <div align=\"left\", style=\"font-size:120%\">\n",
    "                <font color=\"#21618C\">\n",
    "                    <b>13. Write a program to transpose a matrix \n",
    "                    </b>\n",
    "                </font>\n",
    "            </div>\n",
    "        </td>\n",
    "    </tr>\n",
    "</table>"
   ]
  },
  {
   "cell_type": "markdown",
   "metadata": {},
   "source": [
    "**Use the matrix given below:**\n",
    "    \n",
    "M = [[15, 17, 45, 56], [7, 42, 15, 63], [54, 3, 61, 41], [0, 87, 16, 20]]"
   ]
  },
  {
   "cell_type": "code",
   "execution_count": 17,
   "metadata": {},
   "outputs": [
    {
     "name": "stdout",
     "output_type": "stream",
     "text": [
      "(4, 4)\n",
      "[[15 17 45 56]\n",
      " [ 7 42 15 63]\n",
      " [54  3 61 41]\n",
      " [ 0 87 16 20]]\n",
      "Transpose\n",
      "[[15  7 54  0]\n",
      " [17 42  3 87]\n",
      " [45 15 61 16]\n",
      " [56 63 41 20]]\n"
     ]
    }
   ],
   "source": [
    "# type your code here\n",
    "M = [[15, 17, 45, 56], [7, 42, 15, 63], [54, 3, 61, 41], [0, 87, 16, 20]]\n",
    "\n",
    "np_M = np.array(M)\n",
    "print(np_M.shape)\n",
    "print(np_M)\n",
    "np_M_T = np_M.transpose()\n",
    "print('Transpose')\n",
    "print(np_M_T)\n",
    "\n",
    "\n",
    "\n"
   ]
  },
  {
   "cell_type": "markdown",
   "metadata": {},
   "source": [
    "<a id=\"Stacking\"> </a>\n",
    "## 3. Stacking"
   ]
  },
  {
   "cell_type": "markdown",
   "metadata": {},
   "source": [
    "<table align=\"left\">\n",
    "    <tr>\n",
    "        <td width=\"6%\">\n",
    "            <img src=\"../images/RA_Logo.png\">\n",
    "        </td>\n",
    "        <td>\n",
    "            <div align=\"left\", style=\"font-size:120%\">\n",
    "                <font color=\"#21618C\">\n",
    "                    <b>14. Write a program to combine the two arrays vertically</b>\n",
    "                </font>\n",
    "            </div>\n",
    "        </td>\n",
    "    </tr>\n",
    "</table>"
   ]
  },
  {
   "cell_type": "markdown",
   "metadata": {},
   "source": [
    "**Use the arrays given below: (or create your own array)**<br>\n",
    "\n",
    "A1 = [[5, 9], [7, 6]]\n",
    "\n",
    "A2 = [[8,-7], [0,4]]\n",
    "\n",
    "Combine the array A2 with A1"
   ]
  },
  {
   "cell_type": "code",
   "execution_count": 20,
   "metadata": {},
   "outputs": [
    {
     "name": "stdout",
     "output_type": "stream",
     "text": [
      "[[ 8 -7]\n",
      " [ 0  4]\n",
      " [ 5  9]\n",
      " [ 7  6]]\n"
     ]
    }
   ],
   "source": [
    "# type your code here\n",
    "A1 = [[5, 9], [7, 6]]\n",
    "A2 = [[8,-7], [0,4]]\n",
    "\n",
    "print(np.vstack((A2, A1)))"
   ]
  },
  {
   "cell_type": "code",
   "execution_count": 403,
   "metadata": {},
   "outputs": [
    {
     "data": {
      "text/plain": [
       "array([[ 0,  1,  2,  3],\n",
       "       [ 4,  5,  6,  7],\n",
       "       [ 8,  9, 10, 11]])"
      ]
     },
     "execution_count": 403,
     "metadata": {},
     "output_type": "execute_result"
    }
   ],
   "source": [
    "n34 = np.arange(12).reshape(3, 4)\n",
    "n34"
   ]
  },
  {
   "cell_type": "code",
   "execution_count": 405,
   "metadata": {},
   "outputs": [
    {
     "data": {
      "text/plain": [
       "array([[61, 24, 81, 70],\n",
       "       [30, 84, 84, 33],\n",
       "       [12, 31, 62, 11],\n",
       "       [39, 47, 11, 73],\n",
       "       [69, 30, 42, 85],\n",
       "       [67, 31, 58, 68]])"
      ]
     },
     "execution_count": 405,
     "metadata": {},
     "output_type": "execute_result"
    }
   ],
   "source": [
    "np.random.seed(42)\n",
    "n64 = np.random.randint(10, 90, 24).reshape(6, 4)\n",
    "n64"
   ]
  },
  {
   "cell_type": "code",
   "execution_count": 407,
   "metadata": {},
   "outputs": [
    {
     "name": "stdout",
     "output_type": "stream",
     "text": [
      "[[ 0  1  2  3]\n",
      " [ 4  5  6  7]\n",
      " [ 8  9 10 11]\n",
      " [61 24 81 70]\n",
      " [30 84 84 33]\n",
      " [12 31 62 11]\n",
      " [39 47 11 73]\n",
      " [69 30 42 85]\n",
      " [67 31 58 68]]\n",
      "(9, 4)\n"
     ]
    }
   ],
   "source": [
    "n = np.vstack(tup=(n34, n64))\n",
    "print(n)\n",
    "print(n.shape)"
   ]
  },
  {
   "cell_type": "markdown",
   "metadata": {},
   "source": [
    "<table align=\"left\">\n",
    "    <tr>\n",
    "        <td width=\"6%\">\n",
    "            <img src=\"../images/RA_Logo.png\">\n",
    "        </td>\n",
    "        <td>\n",
    "            <div align=\"left\", style=\"font-size:120%\">\n",
    "                <font color=\"#21618C\">\n",
    "                    <b>15. Write a code to combine the two arrays horizontally</b>\n",
    "                </font>\n",
    "            </div>\n",
    "        </td>\n",
    "    </tr>\n",
    "</table>"
   ]
  },
  {
   "cell_type": "markdown",
   "metadata": {},
   "source": [
    "**Use the arrays given below: (or create your own array)**\n",
    "\n",
    "A1 = [[-81, 75, 40], [27, 67, 52]]\n",
    "\n",
    "A2 = [[15, 54], [39, 56]]\n",
    "\n",
    "Combine the array A2 with A1"
   ]
  },
  {
   "cell_type": "code",
   "execution_count": 21,
   "metadata": {},
   "outputs": [
    {
     "name": "stdout",
     "output_type": "stream",
     "text": [
      "[[ 15  54 -81  75  40]\n",
      " [ 39  56  27  67  52]]\n"
     ]
    }
   ],
   "source": [
    "# type your code here\n",
    "\n",
    "A1 = [[-81, 75, 40], [27, 67, 52]]\n",
    "A2 = [[15, 54], [39, 56]]\n",
    "\n",
    "print(np.hstack((A2, A1)))\n",
    "\n"
   ]
  },
  {
   "cell_type": "code",
   "execution_count": 410,
   "metadata": {},
   "outputs": [
    {
     "data": {
      "text/plain": [
       "array([[61, 24, 81],\n",
       "       [70, 30, 84]])"
      ]
     },
     "execution_count": 410,
     "metadata": {},
     "output_type": "execute_result"
    }
   ],
   "source": [
    "np.random.seed(42)\n",
    "n23 = np.random.randint(10, 90, 6).reshape(2, 3)\n",
    "n23"
   ]
  },
  {
   "cell_type": "code",
   "execution_count": 411,
   "metadata": {},
   "outputs": [
    {
     "data": {
      "text/plain": [
       "array([[61, 24, 81, 70],\n",
       "       [30, 84, 84, 33]])"
      ]
     },
     "execution_count": 411,
     "metadata": {},
     "output_type": "execute_result"
    }
   ],
   "source": [
    "np.random.seed(42)\n",
    "n24 = np.random.randint(10, 90, 8).reshape(2, 4)\n",
    "n24"
   ]
  },
  {
   "cell_type": "code",
   "execution_count": 413,
   "metadata": {},
   "outputs": [
    {
     "name": "stdout",
     "output_type": "stream",
     "text": [
      "[[61 24 81 61 24 81 70]\n",
      " [70 30 84 30 84 84 33]]\n",
      "(2, 7)\n"
     ]
    }
   ],
   "source": [
    "print(np.hstack((n23, n24)))\n",
    "n = np.hstack((n23, n24))\n",
    "print(n.shape)"
   ]
  },
  {
   "cell_type": "code",
   "execution_count": 419,
   "metadata": {},
   "outputs": [
    {
     "name": "stdout",
     "output_type": "stream",
     "text": [
      "[0 1 2 3]\n",
      "\n",
      "[0 1 2 3]\n",
      "\n",
      "[[0 0]\n",
      " [1 1]\n",
      " [2 2]\n",
      " [3 3]]\n"
     ]
    }
   ],
   "source": [
    "n1 = np.arange(4)\n",
    "print(n1)\n",
    "print()\n",
    "n2 = np.arange(4)\n",
    "print(n2)\n",
    "print()\n",
    "col_stack = np.column_stack((n1, n2))\n",
    "print(col_stack)"
   ]
  },
  {
   "cell_type": "code",
   "execution_count": 420,
   "metadata": {},
   "outputs": [
    {
     "name": "stdout",
     "output_type": "stream",
     "text": [
      "[16 13 17 14]\n",
      "\n",
      "[26 29 22 26]\n",
      "\n",
      "[[16 26]\n",
      " [13 29]\n",
      " [17 22]\n",
      " [14 26]]\n"
     ]
    }
   ],
   "source": [
    "np.random.seed(42)\n",
    "n1 = np.random.randint(10, 20, 4)\n",
    "print(n1)\n",
    "print()\n",
    "n2 = np.random.randint(20, 30, 4)\n",
    "print(n2)\n",
    "print()\n",
    "col_stack = np.column_stack((n1, n2))\n",
    "print(col_stack)"
   ]
  },
  {
   "cell_type": "code",
   "execution_count": 431,
   "metadata": {},
   "outputs": [
    {
     "name": "stdout",
     "output_type": "stream",
     "text": [
      "[[11 12 13 14]\n",
      " [15 16 17 18]\n",
      " [19 20 21 22]]\n",
      "\n",
      "[[23 24 25 26]\n",
      " [27 28 29 30]\n",
      " [31 32 33 34]]\n",
      "\n"
     ]
    }
   ],
   "source": [
    "#stacking across axes = 0, 1 and 2\n",
    "\n",
    "\n",
    "n34a = np.arange(11, 23).reshape(3, 4)\n",
    "print(n34a)\n",
    "print()\n",
    "n34b = np.arange(23, 35).reshape(3, 4)\n",
    "print(n34b)\n",
    "print()"
   ]
  },
  {
   "cell_type": "code",
   "execution_count": 434,
   "metadata": {},
   "outputs": [
    {
     "data": {
      "text/plain": [
       "array([[[11, 23],\n",
       "        [12, 24],\n",
       "        [13, 25],\n",
       "        [14, 26]],\n",
       "\n",
       "       [[15, 27],\n",
       "        [16, 28],\n",
       "        [17, 29],\n",
       "        [18, 30]],\n",
       "\n",
       "       [[19, 31],\n",
       "        [20, 32],\n",
       "        [21, 33],\n",
       "        [22, 34]]])"
      ]
     },
     "execution_count": 434,
     "metadata": {},
     "output_type": "execute_result"
    }
   ],
   "source": [
    "#stacking with axix = 2\n",
    "n_2 = np.stack([n34a, n34b], axis=2)\n",
    "n_2"
   ]
  },
  {
   "cell_type": "code",
   "execution_count": 435,
   "metadata": {},
   "outputs": [
    {
     "data": {
      "text/plain": [
       "array([[[11, 12, 13, 14],\n",
       "        [23, 24, 25, 26]],\n",
       "\n",
       "       [[15, 16, 17, 18],\n",
       "        [27, 28, 29, 30]],\n",
       "\n",
       "       [[19, 20, 21, 22],\n",
       "        [31, 32, 33, 34]]])"
      ]
     },
     "execution_count": 435,
     "metadata": {},
     "output_type": "execute_result"
    }
   ],
   "source": [
    "#stacking with axix = 1\n",
    "n_1 = np.stack([n34a, n34b], axis=1)\n",
    "n_1"
   ]
  },
  {
   "cell_type": "code",
   "execution_count": 436,
   "metadata": {},
   "outputs": [
    {
     "data": {
      "text/plain": [
       "array([[[11, 12, 13, 14],\n",
       "        [15, 16, 17, 18],\n",
       "        [19, 20, 21, 22]],\n",
       "\n",
       "       [[23, 24, 25, 26],\n",
       "        [27, 28, 29, 30],\n",
       "        [31, 32, 33, 34]]])"
      ]
     },
     "execution_count": 436,
     "metadata": {},
     "output_type": "execute_result"
    }
   ],
   "source": [
    "#stacking with axix = 0\n",
    "n_0 = np.stack([n34a, n34b], axis=0)\n",
    "n_0"
   ]
  },
  {
   "cell_type": "markdown",
   "metadata": {},
   "source": [
    "<a id=\"Splitting\"> </a>\n",
    "## 4. Splitting"
   ]
  },
  {
   "cell_type": "markdown",
   "metadata": {},
   "source": [
    "<table align=\"left\">\n",
    "    <tr>\n",
    "        <td width=\"6%\">\n",
    "            <img src=\"../images/RA_Logo.png\">\n",
    "        </td>\n",
    "        <td>\n",
    "            <div align=\"left\", style=\"font-size:120%\">\n",
    "                <font color=\"#21618C\">\n",
    "                    <b>16. Write a code to divide the array into three sub-arrays containing an\n",
    "                       equal number of rows</b>\n",
    "                </font>\n",
    "            </div>\n",
    "        </td>\n",
    "    </tr>\n",
    "</table>"
   ]
  },
  {
   "cell_type": "markdown",
   "metadata": {},
   "source": [
    "**Use the array given below:**<br>\n",
    "\n",
    "A = [[4, 7], [2, -3], [8, 1], [0, 9], [5,-1], [8, 3]]"
   ]
  },
  {
   "cell_type": "code",
   "execution_count": 22,
   "metadata": {},
   "outputs": [
    {
     "name": "stdout",
     "output_type": "stream",
     "text": [
      "[array([[ 4,  7],\n",
      "       [ 2, -3]]), array([[8, 1],\n",
      "       [0, 9]]), array([[ 5, -1],\n",
      "       [ 8,  3]])]\n"
     ]
    }
   ],
   "source": [
    "# type your code here\n",
    "A = [[4, 7], [2, -3], [8, 1], [0, 9], [5,-1], [8, 3]]\n",
    "np_A = np.array(A)\n",
    "b = np.vsplit(np_A,3)\n",
    "print(b)\n",
    "\n",
    "\n"
   ]
  },
  {
   "cell_type": "code",
   "execution_count": 373,
   "metadata": {},
   "outputs": [
    {
     "data": {
      "text/plain": [
       "array([[ 0,  1,  2,  3,  4,  5,  6,  7],\n",
       "       [ 8,  9, 10, 11, 12, 13, 14, 15],\n",
       "       [16, 17, 18, 19, 20, 21, 22, 23],\n",
       "       [24, 25, 26, 27, 28, 29, 30, 31],\n",
       "       [32, 33, 34, 35, 36, 37, 38, 39],\n",
       "       [40, 41, 42, 43, 44, 45, 46, 47]])"
      ]
     },
     "execution_count": 373,
     "metadata": {},
     "output_type": "execute_result"
    }
   ],
   "source": [
    "# explaination\n",
    "\n",
    "n68 = np.arange(48).reshape(6, 8)\n",
    "n68"
   ]
  },
  {
   "cell_type": "code",
   "execution_count": 374,
   "metadata": {},
   "outputs": [
    {
     "data": {
      "text/plain": [
       "[array([[ 0,  1,  2,  3,  4,  5,  6,  7],\n",
       "        [ 8,  9, 10, 11, 12, 13, 14, 15]]),\n",
       " array([[16, 17, 18, 19, 20, 21, 22, 23],\n",
       "        [24, 25, 26, 27, 28, 29, 30, 31]]),\n",
       " array([[32, 33, 34, 35, 36, 37, 38, 39],\n",
       "        [40, 41, 42, 43, 44, 45, 46, 47]])]"
      ]
     },
     "execution_count": 374,
     "metadata": {},
     "output_type": "execute_result"
    }
   ],
   "source": [
    "n = np.vsplit(n68, 3)\n",
    "n"
   ]
  },
  {
   "cell_type": "code",
   "execution_count": 376,
   "metadata": {},
   "outputs": [
    {
     "name": "stdout",
     "output_type": "stream",
     "text": [
      "[[ 0  1  2  3  4  5  6  7]\n",
      " [ 8  9 10 11 12 13 14 15]]\n",
      "(2, 8)\n",
      "\n",
      "[[16 17 18 19 20 21 22 23]\n",
      " [24 25 26 27 28 29 30 31]]\n",
      "(2, 8)\n",
      "\n",
      "[[32 33 34 35 36 37 38 39]\n",
      " [40 41 42 43 44 45 46 47]]\n",
      "(2, 8)\n",
      "\n"
     ]
    }
   ],
   "source": [
    "# split by 3 division\n",
    "n = np.vsplit(n68, 3)\n",
    "for i in n:\n",
    "    print(i)\n",
    "    print(i.shape)\n",
    "    print()"
   ]
  },
  {
   "cell_type": "code",
   "execution_count": 377,
   "metadata": {},
   "outputs": [
    {
     "name": "stdout",
     "output_type": "stream",
     "text": [
      "[[ 0  1  2  3  4  5  6  7]\n",
      " [ 8  9 10 11 12 13 14 15]]\n",
      "(2, 8)\n",
      "\n",
      "[[16 17 18 19 20 21 22 23]\n",
      " [24 25 26 27 28 29 30 31]]\n",
      "(2, 8)\n",
      "\n",
      "[[32 33 34 35 36 37 38 39]\n",
      " [40 41 42 43 44 45 46 47]]\n",
      "(2, 8)\n",
      "\n"
     ]
    }
   ],
   "source": [
    "# split by 2 division\n",
    "n = np.vsplit(n68, 3)\n",
    "for i in n:\n",
    "    print(i)\n",
    "    print(i.shape)\n",
    "    print()"
   ]
  },
  {
   "cell_type": "code",
   "execution_count": 381,
   "metadata": {},
   "outputs": [
    {
     "name": "stdout",
     "output_type": "stream",
     "text": [
      "[[ 0  1  2  3  4  5  6  7]\n",
      " [ 8  9 10 11 12 13 14 15]]\n",
      "(2, 8)\n",
      "\n",
      "[[16 17 18 19 20 21 22 23]\n",
      " [24 25 26 27 28 29 30 31]]\n",
      "(2, 8)\n",
      "\n",
      "[[32 33 34 35 36 37 38 39]\n",
      " [40 41 42 43 44 45 46 47]]\n",
      "(2, 8)\n",
      "\n"
     ]
    }
   ],
   "source": [
    "# Try by splitting by 4 division --> change 3 --> 4\n",
    "n = np.vsplit(n68, 3)\n",
    "for i in n:\n",
    "    print(i)\n",
    "    print(i.shape)\n",
    "    print()"
   ]
  },
  {
   "cell_type": "code",
   "execution_count": 382,
   "metadata": {},
   "outputs": [
    {
     "name": "stdout",
     "output_type": "stream",
     "text": [
      "[[ 0  1]\n",
      " [ 8  9]\n",
      " [16 17]\n",
      " [24 25]\n",
      " [32 33]\n",
      " [40 41]]\n",
      "(6, 2)\n",
      "\n",
      "[[ 2  3]\n",
      " [10 11]\n",
      " [18 19]\n",
      " [26 27]\n",
      " [34 35]\n",
      " [42 43]]\n",
      "(6, 2)\n",
      "\n",
      "[[ 4  5]\n",
      " [12 13]\n",
      " [20 21]\n",
      " [28 29]\n",
      " [36 37]\n",
      " [44 45]]\n",
      "(6, 2)\n",
      "\n",
      "[[ 6  7]\n",
      " [14 15]\n",
      " [22 23]\n",
      " [30 31]\n",
      " [38 39]\n",
      " [46 47]]\n",
      "(6, 2)\n",
      "\n"
     ]
    }
   ],
   "source": [
    "# np.hsplit\n",
    "# Try by splitting by 4 division\n",
    "n = np.hsplit(n68, 4)\n",
    "for i in n:\n",
    "    print(i)\n",
    "    print(i.shape)\n",
    "    print()"
   ]
  },
  {
   "cell_type": "code",
   "execution_count": 384,
   "metadata": {},
   "outputs": [
    {
     "name": "stdout",
     "output_type": "stream",
     "text": [
      "[[ 0  1  2  3  4  5  6  7]\n",
      " [ 8  9 10 11 12 13 14 15]\n",
      " [16 17 18 19 20 21 22 23]\n",
      " [24 25 26 27 28 29 30 31]\n",
      " [32 33 34 35 36 37 38 39]\n",
      " [40 41 42 43 44 45 46 47]]\n",
      "\n",
      "[[ 0  1  2  3]\n",
      " [ 8  9 10 11]\n",
      " [16 17 18 19]\n",
      " [24 25 26 27]\n",
      " [32 33 34 35]\n",
      " [40 41 42 43]]\n",
      "(6, 4)\n",
      "\n",
      "[[ 4  5  6  7]\n",
      " [12 13 14 15]\n",
      " [20 21 22 23]\n",
      " [28 29 30 31]\n",
      " [36 37 38 39]\n",
      " [44 45 46 47]]\n",
      "(6, 4)\n",
      "\n"
     ]
    }
   ],
   "source": [
    "# np.hsplit\n",
    "# Try by splitting by 2 division\n",
    "print(n68)\n",
    "print()\n",
    "n = np.hsplit(n68, 2)\n",
    "for i in n:\n",
    "    print(i)\n",
    "    print(i.shape)\n",
    "    print()"
   ]
  },
  {
   "cell_type": "code",
   "execution_count": 386,
   "metadata": {},
   "outputs": [
    {
     "data": {
      "text/plain": [
       "array([[ 0,  1,  2,  3,  4,  5,  6,  7],\n",
       "       [ 8,  9, 10, 11, 12, 13, 14, 15],\n",
       "       [16, 17, 18, 19, 20, 21, 22, 23],\n",
       "       [24, 25, 26, 27, 28, 29, 30, 31],\n",
       "       [32, 33, 34, 35, 36, 37, 38, 39],\n",
       "       [40, 41, 42, 43, 44, 45, 46, 47]])"
      ]
     },
     "execution_count": 386,
     "metadata": {},
     "output_type": "execute_result"
    }
   ],
   "source": [
    "n68"
   ]
  },
  {
   "cell_type": "code",
   "execution_count": 387,
   "metadata": {},
   "outputs": [
    {
     "name": "stdout",
     "output_type": "stream",
     "text": [
      "[[ 0  1  2  3  4  5  6  7]\n",
      " [ 8  9 10 11 12 13 14 15]\n",
      " [16 17 18 19 20 21 22 23]\n",
      " [24 25 26 27 28 29 30 31]\n",
      " [32 33 34 35 36 37 38 39]\n",
      " [40 41 42 43 44 45 46 47]]\n",
      "\n"
     ]
    },
    {
     "data": {
      "text/plain": [
       "[array([[ 0,  1,  2],\n",
       "        [ 8,  9, 10],\n",
       "        [16, 17, 18],\n",
       "        [24, 25, 26],\n",
       "        [32, 33, 34],\n",
       "        [40, 41, 42]]),\n",
       " array([[ 3],\n",
       "        [11],\n",
       "        [19],\n",
       "        [27],\n",
       "        [35],\n",
       "        [43]]),\n",
       " array([[ 4],\n",
       "        [12],\n",
       "        [20],\n",
       "        [28],\n",
       "        [36],\n",
       "        [44]]),\n",
       " array([[ 5,  6],\n",
       "        [13, 14],\n",
       "        [21, 22],\n",
       "        [29, 30],\n",
       "        [37, 38],\n",
       "        [45, 46]]),\n",
       " array([[ 7],\n",
       "        [15],\n",
       "        [23],\n",
       "        [31],\n",
       "        [39],\n",
       "        [47]])]"
      ]
     },
     "execution_count": 387,
     "metadata": {},
     "output_type": "execute_result"
    }
   ],
   "source": [
    "print(n68)\n",
    "print()\n",
    "# uneven splitting\n",
    "np.hsplit(n68, [3, 4, 5, 7])"
   ]
  },
  {
   "cell_type": "markdown",
   "metadata": {},
   "source": [
    "<table align=\"left\">\n",
    "    <tr>\n",
    "        <td width=\"6%\">\n",
    "            <img src=\"../images/RA_Logo.png\">\n",
    "        </td>\n",
    "        <td>\n",
    "            <div align=\"left\", style=\"font-size:120%\">\n",
    "                <font color=\"#21618C\">\n",
    "                    <b>17. Write a program to divide the array into two sub-arrays containing an equal number of columns\n",
    "                    </b>\n",
    "                </font>\n",
    "            </div>\n",
    "        </td>\n",
    "    </tr>\n",
    "</table>"
   ]
  },
  {
   "cell_type": "markdown",
   "metadata": {},
   "source": [
    "**Use the array given below:**\n",
    "\n",
    "B = [[8, 7, 0, 9], [2, -3, 5, 10], [8, 5, -1,3]]"
   ]
  },
  {
   "cell_type": "code",
   "execution_count": 23,
   "metadata": {},
   "outputs": [
    {
     "name": "stdout",
     "output_type": "stream",
     "text": [
      "[array([[ 8,  7],\n",
      "       [ 2, -3],\n",
      "       [ 8,  5]]), array([[ 0,  9],\n",
      "       [ 5, 10],\n",
      "       [-1,  3]])]\n"
     ]
    }
   ],
   "source": [
    "# type your code here\n",
    "\n",
    "B = [[8, 7, 0, 9], [2, -3, 5, 10], [8, 5, -1,3]]\n",
    "np_B=np.array(B)\n",
    "b = np.hsplit(np_B,2)\n",
    "print(b)\n"
   ]
  },
  {
   "cell_type": "code",
   "execution_count": 388,
   "metadata": {},
   "outputs": [
    {
     "name": "stdout",
     "output_type": "stream",
     "text": [
      "[[ 0  1  2  3  4  5  6  7]\n",
      " [ 8  9 10 11 12 13 14 15]\n",
      " [16 17 18 19 20 21 22 23]\n",
      " [24 25 26 27 28 29 30 31]\n",
      " [32 33 34 35 36 37 38 39]\n",
      " [40 41 42 43 44 45 46 47]]\n",
      "\n",
      "[[ 0  1  2]\n",
      " [ 8  9 10]\n",
      " [16 17 18]\n",
      " [24 25 26]\n",
      " [32 33 34]\n",
      " [40 41 42]]\n",
      "(6, 3)\n",
      "\n",
      "[[ 3]\n",
      " [11]\n",
      " [19]\n",
      " [27]\n",
      " [35]\n",
      " [43]]\n",
      "(6, 1)\n",
      "\n",
      "[[ 4]\n",
      " [12]\n",
      " [20]\n",
      " [28]\n",
      " [36]\n",
      " [44]]\n",
      "(6, 1)\n",
      "\n",
      "[[ 5  6]\n",
      " [13 14]\n",
      " [21 22]\n",
      " [29 30]\n",
      " [37 38]\n",
      " [45 46]]\n",
      "(6, 2)\n",
      "\n",
      "[[ 7]\n",
      " [15]\n",
      " [23]\n",
      " [31]\n",
      " [39]\n",
      " [47]]\n",
      "(6, 1)\n",
      "\n"
     ]
    }
   ],
   "source": [
    "print(n68)\n",
    "print()\n",
    "# uneven splitting\n",
    "n = np.hsplit(n68, [3, 4, 5, 7])\n",
    "for i in n:\n",
    "    print(i)\n",
    "    print(i.shape)\n",
    "    print()"
   ]
  },
  {
   "cell_type": "code",
   "execution_count": 399,
   "metadata": {},
   "outputs": [
    {
     "name": "stdout",
     "output_type": "stream",
     "text": [
      "[[7 4 8 5 7 3 7 8]\n",
      " [5 4 8 8 3 6 5 2]\n",
      " [8 6 2 5 1 6 9 1]\n",
      " [3 7 4 9 3 5 3 7]\n",
      " [5 9 7 2 4 9 2 9]\n",
      " [5 2 4 7 8 3 1 4]]\n",
      "\n",
      "[[7 4]\n",
      " [5 4]\n",
      " [8 6]\n",
      " [3 7]\n",
      " [5 9]\n",
      " [5 2]]\n",
      "(6, 2)\n",
      "\n",
      "[[8]\n",
      " [8]\n",
      " [2]\n",
      " [4]\n",
      " [7]\n",
      " [4]]\n",
      "(6, 1)\n",
      "\n",
      "[[5]\n",
      " [8]\n",
      " [5]\n",
      " [9]\n",
      " [2]\n",
      " [7]]\n",
      "(6, 1)\n",
      "\n",
      "[[7 3]\n",
      " [3 6]\n",
      " [1 6]\n",
      " [3 5]\n",
      " [4 9]\n",
      " [8 3]]\n",
      "(6, 2)\n",
      "\n",
      "[[7 8]\n",
      " [5 2]\n",
      " [9 1]\n",
      " [3 7]\n",
      " [2 9]\n",
      " [1 4]]\n",
      "(6, 2)\n",
      "\n"
     ]
    }
   ],
   "source": [
    "np.random.seed(42)\n",
    "n68 = np.random.randint(1, 10, 48).reshape(6, 8)\n",
    "\n",
    "print(n68)\n",
    "print()\n",
    "# uneven splitting\n",
    "n = np.hsplit(n68, [2, 3, 4, 6])\n",
    "for i in n:\n",
    "    print(i)\n",
    "    print(i.shape)\n",
    "    print()"
   ]
  },
  {
   "cell_type": "code",
   "execution_count": 401,
   "metadata": {},
   "outputs": [
    {
     "name": "stdout",
     "output_type": "stream",
     "text": [
      "[[7 4 8 5 7 3 7 8]\n",
      " [5 4 8 8 3 6 5 2]\n",
      " [8 6 2 5 1 6 9 1]\n",
      " [3 7 4 9 3 5 3 7]\n",
      " [5 9 7 2 4 9 2 9]\n",
      " [5 2 4 7 8 3 1 4]]\n",
      "\n",
      "[[7 4 8 5 7 3 7 8]\n",
      " [5 4 8 8 3 6 5 2]]\n",
      "(2, 8)\n",
      "\n",
      "[[8 6 2 5 1 6 9 1]]\n",
      "(1, 8)\n",
      "\n",
      "[[3 7 4 9 3 5 3 7]\n",
      " [5 9 7 2 4 9 2 9]\n",
      " [5 2 4 7 8 3 1 4]]\n",
      "(3, 8)\n",
      "\n"
     ]
    }
   ],
   "source": [
    "#uneven splitting\n",
    "\n",
    "np.random.seed(42)\n",
    "n68 = np.random.randint(1, 10, 48).reshape(6, 8)\n",
    "\n",
    "print(n68)\n",
    "print()\n",
    "# uneven splitting\n",
    "n = np.vsplit(n68, [2, 3])\n",
    "for i in n:\n",
    "    print(i)\n",
    "    print(i.shape)\n",
    "    print()"
   ]
  },
  {
   "cell_type": "markdown",
   "metadata": {},
   "source": [
    "<a id=\"loop\"> </a>\n",
    "## 5. For Loop"
   ]
  },
  {
   "cell_type": "markdown",
   "metadata": {},
   "source": [
    "<table align=\"left\">\n",
    "    <tr>\n",
    "        <td width=\"6%\">\n",
    "            <img src=\"../images/RA_Logo.png\">\n",
    "        </td>\n",
    "        <td>\n",
    "            <div align=\"left\", style=\"font-size:120%\">\n",
    "                <font color=\"#21618C\">\n",
    "                    <b>18. Write a program to perform one-one mapping of the two lists</b>\n",
    "                </font>\n",
    "            </div>\n",
    "        </td>\n",
    "    </tr>\n",
    "</table>"
   ]
  },
  {
   "cell_type": "markdown",
   "metadata": {},
   "source": [
    "**Use the lists given below: (or create your own lists)**<br>\n",
    "\n",
    "L1 = [45, 67, 56, 71, 54, 62, 56]\n",
    "\n",
    "L2 = [21, 52, 64, 10, 49, 74, 26]"
   ]
  },
  {
   "cell_type": "code",
   "execution_count": 24,
   "metadata": {},
   "outputs": [
    {
     "name": "stdout",
     "output_type": "stream",
     "text": [
      "[(45, 21), (67, 52), (56, 64), (71, 10), (54, 49), (62, 74), (56, 26)]\n",
      "(45, 21)\n",
      "(67, 52)\n",
      "(56, 64)\n",
      "(71, 10)\n",
      "(54, 49)\n",
      "(62, 74)\n",
      "(56, 26)\n"
     ]
    }
   ],
   "source": [
    "# type your code here\n",
    "\n",
    "import numpy as np\n",
    "\n",
    "\n",
    "L1 = [45, 67, 56, 71, 54, 62, 56]\n",
    "L2 = [21, 52, 64, 10, 49, 74, 26]\n",
    "\n",
    "np_L1 = np.array(L1)\n",
    "np_L2 = np.array(L2)\n",
    "\n",
    "mapping_list = list(zip(np_L1, np_L2))\n",
    "\n",
    "print(mapping_list)\n",
    "for items in mapping_list:\n",
    "    print(items)\n",
    "\n"
   ]
  },
  {
   "cell_type": "markdown",
   "metadata": {},
   "source": [
    "<table align=\"left\">\n",
    "    <tr>\n",
    "        <td width=\"6%\">\n",
    "            <img src=\"../images/RA_Logo.png\">\n",
    "        </td>\n",
    "        <td>\n",
    "            <div align=\"left\", style=\"font-size:120%\">\n",
    "                <font color=\"#21618C\">\n",
    "                    <b>19. Define a for loop to apply the function (2x-1)/(x+5) on every element of an array </b>\n",
    "                </font>\n",
    "            </div>\n",
    "        </td>\n",
    "    </tr>\n",
    "</table>"
   ]
  },
  {
   "cell_type": "markdown",
   "metadata": {},
   "source": [
    "**Use the list given below:**\n",
    "    \n",
    "numbers = [6, 5, 3, 15]"
   ]
  },
  {
   "cell_type": "code",
   "execution_count": 25,
   "metadata": {},
   "outputs": [
    {
     "name": "stdout",
     "output_type": "stream",
     "text": [
      "[12 10  6 30]\n",
      "[11 10  8 20]\n",
      "[1.    0.9   0.625 1.45 ]\n",
      "1.0\n",
      "0.9\n",
      "0.625\n",
      "1.45\n"
     ]
    }
   ],
   "source": [
    "# type your code here\n",
    "numbers = [6, 5, 3, 15]\n",
    "\n",
    "np_numbers = np.array(numbers)\n",
    "\n",
    "a = 2 * np_numbers     \n",
    "print(a)\n",
    "b = np_numbers + 5\n",
    "print(b)\n",
    "\n",
    "print((a -1)/(b))\n",
    "\n",
    "for x in np_numbers:\n",
    "    print((2*x-1)/(x+5))\n"
   ]
  },
  {
   "cell_type": "markdown",
   "metadata": {},
   "source": [
    "<table align=\"left\">\n",
    "    <tr>\n",
    "        <td width=\"6%\">\n",
    "            <img src=\"../images/RA_Logo.png\">\n",
    "        </td>\n",
    "        <td>\n",
    "            <div align=\"left\", style=\"font-size:120%\">\n",
    "                <font color=\"#21618C\">\n",
    "                    <b>20. Write a program to change values in the array with the corresponding square root values</b>\n",
    "                </font>\n",
    "            </div>\n",
    "        </td>\n",
    "    </tr>\n",
    "</table>"
   ]
  },
  {
   "cell_type": "markdown",
   "metadata": {},
   "source": [
    "**Use the array given below:**\n",
    "    \n",
    "num = [49, 81, 64, 25, 121, 1]\n",
    "\n",
    "**The output should be:**\n",
    "\n",
    "num = [7, 9, 8, 5, 11, 1]"
   ]
  },
  {
   "cell_type": "code",
   "execution_count": 26,
   "metadata": {},
   "outputs": [
    {
     "name": "stdout",
     "output_type": "stream",
     "text": [
      "[7, 9, 8, 5, 11, 1]\n"
     ]
    }
   ],
   "source": [
    "# type your code here\n",
    "import numpy as np\n",
    "num = [49, 81, 64, 25, 121, 1]\n",
    "\n",
    "np_num = np.array(num)\n",
    "np_num = np_num ** (1/2)\n",
    "num = []\n",
    "for item in np_num:\n",
    "    num.append(int(item))\n",
    "print(num)    "
   ]
  },
  {
   "cell_type": "code",
   "execution_count": 27,
   "metadata": {},
   "outputs": [
    {
     "name": "stdout",
     "output_type": "stream",
     "text": [
      "[11.5 12.  12.5 13.  13.5 14.  14.5 15.  15.5 16.  16.5 17.  17.5 18.\n",
      " 18.5 19.  19.5 20.  20.5 21.  21.5 22.  22.5 23.  23.5 24.  24.5 25.\n",
      " 25.5 26.  26.5 27.  27.5 28.  28.5 29.  29.5 30.  30.5 31.  31.5 32.\n",
      " 32.5 33.  33.5 34.  34.5 35.  35.5 36.  36.5 37.  37.5 38.  38.5 39.\n",
      " 39.5 40.  40.5 41.  41.5 42.  42.5 43.  43.5 44.  44.5 45.  45.5 46.\n",
      " 46.5 47.  47.5 48.  48.5 49.  49.5 50.  50.5 51.  51.5 52.  52.5 53.\n",
      " 53.5 54.  54.5 55.  55.5 56.  56.5 57.  57.5 58.  58.5 59.  59.5 60.\n",
      " 60.5 61.  61.5 62.  62.5 63.  63.5 64.  64.5 65.  65.5 66.  66.5 67.\n",
      " 67.5 68.  68.5 69.  69.5 70.  70.5 71.  71.5 72.  72.5 73.  73.5 74.\n",
      " 74.5 75.  75.5 76.  76.5 77.  77.5 78.  78.5 79.  79.5 80.  80.5 81.\n",
      " 81.5 82.  82.5 83.  83.5 84.  84.5 85.  85.5 86.  86.5 87.  87.5 88.\n",
      " 88.5 89.  89.5 90.  90.5 91.  91.5 92.  92.5 93.  93.5 94.  94.5 95.\n",
      " 95.5 96.  96.5 97.  97.5 98.  98.5 99. ]\n"
     ]
    }
   ],
   "source": [
    "import numpy as np\n",
    "\n",
    "n = np.arange(11.5,99.5,0.5)\n",
    "print(n)"
   ]
  },
  {
   "cell_type": "code",
   "execution_count": 28,
   "metadata": {},
   "outputs": [
    {
     "name": "stdout",
     "output_type": "stream",
     "text": [
      "Help on method_descriptor:\n",
      "\n",
      "isnumeric(self, /)\n",
      "    Return True if the string is a numeric string, False otherwise.\n",
      "    \n",
      "    A string is numeric if all characters in the string are numeric and there is at\n",
      "    least one character in the string.\n",
      "\n"
     ]
    }
   ],
   "source": [
    "help(str.isnumeric)"
   ]
  },
  {
   "cell_type": "code",
   "execution_count": 29,
   "metadata": {},
   "outputs": [
    {
     "data": {
      "text/plain": [
       "True"
      ]
     },
     "execution_count": 29,
     "metadata": {},
     "output_type": "execute_result"
    }
   ],
   "source": [
    "\"20\".isdecimal()"
   ]
  },
  {
   "cell_type": "code",
   "execution_count": 30,
   "metadata": {},
   "outputs": [
    {
     "name": "stdout",
     "output_type": "stream",
     "text": [
      "Help on method_descriptor:\n",
      "\n",
      "isidentifier(self, /)\n",
      "    Return True if the string is a valid Python identifier, False otherwise.\n",
      "    \n",
      "    Call keyword.iskeyword(s) to test whether string s is a reserved identifier,\n",
      "    such as \"def\" or \"class\".\n",
      "\n"
     ]
    }
   ],
   "source": [
    "help(str.isidentifier)"
   ]
  },
  {
   "cell_type": "markdown",
   "metadata": {},
   "source": [
    "<table align=\"left\">\n",
    "    <tr>\n",
    "        <td width=\"6%\">\n",
    "            <img src=\"../images/RA_Logo.png\">\n",
    "        </td>\n",
    "        <td>\n",
    "            <div align=\"left\", style=\"font-size:120%\">\n",
    "                <font color=\"#21618C\">\n",
    "                    <b>21. How to retrieve the default seed</b>\n",
    "                </font>\n",
    "            </div>\n",
    "        </td>\n",
    "    </tr>\n",
    "</table>"
   ]
  },
  {
   "cell_type": "code",
   "execution_count": 278,
   "metadata": {},
   "outputs": [
    {
     "data": {
      "text/plain": [
       "723970371"
      ]
     },
     "execution_count": 278,
     "metadata": {},
     "output_type": "execute_result"
    }
   ],
   "source": [
    "#This is to know the default seed value generated at the time of your laptop/computer booting time\n",
    "np.random.get_state()[1][0]"
   ]
  },
  {
   "cell_type": "code",
   "execution_count": 196,
   "metadata": {},
   "outputs": [
    {
     "data": {
      "text/plain": [
       "723970371"
      ]
     },
     "execution_count": 196,
     "metadata": {},
     "output_type": "execute_result"
    }
   ],
   "source": [
    "np.random.seed(723970371)\n",
    "np.random.get_state()[1][0]"
   ]
  },
  {
   "cell_type": "code",
   "execution_count": 283,
   "metadata": {},
   "outputs": [
    {
     "data": {
      "text/plain": [
       "array([ 7, 15, 11,  8,  7, 19, 11, 11,  4,  8,  3,  2, 12,  6,  2,  1, 12,\n",
       "       12, 17, 10])"
      ]
     },
     "execution_count": 283,
     "metadata": {},
     "output_type": "execute_result"
    }
   ],
   "source": [
    "np.random.seed(42)\n",
    "np.random.randint(1, 20, 20)"
   ]
  },
  {
   "cell_type": "markdown",
   "metadata": {},
   "source": [
    "<table align=\"left\">\n",
    "    <tr>\n",
    "        <td width=\"6%\">\n",
    "            <img src=\"../images/RA_Logo.png\">\n",
    "        </td>\n",
    "        <td>\n",
    "            <div align=\"left\", style=\"font-size:120%\">\n",
    "                <font color=\"#21618C\">\n",
    "                    <b>22. Accessing Multi Dimensional Arrays</b>\n",
    "                </font>\n",
    "            </div>\n",
    "        </td>\n",
    "    </tr>\n",
    "</table>"
   ]
  },
  {
   "cell_type": "code",
   "execution_count": 197,
   "metadata": {},
   "outputs": [
    {
     "name": "stdout",
     "output_type": "stream",
     "text": [
      "<class 'numpy.ndarray'>\n",
      "\n",
      "(8, 9)\n",
      "\n",
      "[[72 27 99 53 43 83 71 23 57]\n",
      " [24 81 87 96 71 49 94 89 91]\n",
      " [62 33 35 98 69 50 38 24 54]\n",
      " [74 98 80 18 97 10 17 97 72]\n",
      " [20 90 17 44 44 42 14 50 37]\n",
      " [16 82 81 21 43 42 57 32 71]\n",
      " [97 46 53 95 44 74 56 87 12]\n",
      " [10 14 99 23 36 18 88 24 99]]\n"
     ]
    }
   ],
   "source": [
    "# create 8X9matrix\n",
    "\n",
    "np.random.seed(42)\n",
    "np.random.randint(10, 100, size=(8, 9))\n",
    "n89 = np.random.randint(10, 100, size=(8, 9))\n",
    "print(type(n89))\n",
    "print()\n",
    "print(n89.shape)\n",
    "print()\n",
    "print(n89)"
   ]
  },
  {
   "cell_type": "code",
   "execution_count": 198,
   "metadata": {},
   "outputs": [
    {
     "data": {
      "text/plain": [
       "array([72, 27, 99, 53, 43, 83, 71, 23, 57])"
      ]
     },
     "execution_count": 198,
     "metadata": {},
     "output_type": "execute_result"
    }
   ],
   "source": [
    "# Accessing First row\n",
    "n89[0]"
   ]
  },
  {
   "cell_type": "code",
   "execution_count": 199,
   "metadata": {},
   "outputs": [
    {
     "data": {
      "text/plain": [
       "array([10, 14, 99, 23, 36, 18, 88, 24, 99])"
      ]
     },
     "execution_count": 199,
     "metadata": {},
     "output_type": "execute_result"
    }
   ],
   "source": [
    "# Accessing Last row\n",
    "n89[-1]"
   ]
  },
  {
   "cell_type": "code",
   "execution_count": 285,
   "metadata": {},
   "outputs": [
    {
     "data": {
      "text/plain": [
       "array([10, 14, 99, 23, 36, 18, 88, 24, 99])"
      ]
     },
     "execution_count": 285,
     "metadata": {},
     "output_type": "execute_result"
    }
   ],
   "source": [
    "# Accessing Last row\n",
    "n89[7]"
   ]
  },
  {
   "cell_type": "code",
   "execution_count": 200,
   "metadata": {},
   "outputs": [
    {
     "data": {
      "text/plain": [
       "72"
      ]
     },
     "execution_count": 200,
     "metadata": {},
     "output_type": "execute_result"
    }
   ],
   "source": [
    "# Accessing First Element\n",
    "n89[0, 0]"
   ]
  },
  {
   "cell_type": "code",
   "execution_count": 202,
   "metadata": {},
   "outputs": [
    {
     "data": {
      "text/plain": [
       "99"
      ]
     },
     "execution_count": 202,
     "metadata": {},
     "output_type": "execute_result"
    }
   ],
   "source": [
    "# Accessing Last Element\n",
    "n89[-1, -1]"
   ]
  },
  {
   "cell_type": "raw",
   "metadata": {},
   "source": [
    "# Grammer for Accessing element(s)\n",
    "n89[row_index]\n",
    "n89[row_index, col_index]"
   ]
  },
  {
   "cell_type": "code",
   "execution_count": 205,
   "metadata": {},
   "outputs": [
    {
     "data": {
      "text/plain": [
       "array([[72, 27, 99, 53, 43, 83, 71, 23, 57],\n",
       "       [24, 81, 87, 96, 71, 49, 94, 89, 91],\n",
       "       [62, 33, 35, 98, 69, 50, 38, 24, 54],\n",
       "       [74, 98, 80, 18, 97, 10, 17, 97, 72],\n",
       "       [20, 90, 17, 44, 44, 42, 14, 50, 37],\n",
       "       [16, 82, 81, 21, 43, 42, 57, 32, 71],\n",
       "       [97, 46, 53, 95, 44, 74, 56, 87, 12],\n",
       "       [10, 14, 99, 23, 36, 18, 88, 24, 99]])"
      ]
     },
     "execution_count": 205,
     "metadata": {},
     "output_type": "execute_result"
    }
   ],
   "source": [
    "n89"
   ]
  },
  {
   "cell_type": "code",
   "execution_count": 207,
   "metadata": {},
   "outputs": [
    {
     "data": {
      "text/plain": [
       "array([[62, 33, 35, 98, 69, 50, 38, 24, 54],\n",
       "       [74, 98, 80, 18, 97, 10, 17, 97, 72],\n",
       "       [20, 90, 17, 44, 44, 42, 14, 50, 37],\n",
       "       [16, 82, 81, 21, 43, 42, 57, 32, 71],\n",
       "       [97, 46, 53, 95, 44, 74, 56, 87, 12],\n",
       "       [10, 14, 99, 23, 36, 18, 88, 24, 99]])"
      ]
     },
     "execution_count": 207,
     "metadata": {},
     "output_type": "execute_result"
    }
   ],
   "source": [
    "# accessing row 2 onwards\n",
    "n89[2:]"
   ]
  },
  {
   "cell_type": "code",
   "execution_count": 211,
   "metadata": {},
   "outputs": [
    {
     "data": {
      "text/plain": [
       "array([[62, 33, 35, 98, 69, 50, 38, 24, 54],\n",
       "       [74, 98, 80, 18, 97, 10, 17, 97, 72],\n",
       "       [20, 90, 17, 44, 44, 42, 14, 50, 37],\n",
       "       [16, 82, 81, 21, 43, 42, 57, 32, 71],\n",
       "       [97, 46, 53, 95, 44, 74, 56, 87, 12],\n",
       "       [10, 14, 99, 23, 36, 18, 88, 24, 99]])"
      ]
     },
     "execution_count": 211,
     "metadata": {},
     "output_type": "execute_result"
    }
   ],
   "source": [
    "\n",
    "n89[2:]"
   ]
  },
  {
   "cell_type": "code",
   "execution_count": 210,
   "metadata": {},
   "outputs": [
    {
     "data": {
      "text/plain": [
       "array([[62, 33, 35, 98, 69, 50, 38, 24, 54],\n",
       "       [74, 98, 80, 18, 97, 10, 17, 97, 72],\n",
       "       [20, 90, 17, 44, 44, 42, 14, 50, 37]])"
      ]
     },
     "execution_count": 210,
     "metadata": {},
     "output_type": "execute_result"
    }
   ],
   "source": [
    "# accessing rows - 2, 3, & 4\n",
    "n89[2:5]"
   ]
  },
  {
   "cell_type": "code",
   "execution_count": 209,
   "metadata": {},
   "outputs": [
    {
     "data": {
      "text/plain": [
       "array([[35, 98],\n",
       "       [80, 18],\n",
       "       [17, 44]])"
      ]
     },
     "execution_count": 209,
     "metadata": {},
     "output_type": "execute_result"
    }
   ],
   "source": [
    "# accessing rows - 2, 3, & 4\n",
    "n89[2:5, 2:4]"
   ]
  },
  {
   "cell_type": "code",
   "execution_count": 212,
   "metadata": {},
   "outputs": [
    {
     "data": {
      "text/plain": [
       "array([[72, 27, 99, 53, 43, 83, 71, 23, 57],\n",
       "       [24, 81, 87, 96, 71, 49, 94, 89, 91],\n",
       "       [62, 33, 35, 98, 69, 50, 38, 24, 54],\n",
       "       [74, 98, 80, 18, 97, 10, 17, 97, 72],\n",
       "       [20, 90, 17, 44, 44, 42, 14, 50, 37],\n",
       "       [16, 82, 81, 21, 43, 42, 57, 32, 71],\n",
       "       [97, 46, 53, 95, 44, 74, 56, 87, 12],\n",
       "       [10, 14, 99, 23, 36, 18, 88, 24, 99]])"
      ]
     },
     "execution_count": 212,
     "metadata": {},
     "output_type": "execute_result"
    }
   ],
   "source": [
    "n89"
   ]
  },
  {
   "cell_type": "code",
   "execution_count": 215,
   "metadata": {},
   "outputs": [
    {
     "data": {
      "text/plain": [
       "array([99, 87, 35, 80, 17, 81, 53, 99])"
      ]
     },
     "execution_count": 215,
     "metadata": {},
     "output_type": "execute_result"
    }
   ],
   "source": [
    "# accessing 3rd column\n",
    "n89[:, 2]"
   ]
  },
  {
   "cell_type": "code",
   "execution_count": 216,
   "metadata": {},
   "outputs": [
    {
     "data": {
      "text/plain": [
       "array([[99],\n",
       "       [87],\n",
       "       [35],\n",
       "       [80],\n",
       "       [17],\n",
       "       [81],\n",
       "       [53],\n",
       "       [99]])"
      ]
     },
     "execution_count": 216,
     "metadata": {},
     "output_type": "execute_result"
    }
   ],
   "source": [
    "# accessing 3rd column in the vector format\n",
    "n89[:, [2]]"
   ]
  },
  {
   "cell_type": "code",
   "execution_count": 219,
   "metadata": {},
   "outputs": [
    {
     "data": {
      "text/plain": [
       "array([[72, 27, 99, 53, 43, 83, 71, 23, 57],\n",
       "       [24, 81, 87, 96, 71, 49, 94, 89, 91],\n",
       "       [62, 33, 35, 98, 69, 50, 38, 24, 54],\n",
       "       [74, 98, 80, 18, 97, 10, 17, 97, 72],\n",
       "       [20, 90, 17, 44, 44, 42, 14, 50, 37],\n",
       "       [16, 82, 81, 21, 43, 42, 57, 32, 71],\n",
       "       [97, 46, 53, 95, 44, 74, 56, 87, 12],\n",
       "       [10, 14, 99, 23, 36, 18, 88, 24, 99]])"
      ]
     },
     "execution_count": 219,
     "metadata": {},
     "output_type": "execute_result"
    }
   ],
   "source": [
    "n89"
   ]
  },
  {
   "cell_type": "code",
   "execution_count": 218,
   "metadata": {},
   "outputs": [
    {
     "data": {
      "text/plain": [
       "array([[99, 53],\n",
       "       [87, 96],\n",
       "       [35, 98],\n",
       "       [80, 18],\n",
       "       [17, 44],\n",
       "       [81, 21],\n",
       "       [53, 95],\n",
       "       [99, 23]])"
      ]
     },
     "execution_count": 218,
     "metadata": {},
     "output_type": "execute_result"
    }
   ],
   "source": [
    "# accessing 3rd column & 4th column in the vector format\n",
    "n89[:, [2, 3]]"
   ]
  },
  {
   "cell_type": "code",
   "execution_count": 288,
   "metadata": {},
   "outputs": [
    {
     "data": {
      "text/plain": [
       "array([99, 96, 94, 91, 98, 98, 97, 97, 97, 95, 99, 99])"
      ]
     },
     "execution_count": 288,
     "metadata": {},
     "output_type": "execute_result"
    }
   ],
   "source": [
    "n89[n89>90]"
   ]
  },
  {
   "cell_type": "code",
   "execution_count": 228,
   "metadata": {},
   "outputs": [
    {
     "data": {
      "text/plain": [
       "array([[False, False,  True, False, False, False, False, False, False],\n",
       "       [False, False, False,  True, False, False,  True, False,  True],\n",
       "       [False, False, False,  True, False, False, False, False, False],\n",
       "       [False,  True, False, False,  True, False, False,  True, False],\n",
       "       [False, False, False, False, False, False, False, False, False],\n",
       "       [False, False, False, False, False, False, False, False, False],\n",
       "       [ True, False, False,  True, False, False, False, False, False],\n",
       "       [False, False,  True, False, False, False, False, False,  True]])"
      ]
     },
     "execution_count": 228,
     "metadata": {},
     "output_type": "execute_result"
    }
   ],
   "source": [
    "#boolearn matrix - mask\n",
    "\n",
    "mask = n89>90\n",
    "mask"
   ]
  },
  {
   "cell_type": "code",
   "execution_count": 289,
   "metadata": {},
   "outputs": [
    {
     "data": {
      "text/plain": [
       "array([72, 99, 53, 83, 71, 57, 81, 87, 96, 71, 94, 89, 91, 62, 98, 69, 54,\n",
       "       74, 98, 80, 97, 97, 72, 90, 82, 81, 57, 71, 97, 53, 95, 74, 56, 87,\n",
       "       99, 88, 99])"
      ]
     },
     "execution_count": 289,
     "metadata": {},
     "output_type": "execute_result"
    }
   ],
   "source": [
    "n89[n89>90]"
   ]
  },
  {
   "cell_type": "code",
   "execution_count": 229,
   "metadata": {},
   "outputs": [
    {
     "data": {
      "text/plain": [
       "array([[72, 27, 99, 53, 43, 83, 71, 23, 57],\n",
       "       [24, 81, 87, 96, 71, 49, 94, 89, 91],\n",
       "       [62, 33, 35, 98, 69, 50, 38, 24, 54],\n",
       "       [74, 98, 80, 18, 97, 10, 17, 97, 72],\n",
       "       [20, 90, 17, 44, 44, 42, 14, 50, 37],\n",
       "       [16, 82, 81, 21, 43, 42, 57, 32, 71],\n",
       "       [97, 46, 53, 95, 44, 74, 56, 87, 12],\n",
       "       [10, 14, 99, 23, 36, 18, 88, 24, 99]])"
      ]
     },
     "execution_count": 229,
     "metadata": {},
     "output_type": "execute_result"
    }
   ],
   "source": [
    "n89"
   ]
  },
  {
   "cell_type": "code",
   "execution_count": 290,
   "metadata": {},
   "outputs": [
    {
     "data": {
      "text/plain": [
       "array([[72, 27, 99, 53, 43, 83, 71, 23, 57],\n",
       "       [24, 81, 87, 96, 71, 49, 94, 89, 91],\n",
       "       [62, 33, 35, 98, 69, 50, 38, 24, 54],\n",
       "       [74, 98, 80, 18, 97, 10, 17, 97, 72],\n",
       "       [20, 90, 17, 44, 44, 42, 14, 50, 37],\n",
       "       [16, 82, 81, 21, 43, 42, 57, 32, 71],\n",
       "       [97, 46, 53, 95, 44, 74, 56, 87, 12],\n",
       "       [10, 14, 99, 23, 36, 18, 88, 24, 99]])"
      ]
     },
     "execution_count": 290,
     "metadata": {},
     "output_type": "execute_result"
    }
   ],
   "source": [
    "n89"
   ]
  },
  {
   "cell_type": "code",
   "execution_count": 291,
   "metadata": {},
   "outputs": [
    {
     "data": {
      "text/plain": [
       "array([[ True, False,  True,  True, False,  True,  True, False,  True],\n",
       "       [False,  True,  True,  True,  True, False,  True,  True,  True],\n",
       "       [ True, False, False,  True,  True, False, False, False,  True],\n",
       "       [ True,  True,  True, False,  True, False, False,  True,  True],\n",
       "       [False,  True, False, False, False, False, False, False, False],\n",
       "       [False,  True,  True, False, False, False,  True, False,  True],\n",
       "       [ True, False,  True,  True, False,  True,  True,  True, False],\n",
       "       [False, False,  True, False, False, False,  True, False,  True]])"
      ]
     },
     "execution_count": 291,
     "metadata": {},
     "output_type": "execute_result"
    }
   ],
   "source": [
    "(n89 > 50)"
   ]
  },
  {
   "cell_type": "code",
   "execution_count": 293,
   "metadata": {},
   "outputs": [
    {
     "data": {
      "text/plain": [
       "array([[ True, False, False, False, False, False, False, False, False],\n",
       "       [ True, False, False,  True, False, False,  True, False, False],\n",
       "       [ True, False, False,  True, False,  True,  True,  True,  True],\n",
       "       [ True,  True,  True,  True, False,  True, False, False,  True],\n",
       "       [ True,  True, False,  True,  True,  True,  True,  True, False],\n",
       "       [ True,  True, False, False, False,  True, False,  True, False],\n",
       "       [False,  True, False, False,  True,  True,  True, False,  True],\n",
       "       [ True,  True, False, False,  True,  True,  True,  True, False]])"
      ]
     },
     "execution_count": 293,
     "metadata": {},
     "output_type": "execute_result"
    }
   ],
   "source": [
    "(n89 % 2 == 0)"
   ]
  },
  {
   "cell_type": "code",
   "execution_count": 294,
   "metadata": {},
   "outputs": [
    {
     "data": {
      "text/plain": [
       "[array([[ True, False, False, False, False, False, False, False, False],\n",
       "        [False, False, False,  True, False, False,  True, False, False],\n",
       "        [ True, False, False,  True, False, False, False, False,  True],\n",
       "        [ True,  True,  True, False, False, False, False, False,  True],\n",
       "        [False,  True, False, False, False, False, False, False, False],\n",
       "        [False,  True, False, False, False, False, False, False, False],\n",
       "        [False, False, False, False, False,  True,  True, False, False],\n",
       "        [False, False, False, False, False, False,  True, False, False]])]"
      ]
     },
     "execution_count": 294,
     "metadata": {},
     "output_type": "execute_result"
    }
   ],
   "source": [
    "[(n89 > 50) & (n89 % 2 == 0)]"
   ]
  },
  {
   "cell_type": "code",
   "execution_count": 295,
   "metadata": {},
   "outputs": [
    {
     "data": {
      "text/plain": [
       "array([72, 96, 94, 62, 98, 54, 74, 98, 80, 72, 90, 82, 74, 56, 88])"
      ]
     },
     "execution_count": 295,
     "metadata": {},
     "output_type": "execute_result"
    }
   ],
   "source": [
    "# using bit-wise operator - & (AND)\n",
    "n89[(n89 > 50) & (n89 % 2 == 0)]"
   ]
  },
  {
   "cell_type": "code",
   "execution_count": 297,
   "metadata": {},
   "outputs": [
    {
     "data": {
      "text/plain": [
       "array([72, 99, 53, 83, 71, 57, 24, 81, 87, 96, 71, 94, 89, 91, 62, 98, 69,\n",
       "       50, 38, 24, 54, 74, 98, 80, 18, 97, 10, 97, 72, 20, 90, 44, 44, 42,\n",
       "       14, 50, 16, 82, 81, 42, 57, 32, 71, 97, 46, 53, 95, 44, 74, 56, 87,\n",
       "       12, 10, 14, 99, 36, 18, 88, 24, 99])"
      ]
     },
     "execution_count": 297,
     "metadata": {},
     "output_type": "execute_result"
    }
   ],
   "source": [
    "# using bit-wise operator - | (OR)\n",
    "\n",
    "n89[(n89 > 50) | (n89 % 2 == 0)]"
   ]
  },
  {
   "cell_type": "code",
   "execution_count": 298,
   "metadata": {},
   "outputs": [],
   "source": [
    "# Mutablity "
   ]
  },
  {
   "cell_type": "code",
   "execution_count": 299,
   "metadata": {},
   "outputs": [
    {
     "data": {
      "text/plain": [
       "array([[72, 27, 99, 53, 43, 83, 71, 23, 57],\n",
       "       [24, 81, 87, 96, 71, 49, 94, 89, 91],\n",
       "       [62, 33, 35, 98, 69, 50, 38, 24, 54],\n",
       "       [74, 98, 80, 18, 97, 10, 17, 97, 72],\n",
       "       [20, 90, 17, 44, 44, 42, 14, 50, 37],\n",
       "       [16, 82, 81, 21, 43, 42, 57, 32, 71],\n",
       "       [97, 46, 53, 95, 44, 74, 56, 87, 12],\n",
       "       [10, 14, 99, 23, 36, 18, 88, 24, 99]])"
      ]
     },
     "execution_count": 299,
     "metadata": {},
     "output_type": "execute_result"
    }
   ],
   "source": [
    "n89"
   ]
  },
  {
   "cell_type": "code",
   "execution_count": 300,
   "metadata": {},
   "outputs": [
    {
     "data": {
      "text/plain": [
       "72"
      ]
     },
     "execution_count": 300,
     "metadata": {},
     "output_type": "execute_result"
    }
   ],
   "source": [
    "n89[0, 0]"
   ]
  },
  {
   "cell_type": "code",
   "execution_count": 301,
   "metadata": {},
   "outputs": [],
   "source": [
    "n89[0, 0] = 1000"
   ]
  },
  {
   "cell_type": "code",
   "execution_count": 302,
   "metadata": {},
   "outputs": [
    {
     "data": {
      "text/plain": [
       "array([[1000,   27,   99,   53,   43,   83,   71,   23,   57],\n",
       "       [  24,   81,   87,   96,   71,   49,   94,   89,   91],\n",
       "       [  62,   33,   35,   98,   69,   50,   38,   24,   54],\n",
       "       [  74,   98,   80,   18,   97,   10,   17,   97,   72],\n",
       "       [  20,   90,   17,   44,   44,   42,   14,   50,   37],\n",
       "       [  16,   82,   81,   21,   43,   42,   57,   32,   71],\n",
       "       [  97,   46,   53,   95,   44,   74,   56,   87,   12],\n",
       "       [  10,   14,   99,   23,   36,   18,   88,   24,   99]])"
      ]
     },
     "execution_count": 302,
     "metadata": {},
     "output_type": "execute_result"
    }
   ],
   "source": [
    "n89"
   ]
  },
  {
   "cell_type": "code",
   "execution_count": 304,
   "metadata": {},
   "outputs": [
    {
     "data": {
      "text/plain": [
       "array([[74, 98, 80, 18, 97, 10, 17, 97, 72],\n",
       "       [20, 90, 17, 44, 44, 42, 14, 50, 37]])"
      ]
     },
     "execution_count": 304,
     "metadata": {},
     "output_type": "execute_result"
    }
   ],
   "source": [
    "n89[3:5]"
   ]
  },
  {
   "cell_type": "code",
   "execution_count": 311,
   "metadata": {},
   "outputs": [],
   "source": [
    "#What if there is a need to replace these two rows with 0 to 18"
   ]
  },
  {
   "cell_type": "code",
   "execution_count": 312,
   "metadata": {},
   "outputs": [
    {
     "data": {
      "text/plain": [
       "array([[ 0,  1,  2,  3,  4,  5,  6,  7,  8],\n",
       "       [ 9, 10, 11, 12, 13, 14, 15, 16, 17]])"
      ]
     },
     "execution_count": 312,
     "metadata": {},
     "output_type": "execute_result"
    }
   ],
   "source": [
    "n18 = np.arange(0, 18).reshape(2, 9)\n",
    "n18"
   ]
  },
  {
   "cell_type": "code",
   "execution_count": 313,
   "metadata": {},
   "outputs": [],
   "source": [
    "n89[3:5] = n18"
   ]
  },
  {
   "cell_type": "code",
   "execution_count": 314,
   "metadata": {},
   "outputs": [
    {
     "data": {
      "text/plain": [
       "array([[1000,   27,   99,   53,   43,   83,   71,   23,   57],\n",
       "       [  24,   81,   87,   96,   71,   49,   94,   89,   91],\n",
       "       [  62,   33,   35,   98,   69,   50,   38,   24,   54],\n",
       "       [   0,    1,    2,    3,    4,    5,    6,    7,    8],\n",
       "       [   9,   10,   11,   12,   13,   14,   15,   16,   17],\n",
       "       [  16,   82,   81,   21,   43,   42,   57,   32,   71],\n",
       "       [  97,   46,   53,   95,   44,   74,   56,   87,   12],\n",
       "       [  10,   14,   99,   23,   36,   18,   88,   24,   99]])"
      ]
     },
     "execution_count": 314,
     "metadata": {},
     "output_type": "execute_result"
    }
   ],
   "source": [
    "n89"
   ]
  },
  {
   "cell_type": "code",
   "execution_count": 318,
   "metadata": {},
   "outputs": [
    {
     "data": {
      "text/plain": [
       "array([[1000,   27,   99,   53,   43,   83,   71,   23,   57],\n",
       "       [  24,   81,   87,   96,   71,   49,   94,   89,   91],\n",
       "       [  62,   33,   35,   98,   69,   50,   38,   24,   54],\n",
       "       [   0,    1,    2,    3,    4,    5,    6,    7,    8],\n",
       "       [   9,   10,   11,   12,   13,   14,   15,   16,   17],\n",
       "       [  16,   82,   81,   21,   43,   42,   57,   32,   71],\n",
       "       [  97,   46,   53,   95,   44,   74,   56,   87,   12],\n",
       "       [ 999,  999,  999,  999,  999,  999,  999,  999,  999]])"
      ]
     },
     "execution_count": 318,
     "metadata": {},
     "output_type": "execute_result"
    }
   ],
   "source": [
    "# replace the last row with 999\n",
    "n89[-1] = 999\n",
    "n89"
   ]
  },
  {
   "cell_type": "code",
   "execution_count": 321,
   "metadata": {},
   "outputs": [],
   "source": [
    "#Operations"
   ]
  },
  {
   "cell_type": "code",
   "execution_count": 323,
   "metadata": {},
   "outputs": [
    {
     "data": {
      "text/plain": [
       "array([ 0,  1,  2,  3,  4,  5,  6,  7,  8,  9, 10, 11, 12, 13, 14, 15, 16,\n",
       "       17, 18, 19])"
      ]
     },
     "execution_count": 323,
     "metadata": {},
     "output_type": "execute_result"
    }
   ],
   "source": [
    "n1 = np.arange(20)\n",
    "n1"
   ]
  },
  {
   "cell_type": "code",
   "execution_count": 326,
   "metadata": {},
   "outputs": [
    {
     "data": {
      "text/plain": [
       "array([ 1,  2,  3,  4,  5,  6,  7,  8,  9, 10, 11, 12, 13, 14, 15, 16, 17,\n",
       "       18, 19, 20])"
      ]
     },
     "execution_count": 326,
     "metadata": {},
     "output_type": "execute_result"
    }
   ],
   "source": [
    "n2 = np.arange(1, 21)\n",
    "n2"
   ]
  },
  {
   "cell_type": "code",
   "execution_count": 327,
   "metadata": {},
   "outputs": [
    {
     "data": {
      "text/plain": [
       "array([1, 1, 1, 1, 1, 1, 1, 1, 1, 1, 1, 1, 1, 1, 1, 1, 1, 1, 1, 1])"
      ]
     },
     "execution_count": 327,
     "metadata": {},
     "output_type": "execute_result"
    }
   ],
   "source": [
    "n2-n1"
   ]
  },
  {
   "cell_type": "code",
   "execution_count": 328,
   "metadata": {},
   "outputs": [
    {
     "data": {
      "text/plain": [
       "array([ 1,  3,  5,  7,  9, 11, 13, 15, 17, 19, 21, 23, 25, 27, 29, 31, 33,\n",
       "       35, 37, 39])"
      ]
     },
     "execution_count": 328,
     "metadata": {},
     "output_type": "execute_result"
    }
   ],
   "source": [
    "n2+n1"
   ]
  },
  {
   "cell_type": "code",
   "execution_count": 329,
   "metadata": {},
   "outputs": [
    {
     "data": {
      "text/plain": [
       "array([  0,   2,   6,  12,  20,  30,  42,  56,  72,  90, 110, 132, 156,\n",
       "       182, 210, 240, 272, 306, 342, 380])"
      ]
     },
     "execution_count": 329,
     "metadata": {},
     "output_type": "execute_result"
    }
   ],
   "source": [
    "n2*n1"
   ]
  },
  {
   "cell_type": "code",
   "execution_count": 331,
   "metadata": {},
   "outputs": [
    {
     "data": {
      "text/plain": [
       "array([0.        , 0.5       , 0.66666667, 0.75      , 0.8       ,\n",
       "       0.83333333, 0.85714286, 0.875     , 0.88888889, 0.9       ,\n",
       "       0.90909091, 0.91666667, 0.92307692, 0.92857143, 0.93333333,\n",
       "       0.9375    , 0.94117647, 0.94444444, 0.94736842, 0.95      ])"
      ]
     },
     "execution_count": 331,
     "metadata": {},
     "output_type": "execute_result"
    }
   ],
   "source": [
    "n1/n2"
   ]
  },
  {
   "cell_type": "code",
   "execution_count": 332,
   "metadata": {},
   "outputs": [
    {
     "data": {
      "text/plain": [
       "array([[ 0,  1,  2,  3],\n",
       "       [ 4,  5,  6,  7],\n",
       "       [ 8,  9, 10, 11]])"
      ]
     },
     "execution_count": 332,
     "metadata": {},
     "output_type": "execute_result"
    }
   ],
   "source": [
    "# element to element 2D\n",
    "n34a = np.arange(12).reshape(3, 4)\n",
    "n34a"
   ]
  },
  {
   "cell_type": "code",
   "execution_count": 334,
   "metadata": {},
   "outputs": [
    {
     "data": {
      "text/plain": [
       "array([[10, 11, 12, 13],\n",
       "       [14, 15, 16, 17],\n",
       "       [18, 19, 20, 21]])"
      ]
     },
     "execution_count": 334,
     "metadata": {},
     "output_type": "execute_result"
    }
   ],
   "source": [
    "# element to element 2D\n",
    "n34b = np.arange(10, 22).reshape(3, 4)\n",
    "n34b"
   ]
  },
  {
   "cell_type": "code",
   "execution_count": 335,
   "metadata": {},
   "outputs": [
    {
     "data": {
      "text/plain": [
       "array([[10, 12, 14, 16],\n",
       "       [18, 20, 22, 24],\n",
       "       [26, 28, 30, 32]])"
      ]
     },
     "execution_count": 335,
     "metadata": {},
     "output_type": "execute_result"
    }
   ],
   "source": [
    "n34a + n34b"
   ]
  },
  {
   "cell_type": "code",
   "execution_count": 336,
   "metadata": {},
   "outputs": [
    {
     "data": {
      "text/plain": [
       "array([[10, 10, 10, 10],\n",
       "       [10, 10, 10, 10],\n",
       "       [10, 10, 10, 10]])"
      ]
     },
     "execution_count": 336,
     "metadata": {},
     "output_type": "execute_result"
    }
   ],
   "source": [
    "n34b - n34a"
   ]
  },
  {
   "cell_type": "code",
   "execution_count": 346,
   "metadata": {},
   "outputs": [
    {
     "data": {
      "text/plain": [
       "array([[  0,  11,  24,  39],\n",
       "       [ 56,  75,  96, 119],\n",
       "       [144, 171, 200, 231]])"
      ]
     },
     "execution_count": 346,
     "metadata": {},
     "output_type": "execute_result"
    }
   ],
   "source": [
    "n34a * n34b #element wise multiplication (Not a dot product - for dot product @ (np.dot))"
   ]
  },
  {
   "cell_type": "code",
   "execution_count": 347,
   "metadata": {},
   "outputs": [
    {
     "data": {
      "text/plain": [
       "array([[0.        , 0.09090909, 0.16666667, 0.23076923],\n",
       "       [0.28571429, 0.33333333, 0.375     , 0.41176471],\n",
       "       [0.44444444, 0.47368421, 0.5       , 0.52380952]])"
      ]
     },
     "execution_count": 347,
     "metadata": {},
     "output_type": "execute_result"
    }
   ],
   "source": [
    "n34a/n34b"
   ]
  },
  {
   "cell_type": "code",
   "execution_count": 348,
   "metadata": {},
   "outputs": [
    {
     "ename": "ValueError",
     "evalue": "matmul: Input operand 1 has a mismatch in its core dimension 0, with gufunc signature (n?,k),(k,m?)->(n?,m?) (size 3 is different from 4)",
     "output_type": "error",
     "traceback": [
      "\u001b[0;31m---------------------------------------------------------------------------\u001b[0m",
      "\u001b[0;31mValueError\u001b[0m                                Traceback (most recent call last)",
      "Cell \u001b[0;32mIn[348], line 1\u001b[0m\n\u001b[0;32m----> 1\u001b[0m \u001b[43mn34a\u001b[49m\u001b[43m \u001b[49m\u001b[38;5;241;43m@\u001b[39;49m\u001b[43m \u001b[49m\u001b[43mn34b\u001b[49m \u001b[38;5;66;03m# Matrix multiplication using either np.dot or operator @\u001b[39;00m\n",
      "\u001b[0;31mValueError\u001b[0m: matmul: Input operand 1 has a mismatch in its core dimension 0, with gufunc signature (n?,k),(k,m?)->(n?,m?) (size 3 is different from 4)"
     ]
    }
   ],
   "source": [
    "n34a @ n34b # Matrix multiplication using either np.dot or operator @"
   ]
  },
  {
   "cell_type": "code",
   "execution_count": 349,
   "metadata": {},
   "outputs": [],
   "source": [
    "# m X n @ n X k = m X k"
   ]
  },
  {
   "cell_type": "code",
   "execution_count": 350,
   "metadata": {},
   "outputs": [
    {
     "data": {
      "text/plain": [
       "array([[ 74,  98, 122],\n",
       "       [258, 346, 434],\n",
       "       [442, 594, 746]])"
      ]
     },
     "execution_count": 350,
     "metadata": {},
     "output_type": "execute_result"
    }
   ],
   "source": [
    "n34a @ n34b.T # Matrix multiplication (Transpose - This is to transpose - we can use either .T or np.transpose"
   ]
  },
  {
   "cell_type": "code",
   "execution_count": 351,
   "metadata": {},
   "outputs": [],
   "source": [
    "#Broadcasting"
   ]
  },
  {
   "cell_type": "code",
   "execution_count": 352,
   "metadata": {},
   "outputs": [
    {
     "data": {
      "text/plain": [
       "array([[ 0,  1,  2,  3],\n",
       "       [ 4,  5,  6,  7],\n",
       "       [ 8,  9, 10, 11]])"
      ]
     },
     "execution_count": 352,
     "metadata": {},
     "output_type": "execute_result"
    }
   ],
   "source": [
    "n34 = np.arange(12).reshape(3, 4)\n",
    "n34"
   ]
  },
  {
   "cell_type": "code",
   "execution_count": 353,
   "metadata": {},
   "outputs": [
    {
     "data": {
      "text/plain": [
       "array([[ 99, 100, 101, 102],\n",
       "       [103, 104, 105, 106],\n",
       "       [107, 108, 109, 110]])"
      ]
     },
     "execution_count": 353,
     "metadata": {},
     "output_type": "execute_result"
    }
   ],
   "source": [
    "n34 + 99 # scalar value will stretch to meet the dimension of the matrix - scalar broadcasting"
   ]
  },
  {
   "cell_type": "code",
   "execution_count": 354,
   "metadata": {},
   "outputs": [
    {
     "data": {
      "text/plain": [
       "array([[90],\n",
       "       [91],\n",
       "       [92]])"
      ]
     },
     "execution_count": 354,
     "metadata": {},
     "output_type": "execute_result"
    }
   ],
   "source": [
    "n31 = np.arange(90, 93).reshape(3, 1)\n",
    "n31"
   ]
  },
  {
   "cell_type": "code",
   "execution_count": 355,
   "metadata": {},
   "outputs": [
    {
     "name": "stdout",
     "output_type": "stream",
     "text": [
      "[[ 0  1  2  3]\n",
      " [ 4  5  6  7]\n",
      " [ 8  9 10 11]]\n"
     ]
    }
   ],
   "source": [
    "print(n34)"
   ]
  },
  {
   "cell_type": "code",
   "execution_count": 356,
   "metadata": {},
   "outputs": [
    {
     "name": "stdout",
     "output_type": "stream",
     "text": [
      "[[90]\n",
      " [91]\n",
      " [92]]\n"
     ]
    }
   ],
   "source": [
    "print(n31)"
   ]
  },
  {
   "cell_type": "code",
   "execution_count": 358,
   "metadata": {},
   "outputs": [
    {
     "data": {
      "text/plain": [
       "array([[ 90,  91,  92,  93],\n",
       "       [ 95,  96,  97,  98],\n",
       "       [100, 101, 102, 103]])"
      ]
     },
     "execution_count": 358,
     "metadata": {},
     "output_type": "execute_result"
    }
   ],
   "source": [
    "n34 + n31 # axix 1 broadcasting or axis 1 stretching"
   ]
  },
  {
   "cell_type": "raw",
   "metadata": {},
   "source": [
    "[ 0  1  2  3] [90 90 90 90]\n",
    "[ 4  5  6  7] [91 91 91 91]\n",
    "[ 8  9 10 11] [92 92 92 92]"
   ]
  },
  {
   "cell_type": "code",
   "execution_count": 359,
   "metadata": {},
   "outputs": [
    {
     "data": {
      "text/plain": [
       "array([[100, 101],\n",
       "       [102, 103],\n",
       "       [104, 105]])"
      ]
     },
     "execution_count": 359,
     "metadata": {},
     "output_type": "execute_result"
    }
   ],
   "source": [
    "n32 = np.arange(100, 106).reshape(3, 2)\n",
    "n32"
   ]
  },
  {
   "cell_type": "code",
   "execution_count": 360,
   "metadata": {},
   "outputs": [
    {
     "ename": "ValueError",
     "evalue": "operands could not be broadcast together with shapes (3,4) (3,2) ",
     "output_type": "error",
     "traceback": [
      "\u001b[0;31m---------------------------------------------------------------------------\u001b[0m",
      "\u001b[0;31mValueError\u001b[0m                                Traceback (most recent call last)",
      "Cell \u001b[0;32mIn[360], line 1\u001b[0m\n\u001b[0;32m----> 1\u001b[0m \u001b[43mn34\u001b[49m\u001b[43m \u001b[49m\u001b[38;5;241;43m+\u001b[39;49m\u001b[43m \u001b[49m\u001b[43mn32\u001b[49m\n",
      "\u001b[0;31mValueError\u001b[0m: operands could not be broadcast together with shapes (3,4) (3,2) "
     ]
    }
   ],
   "source": [
    "n34 + n32"
   ]
  },
  {
   "cell_type": "code",
   "execution_count": 361,
   "metadata": {},
   "outputs": [
    {
     "data": {
      "text/plain": [
       "array([[100, 101, 102, 103]])"
      ]
     },
     "execution_count": 361,
     "metadata": {},
     "output_type": "execute_result"
    }
   ],
   "source": [
    "n14 = np.arange(100, 104).reshape(1, 4)\n",
    "n14"
   ]
  },
  {
   "cell_type": "code",
   "execution_count": 363,
   "metadata": {},
   "outputs": [
    {
     "data": {
      "text/plain": [
       "array([[100, 102, 104, 106],\n",
       "       [104, 106, 108, 110],\n",
       "       [108, 110, 112, 114]])"
      ]
     },
     "execution_count": 363,
     "metadata": {},
     "output_type": "execute_result"
    }
   ],
   "source": [
    "n34 + n14 # axis 0 broadcasting or axis 0 stretching"
   ]
  },
  {
   "cell_type": "code",
   "execution_count": 370,
   "metadata": {},
   "outputs": [
    {
     "name": "stdout",
     "output_type": "stream",
     "text": [
      "[[0 1 2]]\n",
      "\n",
      "[[100]\n",
      " [101]\n",
      " [102]\n",
      " [103]]\n"
     ]
    }
   ],
   "source": [
    "n13 = np.arange(3).reshape(1, 3)\n",
    "print(n13)\n",
    "print()\n",
    "n41 = np.arange(100, 104).reshape(4, 1)\n",
    "print(n41)"
   ]
  },
  {
   "cell_type": "code",
   "execution_count": 369,
   "metadata": {},
   "outputs": [
    {
     "data": {
      "text/plain": [
       "array([[100, 101, 102],\n",
       "       [101, 102, 103],\n",
       "       [102, 103, 104],\n",
       "       [103, 104, 105]])"
      ]
     },
     "execution_count": 369,
     "metadata": {},
     "output_type": "execute_result"
    }
   ],
   "source": [
    "n13 + n41 #both axix broadcasting or both axis streching"
   ]
  },
  {
   "cell_type": "raw",
   "metadata": {},
   "source": [
    "0 1 2    100 100 100\n",
    "0 1 2    101 101 101\n",
    "0 1 2    102 102 102\n",
    "0 1 2    103 103 103"
   ]
  },
  {
   "cell_type": "code",
   "execution_count": null,
   "metadata": {},
   "outputs": [],
   "source": []
  }
 ],
 "metadata": {
  "kernelspec": {
   "display_name": "Python 3 (ipykernel)",
   "language": "python",
   "name": "python3"
  },
  "language_info": {
   "codemirror_mode": {
    "name": "ipython",
    "version": 3
   },
   "file_extension": ".py",
   "mimetype": "text/x-python",
   "name": "python",
   "nbconvert_exporter": "python",
   "pygments_lexer": "ipython3",
   "version": "3.9.16"
  }
 },
 "nbformat": 4,
 "nbformat_minor": 2
}
