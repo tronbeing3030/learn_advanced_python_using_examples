{
 "cells": [
  {
   "cell_type": "markdown",
   "metadata": {
    "colab_type": "text",
    "id": "eYTOufuWRbUF"
   },
   "source": [
    "<table align=\"left\" width=100%>\n",
    "    <tr>\n",
    "        <td width=\"12%\">\n",
    "            <img src=\"../images/RA_Logo.png\">\n",
    "        </td>\n",
    "        <td>\n",
    "            <div align=\"center\">\n",
    "                <font color=\"#21618C\" size=8px>\n",
    "                    <b>Advanced Python Programming <br> (Day 2) </b>\n",
    "                    </b>\n",
    "                </font>\n",
    "            </div>\n",
    "        </td>\n",
    "    </tr>\n",
    "</table>"
   ]
  },
  {
   "cell_type": "markdown",
   "metadata": {},
   "source": [
    "<table align=\"left\">\n",
    "  <td>\n",
    "    <a href=\"https://colab.research.google.com/github/vidyadharbendre/learn_advanced_python_using_examples/blob/main/notebooks/Advanced/advanced_python_programming_2.ipynb\" target=\"_parent\"><img src=\"https://colab.research.google.com/assets/colab-badge.svg\" alt=\"Open In Colab\"/></a>\n",
    "  </td>\n",
    "  <td>\n",
    "    <a target=\"_blank\" href=\"https://kaggle.com/kernels/welcome?src=https://github.com/vidyadharbendre/learn_advanced_python_using_examples/blob/main/notebooks/Advanced/advanced_python_programming_2.ipynb\"><img src=\"https://kaggle.com/static/images/open-in-kaggle.svg\" /></a>\n",
    "  </td>\n",
    " <td>\n",
    "    <a target=\"_blank\" href=\"https://github.com/vidyadharbendre/learn_advanced_python_using_examples/blob/main/notebooks/Advanced/advanced_python_programming_2.ipynb\">\n",
    "      <img src=\"https://img.shields.io/badge/Open%20in-GitHub-100000?style=flat&logo=github&logoColor=white\" alt=\"Open in GitHub\"/>\n",
    "    </a>\n",
    "  </td>\n",
    "\n",
    "</table>"
   ]
  },
  {
   "cell_type": "code",
   "execution_count": null,
   "metadata": {},
   "outputs": [],
   "source": [
    "import os\n",
    "import numpy as np\n",
    "import pandas as pd"
   ]
  },
  {
   "cell_type": "code",
   "execution_count": null,
   "metadata": {},
   "outputs": [],
   "source": [
    "# How to access the current working directory\n",
    "\n",
    "import os\n",
    "os.getcwd()"
   ]
  },
  {
   "cell_type": "code",
   "execution_count": null,
   "metadata": {},
   "outputs": [],
   "source": [
    "!pip show pandas"
   ]
  },
  {
   "cell_type": "code",
   "execution_count": null,
   "metadata": {},
   "outputs": [],
   "source": [
    "#!conda install pandas\n",
    "# or\n",
    "#!pip install pandas"
   ]
  },
  {
   "cell_type": "code",
   "execution_count": null,
   "metadata": {},
   "outputs": [],
   "source": [
    "import pandas as pd"
   ]
  },
  {
   "cell_type": "markdown",
   "metadata": {
    "colab_type": "text",
    "id": "Mgcw8bP2RbUG"
   },
   "source": [
    "## Table of Content.\n",
    "1. **[Series](#Series)**\n",
    "2. **[Data Structures with Examples](#Data_Structures)**\n",
    "3. **[Create and Manipulate the Data Frames](#create_manipulate)**\n",
    "4. **[Sorting](#sorting)**\n",
    "5. **[Ranking](#ranking)**"
   ]
  },
  {
   "cell_type": "markdown",
   "metadata": {
    "colab_type": "text",
    "id": "WM1yn7xRRbUH"
   },
   "source": [
    "### Let's begin with some hands-on practice exercises."
   ]
  },
  {
   "cell_type": "markdown",
   "metadata": {},
   "source": [
    "<a id='Series'></a>\n",
    "## 1. Series Data Structures with Examples"
   ]
  },
  {
   "cell_type": "markdown",
   "metadata": {},
   "source": [
    "<table align=\"left\">\n",
    "    <tr>\n",
    "        <td width=\"6%\">\n",
    "            <img src=\"../images/RA_Logo.png\">\n",
    "        </td>\n",
    "        <td>\n",
    "            <div align=\"left\", style=\"font-size:120%\">\n",
    "                <font color=\"#21618C\">\n",
    "                    <b>0. Series and Data Frames\n",
    "<b>\n",
    "                </font>\n",
    "            </div>\n",
    "        </td>\n",
    "    </tr>\n",
    "</table>"
   ]
  },
  {
   "cell_type": "code",
   "execution_count": null,
   "metadata": {},
   "outputs": [],
   "source": [
    "#marks obtained in PCMB\n",
    "my_marks = [80, 50, 98, 79]\n",
    "my_marks"
   ]
  },
  {
   "cell_type": "code",
   "execution_count": null,
   "metadata": {},
   "outputs": [],
   "source": [
    "pd.Series()"
   ]
  },
  {
   "cell_type": "code",
   "execution_count": null,
   "metadata": {},
   "outputs": [],
   "source": [
    "pd.Series(my_marks)"
   ]
  },
  {
   "cell_type": "code",
   "execution_count": null,
   "metadata": {},
   "outputs": [],
   "source": [
    "s1 = pd.Series(my_marks)\n",
    "print(type(s1))\n",
    "print()\n",
    "print(s1)"
   ]
  },
  {
   "cell_type": "code",
   "execution_count": null,
   "metadata": {},
   "outputs": [],
   "source": [
    "#dir(s1) - This is to understand the everything about s1 (series data)"
   ]
  },
  {
   "cell_type": "code",
   "execution_count": null,
   "metadata": {},
   "outputs": [],
   "source": [
    "s1.values"
   ]
  },
  {
   "cell_type": "code",
   "execution_count": null,
   "metadata": {},
   "outputs": [],
   "source": [
    "type(s1.values)"
   ]
  },
  {
   "cell_type": "code",
   "execution_count": null,
   "metadata": {},
   "outputs": [],
   "source": [
    "print(s1.values)\n",
    "print()\n",
    "print(type(s1.values))"
   ]
  },
  {
   "cell_type": "code",
   "execution_count": null,
   "metadata": {},
   "outputs": [],
   "source": [
    "my_marks = [80, 50, 98, 79]\n",
    "s1 = pd.Series(my_marks)\n",
    "print(type(s1))\n",
    "print()\n",
    "print(s1)\n",
    "print()\n",
    "print(type(s1.values))\n",
    "print()\n",
    "print(s1.ndim)\n",
    "print()\n",
    "print(s1.shape)\n",
    "print()\n",
    "print(s1.index)"
   ]
  },
  {
   "cell_type": "code",
   "execution_count": null,
   "metadata": {},
   "outputs": [],
   "source": [
    "my_marks = [80, 50, 98, 79]\n",
    "my_marks"
   ]
  },
  {
   "cell_type": "code",
   "execution_count": null,
   "metadata": {},
   "outputs": [],
   "source": [
    "pd.Series(my_marks)"
   ]
  },
  {
   "cell_type": "code",
   "execution_count": null,
   "metadata": {},
   "outputs": [],
   "source": [
    "my_marks = [80, 50, 98, 79]\n",
    "s1 = pd.Series(my_marks, index=['Physics', 'Chemistry', 'Maths', 'Biology'])\n",
    "print(type(s1))\n",
    "print()\n",
    "print(s1)\n",
    "print()\n",
    "print(type(s1.values))\n",
    "print()\n",
    "print(s1.ndim)\n",
    "print()\n",
    "print(s1.shape)\n",
    "print()\n",
    "print(s1.index)"
   ]
  },
  {
   "cell_type": "code",
   "execution_count": null,
   "metadata": {},
   "outputs": [],
   "source": [
    "s1.index"
   ]
  },
  {
   "cell_type": "markdown",
   "metadata": {},
   "source": [
    "<table align=\"left\">\n",
    "    <tr>\n",
    "        <td width=\"6%\">\n",
    "            <img src=\"../images/RA_Logo.png\">\n",
    "        </td>\n",
    "        <td>\n",
    "            <div align=\"left\", style=\"font-size:120%\">\n",
    "                <font color=\"#21618C\">\n",
    "                    <b>0. Write a Python program to depict the share prices of Tata, Birla, Wipro, and Infosys for the given share_prices = [850, 720, 410, 1650]\n",
    "<b>\n",
    "                </font>\n",
    "            </div>\n",
    "        </td>\n",
    "    </tr>\n",
    "</table>"
   ]
  },
  {
   "cell_type": "code",
   "execution_count": null,
   "metadata": {},
   "outputs": [],
   "source": [
    "import pandas as pd\n",
    "\n",
    "# Define share prices\n",
    "share_prices = [850, 720, 410, 1650]  # Example share prices\n",
    "\n",
    "# Create a Pandas Series with company names as index\n",
    "s1 = pd.Series(share_prices, index=['Tata', 'Birla', 'Wipro', 'Infosys'])\n",
    "\n",
    "# Print the type of the Series\n",
    "print(type(s1))\n",
    "print()\n",
    "\n",
    "# Print the Series\n",
    "print(s1)\n",
    "print()\n",
    "\n",
    "# Print the type of values\n",
    "print(type(s1.values))\n",
    "print()\n",
    "\n",
    "# Print the number of dimensions\n",
    "print(s1.ndim)\n",
    "print()\n",
    "\n",
    "# Print the shape of the Series\n",
    "print(s1.shape)\n",
    "print()\n",
    "\n",
    "# Print the index labels\n",
    "print(s1.index)"
   ]
  },
  {
   "cell_type": "markdown",
   "metadata": {},
   "source": [
    "<table align=\"left\">\n",
    "    <tr>\n",
    "        <td width=\"6%\">\n",
    "            <img src=\"../images/RA_Logo.png\">\n",
    "        </td>\n",
    "        <td>\n",
    "            <div align=\"left\", style=\"font-size:120%\">\n",
    "                <font color=\"#21618C\">\n",
    "                    <b>1. Write a Python program to depict the share prices of Tata, Birla, Wipro, and Infosys using dictionary = [850, 720, 410, 1650]\n",
    "<b>\n",
    "                </font>\n",
    "            </div>\n",
    "        </td>\n",
    "    </tr>\n",
    "</table>"
   ]
  },
  {
   "cell_type": "code",
   "execution_count": null,
   "metadata": {},
   "outputs": [],
   "source": [
    "#dictionary = {key:<value>}"
   ]
  },
  {
   "cell_type": "code",
   "execution_count": null,
   "metadata": {},
   "outputs": [],
   "source": [
    "#by default - when you pass dictionary - key elements becomes index in series"
   ]
  },
  {
   "cell_type": "code",
   "execution_count": null,
   "metadata": {},
   "outputs": [],
   "source": [
    "d1 = {'Tata': 850, 'Birla': 720, 'Wipro': 410, 'Infyosys': 1650}\n",
    "sd1 = pd.Series(d1)\n",
    "sd1"
   ]
  },
  {
   "cell_type": "code",
   "execution_count": null,
   "metadata": {},
   "outputs": [],
   "source": [
    "print(sd1.index)\n",
    "print()\n",
    "print(sd1.values)"
   ]
  },
  {
   "cell_type": "code",
   "execution_count": null,
   "metadata": {},
   "outputs": [],
   "source": [
    "# by passing the key, returns the respective value for that key\n",
    "sd1['Tata']"
   ]
  },
  {
   "cell_type": "markdown",
   "metadata": {},
   "source": [
    "<table align=\"left\">\n",
    "    <tr>\n",
    "        <td width=\"6%\">\n",
    "            <img src=\"../images/RA_Logo.png\">\n",
    "        </td>\n",
    "        <td>\n",
    "            <div align=\"left\", style=\"font-size:120%\">\n",
    "                <font color=\"#21618C\">\n",
    "                    <b>2. Write a Python program to access share prices of Tata, Birla, Wipro, and Infosys using dictionary = [850, 720, 410, 1650]\n",
    "<b>\n",
    "                </font>\n",
    "            </div>\n",
    "        </td>\n",
    "    </tr>\n",
    "</table>"
   ]
  },
  {
   "cell_type": "code",
   "execution_count": null,
   "metadata": {},
   "outputs": [],
   "source": [
    "# access through numeric index\n",
    "sd1[0]"
   ]
  },
  {
   "cell_type": "code",
   "execution_count": null,
   "metadata": {},
   "outputs": [],
   "source": [
    "sd1"
   ]
  },
  {
   "cell_type": "code",
   "execution_count": null,
   "metadata": {},
   "outputs": [],
   "source": [
    "sd1.iloc[3]"
   ]
  },
  {
   "cell_type": "code",
   "execution_count": null,
   "metadata": {},
   "outputs": [],
   "source": [
    "# access through numeric index (to access row values)\n",
    "sd1.iloc[0]"
   ]
  },
  {
   "cell_type": "code",
   "execution_count": null,
   "metadata": {},
   "outputs": [],
   "source": [
    "#access through string index\n",
    "sd1['Wipro':'Infyosys'] # if string slice, the endpoint is included"
   ]
  },
  {
   "cell_type": "code",
   "execution_count": null,
   "metadata": {},
   "outputs": [],
   "source": [
    "sd1[2:4]"
   ]
  },
  {
   "cell_type": "code",
   "execution_count": null,
   "metadata": {},
   "outputs": [],
   "source": [
    "#access through string index\n",
    "sd1['Wipro':]"
   ]
  },
  {
   "cell_type": "code",
   "execution_count": null,
   "metadata": {},
   "outputs": [],
   "source": [
    "sd1"
   ]
  },
  {
   "cell_type": "code",
   "execution_count": null,
   "metadata": {},
   "outputs": [],
   "source": [
    "sd1[1:3] #if it is numerical slice, endpoint is excluded"
   ]
  },
  {
   "cell_type": "code",
   "execution_count": null,
   "metadata": {},
   "outputs": [],
   "source": [
    "sd1"
   ]
  },
  {
   "cell_type": "code",
   "execution_count": null,
   "metadata": {},
   "outputs": [],
   "source": [
    "sd1[['Tata', 'Wipro']]"
   ]
  },
  {
   "cell_type": "code",
   "execution_count": null,
   "metadata": {},
   "outputs": [],
   "source": [
    "#access individual through vector of labels\n",
    "sd1[['Tata', 'Wipro']]"
   ]
  },
  {
   "cell_type": "code",
   "execution_count": null,
   "metadata": {},
   "outputs": [],
   "source": [
    "# conditional access\n",
    "sd1>750"
   ]
  },
  {
   "cell_type": "code",
   "execution_count": null,
   "metadata": {},
   "outputs": [],
   "source": [
    "sd1[sd1>750]"
   ]
  },
  {
   "cell_type": "code",
   "execution_count": null,
   "metadata": {},
   "outputs": [],
   "source": [
    "#value_count returns series\n",
    "my_marks_dictionary = {'Physics':80, 'Chemistry':50, 'Maths':80, 'Biology':79, 'Statstics': 80}\n",
    "s2 = pd.Series(my_marks_dictionary)\n",
    "print(type(s2))\n",
    "print()\n",
    "print(s2)\n",
    "print()\n",
    "print(type(s2.values))\n",
    "print()\n",
    "print(s2.ndim)\n",
    "print()\n",
    "print(s2.shape)\n",
    "print()\n",
    "print(s2.index)\n",
    "print()\n",
    "print(s2.value_counts())"
   ]
  },
  {
   "cell_type": "code",
   "execution_count": null,
   "metadata": {},
   "outputs": [],
   "source": [
    "s2.value_counts()"
   ]
  },
  {
   "cell_type": "code",
   "execution_count": null,
   "metadata": {},
   "outputs": [],
   "source": [
    "#Summarize: Pandas - (1) Series \n",
    "\n",
    "#1. list as a parameter\n",
    "#2. explicitely assign values to index\n",
    "#3. dictionary as a parameter\n",
    "#4. keys becomes indexes by default\n",
    "#5. internally it stores as ndarry (numpy)\n",
    "#6. value_counts (frequencies/occurances of each value)\n",
    "#7. string slicing (end point included) vs numeric slicing (end point excluded)\n",
    "#8. accessing as a vector [[]] - enclosed within two double quotes\n",
    "#9. dir(object) - get to see the entire details about the object"
   ]
  },
  {
   "cell_type": "markdown",
   "metadata": {
    "colab_type": "text",
    "id": "M505ZfgeRbUH"
   },
   "source": [
    "<a id='Data_Structures'></a>\n",
    "## 2. Data Structures with Examples"
   ]
  },
  {
   "cell_type": "code",
   "execution_count": null,
   "metadata": {},
   "outputs": [],
   "source": [
    "import pandas as pd"
   ]
  },
  {
   "cell_type": "code",
   "execution_count": null,
   "metadata": {},
   "outputs": [],
   "source": [
    "md1 = {\n",
    "    \"Min\" : [40, 40, 40, 40],\n",
    "    \"Max\": [100, 100, 100, 100],\n",
    "    \"Actual\": [82, 95, 81, 93]\n",
    "}\n",
    "md1"
   ]
  },
  {
   "cell_type": "code",
   "execution_count": null,
   "metadata": {},
   "outputs": [],
   "source": [
    "row_labels = ['P', 'C', 'M', 'B']\n",
    "row_labels"
   ]
  },
  {
   "cell_type": "code",
   "execution_count": null,
   "metadata": {},
   "outputs": [],
   "source": [
    "df = pd.DataFrame(data=md1, index=row_labels)\n",
    "df"
   ]
  },
  {
   "cell_type": "code",
   "execution_count": null,
   "metadata": {},
   "outputs": [],
   "source": [
    "type(df['Actual'])"
   ]
  },
  {
   "cell_type": "code",
   "execution_count": null,
   "metadata": {},
   "outputs": [],
   "source": [
    "df.Actual.value_counts()"
   ]
  },
  {
   "cell_type": "code",
   "execution_count": null,
   "metadata": {},
   "outputs": [],
   "source": [
    "df.index"
   ]
  },
  {
   "cell_type": "code",
   "execution_count": null,
   "metadata": {},
   "outputs": [],
   "source": [
    "df.columns"
   ]
  },
  {
   "cell_type": "code",
   "execution_count": null,
   "metadata": {},
   "outputs": [],
   "source": [
    "df"
   ]
  },
  {
   "cell_type": "code",
   "execution_count": null,
   "metadata": {},
   "outputs": [],
   "source": [
    "#dir(df)"
   ]
  },
  {
   "cell_type": "code",
   "execution_count": null,
   "metadata": {},
   "outputs": [],
   "source": [
    "#Creation of dataframe using dictionary\n",
    "\n",
    "md1 = {'Min': [40, 40, 40, 40], 'Max': [100, 100, 100, 100], 'Actual': [80, 50, 80, 79] }\n",
    "md1"
   ]
  },
  {
   "cell_type": "code",
   "execution_count": null,
   "metadata": {},
   "outputs": [],
   "source": [
    "mdf1 = pd.DataFrame(md1)\n",
    "print(mdf1)"
   ]
  },
  {
   "cell_type": "code",
   "execution_count": null,
   "metadata": {},
   "outputs": [],
   "source": [
    "#keys becomes column headings"
   ]
  },
  {
   "cell_type": "code",
   "execution_count": null,
   "metadata": {},
   "outputs": [],
   "source": [
    "#value_count returns series\n",
    "\n",
    "md1 = {'Min': [40, 40, 40, 40], 'Max': [100, 100, 100, 100], 'Actual': [80, 50, 80, 79] }\n",
    "row_label = ['Physics', 'Chemistry', 'Maths', 'Biology']\n",
    "mdf1 = pd.DataFrame(md1, index=row_label)\n",
    "print(mdf1)"
   ]
  },
  {
   "cell_type": "code",
   "execution_count": null,
   "metadata": {},
   "outputs": [],
   "source": [
    "print(mdf1.shape)\n",
    "print()\n",
    "print(mdf1.index)\n",
    "print()\n",
    "print(mdf1.columns)\n"
   ]
  },
  {
   "cell_type": "code",
   "execution_count": null,
   "metadata": {},
   "outputs": [],
   "source": [
    "mdf1.shape"
   ]
  },
  {
   "cell_type": "code",
   "execution_count": null,
   "metadata": {},
   "outputs": [],
   "source": [
    "data_list = [ [40, 100, 80],\n",
    "              [40, 100, 50],  \n",
    "              [40, 100, 80],\n",
    "              [40, 100, 79]]\n",
    "data_list\n",
    "df = pd.DataFrame(data_list)\n",
    "df"
   ]
  },
  {
   "cell_type": "code",
   "execution_count": null,
   "metadata": {},
   "outputs": [],
   "source": [
    "row_label = ['Physics', 'Chemistry', 'Maths', 'Biology']\n",
    "col_label = ['Min', 'Max', 'Actual']"
   ]
  },
  {
   "cell_type": "code",
   "execution_count": null,
   "metadata": {},
   "outputs": [],
   "source": [
    "df2 = pd.DataFrame(data=data_list, index=row_label, columns=col_label)\n",
    "df2"
   ]
  },
  {
   "cell_type": "code",
   "execution_count": null,
   "metadata": {},
   "outputs": [],
   "source": [
    "import numpy as np"
   ]
  },
  {
   "cell_type": "code",
   "execution_count": null,
   "metadata": {},
   "outputs": [],
   "source": [
    "np.random.seed(42)\n",
    "np.random.randint(10, 100, size=(4, 3))"
   ]
  },
  {
   "cell_type": "markdown",
   "metadata": {},
   "source": [
    "<table align=\"left\">\n",
    "    <tr>\n",
    "        <td width=\"6%\">\n",
    "            <img src=\"../images/RA_Logo.png\">\n",
    "        </td>\n",
    "        <td>\n",
    "            <div align=\"left\" style=\"font-size:120%\">\n",
    "                <font color=\"#21618C\">\n",
    "                    <b>0. How can I use NumPy to generate a table with random marks for subjects where the minimum score is 40 and the maximum is 100, ensuring that the output follows this format?</b>\n",
    "                </font>\n",
    "            </div>\n",
    "        </td>\n",
    "    </tr>\n",
    "</table>\n",
    "\n",
    "<br>\n",
    "\n",
    "<table border=\"1\">\n",
    "    <tr>\n",
    "        <th>Subject</th>\n",
    "        <th>Min</th>\n",
    "        <th>Max</th>\n",
    "        <th>Actual</th>\n",
    "    </tr>\n",
    "    <tr>\n",
    "        <td>Physics</td>\n",
    "        <td>40</td>\n",
    "        <td>100</td>\n",
    "        <td>80</td>\n",
    "    </tr>\n",
    "    <tr>\n",
    "        <td>Chemistry</td>\n",
    "        <td>40</td>\n",
    "        <td>100</td>\n",
    "        <td>50</td>\n",
    "    </tr>\n",
    "    <tr>\n",
    "        <td>Maths</td>\n",
    "        <td>40</td>\n",
    "        <td>100</td>\n",
    "        <td>80</td>\n",
    "    </tr>\n",
    "    <tr>\n",
    "        <td>Biology</td>\n",
    "        <td>40</td>\n",
    "        <td>100</td>\n",
    "        <td>79</td>\n",
    "    </tr>\n",
    "</table>\n",
    "\n",
    "<p>The \"Actual\" column should contain randomly generated values between 40 and 100 for each subject.</p>\n"
   ]
  },
  {
   "cell_type": "code",
   "execution_count": null,
   "metadata": {},
   "outputs": [],
   "source": [
    "import numpy as np\n",
    "import pandas as pd\n",
    "\n",
    "# Define subjects and their min/max values\n",
    "subjects = ['Physics', 'Chemistry', 'Maths', 'Biology']\n",
    "min_marks = 40\n",
    "max_marks = 100\n",
    "\n",
    "# Generate random marks between min and max\n",
    "actual_marks = np.random.randint(min_marks, max_marks + 1, size=len(subjects))\n",
    "\n",
    "# Create DataFrame\n",
    "df = pd.DataFrame({\n",
    "    'Subject': subjects,\n",
    "    'Min': min_marks,\n",
    "    'Max': max_marks,\n",
    "    'Actual': actual_marks\n",
    "})\n",
    "\n",
    "print(df)"
   ]
  },
  {
   "cell_type": "markdown",
   "metadata": {
    "colab_type": "text",
    "id": "8KPXWJqTRbUI"
   },
   "source": [
    "<table align=\"left\">\n",
    "    <tr>\n",
    "        <td width=\"6%\">\n",
    "            <img src=\"../images/RA_Logo.png\">\n",
    "        </td>\n",
    "        <td>\n",
    "            <div align=\"left\", style=\"font-size:120%\">\n",
    "                <font color=\"#21618C\">\n",
    "                    <b>1. Write a program to convert given array to an ordinary list with the same items\n",
    "<b>\n",
    "                </font>\n",
    "            </div>\n",
    "        </td>\n",
    "    </tr>\n",
    "</table>"
   ]
  },
  {
   "cell_type": "markdown",
   "metadata": {
    "colab_type": "text",
    "id": "DAFbnqpXRbUJ"
   },
   "source": [
    "**Use the below array:**<br>\n",
    "array1 = array('b', [21,23,63,74])"
   ]
  },
  {
   "cell_type": "code",
   "execution_count": null,
   "metadata": {
    "colab": {},
    "colab_type": "code",
    "id": "3i99ZZo1RbUK"
   },
   "outputs": [],
   "source": [
    "# write your code here\n",
    "from array import array\n",
    "\n",
    "array1 = array('b', [21,23,63,74])\n",
    "\n",
    "ord_list = array1.tolist()\n",
    "print(ord_list)"
   ]
  },
  {
   "cell_type": "markdown",
   "metadata": {
    "colab_type": "text",
    "id": "hrusNzw8RbUN"
   },
   "source": [
    "<table align=\"left\">\n",
    "    <tr>\n",
    "        <td width=\"6%\">\n",
    "            <img src=\"../images/RA_Logo.png\">\n",
    "        </td>\n",
    "        <td>\n",
    "            <div align=\"left\", style=\"font-size:120%\">\n",
    "                <font color=\"#21618C\">\n",
    "                    <b>2. Extract second word from the given string\n",
    "<b>\n",
    "                </font>\n",
    "            </div>\n",
    "        </td>\n",
    "    </tr>\n",
    "</table>"
   ]
  },
  {
   "cell_type": "markdown",
   "metadata": {
    "colab_type": "text",
    "id": "4vsV4W-dRbUO"
   },
   "source": [
    "**Use the below string:**<br>\n",
    "string = 'Be confident and be yourself'"
   ]
  },
  {
   "cell_type": "code",
   "execution_count": null,
   "metadata": {
    "colab": {},
    "colab_type": "code",
    "id": "OSPco7ZERbUO"
   },
   "outputs": [],
   "source": [
    "# write your code here\n",
    "\n",
    "string = 'Wholehearted EFFORT yields the best results'\n",
    "\n",
    "a = string.split()\n",
    "\n",
    "second_word = a[1]\n",
    "\n",
    "# Print the second word\n",
    "print(f'The second word in the given sentence is.......: {second_word}')"
   ]
  },
  {
   "cell_type": "markdown",
   "metadata": {
    "colab_type": "text",
    "id": "EutDEdywRbUR"
   },
   "source": [
    "<a id='create_manipulate'></a>\n",
    "## 2. Create and Manipulate the Data Frames"
   ]
  },
  {
   "cell_type": "markdown",
   "metadata": {
    "colab_type": "text",
    "id": "6SKHbtIfRbUR"
   },
   "source": [
    "<table align=\"left\">\n",
    "    <tr>\n",
    "        <td width=\"6%\">\n",
    "            <img src=\"../images/RA_Logo.png\">\n",
    "        </td>\n",
    "        <td>\n",
    "            <div align=\"left\", style=\"font-size:120%\">\n",
    "                <font color=\"#21618C\">\n",
    "                    <b>3. Split a 'Name' column into two seperate columns <b>\n",
    "                </font>\n",
    "            </div>\n",
    "        </td>\n",
    "    </tr>\n",
    "</table>"
   ]
  },
  {
   "cell_type": "code",
   "execution_count": null,
   "metadata": {},
   "outputs": [],
   "source": [
    "df = pd.DataFrame({\"Name\": ['Shreyas', 'LokRanjan', 'Harshvardhan', 'Kharanshu', 'Sakshi', 'Surakha', 'Surabhi'], \n",
    "\"Salary\": [8989, 9890, 7689, 9898, 8767, 8907, 7869]})\n",
    "df"
   ]
  },
  {
   "cell_type": "code",
   "execution_count": null,
   "metadata": {},
   "outputs": [],
   "source": [
    "# displays top 5 rows of a dataframe\n",
    "df.head()"
   ]
  },
  {
   "cell_type": "code",
   "execution_count": null,
   "metadata": {},
   "outputs": [],
   "source": [
    "# displays bottom 5 rows\n",
    "df.tail()"
   ]
  },
  {
   "cell_type": "markdown",
   "metadata": {
    "colab_type": "text",
    "id": "hgOaefigRbUS"
   },
   "source": [
    "**Use the below data frame:**<br>\n",
    "df = pd.DataFrame({'Name': ['Vidyadhar Bendre', 'Akshara Bendre', 'Atharva Bendre', 'Poornima Bendre'],<br> \n",
    "                   'Salary':[3200, 4500, 3600, 5596]})"
   ]
  },
  {
   "cell_type": "code",
   "execution_count": null,
   "metadata": {},
   "outputs": [],
   "source": [
    "# write your code here\n",
    "import pandas as pd"
   ]
  },
  {
   "cell_type": "code",
   "execution_count": null,
   "metadata": {},
   "outputs": [],
   "source": [
    "pd.DataFrame()"
   ]
  },
  {
   "cell_type": "code",
   "execution_count": null,
   "metadata": {},
   "outputs": [],
   "source": [
    "pd.DataFrame({'Name': ['Vidyadhar Bendre', 'Akshara Bendre', 'Atharva Bendre', 'Poornima Bendre'],\n",
    "'Salary':[3200, 4500, 3600, 5596]})"
   ]
  },
  {
   "cell_type": "code",
   "execution_count": null,
   "metadata": {},
   "outputs": [],
   "source": [
    "df = pd.DataFrame({'Name': ['Vidyadhar Bendre', 'Akshara Bendre', 'Atharva Bendre', 'Poornima Bendre', 'Shashikanth Bendre', 'Meena Bendre', 'Vivek Bendre', 'Veena Bendre', 'Vijay Bendre'],\n",
    "'Salary':[3200, 4500, 3600, 5596, 6785, 6754, 7865, 1234, 8907]})"
   ]
  },
  {
   "cell_type": "code",
   "execution_count": null,
   "metadata": {},
   "outputs": [],
   "source": [
    "df"
   ]
  },
  {
   "cell_type": "code",
   "execution_count": null,
   "metadata": {},
   "outputs": [],
   "source": [
    "#dir(df)"
   ]
  },
  {
   "cell_type": "code",
   "execution_count": null,
   "metadata": {},
   "outputs": [],
   "source": [
    "df.columns"
   ]
  },
  {
   "cell_type": "code",
   "execution_count": null,
   "metadata": {},
   "outputs": [],
   "source": [
    "df.columns"
   ]
  },
  {
   "cell_type": "code",
   "execution_count": null,
   "metadata": {},
   "outputs": [],
   "source": []
  },
  {
   "cell_type": "code",
   "execution_count": null,
   "metadata": {},
   "outputs": [],
   "source": [
    "df.head()"
   ]
  },
  {
   "cell_type": "code",
   "execution_count": null,
   "metadata": {},
   "outputs": [],
   "source": [
    "df.tail()"
   ]
  },
  {
   "cell_type": "code",
   "execution_count": null,
   "metadata": {},
   "outputs": [],
   "source": [
    "df = pd.DataFrame({\"Name\": ['Shreyas M', 'LokRanjan Sri', 'Harshvardhan Kaiwar', 'Kharanshu Sharma', 'Sakshi Bendre', 'Surakha Mandi', 'Surabhi Kulkarni'], \n",
    "\"Salary\": [8989, 9890, 7689, 9898, 8767, 8907, 7869]})\n",
    "df"
   ]
  },
  {
   "cell_type": "code",
   "execution_count": null,
   "metadata": {},
   "outputs": [],
   "source": [
    "df.columns"
   ]
  },
  {
   "cell_type": "code",
   "execution_count": null,
   "metadata": {},
   "outputs": [],
   "source": [
    "df"
   ]
  },
  {
   "cell_type": "code",
   "execution_count": null,
   "metadata": {},
   "outputs": [],
   "source": [
    "df.Name.str.split()"
   ]
  },
  {
   "cell_type": "code",
   "execution_count": null,
   "metadata": {},
   "outputs": [],
   "source": [
    "df[['First_Name', 'Last_Name']] = df.Name.str.split(expand=True)\n",
    "df"
   ]
  },
  {
   "cell_type": "code",
   "execution_count": null,
   "metadata": {},
   "outputs": [],
   "source": [
    "df.Salary"
   ]
  },
  {
   "cell_type": "code",
   "execution_count": null,
   "metadata": {
    "colab": {},
    "colab_type": "code",
    "id": "LWUTgKEFRbUT"
   },
   "outputs": [],
   "source": [
    "df[['First','Last']] = df.Name.str.split(expand=True)\n",
    "df\n",
    "\n",
    "\n",
    "\n",
    "\n",
    "#df['Name'] = df['Name'].str.split(' ')\n",
    "\n",
    "\n",
    "#split_name = df['Name'].str.split(' ')\n",
    "#data = split_name.to_list()\n",
    "#names = ['First Name', 'Last Name']\n",
    "#new_df = pd.DataFrame(data, columns=names)\n",
    "#new_df\n",
    "\n",
    "\n"
   ]
  },
  {
   "cell_type": "markdown",
   "metadata": {
    "colab_type": "text",
    "id": "HGyoDvVpRbUV"
   },
   "source": [
    "<table align=\"left\">\n",
    "    <tr>\n",
    "        <td width=\"6%\">\n",
    "            <img src=\"../images/RA_Logo.png\">\n",
    "        </td>\n",
    "        <td>\n",
    "            <div align=\"left\", style=\"font-size:120%\">\n",
    "                <font color=\"#21618C\">\n",
    "                    <b>4. Select the rows from below data frame, whose marks is less than 60 <b>\n",
    "                </font>\n",
    "            </div>\n",
    "        </td>\n",
    "    </tr>\n",
    "</table>"
   ]
  },
  {
   "cell_type": "markdown",
   "metadata": {
    "colab_type": "text",
    "id": "lQckGX2aRbUW"
   },
   "source": [
    "**Use the below data frame:**<br>\n",
    "df_student = pd.DataFrame({'Name': ['Vidyadhar', 'Poornima', 'Atharva', 'Akshara'],<br>\n",
    "                           'Marks': [90, 50, 89, 55]<br>\n",
    "})"
   ]
  },
  {
   "cell_type": "code",
   "execution_count": null,
   "metadata": {},
   "outputs": [],
   "source": [
    "# write your code here\n",
    "import pandas as pd"
   ]
  },
  {
   "cell_type": "code",
   "execution_count": null,
   "metadata": {},
   "outputs": [],
   "source": [
    "pd.DataFrame({'Name': ['Vidyadhar', 'Poornima', 'Atharva', 'Akshara'],\n",
    "'Marks': [90, 50, 89, 55]\n",
    "})"
   ]
  },
  {
   "cell_type": "code",
   "execution_count": null,
   "metadata": {
    "colab": {},
    "colab_type": "code",
    "id": "soCBDp1aRbUW"
   },
   "outputs": [],
   "source": [
    "df_student = pd.DataFrame({'Name': ['Vidyadhar', 'Poornima', 'Atharva', 'Akshara'],\n",
    "'Marks': [90, 50, 89, 55]\n",
    "})"
   ]
  },
  {
   "cell_type": "code",
   "execution_count": null,
   "metadata": {},
   "outputs": [],
   "source": [
    "df_student[df_student.Marks >= 90]"
   ]
  },
  {
   "cell_type": "code",
   "execution_count": null,
   "metadata": {},
   "outputs": [],
   "source": [
    "df_student.Marks.mean()"
   ]
  },
  {
   "cell_type": "markdown",
   "metadata": {
    "colab_type": "text",
    "id": "MS4YsBkTRbUZ"
   },
   "source": [
    "<table align=\"left\">\n",
    "    <tr>\n",
    "        <td width=\"6%\">\n",
    "            <img src=\"../images/RA_Logo.png\">\n",
    "        </td>\n",
    "        <td>\n",
    "            <div align=\"left\", style=\"font-size:120%\">\n",
    "                <font color=\"#21618C\">\n",
    "                    <b>5. Write a program to select the rows, where the sales are greater than 60000 for Mumbai location <b>\n",
    "                </font>\n",
    "            </div>\n",
    "        </td>\n",
    "    </tr>\n",
    "</table>"
   ]
  },
  {
   "cell_type": "markdown",
   "metadata": {
    "colab_type": "text",
    "id": "P2PxI8JwRbUa"
   },
   "source": [
    "**Use the below dataframe:**<br>\n",
    "df_store = pd.DataFrame({'Store': ['A', 'B', 'A', 'C', 'D', 'A', 'D', 'A', 'C', 'B'],<br>\n",
    "                         'Location': ['Mumbai', 'Pune', 'Hyderabad', 'Mumbai', 'Pune', 'Delhi', 'Hyderabad', 'Pune',<br>\n",
    "                         'Mumbai', 'Pune'],<br>\n",
    "                         'Sales': [40000, 45600, 56000, 90000, 89000, 87000, 85000, 78000, 89000, 70000]<br>\n",
    "})"
   ]
  },
  {
   "cell_type": "code",
   "execution_count": null,
   "metadata": {
    "colab": {},
    "colab_type": "code",
    "id": "-ykN_9y8RbUa"
   },
   "outputs": [],
   "source": [
    "# write your code here\n",
    "\n",
    "df_store = pd.DataFrame({'Store': ['A', 'B', 'A', 'C', 'D', 'A', 'D', 'A', 'C', 'B'],\n",
    "'Location': ['Mumbai', 'Pune', 'Hyderabad', 'Mumbai', 'Pune', 'Delhi', 'Hyderabad', 'Pune',\n",
    "'Mumbai', 'Pune'],\n",
    "'Sales': [40000, 45600, 56000, 90000, 89000, 87000, 85000, 78000, 89000, 70000]\n",
    "})\n",
    "\n",
    "df_store[ (df_store.Sales > 60000) &  (df_store.Location == 'Mumbai')]\n",
    "\n"
   ]
  },
  {
   "cell_type": "code",
   "execution_count": null,
   "metadata": {},
   "outputs": [],
   "source": [
    "!ls -la"
   ]
  },
  {
   "cell_type": "code",
   "execution_count": null,
   "metadata": {},
   "outputs": [],
   "source": [
    "#File Based DataFrames (csv - comma separated, excel, json files, html files)"
   ]
  },
  {
   "cell_type": "code",
   "execution_count": null,
   "metadata": {},
   "outputs": [],
   "source": [
    "import pandas as pd"
   ]
  },
  {
   "cell_type": "code",
   "execution_count": null,
   "metadata": {},
   "outputs": [],
   "source": [
    "# This is to show the all the files exists\n",
    "!dir"
   ]
  },
  {
   "cell_type": "code",
   "execution_count": null,
   "metadata": {},
   "outputs": [],
   "source": [
    "import os\n",
    "os.getcwd()"
   ]
  },
  {
   "cell_type": "code",
   "execution_count": null,
   "metadata": {},
   "outputs": [],
   "source": [
    "!ls"
   ]
  },
  {
   "cell_type": "markdown",
   "metadata": {},
   "source": [
    "stock.csv"
   ]
  },
  {
   "cell_type": "markdown",
   "metadata": {},
   "source": [
    "Vol,Rev,Exp,Sector,EmpCnt,HQ,MNC,StockID,GST,Start Date\n",
    "TCS_Solutions,980,950.3,700,Pub,500000,Mum,1,TCS,18,Apr 2004\n",
    "Infosys_Tech,970,930.8,690,Pvt,346000,Blr,1,INFY,12,Jul 1999\n",
    "Wipro_Services,960,890.5,680,Pub,250000,Blr,1,WIPR,5,Dec 2002\n",
    "HCL_Tech,950,870.4,670,Pvt,225000,NCR,1,HCLT,5,Aug 2007\n",
    "TechMahindra,940,850.2,665,Pub,146000,Pun,1,TMAH,12,Mar 2009\n",
    "LT_Infotech,920,820.6,655,Gov,92000,Mum,1,LTI,18,Dec 2016\n",
    "Mindtree_Ltd,910,810.8,650,Pvt,38000,Blr,1,MIND,18,Jan 2018\n",
    "Cognizant_India,995,940.7,710,Pub,355000,Chn,1,COGN,12,May 2019\n",
    "Mphasis_Ltd,925,830.5,675,Pvt,38000,Blr,1,MPHS,5,Sep 2020\n",
    "Persistent_Systems,945,845.2,685,Gov,25000,Pun,0,PRST,5,Apr 2021"
   ]
  },
  {
   "cell_type": "code",
   "execution_count": null,
   "metadata": {},
   "outputs": [],
   "source": [
    "#For Windows OS\n",
    "!dir stock.csv"
   ]
  },
  {
   "cell_type": "code",
   "execution_count": null,
   "metadata": {},
   "outputs": [],
   "source": [
    "#For unix or linux (iOS or Linux OS)\n",
    "!ls -la stock.csv"
   ]
  },
  {
   "cell_type": "code",
   "execution_count": null,
   "metadata": {},
   "outputs": [],
   "source": [
    "df = pd.read_csv(\"stock.csv\")\n",
    "df"
   ]
  },
  {
   "cell_type": "code",
   "execution_count": null,
   "metadata": {},
   "outputs": [],
   "source": [
    "pd.read_csv('stock.csv')"
   ]
  },
  {
   "cell_type": "code",
   "execution_count": null,
   "metadata": {},
   "outputs": [],
   "source": [
    "df_stock = pd.read_csv('stock.csv')\n",
    "df_stock"
   ]
  },
  {
   "cell_type": "code",
   "execution_count": null,
   "metadata": {},
   "outputs": [],
   "source": [
    "#df_stock.transpose()"
   ]
  },
  {
   "cell_type": "code",
   "execution_count": null,
   "metadata": {},
   "outputs": [],
   "source": [
    "# What is the profit - Rev - Exp\n",
    "# What is the profit for public, Pvt and Govt companies"
   ]
  },
  {
   "cell_type": "code",
   "execution_count": null,
   "metadata": {},
   "outputs": [],
   "source": [
    "# Machine Learning Terminology\n",
    "\n",
    "# rows as observations\n",
    "# columns as features - numeric or categorical -\n",
    "# every column is homogenious - same datatype through out\n",
    "# overalll structure is hetrogenious"
   ]
  },
  {
   "cell_type": "code",
   "execution_count": null,
   "metadata": {},
   "outputs": [],
   "source": [
    "# top 5 rows\n",
    "df_stock.head()"
   ]
  },
  {
   "cell_type": "code",
   "execution_count": null,
   "metadata": {},
   "outputs": [],
   "source": [
    "df_stock.head(3)"
   ]
  },
  {
   "cell_type": "code",
   "execution_count": null,
   "metadata": {},
   "outputs": [],
   "source": [
    "df_stock.tail()"
   ]
  },
  {
   "cell_type": "code",
   "execution_count": null,
   "metadata": {},
   "outputs": [],
   "source": [
    "df_stock.tail(3)"
   ]
  },
  {
   "cell_type": "code",
   "execution_count": null,
   "metadata": {},
   "outputs": [],
   "source": [
    "#1 df.shape - displays rows and columns in a tuple\n",
    "df_stock.shape"
   ]
  },
  {
   "cell_type": "code",
   "execution_count": null,
   "metadata": {},
   "outputs": [],
   "source": [
    "#2 - dataframe.info() - It display total entries, and data-type of each column\n",
    "df_stock.info()"
   ]
  },
  {
   "cell_type": "code",
   "execution_count": null,
   "metadata": {},
   "outputs": [],
   "source": [
    "#default data type in pandas int64 - numberic data\n",
    "#default data type in pandas object - categorical data"
   ]
  },
  {
   "cell_type": "code",
   "execution_count": null,
   "metadata": {},
   "outputs": [],
   "source": [
    "df_stock.info()"
   ]
  },
  {
   "cell_type": "code",
   "execution_count": null,
   "metadata": {},
   "outputs": [],
   "source": [
    "# summary statistics - df.describe - displays summary statistics\n",
    "# Five Point Summary - describe\n",
    "df_stock.describe()"
   ]
  },
  {
   "cell_type": "code",
   "execution_count": null,
   "metadata": {},
   "outputs": [],
   "source": [
    "df_stock"
   ]
  },
  {
   "cell_type": "code",
   "execution_count": null,
   "metadata": {},
   "outputs": [],
   "source": [
    "df_stock.Sector.unique()"
   ]
  },
  {
   "cell_type": "code",
   "execution_count": null,
   "metadata": {},
   "outputs": [],
   "source": [
    "# df.column_name.value_counts()\n",
    "df_stock.Sector.value_counts()"
   ]
  },
  {
   "cell_type": "code",
   "execution_count": null,
   "metadata": {},
   "outputs": [],
   "source": [
    "# For categorical data \n",
    "df_stock.describe(include=np.object_)"
   ]
  },
  {
   "cell_type": "code",
   "execution_count": null,
   "metadata": {},
   "outputs": [],
   "source": [
    "df_stock.Vol.min(), df_stock.Vol.max()"
   ]
  },
  {
   "cell_type": "code",
   "execution_count": null,
   "metadata": {},
   "outputs": [],
   "source": [
    "df_stock.Vol.sum()/10"
   ]
  },
  {
   "cell_type": "code",
   "execution_count": null,
   "metadata": {},
   "outputs": [],
   "source": [
    "df_stock.Vol.mean(), df_stock.Rev.mean()"
   ]
  },
  {
   "cell_type": "code",
   "execution_count": null,
   "metadata": {},
   "outputs": [],
   "source": [
    "df_stock.describe(include=np.object_)"
   ]
  },
  {
   "cell_type": "code",
   "execution_count": null,
   "metadata": {},
   "outputs": [],
   "source": [
    "df_stock.value_counts()"
   ]
  },
  {
   "cell_type": "code",
   "execution_count": null,
   "metadata": {},
   "outputs": [],
   "source": [
    "df_stock.Sector.value_counts()"
   ]
  },
  {
   "cell_type": "code",
   "execution_count": null,
   "metadata": {},
   "outputs": [],
   "source": [
    "# by default - it display numeric columns\n",
    "df_stock.describe()"
   ]
  },
  {
   "cell_type": "code",
   "execution_count": null,
   "metadata": {},
   "outputs": [],
   "source": [
    "# displays categorical \n",
    "df_stock.describe(include = np.object_)"
   ]
  },
  {
   "cell_type": "code",
   "execution_count": null,
   "metadata": {},
   "outputs": [],
   "source": [
    "# Five Point Summary - pd.describe\n",
    "df_stock.describe(include='all')"
   ]
  },
  {
   "cell_type": "code",
   "execution_count": null,
   "metadata": {},
   "outputs": [],
   "source": [
    "# describe or five point summary is stored as dataframe\n",
    "d = df_stock.describe()\n",
    "d"
   ]
  },
  {
   "cell_type": "code",
   "execution_count": null,
   "metadata": {},
   "outputs": [],
   "source": [
    "d = df_stock.describe()\n",
    "print(d)\n",
    "print()\n",
    "print(d.index)\n",
    "print()\n",
    "print(d.columns)"
   ]
  },
  {
   "cell_type": "code",
   "execution_count": null,
   "metadata": {},
   "outputs": [],
   "source": [
    "df_stock.describe(exclude=np.number)"
   ]
  },
  {
   "cell_type": "code",
   "execution_count": null,
   "metadata": {},
   "outputs": [],
   "source": [
    "# convert dataframe into excel, html, json and csv format"
   ]
  },
  {
   "cell_type": "code",
   "execution_count": null,
   "metadata": {},
   "outputs": [],
   "source": [
    "df_stock.to_excel()"
   ]
  },
  {
   "cell_type": "code",
   "execution_count": null,
   "metadata": {},
   "outputs": [],
   "source": [
    "df_stock.to_excel('1d_stock.xlsx')"
   ]
  },
  {
   "cell_type": "code",
   "execution_count": null,
   "metadata": {},
   "outputs": [],
   "source": [
    "df_stock.to_html('1d_stock.html')"
   ]
  },
  {
   "cell_type": "code",
   "execution_count": null,
   "metadata": {},
   "outputs": [],
   "source": [
    "df_stock.to_json('1d_stock.json')"
   ]
  },
  {
   "cell_type": "code",
   "execution_count": null,
   "metadata": {},
   "outputs": [],
   "source": [
    "df_stock.to_csv('1d_stock.csv')"
   ]
  },
  {
   "cell_type": "code",
   "execution_count": null,
   "metadata": {},
   "outputs": [],
   "source": [
    "!dir 1d*"
   ]
  },
  {
   "cell_type": "code",
   "execution_count": null,
   "metadata": {},
   "outputs": [],
   "source": [
    "!ls -la 1d*"
   ]
  },
  {
   "cell_type": "code",
   "execution_count": null,
   "metadata": {},
   "outputs": [],
   "source": [
    "pd.read_excel('1d_stock.xlsx')"
   ]
  },
  {
   "cell_type": "code",
   "execution_count": null,
   "metadata": {},
   "outputs": [],
   "source": [
    "pd.read_excel('1d_stock.xlsx', index_col=0)"
   ]
  },
  {
   "cell_type": "code",
   "execution_count": null,
   "metadata": {},
   "outputs": [],
   "source": [
    "dfh = pd.read_html('1d_stock.html', index_col=0)\n",
    "dfh[0]"
   ]
  },
  {
   "cell_type": "code",
   "execution_count": null,
   "metadata": {},
   "outputs": [],
   "source": [
    "pd.read_json('1d_stock.json')"
   ]
  },
  {
   "cell_type": "code",
   "execution_count": null,
   "metadata": {},
   "outputs": [],
   "source": [
    "#Summary:\n",
    " \n",
    "#1. creating dataframe from list, dictionary\n",
    "#2. df.shape - rows and columns\n",
    "#3. df.info() - total number of records and data type of each column\n",
    "#4. df.describe - Five Point Summary - mean, std, count, min and max\n",
    "#5. df.describe() - default - displays numerical columns\n",
    "#6. df.describe(include = np.objects_) - categorical columns\n",
    "#7. df.describe(include = 'all')\n",
    "#8. convert dataframe into different file types - df.to_execl(), df.to_csv(), df.to_html()...\n",
    "#9. retrive different file types - pd.read_csv, pd.read_excel, pd.read_json, pd.read_html\n",
    "#10. except json, row_index = 0 while reading different file types - first column into row index"
   ]
  },
  {
   "cell_type": "code",
   "execution_count": null,
   "metadata": {},
   "outputs": [],
   "source": [
    "df_stock['Vol'].sort_values()"
   ]
  },
  {
   "cell_type": "code",
   "execution_count": null,
   "metadata": {},
   "outputs": [],
   "source": [
    "df_stock['Vol'].quantile(0.25)"
   ]
  },
  {
   "cell_type": "code",
   "execution_count": null,
   "metadata": {},
   "outputs": [],
   "source": [
    "0.25 * 10 "
   ]
  },
  {
   "cell_type": "code",
   "execution_count": null,
   "metadata": {},
   "outputs": [],
   "source": [
    "(925-920)*0.5"
   ]
  },
  {
   "cell_type": "code",
   "execution_count": null,
   "metadata": {},
   "outputs": [],
   "source": [
    "920+2.5"
   ]
  },
  {
   "cell_type": "code",
   "execution_count": null,
   "metadata": {},
   "outputs": [],
   "source": [
    "v = [910, 920, 925, 940, 945, 950, 960, 970, 980, 995]\n",
    "v"
   ]
  },
  {
   "cell_type": "code",
   "execution_count": null,
   "metadata": {},
   "outputs": [],
   "source": [
    "v1 = pd.DataFrame(v)\n",
    "v1"
   ]
  },
  {
   "cell_type": "code",
   "execution_count": null,
   "metadata": {},
   "outputs": [],
   "source": [
    "import pandas as pd\n",
    "\n",
    "data = [910, 920, 925, 940, 945, 950, 960, 970, 980, 995]\n",
    "df = pd.DataFrame(data, columns=[\"values\"])\n",
    "\n",
    "# Pandas default interpolation (linear)\n",
    "q25 = df[\"values\"].quantile(0.25, interpolation=\"linear\")\n",
    "print(q25)  # 928.75\n"
   ]
  },
  {
   "cell_type": "code",
   "execution_count": null,
   "metadata": {},
   "outputs": [],
   "source": [
    "# Get 922.5 using midpoint interpolation\n",
    "q25_midpoint = df[\"values\"].quantile(0.25, interpolation=\"midpoint\")\n",
    "print(q25_midpoint)  # 922.5\n"
   ]
  },
  {
   "cell_type": "code",
   "execution_count": null,
   "metadata": {},
   "outputs": [],
   "source": [
    "# understand quantile using example"
   ]
  },
  {
   "cell_type": "code",
   "execution_count": 1,
   "metadata": {},
   "outputs": [
    {
     "name": "stdout",
     "output_type": "stream",
     "text": [
      "Sample DataFrame:\n",
      "   Math  Science  English\n",
      "0    65       70       80\n",
      "1    72       85       75\n",
      "2    85       92       65\n",
      "3    90       75       90\n",
      "4    95       60       85\n",
      "5    60       88       72\n",
      "6    78       95       68\n",
      "7    82       78       95\n",
      "8    88       65       83\n",
      "9    45       72       77\n",
      "\n",
      "Summary Statistics with describe():\n",
      "            Math    Science    English\n",
      "count  10.000000  10.000000  10.000000\n",
      "mean   76.000000  78.000000  79.000000\n",
      "std    15.549205  11.718931   9.521905\n",
      "min    45.000000  60.000000  65.000000\n",
      "25%    66.750000  70.500000  72.750000\n",
      "50%    80.000000  76.500000  78.500000\n",
      "75%    87.250000  87.250000  84.500000\n",
      "max    95.000000  95.000000  95.000000\n"
     ]
    }
   ],
   "source": [
    "import pandas as pd\n",
    "import numpy as np\n",
    "\n",
    "# Create a sample DataFrame with student scores\n",
    "data = {\n",
    "    'Math': [65, 72, 85, 90, 95, 60, 78, 82, 88, 45],\n",
    "    'Science': [70, 85, 92, 75, 60, 88, 95, 78, 65, 72],\n",
    "    'English': [80, 75, 65, 90, 85, 72, 68, 95, 83, 77]\n",
    "}\n",
    "\n",
    "df = pd.DataFrame(data)\n",
    "print(\"Sample DataFrame:\")\n",
    "print(df)\n",
    "\n",
    "# Using describe() to get summary statistics including percentiles\n",
    "print(\"\\nSummary Statistics with describe():\")\n",
    "print(df.describe())"
   ]
  },
  {
   "cell_type": "code",
   "execution_count": 2,
   "metadata": {},
   "outputs": [
    {
     "name": "stdout",
     "output_type": "stream",
     "text": [
      "\n",
      "Percentiles calculated directly:\n",
      "25th percentile (Q1) for Math: 66.75\n",
      "50th percentile (Median) for Math: 80.0\n",
      "75th percentile (Q3) for Math: 87.25\n",
      "10th percentile for Math: 58.5\n",
      "90th percentile for Math: 90.5\n"
     ]
    }
   ],
   "source": [
    "# Demonstrating specific percentiles\n",
    "print(\"\\nPercentiles calculated directly:\")\n",
    "print(f\"25th percentile (Q1) for Math: {df['Math'].quantile(0.25)}\")\n",
    "print(f\"50th percentile (Median) for Math: {df['Math'].quantile(0.5)}\")\n",
    "print(f\"75th percentile (Q3) for Math: {df['Math'].quantile(0.75)}\")\n",
    "\n",
    "# You can also calculate arbitrary percentiles\n",
    "print(f\"10th percentile for Math: {df['Math'].quantile(0.1)}\")\n",
    "print(f\"90th percentile for Math: {df['Math'].quantile(0.9)}\")"
   ]
  },
  {
   "cell_type": "code",
   "execution_count": 3,
   "metadata": {},
   "outputs": [
    {
     "data": {
      "image/png": "[encoded data removed]",
      "text/plain": [
       "<Figure size 1000x600 with 1 Axes>"
      ]
     },
     "metadata": {},
     "output_type": "display_data"
    }
   ],
   "source": [
    "import matplotlib.pyplot as plt\n",
    "\n",
    "# Creating a box plot to visualize the five-number summary\n",
    "plt.figure(figsize=(10, 6))\n",
    "df.boxplot()\n",
    "plt.title('Box Plot Showing Five-Number Summary')\n",
    "plt.ylabel('Scores')\n",
    "plt.grid(False)\n",
    "plt.show()"
   ]
  },
  {
   "cell_type": "code",
   "execution_count": 5,
   "metadata": {},
   "outputs": [
    {
     "data": {
      "text/plain": [
       "Index(['Math', 'Science', 'English'], dtype='object')"
      ]
     },
     "execution_count": 5,
     "metadata": {},
     "output_type": "execute_result"
    }
   ],
   "source": [
    "df.columns"
   ]
  },
  {
   "cell_type": "code",
   "execution_count": 7,
   "metadata": {},
   "outputs": [
    {
     "data": {
      "text/plain": [
       "66.75"
      ]
     },
     "execution_count": 7,
     "metadata": {},
     "output_type": "execute_result"
    }
   ],
   "source": [
    "q1_math = df.Math.quantile(0.25)\n",
    "q1_math"
   ]
  },
  {
   "cell_type": "code",
   "execution_count": 9,
   "metadata": {},
   "outputs": [],
   "source": [
    "df.Math.values.sort()"
   ]
  },
  {
   "cell_type": "code",
   "execution_count": 4,
   "metadata": {},
   "outputs": [
    {
     "name": "stdout",
     "output_type": "stream",
     "text": [
      "\n",
      "Students below 25th percentile:\n",
      "\n",
      "Math scores below 25th percentile (66.75):\n",
      "0    65\n",
      "5    60\n",
      "9    45\n",
      "Name: Math, dtype: int64\n",
      "\n",
      "Science scores below 25th percentile (70.5):\n",
      "0    70\n",
      "4    60\n",
      "8    65\n",
      "Name: Science, dtype: int64\n",
      "\n",
      "English scores below 25th percentile (72.75):\n",
      "2    65\n",
      "5    72\n",
      "6    68\n",
      "Name: English, dtype: int64\n",
      "\n",
      "Students above 75th percentile:\n",
      "\n",
      "Math scores above 75th percentile (87.25):\n",
      "3    90\n",
      "4    95\n",
      "8    88\n",
      "Name: Math, dtype: int64\n",
      "\n",
      "Science scores above 75th percentile (87.25):\n",
      "2    92\n",
      "5    88\n",
      "6    95\n",
      "Name: Science, dtype: int64\n",
      "\n",
      "English scores above 75th percentile (84.5):\n",
      "3    90\n",
      "4    85\n",
      "7    95\n",
      "Name: English, dtype: int64\n"
     ]
    }
   ],
   "source": [
    "# Practical application: Identifying students who scored below the 25th percentile\n",
    "print(\"\\nStudents below 25th percentile:\")\n",
    "for column in df.columns:\n",
    "    q1 = df[column].quantile(0.25)\n",
    "    below_q1 = df[df[column] < q1]\n",
    "    print(f\"\\n{column} scores below 25th percentile ({q1}):\")\n",
    "    print(below_q1[column])\n",
    "    \n",
    "# Practical application: Identifying students who scored above the 75th percentile\n",
    "print(\"\\nStudents above 75th percentile:\")\n",
    "for column in df.columns:\n",
    "    q3 = df[column].quantile(0.75)\n",
    "    above_q3 = df[df[column] > q3]\n",
    "    print(f\"\\n{column} scores above 75th percentile ({q3}):\")\n",
    "    print(above_q3[column])"
   ]
  },
  {
   "cell_type": "code",
   "execution_count": null,
   "metadata": {},
   "outputs": [],
   "source": [
    "#import PyPDF2"
   ]
  },
  {
   "cell_type": "code",
   "execution_count": null,
   "metadata": {},
   "outputs": [],
   "source": [
    "# Dataframe Access\n",
    "\n",
    "#1. Direct Access \n",
    "# access columns\n",
    "#    - df[<col_label] - df_stock['Exp']\n",
    "#    - df[<vector of column labels>] - df_stock[['Vol', 'GST']]\n",
    "# access rows\n",
    "#    - df[<slicing of row labels>] - df_stock['TCS_Solutions':'Mindtree_Ltd']\n",
    "\n",
    "#2. Integer Location Access(iloc)\n",
    "#    - df.iloc[row_numeric_index] - df_stock.iloc[0] - returns a particular row for all the columns data\n",
    "#    - df.iloc[row_numeric_index, col_numeric_index]\n",
    "#\n",
    "#    - df.iloc[row_numeric_slice]\n",
    "#    - df.iloc[row_numberic_slice, col_numeric_slice]\n",
    "#    \n",
    "#    - df.iloc[[row_numeric_idices]] - list of rows as vectors\n",
    "#    - df.iloc[[row_numeric_indices],[column_numeric_indices]] # from the selected rows, pick the columns\n",
    "#\n",
    "#    - combination of the above\n",
    "#3. Labelled/Location Base Access\n",
    "#    - iloc - does not allow labelled access\n",
    "#    - df.loc[row_label]\n",
    "#    - df.loc[row_label, column_label]\n",
    "\n",
    "#    - df.loc[row_label_slice]\n",
    "#    - df.loc[row_label_slice, col_label_slice]\n",
    "\n",
    "#    - df.loc[[row_label_indices]]\n",
    "#    - df.loc[[row_label_indices], [col_label_indices]]"
   ]
  },
  {
   "cell_type": "code",
   "execution_count": null,
   "metadata": {},
   "outputs": [],
   "source": [
    "df_stock.iloc[0]"
   ]
  },
  {
   "cell_type": "code",
   "execution_count": null,
   "metadata": {},
   "outputs": [],
   "source": [
    "df_stock"
   ]
  },
  {
   "cell_type": "code",
   "execution_count": null,
   "metadata": {},
   "outputs": [],
   "source": [
    "#dir(df_stock)"
   ]
  },
  {
   "cell_type": "code",
   "execution_count": null,
   "metadata": {},
   "outputs": [],
   "source": [
    "#column name becomes one of the attribute of the dataframe\n",
    "df_stock.columns"
   ]
  },
  {
   "cell_type": "code",
   "execution_count": null,
   "metadata": {},
   "outputs": [],
   "source": [
    "# accessing single column\n",
    "#column name becomes one of the attribute of the dataframe\n",
    "df_stock.Vol"
   ]
  },
  {
   "cell_type": "code",
   "execution_count": null,
   "metadata": {},
   "outputs": [],
   "source": [
    "#accessing multiple columns through vector (column labels)\n",
    "df_stock[['Vol', 'HQ']]"
   ]
  },
  {
   "cell_type": "code",
   "execution_count": null,
   "metadata": {},
   "outputs": [],
   "source": [
    "df_stock['TCS_Solutions': 'LT_Infotech']"
   ]
  },
  {
   "cell_type": "code",
   "execution_count": null,
   "metadata": {},
   "outputs": [],
   "source": [
    "# Direct Access - individual element\n",
    "df_stock['TechMahindra':'TechMahindra']['EmpCnt']"
   ]
  },
  {
   "cell_type": "code",
   "execution_count": null,
   "metadata": {},
   "outputs": [],
   "source": [
    "df_stock[['EmpCnt', 'MNC']]"
   ]
  },
  {
   "cell_type": "code",
   "execution_count": null,
   "metadata": {},
   "outputs": [],
   "source": [
    "df_stock[df_stock.columns]"
   ]
  },
  {
   "cell_type": "code",
   "execution_count": null,
   "metadata": {},
   "outputs": [],
   "source": [
    "df_stock['Vol']"
   ]
  },
  {
   "cell_type": "code",
   "execution_count": null,
   "metadata": {},
   "outputs": [],
   "source": [
    "# single dimensional\n",
    "df_stock['Vol'].shape"
   ]
  },
  {
   "cell_type": "code",
   "execution_count": null,
   "metadata": {},
   "outputs": [],
   "source": [
    "# vector - 2 dimensional\n",
    "df_stock[['Vol']].shape"
   ]
  },
  {
   "cell_type": "code",
   "execution_count": null,
   "metadata": {},
   "outputs": [],
   "source": [
    "#Integer Based Location Access - iloc"
   ]
  },
  {
   "cell_type": "code",
   "execution_count": null,
   "metadata": {},
   "outputs": [],
   "source": [
    "print(df_stock.iloc[0, 0])"
   ]
  },
  {
   "cell_type": "code",
   "execution_count": null,
   "metadata": {},
   "outputs": [],
   "source": [
    "df_stock"
   ]
  },
  {
   "cell_type": "code",
   "execution_count": null,
   "metadata": {},
   "outputs": [],
   "source": [
    "df_stock.iloc[2:7, -5]"
   ]
  },
  {
   "cell_type": "code",
   "execution_count": null,
   "metadata": {},
   "outputs": [],
   "source": [
    "df_stock.iloc[2:7]['HQ']"
   ]
  },
  {
   "cell_type": "code",
   "execution_count": null,
   "metadata": {},
   "outputs": [],
   "source": [
    "df_stock.iloc[2:7].HQ"
   ]
  },
  {
   "cell_type": "code",
   "execution_count": null,
   "metadata": {},
   "outputs": [],
   "source": [
    "#Try to execute & understand the concept to retrieve only \n",
    "print(df_stock)\n",
    "df_stock.iloc[1:8:3]         ## 1, 4, 7, 10   - displays first, fourth & seventh row "
   ]
  },
  {
   "cell_type": "code",
   "execution_count": null,
   "metadata": {},
   "outputs": [],
   "source": [
    "df_stock.iloc[[1,8,3]] # row index (double square bracket - vector representation)"
   ]
  },
  {
   "cell_type": "code",
   "execution_count": null,
   "metadata": {},
   "outputs": [],
   "source": [
    "# iloc does not allow labelled access\n",
    "# integer location based access - label is not allowed\n",
    "df_stock.iloc['Vol']"
   ]
  },
  {
   "cell_type": "code",
   "execution_count": null,
   "metadata": {},
   "outputs": [],
   "source": [
    "#Location/Labelled based Access"
   ]
  },
  {
   "cell_type": "code",
   "execution_count": null,
   "metadata": {},
   "outputs": [],
   "source": [
    "df_stock"
   ]
  },
  {
   "cell_type": "code",
   "execution_count": null,
   "metadata": {},
   "outputs": [],
   "source": [
    "df_stock.loc['HCL_Tech']"
   ]
  },
  {
   "cell_type": "code",
   "execution_count": null,
   "metadata": {},
   "outputs": [],
   "source": [
    "df_stock.loc['HCL_Tech', 'EmpCnt']"
   ]
  },
  {
   "cell_type": "code",
   "execution_count": null,
   "metadata": {},
   "outputs": [],
   "source": [
    "df_stock.index"
   ]
  },
  {
   "cell_type": "code",
   "execution_count": null,
   "metadata": {},
   "outputs": [],
   "source": [
    "df_stock.columns"
   ]
  },
  {
   "cell_type": "code",
   "execution_count": null,
   "metadata": {},
   "outputs": [],
   "source": [
    "#labels = df.index + df.columns - all the above becomes label for the dataframe"
   ]
  },
  {
   "cell_type": "code",
   "execution_count": null,
   "metadata": {},
   "outputs": [],
   "source": [
    "df_stock"
   ]
  },
  {
   "cell_type": "code",
   "execution_count": null,
   "metadata": {},
   "outputs": [],
   "source": [
    "df_stock.loc['LT_Infotech':'Mphasis_Ltd', 'EmpCnt':'GST']"
   ]
  },
  {
   "cell_type": "code",
   "execution_count": null,
   "metadata": {},
   "outputs": [],
   "source": [
    "df_stock.loc[['TCS_Solutions', 'HCL_Tech', 'Persistent_Systems'], ['Sector', 'MNC', 'EmpCnt']]"
   ]
  },
  {
   "cell_type": "code",
   "execution_count": null,
   "metadata": {},
   "outputs": [],
   "source": [
    "df_stock.loc[:, 'Sector']"
   ]
  },
  {
   "cell_type": "code",
   "execution_count": null,
   "metadata": {},
   "outputs": [],
   "source": [
    "df_stock.loc[:, ['Sector', 'EmpCnt']]"
   ]
  },
  {
   "cell_type": "code",
   "execution_count": null,
   "metadata": {},
   "outputs": [],
   "source": [
    "df_stock.loc[['TCS_Solutions', 'TechMahindra', 'Mphasis_Ltd'], ['Sector', 'EmpCnt']]"
   ]
  },
  {
   "cell_type": "code",
   "execution_count": null,
   "metadata": {},
   "outputs": [],
   "source": [
    "# conditional access\n",
    "mask = df_stock.EmpCnt > 300000\n",
    "df_stock[mask]"
   ]
  },
  {
   "cell_type": "code",
   "execution_count": null,
   "metadata": {},
   "outputs": [],
   "source": []
  },
  {
   "cell_type": "code",
   "execution_count": null,
   "metadata": {},
   "outputs": [],
   "source": []
  },
  {
   "cell_type": "code",
   "execution_count": null,
   "metadata": {},
   "outputs": [],
   "source": [
    "!ls -la 1d*"
   ]
  },
  {
   "cell_type": "code",
   "execution_count": null,
   "metadata": {},
   "outputs": [],
   "source": []
  },
  {
   "cell_type": "code",
   "execution_count": null,
   "metadata": {},
   "outputs": [],
   "source": [
    "pd.rea"
   ]
  },
  {
   "cell_type": "code",
   "execution_count": null,
   "metadata": {},
   "outputs": [],
   "source": [
    "df_store = pd.read_csv('df_store.csv')"
   ]
  },
  {
   "cell_type": "code",
   "execution_count": null,
   "metadata": {},
   "outputs": [],
   "source": [
    "df_store.head()"
   ]
  },
  {
   "cell_type": "code",
   "execution_count": null,
   "metadata": {},
   "outputs": [],
   "source": [
    "df_store.tail()"
   ]
  },
  {
   "cell_type": "code",
   "execution_count": null,
   "metadata": {},
   "outputs": [],
   "source": [
    "df_store = pd.read_csv('df_store.csv')"
   ]
  },
  {
   "cell_type": "code",
   "execution_count": null,
   "metadata": {},
   "outputs": [],
   "source": [
    "df_store.columns"
   ]
  },
  {
   "cell_type": "code",
   "execution_count": null,
   "metadata": {},
   "outputs": [],
   "source": [
    "df_store.head()"
   ]
  },
  {
   "cell_type": "code",
   "execution_count": null,
   "metadata": {},
   "outputs": [],
   "source": [
    "df_store.tail()"
   ]
  },
  {
   "cell_type": "code",
   "execution_count": null,
   "metadata": {},
   "outputs": [],
   "source": [
    "df_store.shape"
   ]
  },
  {
   "cell_type": "code",
   "execution_count": null,
   "metadata": {},
   "outputs": [],
   "source": [
    "df_store.info()"
   ]
  },
  {
   "cell_type": "code",
   "execution_count": null,
   "metadata": {},
   "outputs": [],
   "source": [
    "df_store.describe()"
   ]
  },
  {
   "cell_type": "code",
   "execution_count": null,
   "metadata": {},
   "outputs": [],
   "source": [
    "df_store.columns"
   ]
  },
  {
   "cell_type": "code",
   "execution_count": null,
   "metadata": {},
   "outputs": [],
   "source": [
    "df_store.drop(columns=['Unnamed: 0'], axis=1)"
   ]
  },
  {
   "cell_type": "code",
   "execution_count": null,
   "metadata": {},
   "outputs": [],
   "source": [
    "df_store = df_store.drop(columns=['Unnamed: 0'], axis=1)"
   ]
  },
  {
   "cell_type": "code",
   "execution_count": null,
   "metadata": {},
   "outputs": [],
   "source": [
    "df_store.columns"
   ]
  },
  {
   "cell_type": "code",
   "execution_count": null,
   "metadata": {},
   "outputs": [],
   "source": [
    "df_store.columns"
   ]
  },
  {
   "cell_type": "code",
   "execution_count": null,
   "metadata": {},
   "outputs": [],
   "source": [
    "df_store.drop(columns=['Unnamed: 0'], axis=1, inplace=True)"
   ]
  },
  {
   "cell_type": "code",
   "execution_count": null,
   "metadata": {},
   "outputs": [],
   "source": [
    "df_store.columns"
   ]
  },
  {
   "cell_type": "code",
   "execution_count": null,
   "metadata": {},
   "outputs": [],
   "source": []
  },
  {
   "cell_type": "markdown",
   "metadata": {
    "colab_type": "text",
    "id": "SoPrcxboRbUe"
   },
   "source": [
    "<table align=\"left\">\n",
    "    <tr>\n",
    "        <td width=\"6%\">\n",
    "            <img src=\"../images/RA_Logo.png\">\n",
    "        </td>\n",
    "        <td>\n",
    "            <div align=\"left\", style=\"font-size:120%\">\n",
    "                <font color=\"#21618C\">\n",
    "                    <b>6. Write a program to display a summary of the basic information about a given data frame<b>\n",
    "                </font>\n",
    "            </div>\n",
    "        </td>\n",
    "    </tr>\n",
    "</table>"
   ]
  },
  {
   "cell_type": "code",
   "execution_count": null,
   "metadata": {},
   "outputs": [],
   "source": []
  },
  {
   "cell_type": "markdown",
   "metadata": {
    "colab_type": "text",
    "id": "C9zu7zyuRbUf"
   },
   "source": [
    "**Use the below dataframe:**<br>\n",
    "df_store = pd.DataFrame({'Store': ['A', 'B', 'A', 'C', 'D', 'A', 'D', 'A', 'C', 'B'],<br>\n",
    "                         'Location': ['Mumbai', 'Pune', 'Hyderabad', 'Mumbai', 'Pune', 'Delhi', 'Hyderabad', 'Pune',<br>\n",
    "                         'Mumbai', 'Pune'],<br>\n",
    "                         'Sales': [40000, 45600, 56000, 90000, 89000, 87000, 85000, 78000, 89000, 70000]<br>\n",
    "})"
   ]
  },
  {
   "cell_type": "code",
   "execution_count": null,
   "metadata": {
    "colab": {},
    "colab_type": "code",
    "id": "zS_Gmgn2RbUf"
   },
   "outputs": [],
   "source": [
    "# write your code here\n",
    "\n",
    "df_store = pd.DataFrame({'Store': ['A', 'B', 'A', 'C', 'D', 'A', 'D', 'A', 'C', 'B'],\n",
    "'Location': ['Mumbai', 'Pune', 'Hyderabad', 'Mumbai', 'Pune', 'Delhi', 'Hyderabad', 'Pune',\n",
    "'Mumbai', 'Pune'],\n",
    "'Sales': [40000, 45600, 56000, 90000, 89000, 87000, 85000, 78000, 89000, 70000]\n",
    "})\n",
    "\n",
    "\n",
    "#d = df_store.describe(include='all')\n",
    "#print(d)\n",
    "#print(type(d))\n",
    "\n",
    "i = df_store.info()\n",
    "print(i)"
   ]
  },
  {
   "cell_type": "markdown",
   "metadata": {
    "colab_type": "text",
    "id": "nYi2z54ZRbUi"
   },
   "source": [
    "<table align=\"left\">\n",
    "    <tr>\n",
    "        <td width=\"6%\">\n",
    "            <img src=\"../images/RA_Logo.png\">\n",
    "        </td>\n",
    "        <td>\n",
    "            <div align=\"left\", style=\"font-size:120%\">\n",
    "                <font color=\"#21618C\">\n",
    "                    <b>7. Write a program to replace the ‘Store' column, contains the values 'A', 'B', 'C', and 'D' with 'Store_A', Store_B', 'Store_C' and 'Store_D' respectively\n",
    "<b>\n",
    "                </font>\n",
    "            </div>\n",
    "        </td>\n",
    "    </tr>\n",
    "</table>"
   ]
  },
  {
   "cell_type": "markdown",
   "metadata": {
    "colab_type": "text",
    "id": "dKKsmpcRRbUi"
   },
   "source": [
    "**Use the below dataframe:**<br>\n",
    "df_store = pd.DataFrame({'Store': ['A', 'B', 'A', 'C', 'D', 'A', 'D', 'A', 'C', 'B'],<br>\n",
    "                         'Location': ['Mumbai', 'Pune', 'Hyderabad', 'Mumbai', 'Pune', 'Delhi', 'Hyderabad', 'Pune',<br>\n",
    "                         'Mumbai', 'Pune'],<br>\n",
    "                         'Sales': [40000, 45600, 56000, 90000, 89000, 87000, 85000, 78000, 89000, 70000]<br>\n",
    "})"
   ]
  },
  {
   "cell_type": "code",
   "execution_count": null,
   "metadata": {
    "colab": {},
    "colab_type": "code",
    "id": "cJw5uKELRbUi"
   },
   "outputs": [],
   "source": [
    "# write your code here\n",
    "import numpy as np\n",
    "\n",
    "df_store = pd.DataFrame({'Store': ['A', 'B', 'A', 'C', 'D', 'A', 'D', 'A', 'C', 'B'],\n",
    "'Location': ['Mumbai', 'Pune', 'Hyderabad', 'Mumbai', 'Pune', 'Delhi', 'Hyderabad', 'Pune',\n",
    "'Mumbai', 'Pune'],\n",
    "'Sales': [40000, 45600, 56000, 90000, 89000, 87000, 85000, 78000, 89000, 70000]\n",
    "})\n",
    "\n",
    "df_store['Store'] = df_store['Store'].replace(['A', 'B', 'C', 'D'],['Store_A', 'Store_B', 'Store_C', 'Store_D'])\n",
    "\n",
    "print(df_store)\n",
    "                                                              "
   ]
  },
  {
   "cell_type": "markdown",
   "metadata": {
    "colab_type": "text",
    "id": "TVA2mt_KRbUl"
   },
   "source": [
    "<table align=\"left\">\n",
    "    <tr>\n",
    "        <td width=\"6%\">\n",
    "            <img src=\"../images/RA_Logo.png\">\n",
    "        </td>\n",
    "        <td>\n",
    "            <div align=\"left\", style=\"font-size:120%\">\n",
    "                <font color=\"#21618C\">\n",
    "                    <b>8. Create a dataframe in pandas using list and series\n",
    "<b>\n",
    "                </font>\n",
    "            </div>\n",
    "        </td>\n",
    "    </tr>\n",
    "</table>"
   ]
  },
  {
   "cell_type": "code",
   "execution_count": null,
   "metadata": {
    "colab": {},
    "colab_type": "code",
    "id": "XglG84OnRbUl"
   },
   "outputs": [],
   "source": [
    "# write your code here\n",
    "\n",
    "countries_name = ['India', 'US', 'UK', 'Australia']    \n",
    "countries_id = [1, 2, 3, 4] \n",
    "\n",
    "df_countries = pd.DataFrame (list(zip(countries_name, countries_id)),\n",
    "               columns =['Name Of the Country', 'Country Id'])\n",
    "\n",
    "df_countries\n",
    "\n",
    "\n",
    "mylist1 = [[10,100,1000],[20,200,2000],[30,300,3000],[40,400,4000],[50,500,5000]]\n",
    "row_label_list = ['Tata','Birla','Tata','Infy','HCL']\n",
    "col_label_list = ['Vol','Rev', 'Exp']\n",
    "\n",
    "df2 = pd.DataFrame(mylist1, columns=col_label_list, index=row_label_list)\n",
    "print(df2)\n",
    "print(df2.shape)\n",
    "print(df2.index)\n",
    "print(df2.columns)"
   ]
  },
  {
   "cell_type": "markdown",
   "metadata": {
    "colab_type": "text",
    "id": "CWgXGHK4RbUo"
   },
   "source": [
    "<table align=\"left\">\n",
    "    <tr>\n",
    "        <td width=\"6%\">\n",
    "            <img src=\"../images/RA_Logo.png\">\n",
    "        </td>\n",
    "        <td>\n",
    "            <div align=\"left\", style=\"font-size:120%\">\n",
    "                <font color=\"#21618C\">\n",
    "                    <b>9. Save a given dataframe to a csv file\n",
    "<b>\n",
    "                </font>\n",
    "            </div>\n",
    "        </td>\n",
    "    </tr>\n",
    "</table>"
   ]
  },
  {
   "cell_type": "markdown",
   "metadata": {
    "colab_type": "text",
    "id": "t-TsnZ60RbUo"
   },
   "source": [
    "**Use the below dataframe:**<br>\n",
    "df_store = pd.DataFrame({'Store': ['A', 'B', 'A', 'C', 'D', 'A', 'D', 'A', 'C', 'B'],<br>\n",
    "                         'Location': ['Mumbai', 'Pune', 'Hyderabad', 'Mumbai', 'Pune', 'Delhi', 'Hyderabad', 'Pune',<br>\n",
    "                         'Mumbai', 'Pune'],<br>\n",
    "                         'Sales': [40000, 45600, 56000, 90000, 89000, 87000, 85000, 78000, 89000, 70000]<br>\n",
    "})"
   ]
  },
  {
   "cell_type": "code",
   "execution_count": null,
   "metadata": {
    "colab": {},
    "colab_type": "code",
    "id": "VQI_oDu9RbUp"
   },
   "outputs": [],
   "source": [
    "# write your code here\n",
    "\n",
    "df_store = pd.DataFrame({'Store': ['A', 'B', 'A', 'C', 'D', 'A', 'D', 'A', 'C', 'B'],\n",
    "'Location': ['Mumbai', 'Pune', 'Hyderabad', 'Mumbai', 'Pune', 'Delhi', 'Hyderabad', 'Pune',\n",
    "'Mumbai', 'Pune'],\n",
    "'Sales': [40000, 45600, 56000, 90000, 89000, 87000, 85000, 78000, 89000, 70000]\n",
    "})\n",
    "\n",
    "# saving the dataframe \n",
    "df_store.to_csv('df_store.csv') \n",
    "import os\n",
    "os.getcwd()\n"
   ]
  },
  {
   "cell_type": "markdown",
   "metadata": {
    "colab_type": "text",
    "id": "BBpk9v5zRbUr"
   },
   "source": [
    "<table align=\"left\">\n",
    "    <tr>\n",
    "        <td width=\"6%\">\n",
    "            <img src=\"../images/RA_Logo.png\">\n",
    "        </td>\n",
    "        <td>\n",
    "            <div align=\"left\", style=\"font-size:120%\">\n",
    "                <font color=\"#21618C\">\n",
    "                    <b>10. Find the maximum sales for each store\n",
    "<b>\n",
    "                </font>\n",
    "            </div>\n",
    "        </td>\n",
    "    </tr>\n",
    "</table>"
   ]
  },
  {
   "cell_type": "markdown",
   "metadata": {
    "colab_type": "text",
    "id": "siEl2XUURbUs"
   },
   "source": [
    "**Use the below dataframe:**<br>\n",
    "df_store = pd.DataFrame({'Store': ['A', 'B', 'A', 'C', 'D', 'A', 'D', 'A', 'C', 'B'],<br>\n",
    "                         'Location': ['Mumbai', 'Pune', 'Hyderabad', 'Mumbai', 'Pune', 'Delhi', 'Hyderabad', 'Pune',<br>\n",
    "                         'Mumbai', 'Pune'],<br>\n",
    "                         'Sales': [40000, 45600, 56000, 90000, 89000, 87000, 85000, 78000, 89000, 70000]<br>\n",
    "})"
   ]
  },
  {
   "cell_type": "code",
   "execution_count": null,
   "metadata": {
    "colab": {},
    "colab_type": "code",
    "id": "WXrVapSLRbUs"
   },
   "outputs": [],
   "source": [
    "# write your code here\n",
    "\n",
    "df_store = pd.DataFrame({'Store': ['A', 'B', 'A', 'C', 'D', 'A', 'D', 'A', 'C', 'B'],\n",
    "'Location': ['Mumbai', 'Pune', 'Hyderabad', 'Mumbai', 'Pune', 'Delhi', 'Hyderabad', 'Pune',\n",
    "'Mumbai', 'Pune'],\n",
    "'Sales': [40000, 45600, 56000, 90000, 89000, 87000, 85000, 78000, 89000, 70000]\n",
    "})\n",
    "print(df_store)\n",
    "#DataFrame.min(axis=None, skipna=None, level=None, numeric_only=None, **kwargs)\n",
    "\n",
    "df_store_group = df_store.groupby('Store')\n",
    "print(df_store_group.max())\n",
    "\n",
    "\n",
    "\n",
    "\n",
    "\n",
    "  "
   ]
  },
  {
   "cell_type": "markdown",
   "metadata": {
    "colab_type": "text",
    "id": "C8QNUNd8RbUu"
   },
   "source": [
    "<table align=\"left\">\n",
    "    <tr>\n",
    "        <td width=\"6%\">\n",
    "            <img src=\"../images/RA_Logo.png\">\n",
    "        </td>\n",
    "        <td>\n",
    "            <div align=\"left\", style=\"font-size:120%\">\n",
    "                <font color=\"#21618C\">\n",
    "                    <b>11. Write a program to select all columns, except 'Ranking_Rate' column in a data frame\n",
    "<b>\n",
    "                </font>\n",
    "            </div>\n",
    "        </td>\n",
    "    </tr>\n",
    "</table>"
   ]
  },
  {
   "cell_type": "markdown",
   "metadata": {
    "colab_type": "text",
    "id": "lhdStUpZRbUv"
   },
   "source": [
    "**Use the below dataframe:**<br>\n",
    "df_store = pd.DataFrame({'Store': ['A', 'B', 'A', 'C', 'D', 'A', 'D', 'A', 'C', 'B'],<br>\n",
    "                         'Location': ['Mumbai', 'Pune', 'Hyderabad', 'Mumbai', 'Pune', 'Delhi', 'Hyderabad', 'Pune',<br>\n",
    "                         'Mumbai', 'Pune'],<br>\n",
    "                         'Sales': [40000, 45600, 56000, 90000, 89000, 87000, 85000, 78000, 89000, 70000]<br>\n",
    "})"
   ]
  },
  {
   "cell_type": "code",
   "execution_count": null,
   "metadata": {
    "colab": {},
    "colab_type": "code",
    "id": "Uq7hIDkyRbUv"
   },
   "outputs": [],
   "source": [
    "# write your code here\n",
    "\n",
    "df_store = pd.DataFrame({'Store': ['A', 'B', 'A', 'C', 'D', 'A', 'D', 'A', 'C', 'B'],\n",
    "'Location': ['Mumbai', 'Pune', 'Hyderabad', 'Mumbai', 'Pune', 'Delhi', 'Hyderabad', 'Pune',\n",
    "'Mumbai', 'Pune'],\n",
    "'Sales': [40000, 45600, 56000, 90000, 89000, 87000, 85000, 78000, 89000, 70000]\n",
    "})\n",
    "\n",
    "\n",
    "df_store['Rating_Rank'] = df_store['Sales'].rank(ascending = 0)  \n",
    "#print(df_store)\n",
    "#print(df_store[['Store', 'Location', 'Sales']])\n",
    "print(df_store.iloc[:,0:3])\n",
    "\n"
   ]
  },
  {
   "cell_type": "markdown",
   "metadata": {
    "colab_type": "text",
    "id": "AdbUdO6iRbUy"
   },
   "source": [
    "<table align=\"left\">\n",
    "    <tr>\n",
    "        <td width=\"6%\">\n",
    "            <img src=\"../images/RA_Logo.png\">\n",
    "        </td>\n",
    "        <td>\n",
    "            <div align=\"left\", style=\"font-size:120%\">\n",
    "                <font color=\"#21618C\">\n",
    "                    <b>12. Write a program to insert a given column at a specific column index in a data frame\n",
    "<b>\n",
    "                </font>\n",
    "            </div>\n",
    "        </td>\n",
    "    </tr>\n",
    "</table>"
   ]
  },
  {
   "cell_type": "markdown",
   "metadata": {
    "colab_type": "text",
    "id": "1GysZf7XRbUz"
   },
   "source": [
    "**Use the below data frame**<br>\n",
    "data = {\n",
    "    'Name': ['Amit Sharma', 'Neha Iyer', 'Rajesh Patel', 'Priya Nair'],\n",
    "    'Age': [34, 59, 32, 40]\n",
    "}<br>\n",
    "df = pd.DataFrame(data=data)<br><br>\n",
    "**Add the new variable salary as third column**<br>\n",
    "salary = [35000, 24000, 55000, 40000]"
   ]
  },
  {
   "cell_type": "code",
   "execution_count": null,
   "metadata": {
    "colab": {},
    "colab_type": "code",
    "id": "YqSIBh6RRbUz"
   },
   "outputs": [],
   "source": [
    "# write your code here\n",
    "\n",
    "data = {'Name': ['Amit Sharma', 'Neha Iyer', 'Rajesh Patel', 'Priya Nair'], 'Age': [34, 59, 32, 40]}\n",
    "df = pd.DataFrame(data=data)\n",
    "\n",
    "salary = [35000, 24000, 55000, 40000]\n",
    "\n",
    "df['salary'] = salary\n",
    "print(df)"
   ]
  },
  {
   "cell_type": "markdown",
   "metadata": {
    "colab_type": "text",
    "id": "mPXB8vQ8RbU2"
   },
   "source": [
    "<table align=\"left\">\n",
    "    <tr>\n",
    "        <td width=\"6%\">\n",
    "            <img src=\"../images/RA_Logo.png\">\n",
    "        </td>\n",
    "        <td>\n",
    "            <div align=\"left\", style=\"font-size:120%\">\n",
    "                <font color=\"#21618C\">\n",
    "                    <b>13. Write a program to get the third row of a given data frame\n",
    "<b>\n",
    "                </font>\n",
    "            </div>\n",
    "        </td>\n",
    "    </tr>\n",
    "</table>"
   ]
  },
  {
   "cell_type": "markdown",
   "metadata": {
    "colab_type": "text",
    "id": "TYCfvoUmRbU2"
   },
   "source": [
    "**Use the below data frame**<br>\n",
    "data = {'Name': ['Amit Sharma', 'Neha Iyer', 'Rajesh Patel', 'Priya Nair'], 'Age': [34, 59, 32, 40]}<br>\n",
    "df = pd.DataFrame(data=data)<br><br>"
   ]
  },
  {
   "cell_type": "code",
   "execution_count": null,
   "metadata": {
    "colab": {},
    "colab_type": "code",
    "id": "hK22ZeHvRbU3"
   },
   "outputs": [],
   "source": [
    "# write your code here\n",
    "\n",
    "data = {'Name': ['Amit Sharma', 'Neha Iyer', 'Rajesh Patel', 'Priya Nair'], 'Age': [34, 59, 32, 40]}\n",
    "df = pd.DataFrame(data=data)\n",
    "print(df)\n",
    "\n",
    "\n",
    "df.iloc[[2]]"
   ]
  },
  {
   "cell_type": "markdown",
   "metadata": {
    "colab_type": "text",
    "id": "yNEIFxqIRbU6"
   },
   "source": [
    "<table align=\"left\">\n",
    "    <tr>\n",
    "        <td width=\"6%\">\n",
    "            <img src=\"../images/RA_Logo.png\">\n",
    "        </td>\n",
    "        <td>\n",
    "            <div align=\"left\", style=\"font-size:120%\">\n",
    "                <font color=\"#21618C\">\n",
    "                    <b>14. Write a program to create a data frame from a numpy array\n",
    "<b>\n",
    "                </font>\n",
    "            </div>\n",
    "        </td>\n",
    "    </tr>\n",
    "</table>"
   ]
  },
  {
   "cell_type": "code",
   "execution_count": null,
   "metadata": {
    "colab": {},
    "colab_type": "code",
    "id": "9ZrA1LgcRbU6"
   },
   "outputs": [],
   "source": [
    "# write your code here\n",
    "import pandas as pd\n",
    "import numpy as np\n",
    "\n",
    "np.random.seed(23)\n",
    "n53 = np.random.randint(low=10, high=100,size=(5,3))\n",
    "\n",
    "row_label_list = ['Tata','Birla','Tata','Infy','HCL']\n",
    "col_label_list = ['Vol','Rev', 'Exp']\n",
    "\n",
    "df2 = pd.DataFrame(n53, index=row_label_list, columns=col_label_list)\n",
    "\n",
    "print(df2)\n",
    "print(df2.shape)\n",
    "print(df2.index)\n",
    "print(df2.columns)"
   ]
  },
  {
   "cell_type": "markdown",
   "metadata": {
    "colab_type": "text",
    "id": "zcrnxIZYRbU8"
   },
   "source": [
    "<table align=\"left\">\n",
    "    <tr>\n",
    "        <td width=\"6%\">\n",
    "            <img src=\"../images/RA_Logo.png\">\n",
    "        </td>\n",
    "        <td>\n",
    "            <div align=\"left\", style=\"font-size:120%\">\n",
    "                <font color=\"#21618C\">\n",
    "                    <b>15. Write a programm to count total sales per store\n",
    "<b>\n",
    "                </font>\n",
    "            </div>\n",
    "        </td>\n",
    "    </tr>\n",
    "</table>"
   ]
  },
  {
   "cell_type": "markdown",
   "metadata": {
    "colab_type": "text",
    "id": "XLysA7uQRbU8"
   },
   "source": [
    "**Use the below dataframe:**<br>\n",
    "df_store = pd.DataFrame({'Store': ['A', 'B', 'A', 'C', 'D', 'A', 'D', 'A', 'C', 'B'],<br>\n",
    "                         'Location': ['Mumbai', 'Pune', 'Hyderabad', 'Mumbai', 'Pune', 'Delhi', 'Hyderabad', 'Pune',<br>\n",
    "                         'Mumbai', 'Pune'],<br>\n",
    "                         'Sales': [40000, 45600, 56000, 90000, 89000, 87000, 85000, 78000, 89000, 70000]<br>\n",
    "})"
   ]
  },
  {
   "cell_type": "code",
   "execution_count": null,
   "metadata": {
    "colab": {},
    "colab_type": "code",
    "id": "mjgy4CPbRbU9"
   },
   "outputs": [],
   "source": [
    "# write your code here\n",
    "\n",
    "df_store = pd.DataFrame({'Store': ['A', 'B', 'A', 'C', 'D', 'A', 'D', 'A', 'C', 'B'],\n",
    "'Location': ['Mumbai', 'Pune', 'Hyderabad', 'Mumbai', 'Pune', 'Delhi', 'Hyderabad', 'Pune',\n",
    "'Mumbai', 'Pune'],\n",
    "'Sales': [40000, 45600, 56000, 90000, 89000, 87000, 85000, 78000, 89000, 70000]\n",
    "})\n",
    "\n",
    "print(df_store)\n",
    "df_store_group = df_store.groupby('Store')\n",
    "print(df_store_group.sum())\n",
    "\n",
    "\n",
    "\n",
    "\n"
   ]
  },
  {
   "cell_type": "markdown",
   "metadata": {
    "colab_type": "text",
    "id": "Hz0wxdcdRbU_"
   },
   "source": [
    "<table align=\"left\">\n",
    "    <tr>\n",
    "        <td width=\"6%\">\n",
    "            <img src=\"../images/RA_Logo.png\">\n",
    "        </td>\n",
    "        <td>\n",
    "            <div align=\"left\", style=\"font-size:120%\">\n",
    "                <font color=\"#21618C\">\n",
    "                    <b>16. Write a program to count the most common words in a list\n",
    "<b>\n",
    "                </font>\n",
    "            </div>\n",
    "        </td>\n",
    "    </tr>\n",
    "</table>"
   ]
  },
  {
   "cell_type": "markdown",
   "metadata": {
    "colab_type": "text",
    "id": "-CZInS5rRbU_"
   },
   "source": [
    "**Use the below list:**<br>\n",
    "words_list = ['words', 'will', 'where', 'shall', 'we', 'will', 'shall', 'we', 'words', 'where', 'shall'<br>\n",
    "        'will', 'there', 'wow', 'should', 'shall', 'we', 'where', 'should', 'where', 'will', 'there',<br>\n",
    "        'now', 'where', 'we', 'will', 'where', 'should', 'will', 'where']"
   ]
  },
  {
   "cell_type": "code",
   "execution_count": null,
   "metadata": {
    "colab": {},
    "colab_type": "code",
    "id": "PmFSWdBhRbVA"
   },
   "outputs": [],
   "source": [
    "# write your code here\n",
    "\n",
    "words_list = ['words', 'will', 'where', 'shall', 'we', 'will', 'shall', 'we', 'words', 'where', 'shall'\n",
    "'will', 'there', 'wow', 'should', 'shall', 'we', 'where', 'should', 'where', 'will', 'there',\n",
    "'now', 'where', 'we', 'will', 'where', 'should', 'will', 'where']\n",
    "\n",
    "keys = set(words_list)\n",
    "\n",
    "keys_list = list(keys)\n",
    "print(keys_list)\n",
    "\n",
    "df = pd.DataFrame(data=words_list, columns=['words_list'])\n",
    "count_list = df['words_list'].value_counts()\n",
    "\n",
    "print(type(count_list))\n",
    "\n",
    "\n",
    "df1 = pd.DataFrame(data = count_list)\n",
    "df1.index\n",
    "df1.values\n",
    "df1.columns\n",
    "df1.shape\n",
    "\n",
    "print(df1)\n",
    "print(df1.idxmax())\n",
    "\n",
    "\n",
    "\n",
    "#def most_frequent(List):\n",
    "#    return max(set(List), key = List.count)\n",
    "\n",
    "#count = most_frequent(words_list)\n",
    "\n",
    "#print(count)"
   ]
  },
  {
   "cell_type": "code",
   "execution_count": null,
   "metadata": {},
   "outputs": [],
   "source": []
  },
  {
   "cell_type": "markdown",
   "metadata": {
    "colab_type": "text",
    "id": "WOl1KoTmRbVC"
   },
   "source": [
    "<a id='sorting'></a>\n",
    "## 3. Sorting"
   ]
  },
  {
   "cell_type": "markdown",
   "metadata": {
    "colab_type": "text",
    "id": "2qIZZKw3RbVD"
   },
   "source": [
    "<table align=\"left\">\n",
    "    <tr>\n",
    "        <td width=\"6%\">\n",
    "            <img src=\"../images/RA_Logo.png\">\n",
    "        </td>\n",
    "        <td>\n",
    "            <div align=\"left\", style=\"font-size:120%\">\n",
    "                <font color=\"#21618C\">\n",
    "                    <b>17. Write a program to sort the data frame by 'Sales' in ascending order\n",
    "<b>\n",
    "                </font>\n",
    "            </div>\n",
    "        </td>\n",
    "    </tr>\n",
    "</table>"
   ]
  },
  {
   "cell_type": "markdown",
   "metadata": {
    "colab_type": "text",
    "id": "S4QUDsQFRbVD"
   },
   "source": [
    "**Use the below dataframe:**<br>\n",
    "df_store = pd.DataFrame({'Store': ['A', 'B', 'A', 'C', 'D', 'A', 'D', 'A', 'C', 'B'],<br>\n",
    "                         'Location': ['Mumbai', 'Pune', 'Hyderabad', 'Mumbai', 'Pune', 'Delhi', 'Hyderabad', 'Pune',<br>\n",
    "                         'Mumbai', 'Pune'],<br>\n",
    "                         'Sales': [40000, 45600, 56000, 90000, 89000, 87000, 85000, 78000, 89000, 70000]<br>\n",
    "})"
   ]
  },
  {
   "cell_type": "code",
   "execution_count": null,
   "metadata": {
    "colab": {},
    "colab_type": "code",
    "id": "PD3t4CEZRbVD"
   },
   "outputs": [],
   "source": [
    "# write your code here\n",
    "\n",
    "df_store = pd.DataFrame({'Store': ['A', 'B', 'A', 'C', 'D', 'A', 'D', 'A', 'C', 'B'],\n",
    "'Location': ['Mumbai', 'Pune', 'Hyderabad', 'Mumbai', 'Pune', 'Delhi', 'Hyderabad', 'Pune',\n",
    "'Mumbai', 'Pune'],\n",
    "'Sales': [40000, 45600, 56000, 90000, 89000, 87000, 85000, 78000, 89000, 70000]\n",
    "})\n",
    "\n",
    "print(df_store.sort_values(by='Sales'))\n",
    "\n",
    "\n"
   ]
  },
  {
   "cell_type": "markdown",
   "metadata": {
    "colab_type": "text",
    "id": "QhYSth7eRbVG"
   },
   "source": [
    "<table align=\"left\">\n",
    "    <tr>\n",
    "        <td width=\"6%\">\n",
    "            <img src=\"../images/RA_Logo.png\">\n",
    "        </td>\n",
    "        <td>\n",
    "            <div align=\"left\", style=\"font-size:120%\">\n",
    "                <font color=\"#21618C\">\n",
    "                    <b>18. Write a program to sort the data frame, first by 'Store' in ascending order, then by 'Sales' in descending order\n",
    "<b>\n",
    "                </font>\n",
    "            </div>\n",
    "        </td>\n",
    "    </tr>\n",
    "</table>"
   ]
  },
  {
   "cell_type": "markdown",
   "metadata": {
    "colab_type": "text",
    "id": "hvo37OG3RbVG"
   },
   "source": [
    "**Use the below dataframe:**<br>\n",
    "df_store = pd.DataFrame({'Store': ['A', 'B', 'A', 'C', 'D', 'A', 'D', 'A', 'C', 'B'],<br>\n",
    "                         'Location': ['Mumbai', 'Pune', 'Hyderabad', 'Mumbai', 'Pune', 'Delhi', 'Hyderabad', 'Pune',<br>\n",
    "                         'Mumbai', 'Pune'],<br>\n",
    "                         'Sales': [40000, 45600, 56000, 90000, 89000, 87000, 85000, 78000, 89000, 70000]<br>\n",
    "})"
   ]
  },
  {
   "cell_type": "code",
   "execution_count": null,
   "metadata": {
    "colab": {},
    "colab_type": "code",
    "id": "DfxN_LxvRbVG"
   },
   "outputs": [],
   "source": [
    "# write your code here\n",
    "df_store = pd.DataFrame({'Store': ['A', 'B', 'A', 'C', 'D', 'A', 'D', 'A', 'C', 'B'],\n",
    "'Location': ['Mumbai', 'Pune', 'Hyderabad', 'Mumbai', 'Pune', 'Delhi', 'Hyderabad', 'Pune',\n",
    "'Mumbai', 'Pune'],\n",
    "'Sales': [40000, 45600, 56000, 90000, 89000, 87000, 85000, 78000, 89000, 70000]\n",
    "})\n",
    "df_store.sort_values(by=['Store','Sales'], ascending = (True, False))\n",
    "\n",
    "\n",
    "\n"
   ]
  },
  {
   "cell_type": "markdown",
   "metadata": {
    "colab_type": "text",
    "id": "PPg6Oh0RRbVI"
   },
   "source": [
    "<a id='ranking'></a>\n",
    "## 4. Ranking"
   ]
  },
  {
   "cell_type": "markdown",
   "metadata": {
    "colab_type": "text",
    "id": "BVQhfOqVRbVJ"
   },
   "source": [
    "<table align=\"left\">\n",
    "    <tr>\n",
    "        <td width=\"6%\">\n",
    "            <img src=\"../images/RA_Logo.png\">\n",
    "        </td>\n",
    "        <td>\n",
    "            <div align=\"left\", style=\"font-size:120%\">\n",
    "                <font color=\"#21618C\">\n",
    "                    <b>19. Create a column Rating_Rank, which contains the rank of each store based on sales of the product in ascending order\n",
    "<b>\n",
    "                </font>\n",
    "            </div>\n",
    "        </td>\n",
    "    </tr>\n",
    "</table>"
   ]
  },
  {
   "cell_type": "markdown",
   "metadata": {
    "colab_type": "text",
    "id": "3O3pbAe0RbVJ"
   },
   "source": [
    "**Use the below dataframe:**<br>\n",
    "df_store = pd.DataFrame({'Store': ['A', 'B', 'A', 'C', 'D', 'A', 'D', 'A', 'C', 'B'],<br>\n",
    "                         'Location': ['Mumbai', 'Pune', 'Hyderabad', 'Mumbai', 'Pune', 'Delhi', 'Hyderabad', 'Pune',<br>\n",
    "                         'Mumbai', 'Pune'],<br>\n",
    "                         'Sales': [40000, 45600, 56000, 90000, 89000, 87000, 85000, 78000, 89000, 70000]<br>\n",
    "})"
   ]
  },
  {
   "cell_type": "code",
   "execution_count": null,
   "metadata": {
    "colab": {},
    "colab_type": "code",
    "id": "0ujeCa_oRbVJ"
   },
   "outputs": [],
   "source": [
    "# write your code here\n",
    "\n",
    "df_store = pd.DataFrame({'Store': ['A', 'B', 'A', 'C', 'D', 'A', 'D', 'A', 'C', 'B'],\n",
    "'Location': ['Mumbai', 'Pune', 'Hyderabad', 'Mumbai', 'Pune', 'Delhi', 'Hyderabad', 'Pune',\n",
    "'Mumbai', 'Pune'],\n",
    "'Sales': [40000, 45600, 56000, 90000, 89000, 87000, 85000, 78000, 89000, 70000]\n",
    "})\n",
    "\n",
    "df_store['Rating_Rank'] = df_store['Sales'].rank(ascending = 0)\n",
    "  \n",
    "print(df_store)\n",
    "\n",
    "df_store\n"
   ]
  },
  {
   "cell_type": "markdown",
   "metadata": {
    "colab_type": "text",
    "id": "1yxI_hliRbVL"
   },
   "source": [
    "<table align=\"left\">\n",
    "    <tr>\n",
    "        <td width=\"6%\">\n",
    "            <img src=\"../images/RA_Logo.png\">\n",
    "        </td>\n",
    "        <td>\n",
    "            <div align=\"left\", style=\"font-size:120%\">\n",
    "                <font color=\"#21618C\">\n",
    "                    <b>20. Rank the data frame in descending order of sales by store\n",
    "<b>\n",
    "                </font>\n",
    "            </div>\n",
    "        </td>\n",
    "    </tr>\n",
    "</table>"
   ]
  },
  {
   "cell_type": "markdown",
   "metadata": {
    "colab_type": "text",
    "id": "5Ov910e6RbVM"
   },
   "source": [
    "**Use the 'df_store' data frame**"
   ]
  },
  {
   "cell_type": "code",
   "execution_count": null,
   "metadata": {
    "colab": {},
    "colab_type": "code",
    "id": "hJBVaDErRbVM"
   },
   "outputs": [],
   "source": [
    "# write your code here\n",
    "\n",
    "df_store['Rating_Rank'] = df_store['Sales'].rank(ascending = 0)\n",
    "df_store.sort_values(by=['Sales'], ascending = (False))\n",
    "\n",
    "\n",
    "\n",
    "\n"
   ]
  },
  {
   "cell_type": "code",
   "execution_count": null,
   "metadata": {},
   "outputs": [],
   "source": []
  },
  {
   "cell_type": "code",
   "execution_count": null,
   "metadata": {},
   "outputs": [],
   "source": [
    "import sklearn\n",
    "print(sklearn.__version__)"
   ]
  },
  {
   "cell_type": "code",
   "execution_count": null,
   "metadata": {},
   "outputs": [],
   "source": []
  }
 ],
 "metadata": {
  "colab": {
   "name": "NPV - INCLASS - LAB (DAY 2)  -  Questions  [V1.0 - 090120].ipynb",
   "provenance": []
  },
  "kernelspec": {
   "display_name": "Python 3 (ipykernel)",
   "language": "python",
   "name": "python3"
  },
  "language_info": {
   "codemirror_mode": {
    "name": "ipython",
    "version": 3
   },
   "file_extension": ".py",
   "mimetype": "text/x-python",
   "name": "python",
   "nbconvert_exporter": "python",
   "pygments_lexer": "ipython3",
   "version": "3.9.16"
  }
 },
 "nbformat": 4,
 "nbformat_minor": 4
}
